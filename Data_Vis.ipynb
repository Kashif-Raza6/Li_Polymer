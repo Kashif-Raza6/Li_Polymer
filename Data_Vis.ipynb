{
 "cells": [
  {
   "attachments": {},
   "cell_type": "markdown",
   "metadata": {},
   "source": [
    "## **Observations**\n",
    "-- Some of the observations after the visualization\n",
    "1. Battery Pack 1 data has the pattern in it and there is no randomness\n",
    "2. In Battery Pack 1 all the cells voltages are decreasing over the time but the cell 2 voltages has the lowest voltages and it decreases quickly at lower SOC.\n",
    "3. Battery Pack 6 cycle 2 data is fine but there is slight randomness in it.\n",
    "4. All the other battery Pack cycle 1 data is fine but ycle 2 data has a lot of anamolies in it.\n",
    "5. Detailed Visulaization of data is given following"
   ]
  },
  {
   "attachments": {},
   "cell_type": "markdown",
   "metadata": {},
   "source": [
    "## **Code**"
   ]
  },
  {
   "cell_type": "code",
   "execution_count": 14,
   "metadata": {},
   "outputs": [],
   "source": [
    "# Importing the pandas library\n",
    "import pandas as pd\n",
    "import numpy as np\n",
    "import matplotlib.pyplot as plt\n",
    "import seaborn as sns\n",
    "import os\n",
    "import sys\n",
    "import plotly.graph_objects as go"
   ]
  },
  {
   "cell_type": "code",
   "execution_count": 111,
   "metadata": {},
   "outputs": [
    {
     "name": "stdout",
     "output_type": "stream",
     "text": [
      "File Names: UUT#1_Cycle01\n",
      "File Names: UUT#1_Cycle02\n",
      "File Names: UUT#1_Cycle03\n",
      "File Names: UUT#2_Cycle01\n",
      "File Names: UUT#2_Cycle02\n",
      "File Names: UUT#3_Cycle01\n",
      "File Names: UUT#3_Cycle02\n",
      "File Names: UUT#4_Cycle01\n",
      "File Names: UUT#5_Cycle01\n",
      "File Names: UUT#5_Cycle02\n",
      "File Names: UUT#6_Cycle01\n",
      "File Names: UUT#6_Cycle02\n"
     ]
    },
    {
     "data": {
      "text/html": [
       "<div>\n",
       "<style scoped>\n",
       "    .dataframe tbody tr th:only-of-type {\n",
       "        vertical-align: middle;\n",
       "    }\n",
       "\n",
       "    .dataframe tbody tr th {\n",
       "        vertical-align: top;\n",
       "    }\n",
       "\n",
       "    .dataframe thead th {\n",
       "        text-align: right;\n",
       "    }\n",
       "</style>\n",
       "<table border=\"1\" class=\"dataframe\">\n",
       "  <thead>\n",
       "    <tr style=\"text-align: right;\">\n",
       "      <th></th>\n",
       "      <th>UUT#06 Cycle02</th>\n",
       "      <th>Unnamed: 1</th>\n",
       "      <th>Unnamed: 2</th>\n",
       "      <th>Unnamed: 3</th>\n",
       "      <th>Unnamed: 4</th>\n",
       "      <th>Unnamed: 5</th>\n",
       "      <th>Unnamed: 6</th>\n",
       "      <th>Unnamed: 7</th>\n",
       "      <th>Unnamed: 8</th>\n",
       "      <th>Unnamed: 9</th>\n",
       "    </tr>\n",
       "  </thead>\n",
       "  <tbody>\n",
       "    <tr>\n",
       "      <th>0</th>\n",
       "      <td>Date</td>\n",
       "      <td>Day</td>\n",
       "      <td>Battery Pack</td>\n",
       "      <td>NaN</td>\n",
       "      <td>Battery Cell OCV [V]</td>\n",
       "      <td>NaN</td>\n",
       "      <td>NaN</td>\n",
       "      <td>NaN</td>\n",
       "      <td>NaN</td>\n",
       "      <td>NaN</td>\n",
       "    </tr>\n",
       "    <tr>\n",
       "      <th>1</th>\n",
       "      <td>NaN</td>\n",
       "      <td>NaN</td>\n",
       "      <td>Battery OCV [V]</td>\n",
       "      <td>Battery SOC [%]</td>\n",
       "      <td>Cell 1</td>\n",
       "      <td>Cell 2</td>\n",
       "      <td>Cell 3</td>\n",
       "      <td>Cell 4</td>\n",
       "      <td>Cell  5</td>\n",
       "      <td>Cell  6</td>\n",
       "    </tr>\n",
       "    <tr>\n",
       "      <th>2</th>\n",
       "      <td>12.11.2021 (Fri)</td>\n",
       "      <td>0</td>\n",
       "      <td>23.08</td>\n",
       "      <td>47</td>\n",
       "      <td>3.846</td>\n",
       "      <td>3.851</td>\n",
       "      <td>3.848</td>\n",
       "      <td>3.847</td>\n",
       "      <td>3.843</td>\n",
       "      <td>3.843</td>\n",
       "    </tr>\n",
       "    <tr>\n",
       "      <th>3</th>\n",
       "      <td>13.11.2021 (Sat)</td>\n",
       "      <td>1</td>\n",
       "      <td>23.08</td>\n",
       "      <td>47</td>\n",
       "      <td>3.845</td>\n",
       "      <td>3.851</td>\n",
       "      <td>3.848</td>\n",
       "      <td>3.847</td>\n",
       "      <td>3.843</td>\n",
       "      <td>3.843</td>\n",
       "    </tr>\n",
       "    <tr>\n",
       "      <th>4</th>\n",
       "      <td>14.11.2021 (Sun)</td>\n",
       "      <td>2</td>\n",
       "      <td>23.07</td>\n",
       "      <td>46</td>\n",
       "      <td>3.845</td>\n",
       "      <td>3.851</td>\n",
       "      <td>3.847</td>\n",
       "      <td>3.846</td>\n",
       "      <td>3.842</td>\n",
       "      <td>3.839</td>\n",
       "    </tr>\n",
       "  </tbody>\n",
       "</table>\n",
       "</div>"
      ],
      "text/plain": [
       "     UUT#06 Cycle02 Unnamed: 1       Unnamed: 2       Unnamed: 3  \\\n",
       "0             Date         Day     Battery Pack              NaN   \n",
       "1               NaN        NaN  Battery OCV [V]  Battery SOC [%]   \n",
       "2  12.11.2021 (Fri)          0            23.08               47   \n",
       "3  13.11.2021 (Sat)          1            23.08               47   \n",
       "4  14.11.2021 (Sun)          2            23.07               46   \n",
       "\n",
       "             Unnamed: 4 Unnamed: 5 Unnamed: 6 Unnamed: 7 Unnamed: 8 Unnamed: 9  \n",
       "0  Battery Cell OCV [V]        NaN        NaN        NaN        NaN        NaN  \n",
       "1               Cell 1     Cell 2      Cell 3    Cell 4    Cell  5    Cell  6   \n",
       "2                 3.846      3.851      3.848      3.847      3.843      3.843  \n",
       "3                 3.845      3.851      3.848      3.847      3.843      3.843  \n",
       "4                 3.845      3.851      3.847      3.846      3.842      3.839  "
      ]
     },
     "execution_count": 111,
     "metadata": {},
     "output_type": "execute_result"
    }
   ],
   "source": [
    "import os\n",
    "import pandas as pd\n",
    "\n",
    "def file_loader():\n",
    "    files = []\n",
    "    for file in os.listdir():\n",
    "        if file.endswith('.xlsx'):\n",
    "            files.append(file)\n",
    "\n",
    "    data_dict = {}\n",
    "    for file in files:\n",
    "        file_path = os.path.join(os.getcwd(), file)\n",
    "        metadata = pd.read_excel(file_path, sheet_name='Readme')\n",
    "        sheet2_name = os.path.splitext(file)[0]\n",
    "        # sheet names\n",
    "        print('File Names:',sheet2_name)\n",
    "        # replacing _ with - and single space in the name of the sheet\n",
    "        sheet2_name = sheet2_name.replace('_', '- ')\n",
    "        # In the name after hash add the 0\n",
    "        sheet2_name = sheet2_name.replace('#', '#0')\n",
    "        # print(sheet2_name)\n",
    "        data_dict[file] = pd.read_excel(file_path, sheet_name=sheet2_name)\n",
    "        # add metadata to the dictionary\n",
    "        # data_dict[file + '_metadata'] = metadata\n",
    "\n",
    "    return data_dict\n",
    "\n",
    "# load data and separating the values and store them in dataframes\n",
    "data_dict = file_loader()\n",
    "value = data_dict['UUT#1_Cycle01.xlsx']\n",
    "# converting the data into dataframe\n",
    "df = pd.DataFrame(value)\n",
    "# Remove the header\n",
    "# df = df.iloc[1:]\n",
    "# Remove the Data in first row and first column and shift it to 2nd row and first column\n",
    "df.head()\n"
   ]
  },
  {
   "cell_type": "code",
   "execution_count": 112,
   "metadata": {},
   "outputs": [
    {
     "data": {
      "text/html": [
       "<div>\n",
       "<style scoped>\n",
       "    .dataframe tbody tr th:only-of-type {\n",
       "        vertical-align: middle;\n",
       "    }\n",
       "\n",
       "    .dataframe tbody tr th {\n",
       "        vertical-align: top;\n",
       "    }\n",
       "\n",
       "    .dataframe thead th {\n",
       "        text-align: right;\n",
       "    }\n",
       "</style>\n",
       "<table border=\"1\" class=\"dataframe\">\n",
       "  <thead>\n",
       "    <tr style=\"text-align: right;\">\n",
       "      <th></th>\n",
       "      <th>UUT#06 Cycle02</th>\n",
       "      <th>Unnamed: 1</th>\n",
       "      <th>Unnamed: 2</th>\n",
       "      <th>Unnamed: 3</th>\n",
       "      <th>Unnamed: 4</th>\n",
       "      <th>Unnamed: 5</th>\n",
       "      <th>Unnamed: 6</th>\n",
       "      <th>Unnamed: 7</th>\n",
       "      <th>Unnamed: 8</th>\n",
       "      <th>Unnamed: 9</th>\n",
       "    </tr>\n",
       "  </thead>\n",
       "  <tbody>\n",
       "    <tr>\n",
       "      <th>0</th>\n",
       "      <td>Date</td>\n",
       "      <td>Day</td>\n",
       "      <td>Battery Pack</td>\n",
       "      <td>NaN</td>\n",
       "      <td>Battery Cell OCV [V]</td>\n",
       "      <td>NaN</td>\n",
       "      <td>NaN</td>\n",
       "      <td>NaN</td>\n",
       "      <td>NaN</td>\n",
       "      <td>NaN</td>\n",
       "    </tr>\n",
       "    <tr>\n",
       "      <th>1</th>\n",
       "      <td>Date</td>\n",
       "      <td>Day</td>\n",
       "      <td>Battery OCV [V]</td>\n",
       "      <td>Battery SOC [%]</td>\n",
       "      <td>Cell 1</td>\n",
       "      <td>Cell 2</td>\n",
       "      <td>Cell 3</td>\n",
       "      <td>Cell 4</td>\n",
       "      <td>Cell  5</td>\n",
       "      <td>Cell  6</td>\n",
       "    </tr>\n",
       "    <tr>\n",
       "      <th>2</th>\n",
       "      <td>12.11.2021 (Fri)</td>\n",
       "      <td>0</td>\n",
       "      <td>23.08</td>\n",
       "      <td>47</td>\n",
       "      <td>3.846</td>\n",
       "      <td>3.851</td>\n",
       "      <td>3.848</td>\n",
       "      <td>3.847</td>\n",
       "      <td>3.843</td>\n",
       "      <td>3.843</td>\n",
       "    </tr>\n",
       "    <tr>\n",
       "      <th>3</th>\n",
       "      <td>13.11.2021 (Sat)</td>\n",
       "      <td>1</td>\n",
       "      <td>23.08</td>\n",
       "      <td>47</td>\n",
       "      <td>3.845</td>\n",
       "      <td>3.851</td>\n",
       "      <td>3.848</td>\n",
       "      <td>3.847</td>\n",
       "      <td>3.843</td>\n",
       "      <td>3.843</td>\n",
       "    </tr>\n",
       "    <tr>\n",
       "      <th>4</th>\n",
       "      <td>14.11.2021 (Sun)</td>\n",
       "      <td>2</td>\n",
       "      <td>23.07</td>\n",
       "      <td>46</td>\n",
       "      <td>3.845</td>\n",
       "      <td>3.851</td>\n",
       "      <td>3.847</td>\n",
       "      <td>3.846</td>\n",
       "      <td>3.842</td>\n",
       "      <td>3.839</td>\n",
       "    </tr>\n",
       "  </tbody>\n",
       "</table>\n",
       "</div>"
      ],
      "text/plain": [
       "     UUT#06 Cycle02 Unnamed: 1       Unnamed: 2       Unnamed: 3  \\\n",
       "0             Date         Day     Battery Pack              NaN   \n",
       "1              Date        Day  Battery OCV [V]  Battery SOC [%]   \n",
       "2  12.11.2021 (Fri)          0            23.08               47   \n",
       "3  13.11.2021 (Sat)          1            23.08               47   \n",
       "4  14.11.2021 (Sun)          2            23.07               46   \n",
       "\n",
       "             Unnamed: 4 Unnamed: 5 Unnamed: 6 Unnamed: 7 Unnamed: 8 Unnamed: 9  \n",
       "0  Battery Cell OCV [V]        NaN        NaN        NaN        NaN        NaN  \n",
       "1               Cell 1     Cell 2      Cell 3    Cell 4    Cell  5    Cell  6   \n",
       "2                 3.846      3.851      3.848      3.847      3.843      3.843  \n",
       "3                 3.845      3.851      3.848      3.847      3.843      3.843  \n",
       "4                 3.845      3.851      3.847      3.846      3.842      3.839  "
      ]
     },
     "execution_count": 112,
     "metadata": {},
     "output_type": "execute_result"
    }
   ],
   "source": [
    "# Add data 'Date' in 2nd row and first column\n",
    "df.iloc[1, 0] = 'Date'\n",
    "df.iloc[1, 1] = 'Day'\n",
    "df.head()"
   ]
  },
  {
   "cell_type": "code",
   "execution_count": 113,
   "metadata": {},
   "outputs": [
    {
     "data": {
      "text/html": [
       "<div>\n",
       "<style scoped>\n",
       "    .dataframe tbody tr th:only-of-type {\n",
       "        vertical-align: middle;\n",
       "    }\n",
       "\n",
       "    .dataframe tbody tr th {\n",
       "        vertical-align: top;\n",
       "    }\n",
       "\n",
       "    .dataframe thead th {\n",
       "        text-align: right;\n",
       "    }\n",
       "</style>\n",
       "<table border=\"1\" class=\"dataframe\">\n",
       "  <thead>\n",
       "    <tr style=\"text-align: right;\">\n",
       "      <th>1</th>\n",
       "      <th>Date</th>\n",
       "      <th>Day</th>\n",
       "      <th>Battery OCV [V]</th>\n",
       "      <th>Battery SOC [%]</th>\n",
       "      <th>Cell 1</th>\n",
       "      <th>Cell 2</th>\n",
       "      <th>Cell 3</th>\n",
       "      <th>Cell 4</th>\n",
       "      <th>Cell  5</th>\n",
       "      <th>Cell  6</th>\n",
       "    </tr>\n",
       "  </thead>\n",
       "  <tbody>\n",
       "    <tr>\n",
       "      <th>0</th>\n",
       "      <td>Date</td>\n",
       "      <td>Day</td>\n",
       "      <td>Battery Pack</td>\n",
       "      <td>NaN</td>\n",
       "      <td>Battery Cell OCV [V]</td>\n",
       "      <td>NaN</td>\n",
       "      <td>NaN</td>\n",
       "      <td>NaN</td>\n",
       "      <td>NaN</td>\n",
       "      <td>NaN</td>\n",
       "    </tr>\n",
       "    <tr>\n",
       "      <th>1</th>\n",
       "      <td>Date</td>\n",
       "      <td>Day</td>\n",
       "      <td>Battery OCV [V]</td>\n",
       "      <td>Battery SOC [%]</td>\n",
       "      <td>Cell 1</td>\n",
       "      <td>Cell 2</td>\n",
       "      <td>Cell 3</td>\n",
       "      <td>Cell 4</td>\n",
       "      <td>Cell  5</td>\n",
       "      <td>Cell  6</td>\n",
       "    </tr>\n",
       "    <tr>\n",
       "      <th>2</th>\n",
       "      <td>12.11.2021 (Fri)</td>\n",
       "      <td>0</td>\n",
       "      <td>23.08</td>\n",
       "      <td>47</td>\n",
       "      <td>3.846</td>\n",
       "      <td>3.851</td>\n",
       "      <td>3.848</td>\n",
       "      <td>3.847</td>\n",
       "      <td>3.843</td>\n",
       "      <td>3.843</td>\n",
       "    </tr>\n",
       "    <tr>\n",
       "      <th>3</th>\n",
       "      <td>13.11.2021 (Sat)</td>\n",
       "      <td>1</td>\n",
       "      <td>23.08</td>\n",
       "      <td>47</td>\n",
       "      <td>3.845</td>\n",
       "      <td>3.851</td>\n",
       "      <td>3.848</td>\n",
       "      <td>3.847</td>\n",
       "      <td>3.843</td>\n",
       "      <td>3.843</td>\n",
       "    </tr>\n",
       "    <tr>\n",
       "      <th>4</th>\n",
       "      <td>14.11.2021 (Sun)</td>\n",
       "      <td>2</td>\n",
       "      <td>23.07</td>\n",
       "      <td>46</td>\n",
       "      <td>3.845</td>\n",
       "      <td>3.851</td>\n",
       "      <td>3.847</td>\n",
       "      <td>3.846</td>\n",
       "      <td>3.842</td>\n",
       "      <td>3.839</td>\n",
       "    </tr>\n",
       "  </tbody>\n",
       "</table>\n",
       "</div>"
      ],
      "text/plain": [
       "1              Date  Day  Battery OCV [V]  Battery SOC [%]  \\\n",
       "0             Date   Day     Battery Pack              NaN   \n",
       "1              Date  Day  Battery OCV [V]  Battery SOC [%]   \n",
       "2  12.11.2021 (Fri)    0            23.08               47   \n",
       "3  13.11.2021 (Sat)    1            23.08               47   \n",
       "4  14.11.2021 (Sun)    2            23.07               46   \n",
       "\n",
       "1               Cell 1   Cell 2   Cell 3  Cell 4   Cell  5   Cell  6   \n",
       "0  Battery Cell OCV [V]      NaN     NaN      NaN       NaN       NaN  \n",
       "1               Cell 1   Cell 2   Cell 3  Cell 4   Cell  5   Cell  6   \n",
       "2                 3.846    3.851   3.848    3.847     3.843     3.843  \n",
       "3                 3.845    3.851   3.848    3.847     3.843     3.843  \n",
       "4                 3.845    3.851   3.847    3.846     3.842     3.839  "
      ]
     },
     "execution_count": 113,
     "metadata": {},
     "output_type": "execute_result"
    }
   ],
   "source": [
    "# Make the 2nd row as header\n",
    "df.columns = df.iloc[1]\n",
    "df.head()\n"
   ]
  },
  {
   "cell_type": "code",
   "execution_count": 114,
   "metadata": {},
   "outputs": [
    {
     "data": {
      "text/html": [
       "<div>\n",
       "<style scoped>\n",
       "    .dataframe tbody tr th:only-of-type {\n",
       "        vertical-align: middle;\n",
       "    }\n",
       "\n",
       "    .dataframe tbody tr th {\n",
       "        vertical-align: top;\n",
       "    }\n",
       "\n",
       "    .dataframe thead th {\n",
       "        text-align: right;\n",
       "    }\n",
       "</style>\n",
       "<table border=\"1\" class=\"dataframe\">\n",
       "  <thead>\n",
       "    <tr style=\"text-align: right;\">\n",
       "      <th>1</th>\n",
       "      <th>Date</th>\n",
       "      <th>Day</th>\n",
       "      <th>Battery OCV [V]</th>\n",
       "      <th>Battery SOC [%]</th>\n",
       "      <th>Cell 1</th>\n",
       "      <th>Cell 2</th>\n",
       "      <th>Cell 3</th>\n",
       "      <th>Cell 4</th>\n",
       "      <th>Cell  5</th>\n",
       "      <th>Cell  6</th>\n",
       "    </tr>\n",
       "  </thead>\n",
       "  <tbody>\n",
       "    <tr>\n",
       "      <th>2</th>\n",
       "      <td>12.11.2021 (Fri)</td>\n",
       "      <td>0</td>\n",
       "      <td>23.08</td>\n",
       "      <td>47</td>\n",
       "      <td>3.846</td>\n",
       "      <td>3.851</td>\n",
       "      <td>3.848</td>\n",
       "      <td>3.847</td>\n",
       "      <td>3.843</td>\n",
       "      <td>3.843</td>\n",
       "    </tr>\n",
       "    <tr>\n",
       "      <th>3</th>\n",
       "      <td>13.11.2021 (Sat)</td>\n",
       "      <td>1</td>\n",
       "      <td>23.08</td>\n",
       "      <td>47</td>\n",
       "      <td>3.845</td>\n",
       "      <td>3.851</td>\n",
       "      <td>3.848</td>\n",
       "      <td>3.847</td>\n",
       "      <td>3.843</td>\n",
       "      <td>3.843</td>\n",
       "    </tr>\n",
       "    <tr>\n",
       "      <th>4</th>\n",
       "      <td>14.11.2021 (Sun)</td>\n",
       "      <td>2</td>\n",
       "      <td>23.07</td>\n",
       "      <td>46</td>\n",
       "      <td>3.845</td>\n",
       "      <td>3.851</td>\n",
       "      <td>3.847</td>\n",
       "      <td>3.846</td>\n",
       "      <td>3.842</td>\n",
       "      <td>3.839</td>\n",
       "    </tr>\n",
       "    <tr>\n",
       "      <th>5</th>\n",
       "      <td>15.11.2021 (Monday)</td>\n",
       "      <td>3</td>\n",
       "      <td>23.07</td>\n",
       "      <td>47</td>\n",
       "      <td>3.845</td>\n",
       "      <td>3.85</td>\n",
       "      <td>3.847</td>\n",
       "      <td>3.846</td>\n",
       "      <td>3.841</td>\n",
       "      <td>3.842</td>\n",
       "    </tr>\n",
       "    <tr>\n",
       "      <th>6</th>\n",
       "      <td>19.11.2021 (Friday)</td>\n",
       "      <td>7</td>\n",
       "      <td>23.06</td>\n",
       "      <td>46</td>\n",
       "      <td>3.844</td>\n",
       "      <td>3.849</td>\n",
       "      <td>3.846</td>\n",
       "      <td>3.845</td>\n",
       "      <td>3.839</td>\n",
       "      <td>3.84</td>\n",
       "    </tr>\n",
       "  </tbody>\n",
       "</table>\n",
       "</div>"
      ],
      "text/plain": [
       "1                 Date Day Battery OCV [V] Battery SOC [%] Cell 1  Cell 2   \\\n",
       "2     12.11.2021 (Fri)   0           23.08              47   3.846   3.851   \n",
       "3     13.11.2021 (Sat)   1           23.08              47   3.845   3.851   \n",
       "4     14.11.2021 (Sun)   2           23.07              46   3.845   3.851   \n",
       "5  15.11.2021 (Monday)   3           23.07              47   3.845    3.85   \n",
       "6  19.11.2021 (Friday)   7           23.06              46   3.844   3.849   \n",
       "\n",
       "1 Cell 3 Cell 4  Cell  5  Cell  6   \n",
       "2  3.848   3.847    3.843    3.843  \n",
       "3  3.848   3.847    3.843    3.843  \n",
       "4  3.847   3.846    3.842    3.839  \n",
       "5  3.847   3.846    3.841    3.842  \n",
       "6  3.846   3.845    3.839     3.84  "
      ]
     },
     "execution_count": 114,
     "metadata": {},
     "output_type": "execute_result"
    }
   ],
   "source": [
    "# remove the frist two rows and last two columns\n",
    "df = df.iloc[2:]\n",
    "df.head()"
   ]
  },
  {
   "cell_type": "code",
   "execution_count": 115,
   "metadata": {},
   "outputs": [],
   "source": [
    "df6_2= df.copy()"
   ]
  },
  {
   "cell_type": "code",
   "execution_count": 72,
   "metadata": {},
   "outputs": [
    {
     "data": {
      "text/html": [
       "<div>\n",
       "<style scoped>\n",
       "    .dataframe tbody tr th:only-of-type {\n",
       "        vertical-align: middle;\n",
       "    }\n",
       "\n",
       "    .dataframe tbody tr th {\n",
       "        vertical-align: top;\n",
       "    }\n",
       "\n",
       "    .dataframe thead th {\n",
       "        text-align: right;\n",
       "    }\n",
       "</style>\n",
       "<table border=\"1\" class=\"dataframe\">\n",
       "  <thead>\n",
       "    <tr style=\"text-align: right;\">\n",
       "      <th>1</th>\n",
       "      <th>Date</th>\n",
       "      <th>Day</th>\n",
       "      <th>Battery OCV [V]</th>\n",
       "      <th>Battery SOC [%]</th>\n",
       "      <th>Cell 1</th>\n",
       "      <th>Cell 2</th>\n",
       "      <th>Cell 3</th>\n",
       "      <th>Cell 4</th>\n",
       "      <th>Cell  5</th>\n",
       "      <th>Cell  6</th>\n",
       "    </tr>\n",
       "  </thead>\n",
       "  <tbody>\n",
       "    <tr>\n",
       "      <th>35</th>\n",
       "      <td>02.11.2021 (Tue)</td>\n",
       "      <td>165</td>\n",
       "      <td>22.42</td>\n",
       "      <td>13</td>\n",
       "      <td>3.748</td>\n",
       "      <td>3.697</td>\n",
       "      <td>3.728</td>\n",
       "      <td>3.756</td>\n",
       "      <td>3.74</td>\n",
       "      <td>3.75</td>\n",
       "    </tr>\n",
       "    <tr>\n",
       "      <th>36</th>\n",
       "      <td>09.11.2021 (Tue)</td>\n",
       "      <td>173</td>\n",
       "      <td>22.39</td>\n",
       "      <td>12</td>\n",
       "      <td>3.744</td>\n",
       "      <td>3.689</td>\n",
       "      <td>3.72</td>\n",
       "      <td>3.753</td>\n",
       "      <td>3.733</td>\n",
       "      <td>3.748</td>\n",
       "    </tr>\n",
       "  </tbody>\n",
       "</table>\n",
       "</div>"
      ],
      "text/plain": [
       "1               Date  Day Battery OCV [V] Battery SOC [%] Cell 1  Cell 2   \\\n",
       "35  02.11.2021 (Tue)  165           22.42              13   3.748   3.697   \n",
       "36  09.11.2021 (Tue)  173           22.39              12   3.744   3.689   \n",
       "\n",
       "1  Cell 3 Cell 4  Cell  5  Cell  6   \n",
       "35  3.728   3.756     3.74     3.75  \n",
       "36   3.72   3.753    3.733    3.748  "
      ]
     },
     "execution_count": 72,
     "metadata": {},
     "output_type": "execute_result"
    }
   ],
   "source": [
    "df1.tail(2)"
   ]
  },
  {
   "cell_type": "code",
   "execution_count": 71,
   "metadata": {},
   "outputs": [
    {
     "data": {
      "text/html": [
       "<div>\n",
       "<style scoped>\n",
       "    .dataframe tbody tr th:only-of-type {\n",
       "        vertical-align: middle;\n",
       "    }\n",
       "\n",
       "    .dataframe tbody tr th {\n",
       "        vertical-align: top;\n",
       "    }\n",
       "\n",
       "    .dataframe thead th {\n",
       "        text-align: right;\n",
       "    }\n",
       "</style>\n",
       "<table border=\"1\" class=\"dataframe\">\n",
       "  <thead>\n",
       "    <tr style=\"text-align: right;\">\n",
       "      <th>1</th>\n",
       "      <th>Date</th>\n",
       "      <th>Day</th>\n",
       "      <th>Battery OCV [V]</th>\n",
       "      <th>Battery SOC [%]</th>\n",
       "      <th>Cell 1</th>\n",
       "      <th>Cell 2</th>\n",
       "      <th>Cell 3</th>\n",
       "      <th>Cell 4</th>\n",
       "      <th>Cell  5</th>\n",
       "      <th>Cell  6</th>\n",
       "    </tr>\n",
       "  </thead>\n",
       "  <tbody>\n",
       "    <tr>\n",
       "      <th>18</th>\n",
       "      <td>24.04.2022 (Sun)</td>\n",
       "      <td>164</td>\n",
       "      <td>22.1</td>\n",
       "      <td>4</td>\n",
       "      <td>3.734</td>\n",
       "      <td>3.426</td>\n",
       "      <td>3.702</td>\n",
       "      <td>3.743</td>\n",
       "      <td>3.727</td>\n",
       "      <td>3.763</td>\n",
       "    </tr>\n",
       "    <tr>\n",
       "      <th>19</th>\n",
       "      <td>06.06.2022 (Mon)</td>\n",
       "      <td>208</td>\n",
       "      <td>21.14</td>\n",
       "      <td>0</td>\n",
       "      <td>3.715</td>\n",
       "      <td>2.668</td>\n",
       "      <td>3.607</td>\n",
       "      <td>3.702</td>\n",
       "      <td>3.692</td>\n",
       "      <td>3.738</td>\n",
       "    </tr>\n",
       "  </tbody>\n",
       "</table>\n",
       "</div>"
      ],
      "text/plain": [
       "1               Date  Day Battery OCV [V] Battery SOC [%] Cell 1  Cell 2   \\\n",
       "18  24.04.2022 (Sun)  164            22.1               4   3.734   3.426   \n",
       "19  06.06.2022 (Mon)  208           21.14               0   3.715   2.668   \n",
       "\n",
       "1  Cell 3 Cell 4  Cell  5  Cell  6   \n",
       "18  3.702   3.743    3.727    3.763  \n",
       "19  3.607   3.702    3.692    3.738  "
      ]
     },
     "execution_count": 71,
     "metadata": {},
     "output_type": "execute_result"
    }
   ],
   "source": [
    "# head df2\n",
    "df1_2.tail(2)"
   ]
  },
  {
   "cell_type": "code",
   "execution_count": 70,
   "metadata": {},
   "outputs": [
    {
     "data": {
      "text/html": [
       "<div>\n",
       "<style scoped>\n",
       "    .dataframe tbody tr th:only-of-type {\n",
       "        vertical-align: middle;\n",
       "    }\n",
       "\n",
       "    .dataframe tbody tr th {\n",
       "        vertical-align: top;\n",
       "    }\n",
       "\n",
       "    .dataframe thead th {\n",
       "        text-align: right;\n",
       "    }\n",
       "</style>\n",
       "<table border=\"1\" class=\"dataframe\">\n",
       "  <thead>\n",
       "    <tr style=\"text-align: right;\">\n",
       "      <th>1</th>\n",
       "      <th>Date</th>\n",
       "      <th>Day</th>\n",
       "      <th>Battery OCV [V]</th>\n",
       "      <th>Battery SOC [%]</th>\n",
       "      <th>Cell 1</th>\n",
       "      <th>Cell 2</th>\n",
       "      <th>Cell 3</th>\n",
       "      <th>Cell 4</th>\n",
       "      <th>Cell  5</th>\n",
       "      <th>Cell  6</th>\n",
       "    </tr>\n",
       "  </thead>\n",
       "  <tbody>\n",
       "    <tr>\n",
       "      <th>6</th>\n",
       "      <td>10.10.2022 (Mon)</td>\n",
       "      <td>126</td>\n",
       "      <td>22.45</td>\n",
       "      <td>13</td>\n",
       "      <td>3.734</td>\n",
       "      <td>3.698</td>\n",
       "      <td>3.704</td>\n",
       "      <td>3.752</td>\n",
       "      <td>3.744</td>\n",
       "      <td>3.814</td>\n",
       "    </tr>\n",
       "    <tr>\n",
       "      <th>7</th>\n",
       "      <td>16.11.2022 (Wed)</td>\n",
       "      <td>164</td>\n",
       "      <td>22.13</td>\n",
       "      <td>6</td>\n",
       "      <td>3.705</td>\n",
       "      <td>3.489</td>\n",
       "      <td>3.695</td>\n",
       "      <td>3.724</td>\n",
       "      <td>3.713</td>\n",
       "      <td>3.806</td>\n",
       "    </tr>\n",
       "  </tbody>\n",
       "</table>\n",
       "</div>"
      ],
      "text/plain": [
       "1              Date  Day Battery OCV [V] Battery SOC [%] Cell 1  Cell 2   \\\n",
       "6  10.10.2022 (Mon)  126           22.45              13   3.734   3.698   \n",
       "7  16.11.2022 (Wed)  164           22.13               6   3.705   3.489   \n",
       "\n",
       "1 Cell 3 Cell 4  Cell  5  Cell  6   \n",
       "6  3.704   3.752    3.744    3.814  \n",
       "7  3.695   3.724    3.713    3.806  "
      ]
     },
     "execution_count": 70,
     "metadata": {},
     "output_type": "execute_result"
    }
   ],
   "source": [
    "# head df1_3\n",
    "df1_3.tail(2)"
   ]
  },
  {
   "cell_type": "code",
   "execution_count": 69,
   "metadata": {},
   "outputs": [
    {
     "data": {
      "text/html": [
       "<div>\n",
       "<style scoped>\n",
       "    .dataframe tbody tr th:only-of-type {\n",
       "        vertical-align: middle;\n",
       "    }\n",
       "\n",
       "    .dataframe tbody tr th {\n",
       "        vertical-align: top;\n",
       "    }\n",
       "\n",
       "    .dataframe thead th {\n",
       "        text-align: right;\n",
       "    }\n",
       "</style>\n",
       "<table border=\"1\" class=\"dataframe\">\n",
       "  <thead>\n",
       "    <tr style=\"text-align: right;\">\n",
       "      <th>1</th>\n",
       "      <th>Date</th>\n",
       "      <th>Day</th>\n",
       "      <th>Battery OCV [V]</th>\n",
       "      <th>Battery SOC [%]</th>\n",
       "      <th>Cell 1</th>\n",
       "      <th>Cell 2</th>\n",
       "      <th>Cell 3</th>\n",
       "      <th>Cell 4</th>\n",
       "      <th>Cell  5</th>\n",
       "      <th>Cell  6</th>\n",
       "    </tr>\n",
       "  </thead>\n",
       "  <tbody>\n",
       "    <tr>\n",
       "      <th>35</th>\n",
       "      <td>02.11.2021 (Tue)</td>\n",
       "      <td>165</td>\n",
       "      <td>24.37</td>\n",
       "      <td>83</td>\n",
       "      <td>4.06</td>\n",
       "      <td>4.069</td>\n",
       "      <td>4.049</td>\n",
       "      <td>4.071</td>\n",
       "      <td>4.064</td>\n",
       "      <td>4.061</td>\n",
       "    </tr>\n",
       "    <tr>\n",
       "      <th>36</th>\n",
       "      <td>09.11.2021 (Tue)</td>\n",
       "      <td>172</td>\n",
       "      <td>24.34</td>\n",
       "      <td>83</td>\n",
       "      <td>4.046</td>\n",
       "      <td>4.067</td>\n",
       "      <td>4.044</td>\n",
       "      <td>4.068</td>\n",
       "      <td>4.062</td>\n",
       "      <td>4.059</td>\n",
       "    </tr>\n",
       "  </tbody>\n",
       "</table>\n",
       "</div>"
      ],
      "text/plain": [
       "1               Date  Day Battery OCV [V] Battery SOC [%] Cell 1  Cell 2   \\\n",
       "35  02.11.2021 (Tue)  165           24.37              83    4.06   4.069   \n",
       "36  09.11.2021 (Tue)  172           24.34              83   4.046   4.067   \n",
       "\n",
       "1  Cell 3 Cell 4  Cell  5  Cell  6   \n",
       "35  4.049   4.071    4.064    4.061  \n",
       "36  4.044   4.068    4.062    4.059  "
      ]
     },
     "execution_count": 69,
     "metadata": {},
     "output_type": "execute_result"
    }
   ],
   "source": [
    "# head df2_1\n",
    "df2_1.tail(2)"
   ]
  },
  {
   "cell_type": "code",
   "execution_count": 68,
   "metadata": {},
   "outputs": [
    {
     "data": {
      "text/html": [
       "<div>\n",
       "<style scoped>\n",
       "    .dataframe tbody tr th:only-of-type {\n",
       "        vertical-align: middle;\n",
       "    }\n",
       "\n",
       "    .dataframe tbody tr th {\n",
       "        vertical-align: top;\n",
       "    }\n",
       "\n",
       "    .dataframe thead th {\n",
       "        text-align: right;\n",
       "    }\n",
       "</style>\n",
       "<table border=\"1\" class=\"dataframe\">\n",
       "  <thead>\n",
       "    <tr style=\"text-align: right;\">\n",
       "      <th>1</th>\n",
       "      <th>Date</th>\n",
       "      <th>Day</th>\n",
       "      <th>Battery OCV [V]</th>\n",
       "      <th>Battery SOC [%]</th>\n",
       "      <th>Cell 1</th>\n",
       "      <th>Cell 2</th>\n",
       "      <th>Cell 3</th>\n",
       "      <th>Cell 4</th>\n",
       "      <th>Cell  5</th>\n",
       "      <th>Cell  6</th>\n",
       "    </tr>\n",
       "  </thead>\n",
       "  <tbody>\n",
       "    <tr>\n",
       "      <th>23</th>\n",
       "      <td>10.10.2022 (Mon)</td>\n",
       "      <td>334</td>\n",
       "      <td>23.09</td>\n",
       "      <td>46</td>\n",
       "      <td>3.838</td>\n",
       "      <td>3.855</td>\n",
       "      <td>3.843</td>\n",
       "      <td>3.855</td>\n",
       "      <td>3.852</td>\n",
       "      <td>3.849</td>\n",
       "    </tr>\n",
       "    <tr>\n",
       "      <th>24</th>\n",
       "      <td>16.11.2022 (Wed)</td>\n",
       "      <td>372</td>\n",
       "      <td>23.1</td>\n",
       "      <td>47</td>\n",
       "      <td>3.85</td>\n",
       "      <td>3.852</td>\n",
       "      <td>3.841</td>\n",
       "      <td>3.854</td>\n",
       "      <td>3.85</td>\n",
       "      <td>3.848</td>\n",
       "    </tr>\n",
       "  </tbody>\n",
       "</table>\n",
       "</div>"
      ],
      "text/plain": [
       "1               Date  Day Battery OCV [V] Battery SOC [%] Cell 1  Cell 2   \\\n",
       "23  10.10.2022 (Mon)  334           23.09              46   3.838   3.855   \n",
       "24  16.11.2022 (Wed)  372            23.1              47    3.85   3.852   \n",
       "\n",
       "1  Cell 3 Cell 4  Cell  5  Cell  6   \n",
       "23  3.843   3.855    3.852    3.849  \n",
       "24  3.841   3.854     3.85    3.848  "
      ]
     },
     "execution_count": 68,
     "metadata": {},
     "output_type": "execute_result"
    }
   ],
   "source": [
    "# Tail df2_2\n",
    "df2_2.tail(2)"
   ]
  },
  {
   "cell_type": "code",
   "execution_count": 79,
   "metadata": {},
   "outputs": [
    {
     "data": {
      "text/html": [
       "<div>\n",
       "<style scoped>\n",
       "    .dataframe tbody tr th:only-of-type {\n",
       "        vertical-align: middle;\n",
       "    }\n",
       "\n",
       "    .dataframe tbody tr th {\n",
       "        vertical-align: top;\n",
       "    }\n",
       "\n",
       "    .dataframe thead th {\n",
       "        text-align: right;\n",
       "    }\n",
       "</style>\n",
       "<table border=\"1\" class=\"dataframe\">\n",
       "  <thead>\n",
       "    <tr style=\"text-align: right;\">\n",
       "      <th>1</th>\n",
       "      <th>Date</th>\n",
       "      <th>Day</th>\n",
       "      <th>Battery OCV [V]</th>\n",
       "      <th>Battery SOC [%]</th>\n",
       "      <th>Cell 1</th>\n",
       "      <th>Cell 2</th>\n",
       "      <th>Cell 3</th>\n",
       "      <th>Cell 4</th>\n",
       "      <th>Cell  5</th>\n",
       "      <th>Cell  6</th>\n",
       "    </tr>\n",
       "  </thead>\n",
       "  <tbody>\n",
       "    <tr>\n",
       "      <th>24</th>\n",
       "      <td>02.11.2021 (Tue)</td>\n",
       "      <td>112</td>\n",
       "      <td>24.4</td>\n",
       "      <td>81</td>\n",
       "      <td>4.062</td>\n",
       "      <td>4.078</td>\n",
       "      <td>4.071</td>\n",
       "      <td>4.082</td>\n",
       "      <td>4.073</td>\n",
       "      <td>4.033</td>\n",
       "    </tr>\n",
       "    <tr>\n",
       "      <th>25</th>\n",
       "      <td>09.11.2021 (Tue)</td>\n",
       "      <td>119</td>\n",
       "      <td>24.38</td>\n",
       "      <td>81</td>\n",
       "      <td>4.059</td>\n",
       "      <td>4.076</td>\n",
       "      <td>4.069</td>\n",
       "      <td>4.08</td>\n",
       "      <td>4.07</td>\n",
       "      <td>4.029</td>\n",
       "    </tr>\n",
       "  </tbody>\n",
       "</table>\n",
       "</div>"
      ],
      "text/plain": [
       "1               Date  Day Battery OCV [V] Battery SOC [%] Cell 1  Cell 2   \\\n",
       "24  02.11.2021 (Tue)  112            24.4              81   4.062   4.078   \n",
       "25  09.11.2021 (Tue)  119           24.38              81   4.059   4.076   \n",
       "\n",
       "1  Cell 3 Cell 4  Cell  5  Cell  6   \n",
       "24  4.071   4.082    4.073    4.033  \n",
       "25  4.069    4.08     4.07    4.029  "
      ]
     },
     "execution_count": 79,
     "metadata": {},
     "output_type": "execute_result"
    }
   ],
   "source": [
    "# Tail df3_1\n",
    "df3_1.tail(2)"
   ]
  },
  {
   "cell_type": "code",
   "execution_count": 87,
   "metadata": {},
   "outputs": [
    {
     "data": {
      "text/html": [
       "<div>\n",
       "<style scoped>\n",
       "    .dataframe tbody tr th:only-of-type {\n",
       "        vertical-align: middle;\n",
       "    }\n",
       "\n",
       "    .dataframe tbody tr th {\n",
       "        vertical-align: top;\n",
       "    }\n",
       "\n",
       "    .dataframe thead th {\n",
       "        text-align: right;\n",
       "    }\n",
       "</style>\n",
       "<table border=\"1\" class=\"dataframe\">\n",
       "  <thead>\n",
       "    <tr style=\"text-align: right;\">\n",
       "      <th>1</th>\n",
       "      <th>Date</th>\n",
       "      <th>Day</th>\n",
       "      <th>Battery OCV [V]</th>\n",
       "      <th>Battery SOC [%]</th>\n",
       "      <th>Cell 1</th>\n",
       "      <th>Cell 2</th>\n",
       "      <th>Cell 3</th>\n",
       "      <th>Cell 4</th>\n",
       "      <th>Cell  5</th>\n",
       "      <th>Cell  6</th>\n",
       "    </tr>\n",
       "  </thead>\n",
       "  <tbody>\n",
       "    <tr>\n",
       "      <th>23</th>\n",
       "      <td>10.10.2022 (Mon)</td>\n",
       "      <td>334</td>\n",
       "      <td>22.91</td>\n",
       "      <td>36</td>\n",
       "      <td>3.82</td>\n",
       "      <td>3.827</td>\n",
       "      <td>3.819</td>\n",
       "      <td>3.823</td>\n",
       "      <td>3.816</td>\n",
       "      <td>3.808</td>\n",
       "    </tr>\n",
       "    <tr>\n",
       "      <th>24</th>\n",
       "      <td>16.11.2022 (Wed)</td>\n",
       "      <td>372</td>\n",
       "      <td>22.9</td>\n",
       "      <td>35</td>\n",
       "      <td>3.808</td>\n",
       "      <td>3.825</td>\n",
       "      <td>3.817</td>\n",
       "      <td>3.822</td>\n",
       "      <td>3.816</td>\n",
       "      <td>3.807</td>\n",
       "    </tr>\n",
       "  </tbody>\n",
       "</table>\n",
       "</div>"
      ],
      "text/plain": [
       "1               Date  Day Battery OCV [V] Battery SOC [%] Cell 1  Cell 2   \\\n",
       "23  10.10.2022 (Mon)  334           22.91              36    3.82   3.827   \n",
       "24  16.11.2022 (Wed)  372            22.9              35   3.808   3.825   \n",
       "\n",
       "1  Cell 3 Cell 4  Cell  5  Cell  6   \n",
       "23  3.819   3.823    3.816    3.808  \n",
       "24  3.817   3.822    3.816    3.807  "
      ]
     },
     "execution_count": 87,
     "metadata": {},
     "output_type": "execute_result"
    }
   ],
   "source": [
    "# tail df3_2\n",
    "df3_2.tail(2)"
   ]
  },
  {
   "attachments": {},
   "cell_type": "markdown",
   "metadata": {},
   "source": [
    "### **UUT 1**"
   ]
  },
  {
   "cell_type": "code",
   "execution_count": 164,
   "metadata": {},
   "outputs": [
    {
     "data": {
      "application/vnd.plotly.v1+json": {
       "config": {
        "plotlyServerURL": "https://plot.ly"
       },
       "data": [
        {
         "line": {
          "color": "blue",
          "dash": "dashdot",
          "width": 4
         },
         "marker": {
          "color": "black",
          "size": 10,
          "symbol": "circle"
         },
         "name": "UUT#1_Cycle01",
         "type": "scatter",
         "x": [
          56,
          54,
          52,
          49,
          48,
          47,
          45,
          43,
          42,
          40,
          39,
          38,
          38,
          37,
          36,
          35,
          34,
          33,
          31,
          32,
          31,
          30,
          27,
          26,
          24,
          23,
          22,
          21,
          18,
          17,
          15,
          14,
          13,
          13,
          12
         ],
         "y": [
          23.3,
          23.23,
          23.18,
          23.12,
          23.11,
          23.07,
          23.04,
          23.02,
          23,
          22.97,
          22.94,
          22.94,
          22.92,
          22.91,
          22.89,
          22.88,
          22.86,
          22.85,
          22.83,
          22.82,
          22.81,
          22.79,
          22.76,
          22.74,
          22.71,
          22.69,
          22.66,
          22.61,
          22.6,
          22.55,
          22.49,
          22.49,
          22.46,
          22.42,
          22.39
         ]
        },
        {
         "line": {
          "color": "light blue",
          "width": 4
         },
         "marker": {
          "color": "black",
          "size": 10,
          "symbol": "circle"
         },
         "name": "UUT#1_Cycle02",
         "type": "scatter",
         "x": [
          39,
          38,
          38,
          37,
          36,
          34,
          32,
          31,
          30,
          28,
          26,
          23,
          18,
          15,
          13,
          9,
          4,
          0
         ],
         "y": [
          23.06,
          23.02,
          23,
          23,
          22.96,
          22.93,
          22.89,
          22.85,
          22.84,
          22.81,
          22.78,
          22.7,
          22.63,
          22.56,
          22.52,
          22.41,
          22.1,
          21.14
         ]
        },
        {
         "line": {
          "color": "#768fb8",
          "width": 4
         },
         "marker": {
          "color": "black",
          "size": 10,
          "symbol": "circle"
         },
         "name": "UUT#1_Cycle03",
         "type": "scatter",
         "x": [
          39,
          28,
          23,
          16,
          13,
          6
         ],
         "y": [
          23.06,
          22.8,
          22.71,
          22.57,
          22.45,
          22.13
         ]
        }
       ],
       "layout": {
        "height": 600,
        "legend": {
         "bordercolor": "black",
         "borderwidth": 2,
         "font": {
          "color": "black",
          "family": "Times New Roman",
          "size": 18
         },
         "x": 0.76,
         "y": 0.99
        },
        "plot_bgcolor": "white",
        "template": {
         "data": {
          "bar": [
           {
            "error_x": {
             "color": "#2a3f5f"
            },
            "error_y": {
             "color": "#2a3f5f"
            },
            "marker": {
             "line": {
              "color": "#E5ECF6",
              "width": 0.5
             },
             "pattern": {
              "fillmode": "overlay",
              "size": 10,
              "solidity": 0.2
             }
            },
            "type": "bar"
           }
          ],
          "barpolar": [
           {
            "marker": {
             "line": {
              "color": "#E5ECF6",
              "width": 0.5
             },
             "pattern": {
              "fillmode": "overlay",
              "size": 10,
              "solidity": 0.2
             }
            },
            "type": "barpolar"
           }
          ],
          "carpet": [
           {
            "aaxis": {
             "endlinecolor": "#2a3f5f",
             "gridcolor": "white",
             "linecolor": "white",
             "minorgridcolor": "white",
             "startlinecolor": "#2a3f5f"
            },
            "baxis": {
             "endlinecolor": "#2a3f5f",
             "gridcolor": "white",
             "linecolor": "white",
             "minorgridcolor": "white",
             "startlinecolor": "#2a3f5f"
            },
            "type": "carpet"
           }
          ],
          "choropleth": [
           {
            "colorbar": {
             "outlinewidth": 0,
             "ticks": ""
            },
            "type": "choropleth"
           }
          ],
          "contour": [
           {
            "colorbar": {
             "outlinewidth": 0,
             "ticks": ""
            },
            "colorscale": [
             [
              0,
              "#0d0887"
             ],
             [
              0.1111111111111111,
              "#46039f"
             ],
             [
              0.2222222222222222,
              "#7201a8"
             ],
             [
              0.3333333333333333,
              "#9c179e"
             ],
             [
              0.4444444444444444,
              "#bd3786"
             ],
             [
              0.5555555555555556,
              "#d8576b"
             ],
             [
              0.6666666666666666,
              "#ed7953"
             ],
             [
              0.7777777777777778,
              "#fb9f3a"
             ],
             [
              0.8888888888888888,
              "#fdca26"
             ],
             [
              1,
              "#f0f921"
             ]
            ],
            "type": "contour"
           }
          ],
          "contourcarpet": [
           {
            "colorbar": {
             "outlinewidth": 0,
             "ticks": ""
            },
            "type": "contourcarpet"
           }
          ],
          "heatmap": [
           {
            "colorbar": {
             "outlinewidth": 0,
             "ticks": ""
            },
            "colorscale": [
             [
              0,
              "#0d0887"
             ],
             [
              0.1111111111111111,
              "#46039f"
             ],
             [
              0.2222222222222222,
              "#7201a8"
             ],
             [
              0.3333333333333333,
              "#9c179e"
             ],
             [
              0.4444444444444444,
              "#bd3786"
             ],
             [
              0.5555555555555556,
              "#d8576b"
             ],
             [
              0.6666666666666666,
              "#ed7953"
             ],
             [
              0.7777777777777778,
              "#fb9f3a"
             ],
             [
              0.8888888888888888,
              "#fdca26"
             ],
             [
              1,
              "#f0f921"
             ]
            ],
            "type": "heatmap"
           }
          ],
          "heatmapgl": [
           {
            "colorbar": {
             "outlinewidth": 0,
             "ticks": ""
            },
            "colorscale": [
             [
              0,
              "#0d0887"
             ],
             [
              0.1111111111111111,
              "#46039f"
             ],
             [
              0.2222222222222222,
              "#7201a8"
             ],
             [
              0.3333333333333333,
              "#9c179e"
             ],
             [
              0.4444444444444444,
              "#bd3786"
             ],
             [
              0.5555555555555556,
              "#d8576b"
             ],
             [
              0.6666666666666666,
              "#ed7953"
             ],
             [
              0.7777777777777778,
              "#fb9f3a"
             ],
             [
              0.8888888888888888,
              "#fdca26"
             ],
             [
              1,
              "#f0f921"
             ]
            ],
            "type": "heatmapgl"
           }
          ],
          "histogram": [
           {
            "marker": {
             "pattern": {
              "fillmode": "overlay",
              "size": 10,
              "solidity": 0.2
             }
            },
            "type": "histogram"
           }
          ],
          "histogram2d": [
           {
            "colorbar": {
             "outlinewidth": 0,
             "ticks": ""
            },
            "colorscale": [
             [
              0,
              "#0d0887"
             ],
             [
              0.1111111111111111,
              "#46039f"
             ],
             [
              0.2222222222222222,
              "#7201a8"
             ],
             [
              0.3333333333333333,
              "#9c179e"
             ],
             [
              0.4444444444444444,
              "#bd3786"
             ],
             [
              0.5555555555555556,
              "#d8576b"
             ],
             [
              0.6666666666666666,
              "#ed7953"
             ],
             [
              0.7777777777777778,
              "#fb9f3a"
             ],
             [
              0.8888888888888888,
              "#fdca26"
             ],
             [
              1,
              "#f0f921"
             ]
            ],
            "type": "histogram2d"
           }
          ],
          "histogram2dcontour": [
           {
            "colorbar": {
             "outlinewidth": 0,
             "ticks": ""
            },
            "colorscale": [
             [
              0,
              "#0d0887"
             ],
             [
              0.1111111111111111,
              "#46039f"
             ],
             [
              0.2222222222222222,
              "#7201a8"
             ],
             [
              0.3333333333333333,
              "#9c179e"
             ],
             [
              0.4444444444444444,
              "#bd3786"
             ],
             [
              0.5555555555555556,
              "#d8576b"
             ],
             [
              0.6666666666666666,
              "#ed7953"
             ],
             [
              0.7777777777777778,
              "#fb9f3a"
             ],
             [
              0.8888888888888888,
              "#fdca26"
             ],
             [
              1,
              "#f0f921"
             ]
            ],
            "type": "histogram2dcontour"
           }
          ],
          "mesh3d": [
           {
            "colorbar": {
             "outlinewidth": 0,
             "ticks": ""
            },
            "type": "mesh3d"
           }
          ],
          "parcoords": [
           {
            "line": {
             "colorbar": {
              "outlinewidth": 0,
              "ticks": ""
             }
            },
            "type": "parcoords"
           }
          ],
          "pie": [
           {
            "automargin": true,
            "type": "pie"
           }
          ],
          "scatter": [
           {
            "fillpattern": {
             "fillmode": "overlay",
             "size": 10,
             "solidity": 0.2
            },
            "type": "scatter"
           }
          ],
          "scatter3d": [
           {
            "line": {
             "colorbar": {
              "outlinewidth": 0,
              "ticks": ""
             }
            },
            "marker": {
             "colorbar": {
              "outlinewidth": 0,
              "ticks": ""
             }
            },
            "type": "scatter3d"
           }
          ],
          "scattercarpet": [
           {
            "marker": {
             "colorbar": {
              "outlinewidth": 0,
              "ticks": ""
             }
            },
            "type": "scattercarpet"
           }
          ],
          "scattergeo": [
           {
            "marker": {
             "colorbar": {
              "outlinewidth": 0,
              "ticks": ""
             }
            },
            "type": "scattergeo"
           }
          ],
          "scattergl": [
           {
            "marker": {
             "colorbar": {
              "outlinewidth": 0,
              "ticks": ""
             }
            },
            "type": "scattergl"
           }
          ],
          "scattermapbox": [
           {
            "marker": {
             "colorbar": {
              "outlinewidth": 0,
              "ticks": ""
             }
            },
            "type": "scattermapbox"
           }
          ],
          "scatterpolar": [
           {
            "marker": {
             "colorbar": {
              "outlinewidth": 0,
              "ticks": ""
             }
            },
            "type": "scatterpolar"
           }
          ],
          "scatterpolargl": [
           {
            "marker": {
             "colorbar": {
              "outlinewidth": 0,
              "ticks": ""
             }
            },
            "type": "scatterpolargl"
           }
          ],
          "scatterternary": [
           {
            "marker": {
             "colorbar": {
              "outlinewidth": 0,
              "ticks": ""
             }
            },
            "type": "scatterternary"
           }
          ],
          "surface": [
           {
            "colorbar": {
             "outlinewidth": 0,
             "ticks": ""
            },
            "colorscale": [
             [
              0,
              "#0d0887"
             ],
             [
              0.1111111111111111,
              "#46039f"
             ],
             [
              0.2222222222222222,
              "#7201a8"
             ],
             [
              0.3333333333333333,
              "#9c179e"
             ],
             [
              0.4444444444444444,
              "#bd3786"
             ],
             [
              0.5555555555555556,
              "#d8576b"
             ],
             [
              0.6666666666666666,
              "#ed7953"
             ],
             [
              0.7777777777777778,
              "#fb9f3a"
             ],
             [
              0.8888888888888888,
              "#fdca26"
             ],
             [
              1,
              "#f0f921"
             ]
            ],
            "type": "surface"
           }
          ],
          "table": [
           {
            "cells": {
             "fill": {
              "color": "#EBF0F8"
             },
             "line": {
              "color": "white"
             }
            },
            "header": {
             "fill": {
              "color": "#C8D4E3"
             },
             "line": {
              "color": "white"
             }
            },
            "type": "table"
           }
          ]
         },
         "layout": {
          "annotationdefaults": {
           "arrowcolor": "#2a3f5f",
           "arrowhead": 0,
           "arrowwidth": 1
          },
          "autotypenumbers": "strict",
          "coloraxis": {
           "colorbar": {
            "outlinewidth": 0,
            "ticks": ""
           }
          },
          "colorscale": {
           "diverging": [
            [
             0,
             "#8e0152"
            ],
            [
             0.1,
             "#c51b7d"
            ],
            [
             0.2,
             "#de77ae"
            ],
            [
             0.3,
             "#f1b6da"
            ],
            [
             0.4,
             "#fde0ef"
            ],
            [
             0.5,
             "#f7f7f7"
            ],
            [
             0.6,
             "#e6f5d0"
            ],
            [
             0.7,
             "#b8e186"
            ],
            [
             0.8,
             "#7fbc41"
            ],
            [
             0.9,
             "#4d9221"
            ],
            [
             1,
             "#276419"
            ]
           ],
           "sequential": [
            [
             0,
             "#0d0887"
            ],
            [
             0.1111111111111111,
             "#46039f"
            ],
            [
             0.2222222222222222,
             "#7201a8"
            ],
            [
             0.3333333333333333,
             "#9c179e"
            ],
            [
             0.4444444444444444,
             "#bd3786"
            ],
            [
             0.5555555555555556,
             "#d8576b"
            ],
            [
             0.6666666666666666,
             "#ed7953"
            ],
            [
             0.7777777777777778,
             "#fb9f3a"
            ],
            [
             0.8888888888888888,
             "#fdca26"
            ],
            [
             1,
             "#f0f921"
            ]
           ],
           "sequentialminus": [
            [
             0,
             "#0d0887"
            ],
            [
             0.1111111111111111,
             "#46039f"
            ],
            [
             0.2222222222222222,
             "#7201a8"
            ],
            [
             0.3333333333333333,
             "#9c179e"
            ],
            [
             0.4444444444444444,
             "#bd3786"
            ],
            [
             0.5555555555555556,
             "#d8576b"
            ],
            [
             0.6666666666666666,
             "#ed7953"
            ],
            [
             0.7777777777777778,
             "#fb9f3a"
            ],
            [
             0.8888888888888888,
             "#fdca26"
            ],
            [
             1,
             "#f0f921"
            ]
           ]
          },
          "colorway": [
           "#636efa",
           "#EF553B",
           "#00cc96",
           "#ab63fa",
           "#FFA15A",
           "#19d3f3",
           "#FF6692",
           "#B6E880",
           "#FF97FF",
           "#FECB52"
          ],
          "font": {
           "color": "#2a3f5f"
          },
          "geo": {
           "bgcolor": "white",
           "lakecolor": "white",
           "landcolor": "#E5ECF6",
           "showlakes": true,
           "showland": true,
           "subunitcolor": "white"
          },
          "hoverlabel": {
           "align": "left"
          },
          "hovermode": "closest",
          "mapbox": {
           "style": "light"
          },
          "paper_bgcolor": "white",
          "plot_bgcolor": "#E5ECF6",
          "polar": {
           "angularaxis": {
            "gridcolor": "white",
            "linecolor": "white",
            "ticks": ""
           },
           "bgcolor": "#E5ECF6",
           "radialaxis": {
            "gridcolor": "white",
            "linecolor": "white",
            "ticks": ""
           }
          },
          "scene": {
           "xaxis": {
            "backgroundcolor": "#E5ECF6",
            "gridcolor": "white",
            "gridwidth": 2,
            "linecolor": "white",
            "showbackground": true,
            "ticks": "",
            "zerolinecolor": "white"
           },
           "yaxis": {
            "backgroundcolor": "#E5ECF6",
            "gridcolor": "white",
            "gridwidth": 2,
            "linecolor": "white",
            "showbackground": true,
            "ticks": "",
            "zerolinecolor": "white"
           },
           "zaxis": {
            "backgroundcolor": "#E5ECF6",
            "gridcolor": "white",
            "gridwidth": 2,
            "linecolor": "white",
            "showbackground": true,
            "ticks": "",
            "zerolinecolor": "white"
           }
          },
          "shapedefaults": {
           "line": {
            "color": "#2a3f5f"
           }
          },
          "ternary": {
           "aaxis": {
            "gridcolor": "white",
            "linecolor": "white",
            "ticks": ""
           },
           "baxis": {
            "gridcolor": "white",
            "linecolor": "white",
            "ticks": ""
           },
           "bgcolor": "#E5ECF6",
           "caxis": {
            "gridcolor": "white",
            "linecolor": "white",
            "ticks": ""
           }
          },
          "title": {
           "x": 0.05
          },
          "xaxis": {
           "automargin": true,
           "gridcolor": "white",
           "linecolor": "white",
           "ticks": "",
           "title": {
            "standoff": 15
           },
           "zerolinecolor": "white",
           "zerolinewidth": 2
          },
          "yaxis": {
           "automargin": true,
           "gridcolor": "white",
           "linecolor": "white",
           "ticks": "",
           "title": {
            "standoff": 15
           },
           "zerolinecolor": "white",
           "zerolinewidth": 2
          }
         }
        },
        "title": {
         "font": {
          "color": "black",
          "family": "Times New Roman",
          "size": 30
         },
         "text": "UUT#1",
         "x": 0.5,
         "xanchor": "center",
         "y": 0.9,
         "yanchor": "top"
        },
        "width": 1200,
        "xaxis": {
         "autorange": "reversed",
         "gridcolor": "LightPink",
         "gridwidth": 1,
         "linecolor": "black",
         "linewidth": 2,
         "mirror": true,
         "showgrid": true,
         "showline": true,
         "tickfont": {
          "color": "black",
          "family": "Times New Roman",
          "size": 24
         },
         "ticks": "outside",
         "title": {
          "font": {
           "color": "black",
           "family": "Times New Roman",
           "size": 24
          },
          "standoff": 5,
          "text": "Battery Pack SOC (%)"
         }
        },
        "yaxis": {
         "gridcolor": "LightPink",
         "gridwidth": 1,
         "linecolor": "black",
         "linewidth": 2,
         "mirror": true,
         "showgrid": true,
         "showline": true,
         "tickfont": {
          "color": "black",
          "family": "Times New Roman",
          "size": 24
         },
         "ticks": "outside",
         "title": {
          "font": {
           "color": "black",
           "family": "Times New Roman",
           "size": 24
          },
          "standoff": 5,
          "text": "Battery Pack Voltages (V) "
         }
        }
       }
      }
     },
     "metadata": {},
     "output_type": "display_data"
    }
   ],
   "source": [
    "# Plot the 'Battery OCV [V]' with 'Battery SOC [%]' using line plot in plotly\n",
    "fig = go.Figure()\n",
    "fig.add_trace(go.Scatter(x=df1['Battery SOC [%]'], y=df1['Battery OCV [V]'], name='UUT#1_Cycle01', line=dict(color='blue', width=4, dash='dashdot'), marker=dict(size=10, color='black', symbol='circle')))\n",
    "fig.add_trace(go.Scatter(x=df1_2['Battery SOC [%]'], y=df1_2['Battery OCV [V]'], name='UUT#1_Cycle02', line=dict(color='light blue', width=4), marker=dict(size=10, color='black', symbol='circle')))\n",
    "fig.add_trace(go.Scatter(x=df1_3['Battery SOC [%]'], y=df1_3['Battery OCV [V]'], name='UUT#1_Cycle03', line=dict(color='#768fb8', width=4), marker=dict(size=10, color='black', symbol='circle')))\n",
    "\n",
    "# flip the x and y axis\n",
    "fig.update_layout(xaxis=dict(autorange=\"reversed\"))\n",
    "fig.update_layout(title='UUT#1', xaxis_title='Cycle No', yaxis_title='Capacity')\n",
    "# add description below the title as subtitle\n",
    "fig.update_layout(title={'y': 0.9, 'x': 0.5, 'xanchor': 'center', 'yanchor': 'top'})\n",
    "# add axis line and ticks\n",
    "fig.update_xaxes(showline=True, linewidth=2, linecolor='black', mirror=True, ticks=\"outside\")\n",
    "fig.update_yaxes(showline=True, linewidth=2, linecolor='black', mirror=True, ticks=\"outside\")\n",
    "# Make x labels larger, and Times New Roman\n",
    "fig.update_xaxes(title_text=\"Battery Pack SOC (%)\", title_font=dict(size=24, family='Times New Roman', color='black'), title_standoff=25)\n",
    "# Make y labels larger, and Times New Roman\n",
    "fig.update_yaxes(title_text=\"Battery Pack Voltages (V) \", title_font=dict(size=24, family='Times New Roman', color='black'), title_standoff=25)\n",
    "# change the legend font size and font family\n",
    "fig.update_layout(legend=dict(font=dict(size=18, family='Times New Roman', color='black')))\n",
    "# make background white\n",
    "fig.update_layout(plot_bgcolor='white')\n",
    "# Move x-label and y-label to the center\n",
    "fig.update_layout(xaxis=dict(title=dict(standoff=5)), yaxis=dict(title=dict(standoff=5)))\n",
    "# Icncrease x-axis and y-axis tick font size and font family\n",
    "fig.update_xaxes(tickfont=dict(size=24, family='Times New Roman', color='black'))\n",
    "fig.update_yaxes(tickfont=dict(size=24, family='Times New Roman', color='black'))\n",
    "# add grid\n",
    "fig.update_layout(xaxis=dict(showgrid=True, gridwidth=1, gridcolor='LightPink'), yaxis=dict(showgrid=True, gridwidth=1, gridcolor='LightPink'))\n",
    "# add figure size\n",
    "fig.update_layout(width=1200, height=600)\n",
    "# keep the legend inside the plot area\n",
    "fig.update_layout(legend=dict(x=0.76, y=0.99))\n",
    "# Make title larger, and Times New Roman and center\n",
    "fig.update_layout(title=dict(font=dict(size=30, family='Times New Roman', color='black'), x=0.5, xanchor='center'))\n",
    "# add box around the legend\n",
    "fig.update_layout(legend=dict(bordercolor='black', borderwidth=2))\n",
    "fig.show()"
   ]
  },
  {
   "cell_type": "code",
   "execution_count": 165,
   "metadata": {},
   "outputs": [
    {
     "data": {
      "application/vnd.plotly.v1+json": {
       "config": {
        "plotlyServerURL": "https://plot.ly"
       },
       "data": [
        {
         "line": {
          "color": "light blue",
          "width": 4
         },
         "marker": {
          "color": "black",
          "size": 10,
          "symbol": "circle"
         },
         "name": "Cell1",
         "type": "scatter",
         "x": [
          56,
          54,
          52,
          49,
          48,
          47,
          45,
          43,
          42,
          40,
          39,
          38,
          38,
          37,
          36,
          35,
          34,
          33,
          31,
          32,
          31,
          30,
          27,
          26,
          24,
          23,
          22,
          21,
          18,
          17,
          15,
          14,
          13,
          13,
          12
         ],
         "y": [
          3.885,
          3.872,
          3.865,
          3.86,
          3.855,
          3.85,
          3.846,
          3.842,
          3.839,
          3.836,
          3.833,
          3.831,
          3.829,
          3.826,
          3.824,
          3.822,
          3.819,
          3.816,
          3.815,
          3.812,
          3.81,
          3.806,
          3.803,
          3.8,
          3.796,
          3.793,
          3.789,
          3.787,
          3.781,
          3.772,
          3.772,
          3.765,
          3.754,
          3.748,
          3.744
         ]
        },
        {
         "line": {
          "color": "#768fb8",
          "width": 4
         },
         "marker": {
          "color": "black",
          "size": 10,
          "symbol": "circle"
         },
         "name": "Cell2",
         "type": "scatter",
         "x": [
          56,
          54,
          52,
          49,
          48,
          47,
          45,
          43,
          42,
          40,
          39,
          38,
          38,
          37,
          36,
          35,
          34,
          33,
          31,
          32,
          31,
          30,
          27,
          26,
          24,
          23,
          22,
          21,
          18,
          17,
          15,
          14,
          13,
          13,
          12
         ],
         "y": [
          3.886,
          3.873,
          3.864,
          3.857,
          3.851,
          3.843,
          3.838,
          3.833,
          3.828,
          3.823,
          3.819,
          3.818,
          3.815,
          3.813,
          3.811,
          3.808,
          3.805,
          3.803,
          3.8,
          3.799,
          3.795,
          3.79,
          3.779,
          3.773,
          3.764,
          3.756,
          3.752,
          3.746,
          3.733,
          3.724,
          3.712,
          3.701,
          3.699,
          3.697,
          3.689
         ]
        },
        {
         "line": {
          "color": "green",
          "width": 4
         },
         "marker": {
          "color": "black",
          "size": 10,
          "symbol": "circle"
         },
         "name": "Cell3",
         "type": "scatter",
         "x": [
          56,
          54,
          52,
          49,
          48,
          47,
          45,
          43,
          42,
          40,
          39,
          38,
          38,
          37,
          36,
          35,
          34,
          33,
          31,
          32,
          31,
          30,
          27,
          26,
          24,
          23,
          22,
          21,
          18,
          17,
          15,
          14,
          13,
          13,
          12
         ],
         "y": [
          3.884,
          3.869,
          3.86,
          3.852,
          3.848,
          3.842,
          3.837,
          3.833,
          3.83,
          3.825,
          3.821,
          3.819,
          3.816,
          3.814,
          3.813,
          3.812,
          3.81,
          3.807,
          3.805,
          3.804,
          3.801,
          3.797,
          3.794,
          3.793,
          3.789,
          3.78,
          3.773,
          3.767,
          3.761,
          3.757,
          3.751,
          3.747,
          3.74,
          3.728,
          3.72
         ]
        },
        {
         "line": {
          "color": "yellow",
          "width": 4
         },
         "marker": {
          "color": "black",
          "size": 10,
          "symbol": "circle"
         },
         "name": "Cell4",
         "type": "scatter",
         "x": [
          56,
          54,
          52,
          49,
          48,
          47,
          45,
          43,
          42,
          40,
          39,
          38,
          38,
          37,
          36,
          35,
          34,
          33,
          31,
          32,
          31,
          30,
          27,
          26,
          24,
          23,
          22,
          21,
          18,
          17,
          15,
          14,
          13,
          13,
          12
         ],
         "y": [
          3.885,
          3.875,
          3.868,
          3.861,
          3.857,
          3.852,
          3.849,
          3.845,
          3.841,
          3.838,
          3.833,
          3.831,
          3.827,
          3.824,
          3.821,
          3.818,
          3.816,
          3.814,
          3.812,
          3.81,
          3.807,
          3.804,
          3.8,
          3.796,
          3.794,
          3.791,
          3.789,
          3.787,
          3.784,
          3.78,
          3.77,
          3.766,
          3.76,
          3.756,
          3.753
         ]
        },
        {
         "line": {
          "color": "magenta",
          "width": 4
         },
         "marker": {
          "color": "black",
          "size": 10,
          "symbol": "circle"
         },
         "name": "Cell5",
         "type": "scatter",
         "x": [
          56,
          54,
          52,
          49,
          48,
          47,
          45,
          43,
          42,
          40,
          39,
          38,
          38,
          37,
          36,
          35,
          34,
          33,
          31,
          32,
          31,
          30,
          27,
          26,
          24,
          23,
          22,
          21,
          18,
          17,
          15,
          14,
          13,
          13,
          12
         ],
         "y": [
          3.876,
          3.866,
          3.859,
          3.852,
          3.848,
          3.841,
          3.835,
          3.83,
          3.827,
          3.822,
          3.819,
          3.816,
          3.814,
          3.81,
          3.809,
          3.806,
          3.803,
          3.801,
          3.799,
          3.796,
          3.794,
          3.79,
          3.787,
          3.784,
          3.78,
          3.778,
          3.774,
          3.765,
          3.761,
          3.757,
          3.751,
          3.747,
          3.743,
          3.74,
          3.733
         ]
        },
        {
         "line": {
          "color": "red",
          "width": 4
         },
         "marker": {
          "color": "black",
          "size": 10,
          "symbol": "circle"
         },
         "name": "Cell6",
         "type": "scatter",
         "x": [
          56,
          54,
          52,
          49,
          48,
          47,
          45,
          43,
          42,
          40,
          39,
          38,
          38,
          37,
          36,
          35,
          34,
          33,
          31,
          32,
          31,
          30,
          27,
          26,
          24,
          23,
          22,
          21,
          18,
          17,
          15,
          14,
          13,
          13,
          12
         ],
         "y": [
          3.887,
          3.874,
          3.863,
          3.853,
          3.849,
          3.843,
          3.838,
          3.835,
          3.831,
          3.827,
          3.825,
          3.822,
          3.82,
          3.817,
          3.815,
          3.812,
          3.809,
          3.806,
          3.806,
          3.802,
          3.802,
          3.8,
          3.795,
          3.794,
          3.787,
          3.784,
          3.783,
          3.767,
          3.778,
          3.762,
          3.736,
          3.761,
          3.757,
          3.75,
          3.748
         ]
        }
       ],
       "layout": {
        "height": 600,
        "legend": {
         "bordercolor": "black",
         "borderwidth": 2,
         "font": {
          "color": "black",
          "family": "Times New Roman",
          "size": 18
         },
         "x": 0.86,
         "y": 0.99
        },
        "plot_bgcolor": "white",
        "template": {
         "data": {
          "bar": [
           {
            "error_x": {
             "color": "#2a3f5f"
            },
            "error_y": {
             "color": "#2a3f5f"
            },
            "marker": {
             "line": {
              "color": "#E5ECF6",
              "width": 0.5
             },
             "pattern": {
              "fillmode": "overlay",
              "size": 10,
              "solidity": 0.2
             }
            },
            "type": "bar"
           }
          ],
          "barpolar": [
           {
            "marker": {
             "line": {
              "color": "#E5ECF6",
              "width": 0.5
             },
             "pattern": {
              "fillmode": "overlay",
              "size": 10,
              "solidity": 0.2
             }
            },
            "type": "barpolar"
           }
          ],
          "carpet": [
           {
            "aaxis": {
             "endlinecolor": "#2a3f5f",
             "gridcolor": "white",
             "linecolor": "white",
             "minorgridcolor": "white",
             "startlinecolor": "#2a3f5f"
            },
            "baxis": {
             "endlinecolor": "#2a3f5f",
             "gridcolor": "white",
             "linecolor": "white",
             "minorgridcolor": "white",
             "startlinecolor": "#2a3f5f"
            },
            "type": "carpet"
           }
          ],
          "choropleth": [
           {
            "colorbar": {
             "outlinewidth": 0,
             "ticks": ""
            },
            "type": "choropleth"
           }
          ],
          "contour": [
           {
            "colorbar": {
             "outlinewidth": 0,
             "ticks": ""
            },
            "colorscale": [
             [
              0,
              "#0d0887"
             ],
             [
              0.1111111111111111,
              "#46039f"
             ],
             [
              0.2222222222222222,
              "#7201a8"
             ],
             [
              0.3333333333333333,
              "#9c179e"
             ],
             [
              0.4444444444444444,
              "#bd3786"
             ],
             [
              0.5555555555555556,
              "#d8576b"
             ],
             [
              0.6666666666666666,
              "#ed7953"
             ],
             [
              0.7777777777777778,
              "#fb9f3a"
             ],
             [
              0.8888888888888888,
              "#fdca26"
             ],
             [
              1,
              "#f0f921"
             ]
            ],
            "type": "contour"
           }
          ],
          "contourcarpet": [
           {
            "colorbar": {
             "outlinewidth": 0,
             "ticks": ""
            },
            "type": "contourcarpet"
           }
          ],
          "heatmap": [
           {
            "colorbar": {
             "outlinewidth": 0,
             "ticks": ""
            },
            "colorscale": [
             [
              0,
              "#0d0887"
             ],
             [
              0.1111111111111111,
              "#46039f"
             ],
             [
              0.2222222222222222,
              "#7201a8"
             ],
             [
              0.3333333333333333,
              "#9c179e"
             ],
             [
              0.4444444444444444,
              "#bd3786"
             ],
             [
              0.5555555555555556,
              "#d8576b"
             ],
             [
              0.6666666666666666,
              "#ed7953"
             ],
             [
              0.7777777777777778,
              "#fb9f3a"
             ],
             [
              0.8888888888888888,
              "#fdca26"
             ],
             [
              1,
              "#f0f921"
             ]
            ],
            "type": "heatmap"
           }
          ],
          "heatmapgl": [
           {
            "colorbar": {
             "outlinewidth": 0,
             "ticks": ""
            },
            "colorscale": [
             [
              0,
              "#0d0887"
             ],
             [
              0.1111111111111111,
              "#46039f"
             ],
             [
              0.2222222222222222,
              "#7201a8"
             ],
             [
              0.3333333333333333,
              "#9c179e"
             ],
             [
              0.4444444444444444,
              "#bd3786"
             ],
             [
              0.5555555555555556,
              "#d8576b"
             ],
             [
              0.6666666666666666,
              "#ed7953"
             ],
             [
              0.7777777777777778,
              "#fb9f3a"
             ],
             [
              0.8888888888888888,
              "#fdca26"
             ],
             [
              1,
              "#f0f921"
             ]
            ],
            "type": "heatmapgl"
           }
          ],
          "histogram": [
           {
            "marker": {
             "pattern": {
              "fillmode": "overlay",
              "size": 10,
              "solidity": 0.2
             }
            },
            "type": "histogram"
           }
          ],
          "histogram2d": [
           {
            "colorbar": {
             "outlinewidth": 0,
             "ticks": ""
            },
            "colorscale": [
             [
              0,
              "#0d0887"
             ],
             [
              0.1111111111111111,
              "#46039f"
             ],
             [
              0.2222222222222222,
              "#7201a8"
             ],
             [
              0.3333333333333333,
              "#9c179e"
             ],
             [
              0.4444444444444444,
              "#bd3786"
             ],
             [
              0.5555555555555556,
              "#d8576b"
             ],
             [
              0.6666666666666666,
              "#ed7953"
             ],
             [
              0.7777777777777778,
              "#fb9f3a"
             ],
             [
              0.8888888888888888,
              "#fdca26"
             ],
             [
              1,
              "#f0f921"
             ]
            ],
            "type": "histogram2d"
           }
          ],
          "histogram2dcontour": [
           {
            "colorbar": {
             "outlinewidth": 0,
             "ticks": ""
            },
            "colorscale": [
             [
              0,
              "#0d0887"
             ],
             [
              0.1111111111111111,
              "#46039f"
             ],
             [
              0.2222222222222222,
              "#7201a8"
             ],
             [
              0.3333333333333333,
              "#9c179e"
             ],
             [
              0.4444444444444444,
              "#bd3786"
             ],
             [
              0.5555555555555556,
              "#d8576b"
             ],
             [
              0.6666666666666666,
              "#ed7953"
             ],
             [
              0.7777777777777778,
              "#fb9f3a"
             ],
             [
              0.8888888888888888,
              "#fdca26"
             ],
             [
              1,
              "#f0f921"
             ]
            ],
            "type": "histogram2dcontour"
           }
          ],
          "mesh3d": [
           {
            "colorbar": {
             "outlinewidth": 0,
             "ticks": ""
            },
            "type": "mesh3d"
           }
          ],
          "parcoords": [
           {
            "line": {
             "colorbar": {
              "outlinewidth": 0,
              "ticks": ""
             }
            },
            "type": "parcoords"
           }
          ],
          "pie": [
           {
            "automargin": true,
            "type": "pie"
           }
          ],
          "scatter": [
           {
            "fillpattern": {
             "fillmode": "overlay",
             "size": 10,
             "solidity": 0.2
            },
            "type": "scatter"
           }
          ],
          "scatter3d": [
           {
            "line": {
             "colorbar": {
              "outlinewidth": 0,
              "ticks": ""
             }
            },
            "marker": {
             "colorbar": {
              "outlinewidth": 0,
              "ticks": ""
             }
            },
            "type": "scatter3d"
           }
          ],
          "scattercarpet": [
           {
            "marker": {
             "colorbar": {
              "outlinewidth": 0,
              "ticks": ""
             }
            },
            "type": "scattercarpet"
           }
          ],
          "scattergeo": [
           {
            "marker": {
             "colorbar": {
              "outlinewidth": 0,
              "ticks": ""
             }
            },
            "type": "scattergeo"
           }
          ],
          "scattergl": [
           {
            "marker": {
             "colorbar": {
              "outlinewidth": 0,
              "ticks": ""
             }
            },
            "type": "scattergl"
           }
          ],
          "scattermapbox": [
           {
            "marker": {
             "colorbar": {
              "outlinewidth": 0,
              "ticks": ""
             }
            },
            "type": "scattermapbox"
           }
          ],
          "scatterpolar": [
           {
            "marker": {
             "colorbar": {
              "outlinewidth": 0,
              "ticks": ""
             }
            },
            "type": "scatterpolar"
           }
          ],
          "scatterpolargl": [
           {
            "marker": {
             "colorbar": {
              "outlinewidth": 0,
              "ticks": ""
             }
            },
            "type": "scatterpolargl"
           }
          ],
          "scatterternary": [
           {
            "marker": {
             "colorbar": {
              "outlinewidth": 0,
              "ticks": ""
             }
            },
            "type": "scatterternary"
           }
          ],
          "surface": [
           {
            "colorbar": {
             "outlinewidth": 0,
             "ticks": ""
            },
            "colorscale": [
             [
              0,
              "#0d0887"
             ],
             [
              0.1111111111111111,
              "#46039f"
             ],
             [
              0.2222222222222222,
              "#7201a8"
             ],
             [
              0.3333333333333333,
              "#9c179e"
             ],
             [
              0.4444444444444444,
              "#bd3786"
             ],
             [
              0.5555555555555556,
              "#d8576b"
             ],
             [
              0.6666666666666666,
              "#ed7953"
             ],
             [
              0.7777777777777778,
              "#fb9f3a"
             ],
             [
              0.8888888888888888,
              "#fdca26"
             ],
             [
              1,
              "#f0f921"
             ]
            ],
            "type": "surface"
           }
          ],
          "table": [
           {
            "cells": {
             "fill": {
              "color": "#EBF0F8"
             },
             "line": {
              "color": "white"
             }
            },
            "header": {
             "fill": {
              "color": "#C8D4E3"
             },
             "line": {
              "color": "white"
             }
            },
            "type": "table"
           }
          ]
         },
         "layout": {
          "annotationdefaults": {
           "arrowcolor": "#2a3f5f",
           "arrowhead": 0,
           "arrowwidth": 1
          },
          "autotypenumbers": "strict",
          "coloraxis": {
           "colorbar": {
            "outlinewidth": 0,
            "ticks": ""
           }
          },
          "colorscale": {
           "diverging": [
            [
             0,
             "#8e0152"
            ],
            [
             0.1,
             "#c51b7d"
            ],
            [
             0.2,
             "#de77ae"
            ],
            [
             0.3,
             "#f1b6da"
            ],
            [
             0.4,
             "#fde0ef"
            ],
            [
             0.5,
             "#f7f7f7"
            ],
            [
             0.6,
             "#e6f5d0"
            ],
            [
             0.7,
             "#b8e186"
            ],
            [
             0.8,
             "#7fbc41"
            ],
            [
             0.9,
             "#4d9221"
            ],
            [
             1,
             "#276419"
            ]
           ],
           "sequential": [
            [
             0,
             "#0d0887"
            ],
            [
             0.1111111111111111,
             "#46039f"
            ],
            [
             0.2222222222222222,
             "#7201a8"
            ],
            [
             0.3333333333333333,
             "#9c179e"
            ],
            [
             0.4444444444444444,
             "#bd3786"
            ],
            [
             0.5555555555555556,
             "#d8576b"
            ],
            [
             0.6666666666666666,
             "#ed7953"
            ],
            [
             0.7777777777777778,
             "#fb9f3a"
            ],
            [
             0.8888888888888888,
             "#fdca26"
            ],
            [
             1,
             "#f0f921"
            ]
           ],
           "sequentialminus": [
            [
             0,
             "#0d0887"
            ],
            [
             0.1111111111111111,
             "#46039f"
            ],
            [
             0.2222222222222222,
             "#7201a8"
            ],
            [
             0.3333333333333333,
             "#9c179e"
            ],
            [
             0.4444444444444444,
             "#bd3786"
            ],
            [
             0.5555555555555556,
             "#d8576b"
            ],
            [
             0.6666666666666666,
             "#ed7953"
            ],
            [
             0.7777777777777778,
             "#fb9f3a"
            ],
            [
             0.8888888888888888,
             "#fdca26"
            ],
            [
             1,
             "#f0f921"
            ]
           ]
          },
          "colorway": [
           "#636efa",
           "#EF553B",
           "#00cc96",
           "#ab63fa",
           "#FFA15A",
           "#19d3f3",
           "#FF6692",
           "#B6E880",
           "#FF97FF",
           "#FECB52"
          ],
          "font": {
           "color": "#2a3f5f"
          },
          "geo": {
           "bgcolor": "white",
           "lakecolor": "white",
           "landcolor": "#E5ECF6",
           "showlakes": true,
           "showland": true,
           "subunitcolor": "white"
          },
          "hoverlabel": {
           "align": "left"
          },
          "hovermode": "closest",
          "mapbox": {
           "style": "light"
          },
          "paper_bgcolor": "white",
          "plot_bgcolor": "#E5ECF6",
          "polar": {
           "angularaxis": {
            "gridcolor": "white",
            "linecolor": "white",
            "ticks": ""
           },
           "bgcolor": "#E5ECF6",
           "radialaxis": {
            "gridcolor": "white",
            "linecolor": "white",
            "ticks": ""
           }
          },
          "scene": {
           "xaxis": {
            "backgroundcolor": "#E5ECF6",
            "gridcolor": "white",
            "gridwidth": 2,
            "linecolor": "white",
            "showbackground": true,
            "ticks": "",
            "zerolinecolor": "white"
           },
           "yaxis": {
            "backgroundcolor": "#E5ECF6",
            "gridcolor": "white",
            "gridwidth": 2,
            "linecolor": "white",
            "showbackground": true,
            "ticks": "",
            "zerolinecolor": "white"
           },
           "zaxis": {
            "backgroundcolor": "#E5ECF6",
            "gridcolor": "white",
            "gridwidth": 2,
            "linecolor": "white",
            "showbackground": true,
            "ticks": "",
            "zerolinecolor": "white"
           }
          },
          "shapedefaults": {
           "line": {
            "color": "#2a3f5f"
           }
          },
          "ternary": {
           "aaxis": {
            "gridcolor": "white",
            "linecolor": "white",
            "ticks": ""
           },
           "baxis": {
            "gridcolor": "white",
            "linecolor": "white",
            "ticks": ""
           },
           "bgcolor": "#E5ECF6",
           "caxis": {
            "gridcolor": "white",
            "linecolor": "white",
            "ticks": ""
           }
          },
          "title": {
           "x": 0.05
          },
          "xaxis": {
           "automargin": true,
           "gridcolor": "white",
           "linecolor": "white",
           "ticks": "",
           "title": {
            "standoff": 15
           },
           "zerolinecolor": "white",
           "zerolinewidth": 2
          },
          "yaxis": {
           "automargin": true,
           "gridcolor": "white",
           "linecolor": "white",
           "ticks": "",
           "title": {
            "standoff": 15
           },
           "zerolinecolor": "white",
           "zerolinewidth": 2
          }
         }
        },
        "title": {
         "font": {
          "color": "black",
          "family": "Times New Roman",
          "size": 30
         },
         "text": "UUT#1_Cycle01",
         "x": 0.5,
         "xanchor": "center",
         "y": 0.9,
         "yanchor": "top"
        },
        "width": 1200,
        "xaxis": {
         "autorange": "reversed",
         "gridcolor": "LightPink",
         "gridwidth": 1,
         "linecolor": "black",
         "linewidth": 2,
         "mirror": true,
         "showgrid": true,
         "showline": true,
         "tickfont": {
          "color": "black",
          "family": "Times New Roman",
          "size": 24
         },
         "ticks": "outside",
         "title": {
          "font": {
           "color": "black",
           "family": "Times New Roman",
           "size": 24
          },
          "standoff": 5,
          "text": "Battery Pack SOC (%)"
         }
        },
        "yaxis": {
         "gridcolor": "LightPink",
         "gridwidth": 1,
         "linecolor": "black",
         "linewidth": 2,
         "mirror": true,
         "showgrid": true,
         "showline": true,
         "tickfont": {
          "color": "black",
          "family": "Times New Roman",
          "size": 24
         },
         "ticks": "outside",
         "title": {
          "font": {
           "color": "black",
           "family": "Times New Roman",
           "size": 24
          },
          "standoff": 5,
          "text": "Battery Cell Voltages (V) "
         }
        }
       }
      }
     },
     "metadata": {},
     "output_type": "display_data"
    },
    {
     "data": {
      "application/vnd.plotly.v1+json": {
       "config": {
        "plotlyServerURL": "https://plot.ly"
       },
       "data": [
        {
         "line": {
          "color": "light blue",
          "width": 4
         },
         "marker": {
          "color": "black",
          "size": 10,
          "symbol": "circle"
         },
         "name": "Cell1",
         "type": "scatter",
         "x": [
          39,
          38,
          38,
          37,
          36,
          34,
          32,
          31,
          30,
          28,
          26,
          23,
          18,
          15,
          13,
          9,
          4,
          0
         ],
         "y": [
          3.858,
          3.849,
          3.834,
          3.846,
          3.838,
          3.833,
          3.826,
          3.814,
          3.811,
          3.813,
          3.806,
          3.778,
          3.766,
          3.754,
          3.773,
          3.753,
          3.734,
          3.715
         ]
        },
        {
         "line": {
          "color": "#768fb8",
          "width": 4
         },
         "marker": {
          "color": "black",
          "size": 10,
          "symbol": "circle"
         },
         "name": "Cell2",
         "type": "scatter",
         "x": [
          39,
          38,
          38,
          37,
          36,
          34,
          32,
          31,
          30,
          28,
          26,
          23,
          18,
          15,
          13,
          9,
          4,
          0
         ],
         "y": [
          3.818,
          3.816,
          3.813,
          3.811,
          3.808,
          3.802,
          3.798,
          3.795,
          3.791,
          3.78,
          3.773,
          3.756,
          3.729,
          3.708,
          3.697,
          3.66,
          3.426,
          2.668
         ]
        },
        {
         "line": {
          "color": "green",
          "width": 4
         },
         "marker": {
          "color": "black",
          "size": 10,
          "symbol": "circle"
         },
         "name": "Cell3",
         "type": "scatter",
         "x": [
          39,
          38,
          38,
          37,
          36,
          34,
          32,
          31,
          30,
          28,
          26,
          23,
          18,
          15,
          13,
          9,
          4,
          0
         ],
         "y": [
          3.838,
          3.832,
          3.829,
          3.827,
          3.823,
          3.816,
          3.813,
          3.81,
          3.805,
          3.8,
          3.798,
          3.792,
          3.777,
          3.765,
          3.753,
          3.739,
          3.702,
          3.607
         ]
        },
        {
         "line": {
          "color": "yellow",
          "width": 4
         },
         "marker": {
          "color": "black",
          "size": 10,
          "symbol": "circle"
         },
         "name": "Cell4",
         "type": "scatter",
         "x": [
          39,
          38,
          38,
          37,
          36,
          34,
          32,
          31,
          30,
          28,
          26,
          23,
          18,
          15,
          13,
          9,
          4,
          0
         ],
         "y": [
          3.855,
          3.848,
          3.847,
          3.846,
          3.839,
          3.831,
          3.823,
          3.816,
          3.812,
          3.807,
          3.803,
          3.795,
          3.789,
          3.783,
          3.765,
          3.754,
          3.743,
          3.702
         ]
        },
        {
         "line": {
          "color": "magenta",
          "width": 4
         },
         "marker": {
          "color": "black",
          "size": 10,
          "symbol": "circle"
         },
         "name": "Cell5",
         "type": "scatter",
         "x": [
          39,
          38,
          38,
          37,
          36,
          34,
          32,
          31,
          30,
          28,
          26,
          23,
          18,
          15,
          13,
          9,
          4,
          0
         ],
         "y": [
          3.842,
          3.832,
          3.83,
          3.828,
          3.824,
          3.816,
          3.811,
          3.806,
          3.8,
          3.796,
          3.792,
          3.785,
          3.778,
          3.766,
          3.756,
          3.745,
          3.727,
          3.692
         ]
        },
        {
         "line": {
          "color": "red",
          "width": 4
         },
         "marker": {
          "color": "black",
          "size": 10,
          "symbol": "circle"
         },
         "name": "Cell6",
         "type": "scatter",
         "x": [
          39,
          38,
          38,
          37,
          36,
          34,
          32,
          31,
          30,
          28,
          26,
          23,
          18,
          15,
          13,
          9,
          4,
          0
         ],
         "y": [
          3.849,
          3.838,
          3.837,
          3.84,
          3.831,
          3.828,
          3.822,
          3.801,
          3.813,
          3.809,
          3.805,
          3.797,
          3.792,
          3.786,
          3.779,
          3.765,
          3.763,
          3.738
         ]
        }
       ],
       "layout": {
        "height": 600,
        "legend": {
         "bordercolor": "black",
         "borderwidth": 2,
         "font": {
          "color": "black",
          "family": "Times New Roman",
          "size": 18
         },
         "x": 0.36,
         "y": 0.59
        },
        "plot_bgcolor": "white",
        "template": {
         "data": {
          "bar": [
           {
            "error_x": {
             "color": "#2a3f5f"
            },
            "error_y": {
             "color": "#2a3f5f"
            },
            "marker": {
             "line": {
              "color": "#E5ECF6",
              "width": 0.5
             },
             "pattern": {
              "fillmode": "overlay",
              "size": 10,
              "solidity": 0.2
             }
            },
            "type": "bar"
           }
          ],
          "barpolar": [
           {
            "marker": {
             "line": {
              "color": "#E5ECF6",
              "width": 0.5
             },
             "pattern": {
              "fillmode": "overlay",
              "size": 10,
              "solidity": 0.2
             }
            },
            "type": "barpolar"
           }
          ],
          "carpet": [
           {
            "aaxis": {
             "endlinecolor": "#2a3f5f",
             "gridcolor": "white",
             "linecolor": "white",
             "minorgridcolor": "white",
             "startlinecolor": "#2a3f5f"
            },
            "baxis": {
             "endlinecolor": "#2a3f5f",
             "gridcolor": "white",
             "linecolor": "white",
             "minorgridcolor": "white",
             "startlinecolor": "#2a3f5f"
            },
            "type": "carpet"
           }
          ],
          "choropleth": [
           {
            "colorbar": {
             "outlinewidth": 0,
             "ticks": ""
            },
            "type": "choropleth"
           }
          ],
          "contour": [
           {
            "colorbar": {
             "outlinewidth": 0,
             "ticks": ""
            },
            "colorscale": [
             [
              0,
              "#0d0887"
             ],
             [
              0.1111111111111111,
              "#46039f"
             ],
             [
              0.2222222222222222,
              "#7201a8"
             ],
             [
              0.3333333333333333,
              "#9c179e"
             ],
             [
              0.4444444444444444,
              "#bd3786"
             ],
             [
              0.5555555555555556,
              "#d8576b"
             ],
             [
              0.6666666666666666,
              "#ed7953"
             ],
             [
              0.7777777777777778,
              "#fb9f3a"
             ],
             [
              0.8888888888888888,
              "#fdca26"
             ],
             [
              1,
              "#f0f921"
             ]
            ],
            "type": "contour"
           }
          ],
          "contourcarpet": [
           {
            "colorbar": {
             "outlinewidth": 0,
             "ticks": ""
            },
            "type": "contourcarpet"
           }
          ],
          "heatmap": [
           {
            "colorbar": {
             "outlinewidth": 0,
             "ticks": ""
            },
            "colorscale": [
             [
              0,
              "#0d0887"
             ],
             [
              0.1111111111111111,
              "#46039f"
             ],
             [
              0.2222222222222222,
              "#7201a8"
             ],
             [
              0.3333333333333333,
              "#9c179e"
             ],
             [
              0.4444444444444444,
              "#bd3786"
             ],
             [
              0.5555555555555556,
              "#d8576b"
             ],
             [
              0.6666666666666666,
              "#ed7953"
             ],
             [
              0.7777777777777778,
              "#fb9f3a"
             ],
             [
              0.8888888888888888,
              "#fdca26"
             ],
             [
              1,
              "#f0f921"
             ]
            ],
            "type": "heatmap"
           }
          ],
          "heatmapgl": [
           {
            "colorbar": {
             "outlinewidth": 0,
             "ticks": ""
            },
            "colorscale": [
             [
              0,
              "#0d0887"
             ],
             [
              0.1111111111111111,
              "#46039f"
             ],
             [
              0.2222222222222222,
              "#7201a8"
             ],
             [
              0.3333333333333333,
              "#9c179e"
             ],
             [
              0.4444444444444444,
              "#bd3786"
             ],
             [
              0.5555555555555556,
              "#d8576b"
             ],
             [
              0.6666666666666666,
              "#ed7953"
             ],
             [
              0.7777777777777778,
              "#fb9f3a"
             ],
             [
              0.8888888888888888,
              "#fdca26"
             ],
             [
              1,
              "#f0f921"
             ]
            ],
            "type": "heatmapgl"
           }
          ],
          "histogram": [
           {
            "marker": {
             "pattern": {
              "fillmode": "overlay",
              "size": 10,
              "solidity": 0.2
             }
            },
            "type": "histogram"
           }
          ],
          "histogram2d": [
           {
            "colorbar": {
             "outlinewidth": 0,
             "ticks": ""
            },
            "colorscale": [
             [
              0,
              "#0d0887"
             ],
             [
              0.1111111111111111,
              "#46039f"
             ],
             [
              0.2222222222222222,
              "#7201a8"
             ],
             [
              0.3333333333333333,
              "#9c179e"
             ],
             [
              0.4444444444444444,
              "#bd3786"
             ],
             [
              0.5555555555555556,
              "#d8576b"
             ],
             [
              0.6666666666666666,
              "#ed7953"
             ],
             [
              0.7777777777777778,
              "#fb9f3a"
             ],
             [
              0.8888888888888888,
              "#fdca26"
             ],
             [
              1,
              "#f0f921"
             ]
            ],
            "type": "histogram2d"
           }
          ],
          "histogram2dcontour": [
           {
            "colorbar": {
             "outlinewidth": 0,
             "ticks": ""
            },
            "colorscale": [
             [
              0,
              "#0d0887"
             ],
             [
              0.1111111111111111,
              "#46039f"
             ],
             [
              0.2222222222222222,
              "#7201a8"
             ],
             [
              0.3333333333333333,
              "#9c179e"
             ],
             [
              0.4444444444444444,
              "#bd3786"
             ],
             [
              0.5555555555555556,
              "#d8576b"
             ],
             [
              0.6666666666666666,
              "#ed7953"
             ],
             [
              0.7777777777777778,
              "#fb9f3a"
             ],
             [
              0.8888888888888888,
              "#fdca26"
             ],
             [
              1,
              "#f0f921"
             ]
            ],
            "type": "histogram2dcontour"
           }
          ],
          "mesh3d": [
           {
            "colorbar": {
             "outlinewidth": 0,
             "ticks": ""
            },
            "type": "mesh3d"
           }
          ],
          "parcoords": [
           {
            "line": {
             "colorbar": {
              "outlinewidth": 0,
              "ticks": ""
             }
            },
            "type": "parcoords"
           }
          ],
          "pie": [
           {
            "automargin": true,
            "type": "pie"
           }
          ],
          "scatter": [
           {
            "fillpattern": {
             "fillmode": "overlay",
             "size": 10,
             "solidity": 0.2
            },
            "type": "scatter"
           }
          ],
          "scatter3d": [
           {
            "line": {
             "colorbar": {
              "outlinewidth": 0,
              "ticks": ""
             }
            },
            "marker": {
             "colorbar": {
              "outlinewidth": 0,
              "ticks": ""
             }
            },
            "type": "scatter3d"
           }
          ],
          "scattercarpet": [
           {
            "marker": {
             "colorbar": {
              "outlinewidth": 0,
              "ticks": ""
             }
            },
            "type": "scattercarpet"
           }
          ],
          "scattergeo": [
           {
            "marker": {
             "colorbar": {
              "outlinewidth": 0,
              "ticks": ""
             }
            },
            "type": "scattergeo"
           }
          ],
          "scattergl": [
           {
            "marker": {
             "colorbar": {
              "outlinewidth": 0,
              "ticks": ""
             }
            },
            "type": "scattergl"
           }
          ],
          "scattermapbox": [
           {
            "marker": {
             "colorbar": {
              "outlinewidth": 0,
              "ticks": ""
             }
            },
            "type": "scattermapbox"
           }
          ],
          "scatterpolar": [
           {
            "marker": {
             "colorbar": {
              "outlinewidth": 0,
              "ticks": ""
             }
            },
            "type": "scatterpolar"
           }
          ],
          "scatterpolargl": [
           {
            "marker": {
             "colorbar": {
              "outlinewidth": 0,
              "ticks": ""
             }
            },
            "type": "scatterpolargl"
           }
          ],
          "scatterternary": [
           {
            "marker": {
             "colorbar": {
              "outlinewidth": 0,
              "ticks": ""
             }
            },
            "type": "scatterternary"
           }
          ],
          "surface": [
           {
            "colorbar": {
             "outlinewidth": 0,
             "ticks": ""
            },
            "colorscale": [
             [
              0,
              "#0d0887"
             ],
             [
              0.1111111111111111,
              "#46039f"
             ],
             [
              0.2222222222222222,
              "#7201a8"
             ],
             [
              0.3333333333333333,
              "#9c179e"
             ],
             [
              0.4444444444444444,
              "#bd3786"
             ],
             [
              0.5555555555555556,
              "#d8576b"
             ],
             [
              0.6666666666666666,
              "#ed7953"
             ],
             [
              0.7777777777777778,
              "#fb9f3a"
             ],
             [
              0.8888888888888888,
              "#fdca26"
             ],
             [
              1,
              "#f0f921"
             ]
            ],
            "type": "surface"
           }
          ],
          "table": [
           {
            "cells": {
             "fill": {
              "color": "#EBF0F8"
             },
             "line": {
              "color": "white"
             }
            },
            "header": {
             "fill": {
              "color": "#C8D4E3"
             },
             "line": {
              "color": "white"
             }
            },
            "type": "table"
           }
          ]
         },
         "layout": {
          "annotationdefaults": {
           "arrowcolor": "#2a3f5f",
           "arrowhead": 0,
           "arrowwidth": 1
          },
          "autotypenumbers": "strict",
          "coloraxis": {
           "colorbar": {
            "outlinewidth": 0,
            "ticks": ""
           }
          },
          "colorscale": {
           "diverging": [
            [
             0,
             "#8e0152"
            ],
            [
             0.1,
             "#c51b7d"
            ],
            [
             0.2,
             "#de77ae"
            ],
            [
             0.3,
             "#f1b6da"
            ],
            [
             0.4,
             "#fde0ef"
            ],
            [
             0.5,
             "#f7f7f7"
            ],
            [
             0.6,
             "#e6f5d0"
            ],
            [
             0.7,
             "#b8e186"
            ],
            [
             0.8,
             "#7fbc41"
            ],
            [
             0.9,
             "#4d9221"
            ],
            [
             1,
             "#276419"
            ]
           ],
           "sequential": [
            [
             0,
             "#0d0887"
            ],
            [
             0.1111111111111111,
             "#46039f"
            ],
            [
             0.2222222222222222,
             "#7201a8"
            ],
            [
             0.3333333333333333,
             "#9c179e"
            ],
            [
             0.4444444444444444,
             "#bd3786"
            ],
            [
             0.5555555555555556,
             "#d8576b"
            ],
            [
             0.6666666666666666,
             "#ed7953"
            ],
            [
             0.7777777777777778,
             "#fb9f3a"
            ],
            [
             0.8888888888888888,
             "#fdca26"
            ],
            [
             1,
             "#f0f921"
            ]
           ],
           "sequentialminus": [
            [
             0,
             "#0d0887"
            ],
            [
             0.1111111111111111,
             "#46039f"
            ],
            [
             0.2222222222222222,
             "#7201a8"
            ],
            [
             0.3333333333333333,
             "#9c179e"
            ],
            [
             0.4444444444444444,
             "#bd3786"
            ],
            [
             0.5555555555555556,
             "#d8576b"
            ],
            [
             0.6666666666666666,
             "#ed7953"
            ],
            [
             0.7777777777777778,
             "#fb9f3a"
            ],
            [
             0.8888888888888888,
             "#fdca26"
            ],
            [
             1,
             "#f0f921"
            ]
           ]
          },
          "colorway": [
           "#636efa",
           "#EF553B",
           "#00cc96",
           "#ab63fa",
           "#FFA15A",
           "#19d3f3",
           "#FF6692",
           "#B6E880",
           "#FF97FF",
           "#FECB52"
          ],
          "font": {
           "color": "#2a3f5f"
          },
          "geo": {
           "bgcolor": "white",
           "lakecolor": "white",
           "landcolor": "#E5ECF6",
           "showlakes": true,
           "showland": true,
           "subunitcolor": "white"
          },
          "hoverlabel": {
           "align": "left"
          },
          "hovermode": "closest",
          "mapbox": {
           "style": "light"
          },
          "paper_bgcolor": "white",
          "plot_bgcolor": "#E5ECF6",
          "polar": {
           "angularaxis": {
            "gridcolor": "white",
            "linecolor": "white",
            "ticks": ""
           },
           "bgcolor": "#E5ECF6",
           "radialaxis": {
            "gridcolor": "white",
            "linecolor": "white",
            "ticks": ""
           }
          },
          "scene": {
           "xaxis": {
            "backgroundcolor": "#E5ECF6",
            "gridcolor": "white",
            "gridwidth": 2,
            "linecolor": "white",
            "showbackground": true,
            "ticks": "",
            "zerolinecolor": "white"
           },
           "yaxis": {
            "backgroundcolor": "#E5ECF6",
            "gridcolor": "white",
            "gridwidth": 2,
            "linecolor": "white",
            "showbackground": true,
            "ticks": "",
            "zerolinecolor": "white"
           },
           "zaxis": {
            "backgroundcolor": "#E5ECF6",
            "gridcolor": "white",
            "gridwidth": 2,
            "linecolor": "white",
            "showbackground": true,
            "ticks": "",
            "zerolinecolor": "white"
           }
          },
          "shapedefaults": {
           "line": {
            "color": "#2a3f5f"
           }
          },
          "ternary": {
           "aaxis": {
            "gridcolor": "white",
            "linecolor": "white",
            "ticks": ""
           },
           "baxis": {
            "gridcolor": "white",
            "linecolor": "white",
            "ticks": ""
           },
           "bgcolor": "#E5ECF6",
           "caxis": {
            "gridcolor": "white",
            "linecolor": "white",
            "ticks": ""
           }
          },
          "title": {
           "x": 0.05
          },
          "xaxis": {
           "automargin": true,
           "gridcolor": "white",
           "linecolor": "white",
           "ticks": "",
           "title": {
            "standoff": 15
           },
           "zerolinecolor": "white",
           "zerolinewidth": 2
          },
          "yaxis": {
           "automargin": true,
           "gridcolor": "white",
           "linecolor": "white",
           "ticks": "",
           "title": {
            "standoff": 15
           },
           "zerolinecolor": "white",
           "zerolinewidth": 2
          }
         }
        },
        "title": {
         "font": {
          "color": "black",
          "family": "Times New Roman",
          "size": 30
         },
         "text": "UUT#1_Cycle02",
         "x": 0.5,
         "xanchor": "center",
         "y": 0.9,
         "yanchor": "top"
        },
        "width": 1200,
        "xaxis": {
         "autorange": "reversed",
         "gridcolor": "LightPink",
         "gridwidth": 1,
         "linecolor": "black",
         "linewidth": 2,
         "mirror": true,
         "showgrid": true,
         "showline": true,
         "tickfont": {
          "color": "black",
          "family": "Times New Roman",
          "size": 24
         },
         "ticks": "outside",
         "title": {
          "font": {
           "color": "black",
           "family": "Times New Roman",
           "size": 24
          },
          "standoff": 5,
          "text": "Battery Pack SOC (%)"
         }
        },
        "yaxis": {
         "gridcolor": "LightPink",
         "gridwidth": 1,
         "linecolor": "black",
         "linewidth": 2,
         "mirror": true,
         "showgrid": true,
         "showline": true,
         "tickfont": {
          "color": "black",
          "family": "Times New Roman",
          "size": 24
         },
         "ticks": "outside",
         "title": {
          "font": {
           "color": "black",
           "family": "Times New Roman",
           "size": 24
          },
          "standoff": 5,
          "text": "Battery Cell Voltages (V) "
         }
        }
       }
      }
     },
     "metadata": {},
     "output_type": "display_data"
    },
    {
     "data": {
      "application/vnd.plotly.v1+json": {
       "config": {
        "plotlyServerURL": "https://plot.ly"
       },
       "data": [
        {
         "line": {
          "color": "light blue",
          "width": 4
         },
         "marker": {
          "color": "black",
          "size": 10,
          "symbol": "circle"
         },
         "name": "Cell1",
         "type": "scatter",
         "x": [
          39,
          28,
          23,
          16,
          13,
          6
         ],
         "y": [
          3.858,
          3.799,
          3.782,
          3.755,
          3.734,
          3.705
         ]
        },
        {
         "line": {
          "color": "#768fb8",
          "width": 4
         },
         "marker": {
          "color": "black",
          "size": 10,
          "symbol": "circle"
         },
         "name": "Cell2",
         "type": "scatter",
         "x": [
          39,
          28,
          23,
          16,
          13,
          6
         ],
         "y": [
          3.818,
          3.783,
          3.758,
          3.716,
          3.698,
          3.489
         ]
        },
        {
         "line": {
          "color": "green",
          "width": 4
         },
         "marker": {
          "color": "black",
          "size": 10,
          "symbol": "circle"
         },
         "name": "Cell3",
         "type": "scatter",
         "x": [
          39,
          28,
          23,
          16,
          13,
          6
         ],
         "y": [
          3.838,
          3.793,
          3.774,
          3.751,
          3.704,
          3.695
         ]
        },
        {
         "line": {
          "color": "yellow",
          "width": 4
         },
         "marker": {
          "color": "black",
          "size": 10,
          "symbol": "circle"
         },
         "name": "Cell4",
         "type": "scatter",
         "x": [
          39,
          28,
          23,
          16,
          13,
          6
         ],
         "y": [
          3.855,
          3.796,
          3.787,
          3.767,
          3.752,
          3.724
         ]
        },
        {
         "line": {
          "color": "magenta",
          "width": 4
         },
         "marker": {
          "color": "black",
          "size": 10,
          "symbol": "circle"
         },
         "name": "Cell5",
         "type": "scatter",
         "x": [
          39,
          28,
          23,
          16,
          13,
          6
         ],
         "y": [
          3.842,
          3.79,
          3.78,
          3.763,
          3.744,
          3.713
         ]
        },
        {
         "line": {
          "color": "red",
          "width": 4
         },
         "marker": {
          "color": "black",
          "size": 10,
          "symbol": "circle"
         },
         "name": "Cell6",
         "type": "scatter",
         "x": [
          39,
          28,
          23,
          16,
          13,
          6
         ],
         "y": [
          3.849,
          3.833,
          3.826,
          3.82,
          3.814,
          3.806
         ]
        }
       ],
       "layout": {
        "height": 600,
        "legend": {
         "bordercolor": "black",
         "borderwidth": 2,
         "font": {
          "color": "black",
          "family": "Times New Roman",
          "size": 18
         },
         "x": 0.36,
         "y": 0.39
        },
        "plot_bgcolor": "white",
        "template": {
         "data": {
          "bar": [
           {
            "error_x": {
             "color": "#2a3f5f"
            },
            "error_y": {
             "color": "#2a3f5f"
            },
            "marker": {
             "line": {
              "color": "#E5ECF6",
              "width": 0.5
             },
             "pattern": {
              "fillmode": "overlay",
              "size": 10,
              "solidity": 0.2
             }
            },
            "type": "bar"
           }
          ],
          "barpolar": [
           {
            "marker": {
             "line": {
              "color": "#E5ECF6",
              "width": 0.5
             },
             "pattern": {
              "fillmode": "overlay",
              "size": 10,
              "solidity": 0.2
             }
            },
            "type": "barpolar"
           }
          ],
          "carpet": [
           {
            "aaxis": {
             "endlinecolor": "#2a3f5f",
             "gridcolor": "white",
             "linecolor": "white",
             "minorgridcolor": "white",
             "startlinecolor": "#2a3f5f"
            },
            "baxis": {
             "endlinecolor": "#2a3f5f",
             "gridcolor": "white",
             "linecolor": "white",
             "minorgridcolor": "white",
             "startlinecolor": "#2a3f5f"
            },
            "type": "carpet"
           }
          ],
          "choropleth": [
           {
            "colorbar": {
             "outlinewidth": 0,
             "ticks": ""
            },
            "type": "choropleth"
           }
          ],
          "contour": [
           {
            "colorbar": {
             "outlinewidth": 0,
             "ticks": ""
            },
            "colorscale": [
             [
              0,
              "#0d0887"
             ],
             [
              0.1111111111111111,
              "#46039f"
             ],
             [
              0.2222222222222222,
              "#7201a8"
             ],
             [
              0.3333333333333333,
              "#9c179e"
             ],
             [
              0.4444444444444444,
              "#bd3786"
             ],
             [
              0.5555555555555556,
              "#d8576b"
             ],
             [
              0.6666666666666666,
              "#ed7953"
             ],
             [
              0.7777777777777778,
              "#fb9f3a"
             ],
             [
              0.8888888888888888,
              "#fdca26"
             ],
             [
              1,
              "#f0f921"
             ]
            ],
            "type": "contour"
           }
          ],
          "contourcarpet": [
           {
            "colorbar": {
             "outlinewidth": 0,
             "ticks": ""
            },
            "type": "contourcarpet"
           }
          ],
          "heatmap": [
           {
            "colorbar": {
             "outlinewidth": 0,
             "ticks": ""
            },
            "colorscale": [
             [
              0,
              "#0d0887"
             ],
             [
              0.1111111111111111,
              "#46039f"
             ],
             [
              0.2222222222222222,
              "#7201a8"
             ],
             [
              0.3333333333333333,
              "#9c179e"
             ],
             [
              0.4444444444444444,
              "#bd3786"
             ],
             [
              0.5555555555555556,
              "#d8576b"
             ],
             [
              0.6666666666666666,
              "#ed7953"
             ],
             [
              0.7777777777777778,
              "#fb9f3a"
             ],
             [
              0.8888888888888888,
              "#fdca26"
             ],
             [
              1,
              "#f0f921"
             ]
            ],
            "type": "heatmap"
           }
          ],
          "heatmapgl": [
           {
            "colorbar": {
             "outlinewidth": 0,
             "ticks": ""
            },
            "colorscale": [
             [
              0,
              "#0d0887"
             ],
             [
              0.1111111111111111,
              "#46039f"
             ],
             [
              0.2222222222222222,
              "#7201a8"
             ],
             [
              0.3333333333333333,
              "#9c179e"
             ],
             [
              0.4444444444444444,
              "#bd3786"
             ],
             [
              0.5555555555555556,
              "#d8576b"
             ],
             [
              0.6666666666666666,
              "#ed7953"
             ],
             [
              0.7777777777777778,
              "#fb9f3a"
             ],
             [
              0.8888888888888888,
              "#fdca26"
             ],
             [
              1,
              "#f0f921"
             ]
            ],
            "type": "heatmapgl"
           }
          ],
          "histogram": [
           {
            "marker": {
             "pattern": {
              "fillmode": "overlay",
              "size": 10,
              "solidity": 0.2
             }
            },
            "type": "histogram"
           }
          ],
          "histogram2d": [
           {
            "colorbar": {
             "outlinewidth": 0,
             "ticks": ""
            },
            "colorscale": [
             [
              0,
              "#0d0887"
             ],
             [
              0.1111111111111111,
              "#46039f"
             ],
             [
              0.2222222222222222,
              "#7201a8"
             ],
             [
              0.3333333333333333,
              "#9c179e"
             ],
             [
              0.4444444444444444,
              "#bd3786"
             ],
             [
              0.5555555555555556,
              "#d8576b"
             ],
             [
              0.6666666666666666,
              "#ed7953"
             ],
             [
              0.7777777777777778,
              "#fb9f3a"
             ],
             [
              0.8888888888888888,
              "#fdca26"
             ],
             [
              1,
              "#f0f921"
             ]
            ],
            "type": "histogram2d"
           }
          ],
          "histogram2dcontour": [
           {
            "colorbar": {
             "outlinewidth": 0,
             "ticks": ""
            },
            "colorscale": [
             [
              0,
              "#0d0887"
             ],
             [
              0.1111111111111111,
              "#46039f"
             ],
             [
              0.2222222222222222,
              "#7201a8"
             ],
             [
              0.3333333333333333,
              "#9c179e"
             ],
             [
              0.4444444444444444,
              "#bd3786"
             ],
             [
              0.5555555555555556,
              "#d8576b"
             ],
             [
              0.6666666666666666,
              "#ed7953"
             ],
             [
              0.7777777777777778,
              "#fb9f3a"
             ],
             [
              0.8888888888888888,
              "#fdca26"
             ],
             [
              1,
              "#f0f921"
             ]
            ],
            "type": "histogram2dcontour"
           }
          ],
          "mesh3d": [
           {
            "colorbar": {
             "outlinewidth": 0,
             "ticks": ""
            },
            "type": "mesh3d"
           }
          ],
          "parcoords": [
           {
            "line": {
             "colorbar": {
              "outlinewidth": 0,
              "ticks": ""
             }
            },
            "type": "parcoords"
           }
          ],
          "pie": [
           {
            "automargin": true,
            "type": "pie"
           }
          ],
          "scatter": [
           {
            "fillpattern": {
             "fillmode": "overlay",
             "size": 10,
             "solidity": 0.2
            },
            "type": "scatter"
           }
          ],
          "scatter3d": [
           {
            "line": {
             "colorbar": {
              "outlinewidth": 0,
              "ticks": ""
             }
            },
            "marker": {
             "colorbar": {
              "outlinewidth": 0,
              "ticks": ""
             }
            },
            "type": "scatter3d"
           }
          ],
          "scattercarpet": [
           {
            "marker": {
             "colorbar": {
              "outlinewidth": 0,
              "ticks": ""
             }
            },
            "type": "scattercarpet"
           }
          ],
          "scattergeo": [
           {
            "marker": {
             "colorbar": {
              "outlinewidth": 0,
              "ticks": ""
             }
            },
            "type": "scattergeo"
           }
          ],
          "scattergl": [
           {
            "marker": {
             "colorbar": {
              "outlinewidth": 0,
              "ticks": ""
             }
            },
            "type": "scattergl"
           }
          ],
          "scattermapbox": [
           {
            "marker": {
             "colorbar": {
              "outlinewidth": 0,
              "ticks": ""
             }
            },
            "type": "scattermapbox"
           }
          ],
          "scatterpolar": [
           {
            "marker": {
             "colorbar": {
              "outlinewidth": 0,
              "ticks": ""
             }
            },
            "type": "scatterpolar"
           }
          ],
          "scatterpolargl": [
           {
            "marker": {
             "colorbar": {
              "outlinewidth": 0,
              "ticks": ""
             }
            },
            "type": "scatterpolargl"
           }
          ],
          "scatterternary": [
           {
            "marker": {
             "colorbar": {
              "outlinewidth": 0,
              "ticks": ""
             }
            },
            "type": "scatterternary"
           }
          ],
          "surface": [
           {
            "colorbar": {
             "outlinewidth": 0,
             "ticks": ""
            },
            "colorscale": [
             [
              0,
              "#0d0887"
             ],
             [
              0.1111111111111111,
              "#46039f"
             ],
             [
              0.2222222222222222,
              "#7201a8"
             ],
             [
              0.3333333333333333,
              "#9c179e"
             ],
             [
              0.4444444444444444,
              "#bd3786"
             ],
             [
              0.5555555555555556,
              "#d8576b"
             ],
             [
              0.6666666666666666,
              "#ed7953"
             ],
             [
              0.7777777777777778,
              "#fb9f3a"
             ],
             [
              0.8888888888888888,
              "#fdca26"
             ],
             [
              1,
              "#f0f921"
             ]
            ],
            "type": "surface"
           }
          ],
          "table": [
           {
            "cells": {
             "fill": {
              "color": "#EBF0F8"
             },
             "line": {
              "color": "white"
             }
            },
            "header": {
             "fill": {
              "color": "#C8D4E3"
             },
             "line": {
              "color": "white"
             }
            },
            "type": "table"
           }
          ]
         },
         "layout": {
          "annotationdefaults": {
           "arrowcolor": "#2a3f5f",
           "arrowhead": 0,
           "arrowwidth": 1
          },
          "autotypenumbers": "strict",
          "coloraxis": {
           "colorbar": {
            "outlinewidth": 0,
            "ticks": ""
           }
          },
          "colorscale": {
           "diverging": [
            [
             0,
             "#8e0152"
            ],
            [
             0.1,
             "#c51b7d"
            ],
            [
             0.2,
             "#de77ae"
            ],
            [
             0.3,
             "#f1b6da"
            ],
            [
             0.4,
             "#fde0ef"
            ],
            [
             0.5,
             "#f7f7f7"
            ],
            [
             0.6,
             "#e6f5d0"
            ],
            [
             0.7,
             "#b8e186"
            ],
            [
             0.8,
             "#7fbc41"
            ],
            [
             0.9,
             "#4d9221"
            ],
            [
             1,
             "#276419"
            ]
           ],
           "sequential": [
            [
             0,
             "#0d0887"
            ],
            [
             0.1111111111111111,
             "#46039f"
            ],
            [
             0.2222222222222222,
             "#7201a8"
            ],
            [
             0.3333333333333333,
             "#9c179e"
            ],
            [
             0.4444444444444444,
             "#bd3786"
            ],
            [
             0.5555555555555556,
             "#d8576b"
            ],
            [
             0.6666666666666666,
             "#ed7953"
            ],
            [
             0.7777777777777778,
             "#fb9f3a"
            ],
            [
             0.8888888888888888,
             "#fdca26"
            ],
            [
             1,
             "#f0f921"
            ]
           ],
           "sequentialminus": [
            [
             0,
             "#0d0887"
            ],
            [
             0.1111111111111111,
             "#46039f"
            ],
            [
             0.2222222222222222,
             "#7201a8"
            ],
            [
             0.3333333333333333,
             "#9c179e"
            ],
            [
             0.4444444444444444,
             "#bd3786"
            ],
            [
             0.5555555555555556,
             "#d8576b"
            ],
            [
             0.6666666666666666,
             "#ed7953"
            ],
            [
             0.7777777777777778,
             "#fb9f3a"
            ],
            [
             0.8888888888888888,
             "#fdca26"
            ],
            [
             1,
             "#f0f921"
            ]
           ]
          },
          "colorway": [
           "#636efa",
           "#EF553B",
           "#00cc96",
           "#ab63fa",
           "#FFA15A",
           "#19d3f3",
           "#FF6692",
           "#B6E880",
           "#FF97FF",
           "#FECB52"
          ],
          "font": {
           "color": "#2a3f5f"
          },
          "geo": {
           "bgcolor": "white",
           "lakecolor": "white",
           "landcolor": "#E5ECF6",
           "showlakes": true,
           "showland": true,
           "subunitcolor": "white"
          },
          "hoverlabel": {
           "align": "left"
          },
          "hovermode": "closest",
          "mapbox": {
           "style": "light"
          },
          "paper_bgcolor": "white",
          "plot_bgcolor": "#E5ECF6",
          "polar": {
           "angularaxis": {
            "gridcolor": "white",
            "linecolor": "white",
            "ticks": ""
           },
           "bgcolor": "#E5ECF6",
           "radialaxis": {
            "gridcolor": "white",
            "linecolor": "white",
            "ticks": ""
           }
          },
          "scene": {
           "xaxis": {
            "backgroundcolor": "#E5ECF6",
            "gridcolor": "white",
            "gridwidth": 2,
            "linecolor": "white",
            "showbackground": true,
            "ticks": "",
            "zerolinecolor": "white"
           },
           "yaxis": {
            "backgroundcolor": "#E5ECF6",
            "gridcolor": "white",
            "gridwidth": 2,
            "linecolor": "white",
            "showbackground": true,
            "ticks": "",
            "zerolinecolor": "white"
           },
           "zaxis": {
            "backgroundcolor": "#E5ECF6",
            "gridcolor": "white",
            "gridwidth": 2,
            "linecolor": "white",
            "showbackground": true,
            "ticks": "",
            "zerolinecolor": "white"
           }
          },
          "shapedefaults": {
           "line": {
            "color": "#2a3f5f"
           }
          },
          "ternary": {
           "aaxis": {
            "gridcolor": "white",
            "linecolor": "white",
            "ticks": ""
           },
           "baxis": {
            "gridcolor": "white",
            "linecolor": "white",
            "ticks": ""
           },
           "bgcolor": "#E5ECF6",
           "caxis": {
            "gridcolor": "white",
            "linecolor": "white",
            "ticks": ""
           }
          },
          "title": {
           "x": 0.05
          },
          "xaxis": {
           "automargin": true,
           "gridcolor": "white",
           "linecolor": "white",
           "ticks": "",
           "title": {
            "standoff": 15
           },
           "zerolinecolor": "white",
           "zerolinewidth": 2
          },
          "yaxis": {
           "automargin": true,
           "gridcolor": "white",
           "linecolor": "white",
           "ticks": "",
           "title": {
            "standoff": 15
           },
           "zerolinecolor": "white",
           "zerolinewidth": 2
          }
         }
        },
        "title": {
         "font": {
          "color": "black",
          "family": "Times New Roman",
          "size": 30
         },
         "text": "UUT#1_Cycle03",
         "x": 0.5,
         "xanchor": "center",
         "y": 0.9,
         "yanchor": "top"
        },
        "width": 1200,
        "xaxis": {
         "autorange": "reversed",
         "gridcolor": "LightPink",
         "gridwidth": 1,
         "linecolor": "black",
         "linewidth": 2,
         "mirror": true,
         "showgrid": true,
         "showline": true,
         "tickfont": {
          "color": "black",
          "family": "Times New Roman",
          "size": 24
         },
         "ticks": "outside",
         "title": {
          "font": {
           "color": "black",
           "family": "Times New Roman",
           "size": 24
          },
          "standoff": 5,
          "text": "Battery Pack SOC (%)"
         }
        },
        "yaxis": {
         "gridcolor": "LightPink",
         "gridwidth": 1,
         "linecolor": "black",
         "linewidth": 2,
         "mirror": true,
         "showgrid": true,
         "showline": true,
         "tickfont": {
          "color": "black",
          "family": "Times New Roman",
          "size": 24
         },
         "ticks": "outside",
         "title": {
          "font": {
           "color": "black",
           "family": "Times New Roman",
           "size": 24
          },
          "standoff": 5,
          "text": "Battery Cell Voltages (V) "
         }
        }
       }
      }
     },
     "metadata": {},
     "output_type": "display_data"
    }
   ],
   "source": [
    "# Plot the 'Battery OCV [V]' with 'Battery SOC [%]' using line plot in plotly\n",
    "fig = go.Figure()\n",
    "#fig.add_trace(go.Scatter(x=df1['Battery SOC [%]'], y=df1['Battery OCV [V]'], name='UUT#1_Cycle01', line=dict(color='blue', width=4, dash='dashdot'), marker=dict(size=10, color='black', symbol='circle')))\n",
    "fig.add_trace(go.Scatter(x=df1['Battery SOC [%]'], y=df1['Cell 1 '], name='Cell1', line=dict(color='light blue', width=4), marker=dict(size=10, color='black', symbol='circle')))\n",
    "fig.add_trace(go.Scatter(x=df1['Battery SOC [%]'], y=df1['Cell 2 '], name='Cell2', line=dict(color='#768fb8', width=4), marker=dict(size=10, color='black', symbol='circle')))\n",
    "fig.add_trace(go.Scatter(x=df1['Battery SOC [%]'], y=df1['Cell 3'], name='Cell3', line=dict(color='green', width=4), marker=dict(size=10, color='black', symbol='circle')))\n",
    "fig.add_trace(go.Scatter(x=df1['Battery SOC [%]'], y=df1['Cell 4 '], name='Cell4', line=dict(color='yellow', width=4), marker=dict(size=10, color='black', symbol='circle')))\n",
    "fig.add_trace(go.Scatter(x=df1['Battery SOC [%]'], y=df1['Cell  5 '], name='Cell5', line=dict(color='magenta', width=4), marker=dict(size=10, color='black', symbol='circle')))\n",
    "fig.add_trace(go.Scatter(x=df1['Battery SOC [%]'], y=df1['Cell  6 '], name='Cell6', line=dict(color='red', width=4), marker=dict(size=10, color='black', symbol='circle')))\n",
    "\n",
    "# flip the x and y axis\n",
    "fig.update_layout(xaxis=dict(autorange=\"reversed\"))\n",
    "fig.update_layout(title='UUT#1_Cycle01', xaxis_title='Cycle No', yaxis_title='Capacity')\n",
    "# add description below the title as subtitle\n",
    "fig.update_layout(title={'y': 0.9, 'x': 0.8, 'xanchor': 'center', 'yanchor': 'top'})\n",
    "# add axis line and ticks\n",
    "fig.update_xaxes(showline=True, linewidth=2, linecolor='black', mirror=True, ticks=\"outside\")\n",
    "fig.update_yaxes(showline=True, linewidth=2, linecolor='black', mirror=True, ticks=\"outside\")\n",
    "# Make x labels larger, and Times New Roman\n",
    "fig.update_xaxes(title_text=\"Battery Pack SOC (%)\", title_font=dict(size=24, family='Times New Roman', color='black'), title_standoff=25)\n",
    "# Make y labels larger, and Times New Roman\n",
    "fig.update_yaxes(title_text=\"Battery Cell Voltages (V) \", title_font=dict(size=24, family='Times New Roman', color='black'), title_standoff=25)\n",
    "# change the legend font size and font family\n",
    "fig.update_layout(legend=dict(font=dict(size=18, family='Times New Roman', color='black')))\n",
    "# make background white\n",
    "fig.update_layout(plot_bgcolor='white')\n",
    "# Move x-label and y-label to the center\n",
    "fig.update_layout(xaxis=dict(title=dict(standoff=5)), yaxis=dict(title=dict(standoff=5)))\n",
    "# Icncrease x-axis and y-axis tick font size and font family\n",
    "fig.update_xaxes(tickfont=dict(size=24, family='Times New Roman', color='black'))\n",
    "fig.update_yaxes(tickfont=dict(size=24, family='Times New Roman', color='black'))\n",
    "# add grid\n",
    "fig.update_layout(xaxis=dict(showgrid=True, gridwidth=1, gridcolor='LightPink'), yaxis=dict(showgrid=True, gridwidth=1, gridcolor='LightPink'))\n",
    "# add figure size\n",
    "fig.update_layout(width=1200, height=600)\n",
    "# keep the legend inside the plot area\n",
    "fig.update_layout(legend=dict(x=0.86, y=0.99))\n",
    "# Make title larger, and Times New Roman and center\n",
    "fig.update_layout(title=dict(font=dict(size=30, family='Times New Roman', color='black'), x=0.5, xanchor='center'))\n",
    "# add box around the legend\n",
    "fig.update_layout(legend=dict(bordercolor='black', borderwidth=2))\n",
    "fig.show()\n",
    "\n",
    "# Plot the 'Battery OCV [V]' with 'Battery SOC [%]' using line plot in plotly\n",
    "fig = go.Figure()\n",
    "#fig.add_trace(go.Scatter(x=df1_2['Battery SOC [%]'], y=df1_2['Battery OCV [V]'], name='UUT#4_Cycle01', line=dict(color='blue', width=4, dash='dashdot'), marker=dict(size=10, color='black', symbol='circle')))\n",
    "fig.add_trace(go.Scatter(x=df1_2['Battery SOC [%]'], y=df1_2['Cell 1 '], name='Cell1', line=dict(color='light blue', width=4), marker=dict(size=10, color='black', symbol='circle')))\n",
    "fig.add_trace(go.Scatter(x=df1_2['Battery SOC [%]'], y=df1_2['Cell 2 '], name='Cell2', line=dict(color='#768fb8', width=4), marker=dict(size=10, color='black', symbol='circle')))\n",
    "fig.add_trace(go.Scatter(x=df1_2['Battery SOC [%]'], y=df1_2['Cell 3'], name='Cell3', line=dict(color='green', width=4), marker=dict(size=10, color='black', symbol='circle')))\n",
    "fig.add_trace(go.Scatter(x=df1_2['Battery SOC [%]'], y=df1_2['Cell 4 '], name='Cell4', line=dict(color='yellow', width=4), marker=dict(size=10, color='black', symbol='circle')))\n",
    "fig.add_trace(go.Scatter(x=df1_2['Battery SOC [%]'], y=df1_2['Cell  5 '], name='Cell5', line=dict(color='magenta', width=4), marker=dict(size=10, color='black', symbol='circle')))\n",
    "fig.add_trace(go.Scatter(x=df1_2['Battery SOC [%]'], y=df1_2['Cell  6 '], name='Cell6', line=dict(color='red', width=4), marker=dict(size=10, color='black', symbol='circle')))\n",
    "\n",
    "# flip the x and y axis\n",
    "fig.update_layout(xaxis=dict(autorange=\"reversed\"))\n",
    "fig.update_layout(title='UUT#1_Cycle02')\n",
    "# add description below the title as subtitle\n",
    "fig.update_layout(title={'y': 0.9, 'x': 0.8, 'xanchor': 'center', 'yanchor': 'top'})\n",
    "# add axis line and ticks\n",
    "fig.update_xaxes(showline=True, linewidth=2, linecolor='black', mirror=True, ticks=\"outside\")\n",
    "fig.update_yaxes(showline=True, linewidth=2, linecolor='black', mirror=True, ticks=\"outside\")\n",
    "# Make x labels larger, and Times New Roman\n",
    "fig.update_xaxes(title_text=\"Battery Pack SOC (%)\", title_font=dict(size=24, family='Times New Roman', color='black'), title_standoff=25)\n",
    "# Make y labels larger, and Times New Roman\n",
    "fig.update_yaxes(title_text=\"Battery Cell Voltages (V) \", title_font=dict(size=24, family='Times New Roman', color='black'), title_standoff=25)\n",
    "# change the legend font size and font family\n",
    "fig.update_layout(legend=dict(font=dict(size=18, family='Times New Roman', color='black')))\n",
    "# make background white\n",
    "fig.update_layout(plot_bgcolor='white')\n",
    "# Move x-label and y-label to the center\n",
    "fig.update_layout(xaxis=dict(title=dict(standoff=5)), yaxis=dict(title=dict(standoff=5)))\n",
    "# Icncrease x-axis and y-axis tick font size and font family\n",
    "fig.update_xaxes(tickfont=dict(size=24, family='Times New Roman', color='black'))\n",
    "fig.update_yaxes(tickfont=dict(size=24, family='Times New Roman', color='black'))\n",
    "# add grid\n",
    "fig.update_layout(xaxis=dict(showgrid=True, gridwidth=1, gridcolor='LightPink'), yaxis=dict(showgrid=True, gridwidth=1, gridcolor='LightPink'))\n",
    "# add figure size\n",
    "fig.update_layout(width=1200, height=600)\n",
    "# keep the legend inside the plot area\n",
    "fig.update_layout(legend=dict(x=0.36, y=0.59))\n",
    "# Make title larger, and Times New Roman and center\n",
    "fig.update_layout(title=dict(font=dict(size=30, family='Times New Roman', color='black'), x=0.5, xanchor='center'))\n",
    "# add box around the legend\n",
    "fig.update_layout(legend=dict(bordercolor='black', borderwidth=2))\n",
    "fig.show()\n",
    "# Plot the 'Battery OCV [V]' with 'Battery SOC [%]' using line plot in plotly\n",
    "fig = go.Figure()\n",
    "#fig.add_trace(go.Scatter(x=df1_3['Battery SOC [%]'], y=df1_3['Battery OCV [V]'], name='UUT#4_Cycle01', line=dict(color='blue', width=4, dash='dashdot'), marker=dict(size=10, color='black', symbol='circle')))\n",
    "fig.add_trace(go.Scatter(x=df1_3['Battery SOC [%]'], y=df1_3['Cell 1 '], name='Cell1', line=dict(color='light blue', width=4), marker=dict(size=10, color='black', symbol='circle')))\n",
    "fig.add_trace(go.Scatter(x=df1_3['Battery SOC [%]'], y=df1_3['Cell 2 '], name='Cell2', line=dict(color='#768fb8', width=4), marker=dict(size=10, color='black', symbol='circle')))\n",
    "fig.add_trace(go.Scatter(x=df1_3['Battery SOC [%]'], y=df1_3['Cell 3'], name='Cell3', line=dict(color='green', width=4), marker=dict(size=10, color='black', symbol='circle')))\n",
    "fig.add_trace(go.Scatter(x=df1_3['Battery SOC [%]'], y=df1_3['Cell 4 '], name='Cell4', line=dict(color='yellow', width=4), marker=dict(size=10, color='black', symbol='circle')))\n",
    "fig.add_trace(go.Scatter(x=df1_3['Battery SOC [%]'], y=df1_3['Cell  5 '], name='Cell5', line=dict(color='magenta', width=4), marker=dict(size=10, color='black', symbol='circle')))\n",
    "fig.add_trace(go.Scatter(x=df1_3['Battery SOC [%]'], y=df1_3['Cell  6 '], name='Cell6', line=dict(color='red', width=4), marker=dict(size=10, color='black', symbol='circle')))\n",
    "\n",
    "# flip the x and y axis\n",
    "fig.update_layout(xaxis=dict(autorange=\"reversed\"))\n",
    "fig.update_layout(title='UUT#1_Cycle03')\n",
    "# add description below the title as subtitle\n",
    "fig.update_layout(title={'y': 0.9, 'x': 0.8, 'xanchor': 'center', 'yanchor': 'top'})\n",
    "# add axis line and ticks\n",
    "fig.update_xaxes(showline=True, linewidth=2, linecolor='black', mirror=True, ticks=\"outside\")\n",
    "fig.update_yaxes(showline=True, linewidth=2, linecolor='black', mirror=True, ticks=\"outside\")\n",
    "# Make x labels larger, and Times New Roman\n",
    "fig.update_xaxes(title_text=\"Battery Pack SOC (%)\", title_font=dict(size=24, family='Times New Roman', color='black'), title_standoff=25)\n",
    "# Make y labels larger, and Times New Roman\n",
    "fig.update_yaxes(title_text=\"Battery Cell Voltages (V) \", title_font=dict(size=24, family='Times New Roman', color='black'), title_standoff=25)\n",
    "# change the legend font size and font family\n",
    "fig.update_layout(legend=dict(font=dict(size=18, family='Times New Roman', color='black')))\n",
    "# make background white\n",
    "fig.update_layout(plot_bgcolor='white')\n",
    "# Move x-label and y-label to the center\n",
    "fig.update_layout(xaxis=dict(title=dict(standoff=5)), yaxis=dict(title=dict(standoff=5)))\n",
    "# Icncrease x-axis and y-axis tick font size and font family\n",
    "fig.update_xaxes(tickfont=dict(size=24, family='Times New Roman', color='black'))\n",
    "fig.update_yaxes(tickfont=dict(size=24, family='Times New Roman', color='black'))\n",
    "# add grid\n",
    "fig.update_layout(xaxis=dict(showgrid=True, gridwidth=1, gridcolor='LightPink'), yaxis=dict(showgrid=True, gridwidth=1, gridcolor='LightPink'))\n",
    "# add figure size\n",
    "fig.update_layout(width=1200, height=600)\n",
    "# keep the legend inside the plot area\n",
    "fig.update_layout(legend=dict(x=0.36, y=0.39))\n",
    "# Make title larger, and Times New Roman and center\n",
    "fig.update_layout(title=dict(font=dict(size=30, family='Times New Roman', color='black'), x=0.5, xanchor='center'))\n",
    "# add box around the legend\n",
    "fig.update_layout(legend=dict(bordercolor='black', borderwidth=2))\n",
    "fig.show()"
   ]
  },
  {
   "attachments": {},
   "cell_type": "markdown",
   "metadata": {},
   "source": [
    "### **Battery 2**"
   ]
  },
  {
   "cell_type": "code",
   "execution_count": 166,
   "metadata": {},
   "outputs": [
    {
     "data": {
      "application/vnd.plotly.v1+json": {
       "config": {
        "plotlyServerURL": "https://plot.ly"
       },
       "data": [
        {
         "line": {
          "color": "#00f24d",
          "width": 4
         },
         "marker": {
          "color": "black",
          "size": 10,
          "symbol": "hexagon"
         },
         "name": "UUT#2_Cycle01",
         "type": "scatter",
         "x": [
          100,
          98,
          97,
          96,
          95,
          94,
          94,
          93,
          92,
          92,
          91,
          91,
          91,
          90,
          90,
          90,
          89,
          89,
          89,
          88,
          88,
          87,
          87,
          87,
          87,
          86,
          86,
          86,
          85,
          85,
          85,
          84,
          84,
          83,
          83
         ],
         "y": [
          25.23,
          25.14,
          25.06,
          25,
          24.96,
          24.91,
          24.87,
          24.83,
          24.8,
          24.76,
          24.74,
          24.71,
          24.71,
          24.69,
          24.67,
          24.66,
          24.64,
          24.63,
          24.61,
          24.59,
          24.57,
          24.55,
          24.53,
          24.51,
          24.5,
          24.48,
          24.47,
          24.46,
          24.44,
          24.44,
          24.42,
          24.4,
          24.39,
          24.37,
          24.34
         ]
        }
       ],
       "layout": {
        "height": 600,
        "legend": {
         "bordercolor": "black",
         "borderwidth": 2,
         "font": {
          "color": "black",
          "family": "Times New Roman",
          "size": 18
         },
         "x": 0.76,
         "y": 0.99
        },
        "plot_bgcolor": "white",
        "template": {
         "data": {
          "bar": [
           {
            "error_x": {
             "color": "#2a3f5f"
            },
            "error_y": {
             "color": "#2a3f5f"
            },
            "marker": {
             "line": {
              "color": "#E5ECF6",
              "width": 0.5
             },
             "pattern": {
              "fillmode": "overlay",
              "size": 10,
              "solidity": 0.2
             }
            },
            "type": "bar"
           }
          ],
          "barpolar": [
           {
            "marker": {
             "line": {
              "color": "#E5ECF6",
              "width": 0.5
             },
             "pattern": {
              "fillmode": "overlay",
              "size": 10,
              "solidity": 0.2
             }
            },
            "type": "barpolar"
           }
          ],
          "carpet": [
           {
            "aaxis": {
             "endlinecolor": "#2a3f5f",
             "gridcolor": "white",
             "linecolor": "white",
             "minorgridcolor": "white",
             "startlinecolor": "#2a3f5f"
            },
            "baxis": {
             "endlinecolor": "#2a3f5f",
             "gridcolor": "white",
             "linecolor": "white",
             "minorgridcolor": "white",
             "startlinecolor": "#2a3f5f"
            },
            "type": "carpet"
           }
          ],
          "choropleth": [
           {
            "colorbar": {
             "outlinewidth": 0,
             "ticks": ""
            },
            "type": "choropleth"
           }
          ],
          "contour": [
           {
            "colorbar": {
             "outlinewidth": 0,
             "ticks": ""
            },
            "colorscale": [
             [
              0,
              "#0d0887"
             ],
             [
              0.1111111111111111,
              "#46039f"
             ],
             [
              0.2222222222222222,
              "#7201a8"
             ],
             [
              0.3333333333333333,
              "#9c179e"
             ],
             [
              0.4444444444444444,
              "#bd3786"
             ],
             [
              0.5555555555555556,
              "#d8576b"
             ],
             [
              0.6666666666666666,
              "#ed7953"
             ],
             [
              0.7777777777777778,
              "#fb9f3a"
             ],
             [
              0.8888888888888888,
              "#fdca26"
             ],
             [
              1,
              "#f0f921"
             ]
            ],
            "type": "contour"
           }
          ],
          "contourcarpet": [
           {
            "colorbar": {
             "outlinewidth": 0,
             "ticks": ""
            },
            "type": "contourcarpet"
           }
          ],
          "heatmap": [
           {
            "colorbar": {
             "outlinewidth": 0,
             "ticks": ""
            },
            "colorscale": [
             [
              0,
              "#0d0887"
             ],
             [
              0.1111111111111111,
              "#46039f"
             ],
             [
              0.2222222222222222,
              "#7201a8"
             ],
             [
              0.3333333333333333,
              "#9c179e"
             ],
             [
              0.4444444444444444,
              "#bd3786"
             ],
             [
              0.5555555555555556,
              "#d8576b"
             ],
             [
              0.6666666666666666,
              "#ed7953"
             ],
             [
              0.7777777777777778,
              "#fb9f3a"
             ],
             [
              0.8888888888888888,
              "#fdca26"
             ],
             [
              1,
              "#f0f921"
             ]
            ],
            "type": "heatmap"
           }
          ],
          "heatmapgl": [
           {
            "colorbar": {
             "outlinewidth": 0,
             "ticks": ""
            },
            "colorscale": [
             [
              0,
              "#0d0887"
             ],
             [
              0.1111111111111111,
              "#46039f"
             ],
             [
              0.2222222222222222,
              "#7201a8"
             ],
             [
              0.3333333333333333,
              "#9c179e"
             ],
             [
              0.4444444444444444,
              "#bd3786"
             ],
             [
              0.5555555555555556,
              "#d8576b"
             ],
             [
              0.6666666666666666,
              "#ed7953"
             ],
             [
              0.7777777777777778,
              "#fb9f3a"
             ],
             [
              0.8888888888888888,
              "#fdca26"
             ],
             [
              1,
              "#f0f921"
             ]
            ],
            "type": "heatmapgl"
           }
          ],
          "histogram": [
           {
            "marker": {
             "pattern": {
              "fillmode": "overlay",
              "size": 10,
              "solidity": 0.2
             }
            },
            "type": "histogram"
           }
          ],
          "histogram2d": [
           {
            "colorbar": {
             "outlinewidth": 0,
             "ticks": ""
            },
            "colorscale": [
             [
              0,
              "#0d0887"
             ],
             [
              0.1111111111111111,
              "#46039f"
             ],
             [
              0.2222222222222222,
              "#7201a8"
             ],
             [
              0.3333333333333333,
              "#9c179e"
             ],
             [
              0.4444444444444444,
              "#bd3786"
             ],
             [
              0.5555555555555556,
              "#d8576b"
             ],
             [
              0.6666666666666666,
              "#ed7953"
             ],
             [
              0.7777777777777778,
              "#fb9f3a"
             ],
             [
              0.8888888888888888,
              "#fdca26"
             ],
             [
              1,
              "#f0f921"
             ]
            ],
            "type": "histogram2d"
           }
          ],
          "histogram2dcontour": [
           {
            "colorbar": {
             "outlinewidth": 0,
             "ticks": ""
            },
            "colorscale": [
             [
              0,
              "#0d0887"
             ],
             [
              0.1111111111111111,
              "#46039f"
             ],
             [
              0.2222222222222222,
              "#7201a8"
             ],
             [
              0.3333333333333333,
              "#9c179e"
             ],
             [
              0.4444444444444444,
              "#bd3786"
             ],
             [
              0.5555555555555556,
              "#d8576b"
             ],
             [
              0.6666666666666666,
              "#ed7953"
             ],
             [
              0.7777777777777778,
              "#fb9f3a"
             ],
             [
              0.8888888888888888,
              "#fdca26"
             ],
             [
              1,
              "#f0f921"
             ]
            ],
            "type": "histogram2dcontour"
           }
          ],
          "mesh3d": [
           {
            "colorbar": {
             "outlinewidth": 0,
             "ticks": ""
            },
            "type": "mesh3d"
           }
          ],
          "parcoords": [
           {
            "line": {
             "colorbar": {
              "outlinewidth": 0,
              "ticks": ""
             }
            },
            "type": "parcoords"
           }
          ],
          "pie": [
           {
            "automargin": true,
            "type": "pie"
           }
          ],
          "scatter": [
           {
            "fillpattern": {
             "fillmode": "overlay",
             "size": 10,
             "solidity": 0.2
            },
            "type": "scatter"
           }
          ],
          "scatter3d": [
           {
            "line": {
             "colorbar": {
              "outlinewidth": 0,
              "ticks": ""
             }
            },
            "marker": {
             "colorbar": {
              "outlinewidth": 0,
              "ticks": ""
             }
            },
            "type": "scatter3d"
           }
          ],
          "scattercarpet": [
           {
            "marker": {
             "colorbar": {
              "outlinewidth": 0,
              "ticks": ""
             }
            },
            "type": "scattercarpet"
           }
          ],
          "scattergeo": [
           {
            "marker": {
             "colorbar": {
              "outlinewidth": 0,
              "ticks": ""
             }
            },
            "type": "scattergeo"
           }
          ],
          "scattergl": [
           {
            "marker": {
             "colorbar": {
              "outlinewidth": 0,
              "ticks": ""
             }
            },
            "type": "scattergl"
           }
          ],
          "scattermapbox": [
           {
            "marker": {
             "colorbar": {
              "outlinewidth": 0,
              "ticks": ""
             }
            },
            "type": "scattermapbox"
           }
          ],
          "scatterpolar": [
           {
            "marker": {
             "colorbar": {
              "outlinewidth": 0,
              "ticks": ""
             }
            },
            "type": "scatterpolar"
           }
          ],
          "scatterpolargl": [
           {
            "marker": {
             "colorbar": {
              "outlinewidth": 0,
              "ticks": ""
             }
            },
            "type": "scatterpolargl"
           }
          ],
          "scatterternary": [
           {
            "marker": {
             "colorbar": {
              "outlinewidth": 0,
              "ticks": ""
             }
            },
            "type": "scatterternary"
           }
          ],
          "surface": [
           {
            "colorbar": {
             "outlinewidth": 0,
             "ticks": ""
            },
            "colorscale": [
             [
              0,
              "#0d0887"
             ],
             [
              0.1111111111111111,
              "#46039f"
             ],
             [
              0.2222222222222222,
              "#7201a8"
             ],
             [
              0.3333333333333333,
              "#9c179e"
             ],
             [
              0.4444444444444444,
              "#bd3786"
             ],
             [
              0.5555555555555556,
              "#d8576b"
             ],
             [
              0.6666666666666666,
              "#ed7953"
             ],
             [
              0.7777777777777778,
              "#fb9f3a"
             ],
             [
              0.8888888888888888,
              "#fdca26"
             ],
             [
              1,
              "#f0f921"
             ]
            ],
            "type": "surface"
           }
          ],
          "table": [
           {
            "cells": {
             "fill": {
              "color": "#EBF0F8"
             },
             "line": {
              "color": "white"
             }
            },
            "header": {
             "fill": {
              "color": "#C8D4E3"
             },
             "line": {
              "color": "white"
             }
            },
            "type": "table"
           }
          ]
         },
         "layout": {
          "annotationdefaults": {
           "arrowcolor": "#2a3f5f",
           "arrowhead": 0,
           "arrowwidth": 1
          },
          "autotypenumbers": "strict",
          "coloraxis": {
           "colorbar": {
            "outlinewidth": 0,
            "ticks": ""
           }
          },
          "colorscale": {
           "diverging": [
            [
             0,
             "#8e0152"
            ],
            [
             0.1,
             "#c51b7d"
            ],
            [
             0.2,
             "#de77ae"
            ],
            [
             0.3,
             "#f1b6da"
            ],
            [
             0.4,
             "#fde0ef"
            ],
            [
             0.5,
             "#f7f7f7"
            ],
            [
             0.6,
             "#e6f5d0"
            ],
            [
             0.7,
             "#b8e186"
            ],
            [
             0.8,
             "#7fbc41"
            ],
            [
             0.9,
             "#4d9221"
            ],
            [
             1,
             "#276419"
            ]
           ],
           "sequential": [
            [
             0,
             "#0d0887"
            ],
            [
             0.1111111111111111,
             "#46039f"
            ],
            [
             0.2222222222222222,
             "#7201a8"
            ],
            [
             0.3333333333333333,
             "#9c179e"
            ],
            [
             0.4444444444444444,
             "#bd3786"
            ],
            [
             0.5555555555555556,
             "#d8576b"
            ],
            [
             0.6666666666666666,
             "#ed7953"
            ],
            [
             0.7777777777777778,
             "#fb9f3a"
            ],
            [
             0.8888888888888888,
             "#fdca26"
            ],
            [
             1,
             "#f0f921"
            ]
           ],
           "sequentialminus": [
            [
             0,
             "#0d0887"
            ],
            [
             0.1111111111111111,
             "#46039f"
            ],
            [
             0.2222222222222222,
             "#7201a8"
            ],
            [
             0.3333333333333333,
             "#9c179e"
            ],
            [
             0.4444444444444444,
             "#bd3786"
            ],
            [
             0.5555555555555556,
             "#d8576b"
            ],
            [
             0.6666666666666666,
             "#ed7953"
            ],
            [
             0.7777777777777778,
             "#fb9f3a"
            ],
            [
             0.8888888888888888,
             "#fdca26"
            ],
            [
             1,
             "#f0f921"
            ]
           ]
          },
          "colorway": [
           "#636efa",
           "#EF553B",
           "#00cc96",
           "#ab63fa",
           "#FFA15A",
           "#19d3f3",
           "#FF6692",
           "#B6E880",
           "#FF97FF",
           "#FECB52"
          ],
          "font": {
           "color": "#2a3f5f"
          },
          "geo": {
           "bgcolor": "white",
           "lakecolor": "white",
           "landcolor": "#E5ECF6",
           "showlakes": true,
           "showland": true,
           "subunitcolor": "white"
          },
          "hoverlabel": {
           "align": "left"
          },
          "hovermode": "closest",
          "mapbox": {
           "style": "light"
          },
          "paper_bgcolor": "white",
          "plot_bgcolor": "#E5ECF6",
          "polar": {
           "angularaxis": {
            "gridcolor": "white",
            "linecolor": "white",
            "ticks": ""
           },
           "bgcolor": "#E5ECF6",
           "radialaxis": {
            "gridcolor": "white",
            "linecolor": "white",
            "ticks": ""
           }
          },
          "scene": {
           "xaxis": {
            "backgroundcolor": "#E5ECF6",
            "gridcolor": "white",
            "gridwidth": 2,
            "linecolor": "white",
            "showbackground": true,
            "ticks": "",
            "zerolinecolor": "white"
           },
           "yaxis": {
            "backgroundcolor": "#E5ECF6",
            "gridcolor": "white",
            "gridwidth": 2,
            "linecolor": "white",
            "showbackground": true,
            "ticks": "",
            "zerolinecolor": "white"
           },
           "zaxis": {
            "backgroundcolor": "#E5ECF6",
            "gridcolor": "white",
            "gridwidth": 2,
            "linecolor": "white",
            "showbackground": true,
            "ticks": "",
            "zerolinecolor": "white"
           }
          },
          "shapedefaults": {
           "line": {
            "color": "#2a3f5f"
           }
          },
          "ternary": {
           "aaxis": {
            "gridcolor": "white",
            "linecolor": "white",
            "ticks": ""
           },
           "baxis": {
            "gridcolor": "white",
            "linecolor": "white",
            "ticks": ""
           },
           "bgcolor": "#E5ECF6",
           "caxis": {
            "gridcolor": "white",
            "linecolor": "white",
            "ticks": ""
           }
          },
          "title": {
           "x": 0.05
          },
          "xaxis": {
           "automargin": true,
           "gridcolor": "white",
           "linecolor": "white",
           "ticks": "",
           "title": {
            "standoff": 15
           },
           "zerolinecolor": "white",
           "zerolinewidth": 2
          },
          "yaxis": {
           "automargin": true,
           "gridcolor": "white",
           "linecolor": "white",
           "ticks": "",
           "title": {
            "standoff": 15
           },
           "zerolinecolor": "white",
           "zerolinewidth": 2
          }
         }
        },
        "title": {
         "font": {
          "color": "black",
          "family": "Times New Roman",
          "size": 30
         },
         "text": "UUT#2_Cycle01",
         "x": 0.5,
         "xanchor": "center",
         "y": 0.9,
         "yanchor": "top"
        },
        "width": 1200,
        "xaxis": {
         "autorange": "reversed",
         "gridcolor": "LightPink",
         "gridwidth": 1,
         "linecolor": "black",
         "linewidth": 2,
         "mirror": true,
         "showgrid": true,
         "showline": true,
         "tickfont": {
          "color": "black",
          "family": "Times New Roman",
          "size": 24
         },
         "ticks": "outside",
         "title": {
          "font": {
           "color": "black",
           "family": "Times New Roman",
           "size": 24
          },
          "standoff": 5,
          "text": "Battery Pack SOC (%)"
         }
        },
        "yaxis": {
         "gridcolor": "LightPink",
         "gridwidth": 1,
         "linecolor": "black",
         "linewidth": 2,
         "mirror": true,
         "showgrid": true,
         "showline": true,
         "tickfont": {
          "color": "black",
          "family": "Times New Roman",
          "size": 24
         },
         "ticks": "outside",
         "title": {
          "font": {
           "color": "black",
           "family": "Times New Roman",
           "size": 24
          },
          "standoff": 5,
          "text": "Battery Pack Voltages (V) "
         }
        }
       }
      }
     },
     "metadata": {},
     "output_type": "display_data"
    },
    {
     "data": {
      "application/vnd.plotly.v1+json": {
       "config": {
        "plotlyServerURL": "https://plot.ly"
       },
       "data": [
        {
         "line": {
          "color": "black",
          "width": 4
         },
         "marker": {
          "color": "black",
          "size": 10,
          "symbol": "hexagon"
         },
         "name": "UUT#2_Cycle02",
         "type": "scatter",
         "x": [
          55,
          56,
          56,
          56,
          55,
          54,
          54,
          54,
          53,
          53,
          53,
          49,
          52,
          51,
          51,
          50,
          48,
          49,
          49,
          48,
          48,
          46,
          47
         ],
         "y": [
          23.27,
          23.32,
          23.31,
          23.31,
          23.3,
          23.28,
          23.26,
          23.25,
          23.24,
          23.23,
          23.23,
          23.18,
          23.19,
          23.19,
          23.18,
          23.17,
          23.14,
          23.14,
          23.13,
          23.12,
          23.11,
          23.09,
          23.1
         ]
        }
       ],
       "layout": {
        "height": 600,
        "legend": {
         "bordercolor": "black",
         "borderwidth": 2,
         "font": {
          "color": "black",
          "family": "Times New Roman",
          "size": 18
         },
         "x": 0.76,
         "y": 0.99
        },
        "plot_bgcolor": "white",
        "template": {
         "data": {
          "bar": [
           {
            "error_x": {
             "color": "#2a3f5f"
            },
            "error_y": {
             "color": "#2a3f5f"
            },
            "marker": {
             "line": {
              "color": "#E5ECF6",
              "width": 0.5
             },
             "pattern": {
              "fillmode": "overlay",
              "size": 10,
              "solidity": 0.2
             }
            },
            "type": "bar"
           }
          ],
          "barpolar": [
           {
            "marker": {
             "line": {
              "color": "#E5ECF6",
              "width": 0.5
             },
             "pattern": {
              "fillmode": "overlay",
              "size": 10,
              "solidity": 0.2
             }
            },
            "type": "barpolar"
           }
          ],
          "carpet": [
           {
            "aaxis": {
             "endlinecolor": "#2a3f5f",
             "gridcolor": "white",
             "linecolor": "white",
             "minorgridcolor": "white",
             "startlinecolor": "#2a3f5f"
            },
            "baxis": {
             "endlinecolor": "#2a3f5f",
             "gridcolor": "white",
             "linecolor": "white",
             "minorgridcolor": "white",
             "startlinecolor": "#2a3f5f"
            },
            "type": "carpet"
           }
          ],
          "choropleth": [
           {
            "colorbar": {
             "outlinewidth": 0,
             "ticks": ""
            },
            "type": "choropleth"
           }
          ],
          "contour": [
           {
            "colorbar": {
             "outlinewidth": 0,
             "ticks": ""
            },
            "colorscale": [
             [
              0,
              "#0d0887"
             ],
             [
              0.1111111111111111,
              "#46039f"
             ],
             [
              0.2222222222222222,
              "#7201a8"
             ],
             [
              0.3333333333333333,
              "#9c179e"
             ],
             [
              0.4444444444444444,
              "#bd3786"
             ],
             [
              0.5555555555555556,
              "#d8576b"
             ],
             [
              0.6666666666666666,
              "#ed7953"
             ],
             [
              0.7777777777777778,
              "#fb9f3a"
             ],
             [
              0.8888888888888888,
              "#fdca26"
             ],
             [
              1,
              "#f0f921"
             ]
            ],
            "type": "contour"
           }
          ],
          "contourcarpet": [
           {
            "colorbar": {
             "outlinewidth": 0,
             "ticks": ""
            },
            "type": "contourcarpet"
           }
          ],
          "heatmap": [
           {
            "colorbar": {
             "outlinewidth": 0,
             "ticks": ""
            },
            "colorscale": [
             [
              0,
              "#0d0887"
             ],
             [
              0.1111111111111111,
              "#46039f"
             ],
             [
              0.2222222222222222,
              "#7201a8"
             ],
             [
              0.3333333333333333,
              "#9c179e"
             ],
             [
              0.4444444444444444,
              "#bd3786"
             ],
             [
              0.5555555555555556,
              "#d8576b"
             ],
             [
              0.6666666666666666,
              "#ed7953"
             ],
             [
              0.7777777777777778,
              "#fb9f3a"
             ],
             [
              0.8888888888888888,
              "#fdca26"
             ],
             [
              1,
              "#f0f921"
             ]
            ],
            "type": "heatmap"
           }
          ],
          "heatmapgl": [
           {
            "colorbar": {
             "outlinewidth": 0,
             "ticks": ""
            },
            "colorscale": [
             [
              0,
              "#0d0887"
             ],
             [
              0.1111111111111111,
              "#46039f"
             ],
             [
              0.2222222222222222,
              "#7201a8"
             ],
             [
              0.3333333333333333,
              "#9c179e"
             ],
             [
              0.4444444444444444,
              "#bd3786"
             ],
             [
              0.5555555555555556,
              "#d8576b"
             ],
             [
              0.6666666666666666,
              "#ed7953"
             ],
             [
              0.7777777777777778,
              "#fb9f3a"
             ],
             [
              0.8888888888888888,
              "#fdca26"
             ],
             [
              1,
              "#f0f921"
             ]
            ],
            "type": "heatmapgl"
           }
          ],
          "histogram": [
           {
            "marker": {
             "pattern": {
              "fillmode": "overlay",
              "size": 10,
              "solidity": 0.2
             }
            },
            "type": "histogram"
           }
          ],
          "histogram2d": [
           {
            "colorbar": {
             "outlinewidth": 0,
             "ticks": ""
            },
            "colorscale": [
             [
              0,
              "#0d0887"
             ],
             [
              0.1111111111111111,
              "#46039f"
             ],
             [
              0.2222222222222222,
              "#7201a8"
             ],
             [
              0.3333333333333333,
              "#9c179e"
             ],
             [
              0.4444444444444444,
              "#bd3786"
             ],
             [
              0.5555555555555556,
              "#d8576b"
             ],
             [
              0.6666666666666666,
              "#ed7953"
             ],
             [
              0.7777777777777778,
              "#fb9f3a"
             ],
             [
              0.8888888888888888,
              "#fdca26"
             ],
             [
              1,
              "#f0f921"
             ]
            ],
            "type": "histogram2d"
           }
          ],
          "histogram2dcontour": [
           {
            "colorbar": {
             "outlinewidth": 0,
             "ticks": ""
            },
            "colorscale": [
             [
              0,
              "#0d0887"
             ],
             [
              0.1111111111111111,
              "#46039f"
             ],
             [
              0.2222222222222222,
              "#7201a8"
             ],
             [
              0.3333333333333333,
              "#9c179e"
             ],
             [
              0.4444444444444444,
              "#bd3786"
             ],
             [
              0.5555555555555556,
              "#d8576b"
             ],
             [
              0.6666666666666666,
              "#ed7953"
             ],
             [
              0.7777777777777778,
              "#fb9f3a"
             ],
             [
              0.8888888888888888,
              "#fdca26"
             ],
             [
              1,
              "#f0f921"
             ]
            ],
            "type": "histogram2dcontour"
           }
          ],
          "mesh3d": [
           {
            "colorbar": {
             "outlinewidth": 0,
             "ticks": ""
            },
            "type": "mesh3d"
           }
          ],
          "parcoords": [
           {
            "line": {
             "colorbar": {
              "outlinewidth": 0,
              "ticks": ""
             }
            },
            "type": "parcoords"
           }
          ],
          "pie": [
           {
            "automargin": true,
            "type": "pie"
           }
          ],
          "scatter": [
           {
            "fillpattern": {
             "fillmode": "overlay",
             "size": 10,
             "solidity": 0.2
            },
            "type": "scatter"
           }
          ],
          "scatter3d": [
           {
            "line": {
             "colorbar": {
              "outlinewidth": 0,
              "ticks": ""
             }
            },
            "marker": {
             "colorbar": {
              "outlinewidth": 0,
              "ticks": ""
             }
            },
            "type": "scatter3d"
           }
          ],
          "scattercarpet": [
           {
            "marker": {
             "colorbar": {
              "outlinewidth": 0,
              "ticks": ""
             }
            },
            "type": "scattercarpet"
           }
          ],
          "scattergeo": [
           {
            "marker": {
             "colorbar": {
              "outlinewidth": 0,
              "ticks": ""
             }
            },
            "type": "scattergeo"
           }
          ],
          "scattergl": [
           {
            "marker": {
             "colorbar": {
              "outlinewidth": 0,
              "ticks": ""
             }
            },
            "type": "scattergl"
           }
          ],
          "scattermapbox": [
           {
            "marker": {
             "colorbar": {
              "outlinewidth": 0,
              "ticks": ""
             }
            },
            "type": "scattermapbox"
           }
          ],
          "scatterpolar": [
           {
            "marker": {
             "colorbar": {
              "outlinewidth": 0,
              "ticks": ""
             }
            },
            "type": "scatterpolar"
           }
          ],
          "scatterpolargl": [
           {
            "marker": {
             "colorbar": {
              "outlinewidth": 0,
              "ticks": ""
             }
            },
            "type": "scatterpolargl"
           }
          ],
          "scatterternary": [
           {
            "marker": {
             "colorbar": {
              "outlinewidth": 0,
              "ticks": ""
             }
            },
            "type": "scatterternary"
           }
          ],
          "surface": [
           {
            "colorbar": {
             "outlinewidth": 0,
             "ticks": ""
            },
            "colorscale": [
             [
              0,
              "#0d0887"
             ],
             [
              0.1111111111111111,
              "#46039f"
             ],
             [
              0.2222222222222222,
              "#7201a8"
             ],
             [
              0.3333333333333333,
              "#9c179e"
             ],
             [
              0.4444444444444444,
              "#bd3786"
             ],
             [
              0.5555555555555556,
              "#d8576b"
             ],
             [
              0.6666666666666666,
              "#ed7953"
             ],
             [
              0.7777777777777778,
              "#fb9f3a"
             ],
             [
              0.8888888888888888,
              "#fdca26"
             ],
             [
              1,
              "#f0f921"
             ]
            ],
            "type": "surface"
           }
          ],
          "table": [
           {
            "cells": {
             "fill": {
              "color": "#EBF0F8"
             },
             "line": {
              "color": "white"
             }
            },
            "header": {
             "fill": {
              "color": "#C8D4E3"
             },
             "line": {
              "color": "white"
             }
            },
            "type": "table"
           }
          ]
         },
         "layout": {
          "annotationdefaults": {
           "arrowcolor": "#2a3f5f",
           "arrowhead": 0,
           "arrowwidth": 1
          },
          "autotypenumbers": "strict",
          "coloraxis": {
           "colorbar": {
            "outlinewidth": 0,
            "ticks": ""
           }
          },
          "colorscale": {
           "diverging": [
            [
             0,
             "#8e0152"
            ],
            [
             0.1,
             "#c51b7d"
            ],
            [
             0.2,
             "#de77ae"
            ],
            [
             0.3,
             "#f1b6da"
            ],
            [
             0.4,
             "#fde0ef"
            ],
            [
             0.5,
             "#f7f7f7"
            ],
            [
             0.6,
             "#e6f5d0"
            ],
            [
             0.7,
             "#b8e186"
            ],
            [
             0.8,
             "#7fbc41"
            ],
            [
             0.9,
             "#4d9221"
            ],
            [
             1,
             "#276419"
            ]
           ],
           "sequential": [
            [
             0,
             "#0d0887"
            ],
            [
             0.1111111111111111,
             "#46039f"
            ],
            [
             0.2222222222222222,
             "#7201a8"
            ],
            [
             0.3333333333333333,
             "#9c179e"
            ],
            [
             0.4444444444444444,
             "#bd3786"
            ],
            [
             0.5555555555555556,
             "#d8576b"
            ],
            [
             0.6666666666666666,
             "#ed7953"
            ],
            [
             0.7777777777777778,
             "#fb9f3a"
            ],
            [
             0.8888888888888888,
             "#fdca26"
            ],
            [
             1,
             "#f0f921"
            ]
           ],
           "sequentialminus": [
            [
             0,
             "#0d0887"
            ],
            [
             0.1111111111111111,
             "#46039f"
            ],
            [
             0.2222222222222222,
             "#7201a8"
            ],
            [
             0.3333333333333333,
             "#9c179e"
            ],
            [
             0.4444444444444444,
             "#bd3786"
            ],
            [
             0.5555555555555556,
             "#d8576b"
            ],
            [
             0.6666666666666666,
             "#ed7953"
            ],
            [
             0.7777777777777778,
             "#fb9f3a"
            ],
            [
             0.8888888888888888,
             "#fdca26"
            ],
            [
             1,
             "#f0f921"
            ]
           ]
          },
          "colorway": [
           "#636efa",
           "#EF553B",
           "#00cc96",
           "#ab63fa",
           "#FFA15A",
           "#19d3f3",
           "#FF6692",
           "#B6E880",
           "#FF97FF",
           "#FECB52"
          ],
          "font": {
           "color": "#2a3f5f"
          },
          "geo": {
           "bgcolor": "white",
           "lakecolor": "white",
           "landcolor": "#E5ECF6",
           "showlakes": true,
           "showland": true,
           "subunitcolor": "white"
          },
          "hoverlabel": {
           "align": "left"
          },
          "hovermode": "closest",
          "mapbox": {
           "style": "light"
          },
          "paper_bgcolor": "white",
          "plot_bgcolor": "#E5ECF6",
          "polar": {
           "angularaxis": {
            "gridcolor": "white",
            "linecolor": "white",
            "ticks": ""
           },
           "bgcolor": "#E5ECF6",
           "radialaxis": {
            "gridcolor": "white",
            "linecolor": "white",
            "ticks": ""
           }
          },
          "scene": {
           "xaxis": {
            "backgroundcolor": "#E5ECF6",
            "gridcolor": "white",
            "gridwidth": 2,
            "linecolor": "white",
            "showbackground": true,
            "ticks": "",
            "zerolinecolor": "white"
           },
           "yaxis": {
            "backgroundcolor": "#E5ECF6",
            "gridcolor": "white",
            "gridwidth": 2,
            "linecolor": "white",
            "showbackground": true,
            "ticks": "",
            "zerolinecolor": "white"
           },
           "zaxis": {
            "backgroundcolor": "#E5ECF6",
            "gridcolor": "white",
            "gridwidth": 2,
            "linecolor": "white",
            "showbackground": true,
            "ticks": "",
            "zerolinecolor": "white"
           }
          },
          "shapedefaults": {
           "line": {
            "color": "#2a3f5f"
           }
          },
          "ternary": {
           "aaxis": {
            "gridcolor": "white",
            "linecolor": "white",
            "ticks": ""
           },
           "baxis": {
            "gridcolor": "white",
            "linecolor": "white",
            "ticks": ""
           },
           "bgcolor": "#E5ECF6",
           "caxis": {
            "gridcolor": "white",
            "linecolor": "white",
            "ticks": ""
           }
          },
          "title": {
           "x": 0.05
          },
          "xaxis": {
           "automargin": true,
           "gridcolor": "white",
           "linecolor": "white",
           "ticks": "",
           "title": {
            "standoff": 15
           },
           "zerolinecolor": "white",
           "zerolinewidth": 2
          },
          "yaxis": {
           "automargin": true,
           "gridcolor": "white",
           "linecolor": "white",
           "ticks": "",
           "title": {
            "standoff": 15
           },
           "zerolinecolor": "white",
           "zerolinewidth": 2
          }
         }
        },
        "title": {
         "font": {
          "color": "black",
          "family": "Times New Roman",
          "size": 30
         },
         "text": "UUT#2_Cycle02",
         "x": 0.5,
         "xanchor": "center",
         "y": 0.9,
         "yanchor": "top"
        },
        "width": 1200,
        "xaxis": {
         "autorange": "reversed",
         "gridcolor": "LightPink",
         "gridwidth": 1,
         "linecolor": "black",
         "linewidth": 2,
         "mirror": true,
         "showgrid": true,
         "showline": true,
         "tickfont": {
          "color": "black",
          "family": "Times New Roman",
          "size": 24
         },
         "ticks": "outside",
         "title": {
          "font": {
           "color": "black",
           "family": "Times New Roman",
           "size": 24
          },
          "standoff": 5,
          "text": "Battery Pack SOC (%)"
         }
        },
        "yaxis": {
         "gridcolor": "LightPink",
         "gridwidth": 1,
         "linecolor": "black",
         "linewidth": 2,
         "mirror": true,
         "showgrid": true,
         "showline": true,
         "tickfont": {
          "color": "black",
          "family": "Times New Roman",
          "size": 24
         },
         "ticks": "outside",
         "title": {
          "font": {
           "color": "black",
           "family": "Times New Roman",
           "size": 24
          },
          "standoff": 5,
          "text": "Battery Pack Voltages (V) "
         }
        }
       }
      }
     },
     "metadata": {},
     "output_type": "display_data"
    }
   ],
   "source": [
    "# battery 2\n",
    "fig = go.Figure()\n",
    "fig.add_trace(go.Scatter(x=df2_1['Battery SOC [%]'], y=df2_1['Battery OCV [V]'], name='UUT#2_Cycle01', line=dict(color='#00f24d', width=4), marker=dict(size=10, color='black', symbol='hexagon')))\n",
    "# fig.add_trace(go.Scatter(x=df2_2['Battery SOC [%]'], y=df2_2['Battery OCV [V]'], name='UUT#2_Cycle02', line=dict(color='black', width=4), marker=dict(size=10, color='black', symbol='hexagon')))\n",
    "\n",
    "\n",
    "# flip the x and y axis\n",
    "fig.update_layout(xaxis=dict(autorange=\"reversed\"))\n",
    "fig.update_layout(title='UUT#2_Cycle01')\n",
    "# add description below the title as subtitle\n",
    "fig.update_layout(title={'y': 0.9, 'x': 0.5, 'xanchor': 'center', 'yanchor': 'top'})\n",
    "# add axis line and ticks\n",
    "fig.update_xaxes(showline=True, linewidth=2, linecolor='black', mirror=True, ticks=\"outside\")\n",
    "fig.update_yaxes(showline=True, linewidth=2, linecolor='black', mirror=True, ticks=\"outside\")\n",
    "# Make x labels larger, and Times New Roman\n",
    "fig.update_xaxes(title_text=\"Battery Pack SOC (%)\", title_font=dict(size=24, family='Times New Roman', color='black'), title_standoff=25)\n",
    "# Make y labels larger, and Times New Roman\n",
    "fig.update_yaxes(title_text=\"Battery Pack Voltages (V) \", title_font=dict(size=24, family='Times New Roman', color='black'), title_standoff=25)\n",
    "# change the legend font size and font family\n",
    "fig.update_layout(legend=dict(font=dict(size=18, family='Times New Roman', color='black')))\n",
    "# make background white\n",
    "fig.update_layout(plot_bgcolor='white')\n",
    "# Move x-label and y-label to the center\n",
    "fig.update_layout(xaxis=dict(title=dict(standoff=5)), yaxis=dict(title=dict(standoff=5)))\n",
    "# Icncrease x-axis and y-axis tick font size and font family\n",
    "fig.update_xaxes(tickfont=dict(size=24, family='Times New Roman', color='black'))\n",
    "fig.update_yaxes(tickfont=dict(size=24, family='Times New Roman', color='black'))\n",
    "# add grid\n",
    "fig.update_layout(xaxis=dict(showgrid=True, gridwidth=1, gridcolor='LightPink'), yaxis=dict(showgrid=True, gridwidth=1, gridcolor='LightPink'))\n",
    "# add figure size\n",
    "fig.update_layout(width=1200, height=600)\n",
    "# keep the legend inside the plot area\n",
    "fig.update_layout(legend=dict(x=0.76, y=0.99))\n",
    "# Make title larger, and Times New Roman and center\n",
    "fig.update_layout(title=dict(font=dict(size=30, family='Times New Roman', color='black'), x=0.5, xanchor='center'))\n",
    "# add box around the legend\n",
    "fig.update_layout(legend=dict(bordercolor='black', borderwidth=2))\n",
    "fig.show()\n",
    "\n",
    "# battery 2\n",
    "fig = go.Figure()\n",
    "#fig.add_trace(go.Scatter(x=df2_1['Battery SOC [%]'], y=df2_1['Battery OCV [V]'], name='UUT#2_Cycle01', line=dict(color='#00f24d', width=4), marker=dict(size=10, color='black', symbol='hexagon')))\n",
    "fig.add_trace(go.Scatter(x=df2_2['Battery SOC [%]'], y=df2_2['Battery OCV [V]'], name='UUT#2_Cycle02', line=dict(color='black', width=4), marker=dict(size=10, color='black', symbol='hexagon')))\n",
    "\n",
    "\n",
    "# flip the x and y axis\n",
    "fig.update_layout(xaxis=dict(autorange=\"reversed\"))\n",
    "fig.update_layout(title='UUT#2_Cycle02')\n",
    "# add description below the title as subtitle\n",
    "fig.update_layout(title={'y': 0.9, 'x': 0.5, 'xanchor': 'center', 'yanchor': 'top'})\n",
    "# add axis line and ticks\n",
    "fig.update_xaxes(showline=True, linewidth=2, linecolor='black', mirror=True, ticks=\"outside\")\n",
    "fig.update_yaxes(showline=True, linewidth=2, linecolor='black', mirror=True, ticks=\"outside\")\n",
    "# Make x labels larger, and Times New Roman\n",
    "fig.update_xaxes(title_text=\"Battery Pack SOC (%)\", title_font=dict(size=24, family='Times New Roman', color='black'), title_standoff=25)\n",
    "# Make y labels larger, and Times New Roman\n",
    "fig.update_yaxes(title_text=\"Battery Pack Voltages (V) \", title_font=dict(size=24, family='Times New Roman', color='black'), title_standoff=25)\n",
    "# change the legend font size and font family\n",
    "fig.update_layout(legend=dict(font=dict(size=18, family='Times New Roman', color='black')))\n",
    "# make background white\n",
    "fig.update_layout(plot_bgcolor='white')\n",
    "# Move x-label and y-label to the center\n",
    "fig.update_layout(xaxis=dict(title=dict(standoff=5)), yaxis=dict(title=dict(standoff=5)))\n",
    "# Icncrease x-axis and y-axis tick font size and font family\n",
    "fig.update_xaxes(tickfont=dict(size=24, family='Times New Roman', color='black'))\n",
    "fig.update_yaxes(tickfont=dict(size=24, family='Times New Roman', color='black'))\n",
    "# add grid\n",
    "fig.update_layout(xaxis=dict(showgrid=True, gridwidth=1, gridcolor='LightPink'), yaxis=dict(showgrid=True, gridwidth=1, gridcolor='LightPink'))\n",
    "# add figure size\n",
    "fig.update_layout(width=1200, height=600)\n",
    "# keep the legend inside the plot area\n",
    "fig.update_layout(legend=dict(x=0.76, y=0.99))\n",
    "# Make title larger, and Times New Roman and center\n",
    "fig.update_layout(title=dict(font=dict(size=30, family='Times New Roman', color='black'), x=0.5, xanchor='center'))\n",
    "# add box around the legend\n",
    "fig.update_layout(legend=dict(bordercolor='black', borderwidth=2))\n",
    "fig.show()"
   ]
  },
  {
   "cell_type": "code",
   "execution_count": 167,
   "metadata": {},
   "outputs": [
    {
     "data": {
      "application/vnd.plotly.v1+json": {
       "config": {
        "plotlyServerURL": "https://plot.ly"
       },
       "data": [
        {
         "line": {
          "color": "light blue",
          "width": 4
         },
         "marker": {
          "color": "black",
          "size": 10,
          "symbol": "circle"
         },
         "name": "Cell1",
         "type": "scatter",
         "x": [
          100,
          98,
          97,
          96,
          95,
          94,
          94,
          93,
          92,
          92,
          91,
          91,
          91,
          90,
          90,
          90,
          89,
          89,
          89,
          88,
          88,
          87,
          87,
          87,
          87,
          86,
          86,
          86,
          85,
          85,
          85,
          84,
          84,
          83,
          83
         ],
         "y": [
          4.198,
          4.183,
          4.172,
          4.163,
          4.156,
          4.149,
          4.143,
          4.138,
          4.134,
          4.129,
          4.124,
          4.12,
          4.118,
          4.116,
          4.113,
          4.111,
          4.107,
          4.104,
          4.101,
          4.096,
          4.09,
          4.087,
          4.084,
          4.082,
          4.078,
          4.076,
          4.075,
          4.072,
          4.071,
          4.07,
          4.066,
          4.065,
          4.063,
          4.06,
          4.046
         ]
        },
        {
         "line": {
          "color": "#768fb8",
          "width": 4
         },
         "marker": {
          "color": "black",
          "size": 10,
          "symbol": "circle"
         },
         "name": "Cell2",
         "type": "scatter",
         "x": [
          100,
          98,
          97,
          96,
          95,
          94,
          94,
          93,
          92,
          92,
          91,
          91,
          91,
          90,
          90,
          90,
          89,
          89,
          89,
          88,
          88,
          87,
          87,
          87,
          87,
          86,
          86,
          86,
          85,
          85,
          85,
          84,
          84,
          83,
          83
         ],
         "y": [
          4.207,
          4.192,
          4.179,
          4.169,
          4.163,
          4.154,
          4.148,
          4.142,
          4.138,
          4.131,
          4.125,
          4.123,
          4.119,
          4.116,
          4.114,
          4.111,
          4.108,
          4.106,
          4.103,
          4.1,
          4.098,
          4.094,
          4.091,
          4.089,
          4.086,
          4.084,
          4.082,
          4.08,
          4.078,
          4.077,
          4.074,
          4.072,
          4.071,
          4.069,
          4.067
         ]
        },
        {
         "line": {
          "color": "green",
          "width": 4
         },
         "marker": {
          "color": "black",
          "size": 10,
          "symbol": "circle"
         },
         "name": "Cell3",
         "type": "scatter",
         "x": [
          100,
          98,
          97,
          96,
          95,
          94,
          94,
          93,
          92,
          92,
          91,
          91,
          91,
          90,
          90,
          90,
          89,
          89,
          89,
          88,
          88,
          87,
          87,
          87,
          87,
          86,
          86,
          86,
          85,
          85,
          85,
          84,
          84,
          83,
          83
         ],
         "y": [
          4.193,
          4.179,
          4.168,
          4.158,
          4.152,
          4.144,
          4.137,
          4.13,
          4.125,
          4.119,
          4.114,
          4.112,
          4.109,
          4.106,
          4.103,
          4.1,
          4.097,
          4.094,
          4.093,
          4.089,
          4.087,
          4.084,
          4.081,
          4.079,
          4.076,
          4.074,
          4.072,
          4.07,
          4.067,
          4.065,
          4.061,
          4.058,
          4.054,
          4.049,
          4.044
         ]
        },
        {
         "line": {
          "color": "yellow",
          "width": 4
         },
         "marker": {
          "color": "black",
          "size": 10,
          "symbol": "circle"
         },
         "name": "Cell4",
         "type": "scatter",
         "x": [
          100,
          98,
          97,
          96,
          95,
          94,
          94,
          93,
          92,
          92,
          91,
          91,
          91,
          90,
          90,
          90,
          89,
          89,
          89,
          88,
          88,
          87,
          87,
          87,
          87,
          86,
          86,
          86,
          85,
          85,
          85,
          84,
          84,
          83,
          83
         ],
         "y": [
          4.205,
          4.192,
          4.18,
          4.17,
          4.164,
          4.156,
          4.15,
          4.143,
          4.137,
          4.131,
          4.127,
          4.124,
          4.121,
          4.118,
          4.115,
          4.112,
          4.11,
          4.107,
          4.105,
          4.102,
          4.1,
          4.096,
          4.092,
          4.09,
          4.087,
          4.085,
          4.083,
          4.082,
          4.08,
          4.079,
          4.076,
          4.075,
          4.072,
          4.071,
          4.068
         ]
        },
        {
         "line": {
          "color": "magenta",
          "width": 4
         },
         "marker": {
          "color": "black",
          "size": 10,
          "symbol": "circle"
         },
         "name": "Cell5",
         "type": "scatter",
         "x": [
          100,
          98,
          97,
          96,
          95,
          94,
          94,
          93,
          92,
          92,
          91,
          91,
          91,
          90,
          90,
          90,
          89,
          89,
          89,
          88,
          88,
          87,
          87,
          87,
          87,
          86,
          86,
          86,
          85,
          85,
          85,
          84,
          84,
          83,
          83
         ],
         "y": [
          4.218,
          4.2,
          4.186,
          4.174,
          4.167,
          4.158,
          4.148,
          4.142,
          4.137,
          4.131,
          4.127,
          4.124,
          4.121,
          4.118,
          4.115,
          4.113,
          4.11,
          4.107,
          4.105,
          4.102,
          4.099,
          4.095,
          4.092,
          4.089,
          4.086,
          4.083,
          4.081,
          4.079,
          4.075,
          4.072,
          4.07,
          4.067,
          4.066,
          4.064,
          4.062
         ]
        },
        {
         "line": {
          "color": "red",
          "width": 4
         },
         "marker": {
          "color": "black",
          "size": 10,
          "symbol": "circle"
         },
         "name": "Cell6",
         "type": "scatter",
         "x": [
          100,
          98,
          97,
          96,
          95,
          94,
          94,
          93,
          92,
          92,
          91,
          91,
          91,
          90,
          90,
          90,
          89,
          89,
          89,
          88,
          88,
          87,
          87,
          87,
          87,
          86,
          86,
          86,
          85,
          85,
          85,
          84,
          84,
          83,
          83
         ],
         "y": [
          4.208,
          4.192,
          4.179,
          4.165,
          4.157,
          4.148,
          4.143,
          4.137,
          4.132,
          4.129,
          4.124,
          4.12,
          4.118,
          4.115,
          4.112,
          4.11,
          4.107,
          4.104,
          4.103,
          4.099,
          4.095,
          4.092,
          4.087,
          4.084,
          4.082,
          4.079,
          4.077,
          4.076,
          4.074,
          4.072,
          4.069,
          4.067,
          4.064,
          4.061,
          4.059
         ]
        }
       ],
       "layout": {
        "height": 600,
        "legend": {
         "bordercolor": "black",
         "borderwidth": 2,
         "font": {
          "color": "black",
          "family": "Times New Roman",
          "size": 18
         },
         "x": 0.86,
         "y": 0.99
        },
        "plot_bgcolor": "white",
        "template": {
         "data": {
          "bar": [
           {
            "error_x": {
             "color": "#2a3f5f"
            },
            "error_y": {
             "color": "#2a3f5f"
            },
            "marker": {
             "line": {
              "color": "#E5ECF6",
              "width": 0.5
             },
             "pattern": {
              "fillmode": "overlay",
              "size": 10,
              "solidity": 0.2
             }
            },
            "type": "bar"
           }
          ],
          "barpolar": [
           {
            "marker": {
             "line": {
              "color": "#E5ECF6",
              "width": 0.5
             },
             "pattern": {
              "fillmode": "overlay",
              "size": 10,
              "solidity": 0.2
             }
            },
            "type": "barpolar"
           }
          ],
          "carpet": [
           {
            "aaxis": {
             "endlinecolor": "#2a3f5f",
             "gridcolor": "white",
             "linecolor": "white",
             "minorgridcolor": "white",
             "startlinecolor": "#2a3f5f"
            },
            "baxis": {
             "endlinecolor": "#2a3f5f",
             "gridcolor": "white",
             "linecolor": "white",
             "minorgridcolor": "white",
             "startlinecolor": "#2a3f5f"
            },
            "type": "carpet"
           }
          ],
          "choropleth": [
           {
            "colorbar": {
             "outlinewidth": 0,
             "ticks": ""
            },
            "type": "choropleth"
           }
          ],
          "contour": [
           {
            "colorbar": {
             "outlinewidth": 0,
             "ticks": ""
            },
            "colorscale": [
             [
              0,
              "#0d0887"
             ],
             [
              0.1111111111111111,
              "#46039f"
             ],
             [
              0.2222222222222222,
              "#7201a8"
             ],
             [
              0.3333333333333333,
              "#9c179e"
             ],
             [
              0.4444444444444444,
              "#bd3786"
             ],
             [
              0.5555555555555556,
              "#d8576b"
             ],
             [
              0.6666666666666666,
              "#ed7953"
             ],
             [
              0.7777777777777778,
              "#fb9f3a"
             ],
             [
              0.8888888888888888,
              "#fdca26"
             ],
             [
              1,
              "#f0f921"
             ]
            ],
            "type": "contour"
           }
          ],
          "contourcarpet": [
           {
            "colorbar": {
             "outlinewidth": 0,
             "ticks": ""
            },
            "type": "contourcarpet"
           }
          ],
          "heatmap": [
           {
            "colorbar": {
             "outlinewidth": 0,
             "ticks": ""
            },
            "colorscale": [
             [
              0,
              "#0d0887"
             ],
             [
              0.1111111111111111,
              "#46039f"
             ],
             [
              0.2222222222222222,
              "#7201a8"
             ],
             [
              0.3333333333333333,
              "#9c179e"
             ],
             [
              0.4444444444444444,
              "#bd3786"
             ],
             [
              0.5555555555555556,
              "#d8576b"
             ],
             [
              0.6666666666666666,
              "#ed7953"
             ],
             [
              0.7777777777777778,
              "#fb9f3a"
             ],
             [
              0.8888888888888888,
              "#fdca26"
             ],
             [
              1,
              "#f0f921"
             ]
            ],
            "type": "heatmap"
           }
          ],
          "heatmapgl": [
           {
            "colorbar": {
             "outlinewidth": 0,
             "ticks": ""
            },
            "colorscale": [
             [
              0,
              "#0d0887"
             ],
             [
              0.1111111111111111,
              "#46039f"
             ],
             [
              0.2222222222222222,
              "#7201a8"
             ],
             [
              0.3333333333333333,
              "#9c179e"
             ],
             [
              0.4444444444444444,
              "#bd3786"
             ],
             [
              0.5555555555555556,
              "#d8576b"
             ],
             [
              0.6666666666666666,
              "#ed7953"
             ],
             [
              0.7777777777777778,
              "#fb9f3a"
             ],
             [
              0.8888888888888888,
              "#fdca26"
             ],
             [
              1,
              "#f0f921"
             ]
            ],
            "type": "heatmapgl"
           }
          ],
          "histogram": [
           {
            "marker": {
             "pattern": {
              "fillmode": "overlay",
              "size": 10,
              "solidity": 0.2
             }
            },
            "type": "histogram"
           }
          ],
          "histogram2d": [
           {
            "colorbar": {
             "outlinewidth": 0,
             "ticks": ""
            },
            "colorscale": [
             [
              0,
              "#0d0887"
             ],
             [
              0.1111111111111111,
              "#46039f"
             ],
             [
              0.2222222222222222,
              "#7201a8"
             ],
             [
              0.3333333333333333,
              "#9c179e"
             ],
             [
              0.4444444444444444,
              "#bd3786"
             ],
             [
              0.5555555555555556,
              "#d8576b"
             ],
             [
              0.6666666666666666,
              "#ed7953"
             ],
             [
              0.7777777777777778,
              "#fb9f3a"
             ],
             [
              0.8888888888888888,
              "#fdca26"
             ],
             [
              1,
              "#f0f921"
             ]
            ],
            "type": "histogram2d"
           }
          ],
          "histogram2dcontour": [
           {
            "colorbar": {
             "outlinewidth": 0,
             "ticks": ""
            },
            "colorscale": [
             [
              0,
              "#0d0887"
             ],
             [
              0.1111111111111111,
              "#46039f"
             ],
             [
              0.2222222222222222,
              "#7201a8"
             ],
             [
              0.3333333333333333,
              "#9c179e"
             ],
             [
              0.4444444444444444,
              "#bd3786"
             ],
             [
              0.5555555555555556,
              "#d8576b"
             ],
             [
              0.6666666666666666,
              "#ed7953"
             ],
             [
              0.7777777777777778,
              "#fb9f3a"
             ],
             [
              0.8888888888888888,
              "#fdca26"
             ],
             [
              1,
              "#f0f921"
             ]
            ],
            "type": "histogram2dcontour"
           }
          ],
          "mesh3d": [
           {
            "colorbar": {
             "outlinewidth": 0,
             "ticks": ""
            },
            "type": "mesh3d"
           }
          ],
          "parcoords": [
           {
            "line": {
             "colorbar": {
              "outlinewidth": 0,
              "ticks": ""
             }
            },
            "type": "parcoords"
           }
          ],
          "pie": [
           {
            "automargin": true,
            "type": "pie"
           }
          ],
          "scatter": [
           {
            "fillpattern": {
             "fillmode": "overlay",
             "size": 10,
             "solidity": 0.2
            },
            "type": "scatter"
           }
          ],
          "scatter3d": [
           {
            "line": {
             "colorbar": {
              "outlinewidth": 0,
              "ticks": ""
             }
            },
            "marker": {
             "colorbar": {
              "outlinewidth": 0,
              "ticks": ""
             }
            },
            "type": "scatter3d"
           }
          ],
          "scattercarpet": [
           {
            "marker": {
             "colorbar": {
              "outlinewidth": 0,
              "ticks": ""
             }
            },
            "type": "scattercarpet"
           }
          ],
          "scattergeo": [
           {
            "marker": {
             "colorbar": {
              "outlinewidth": 0,
              "ticks": ""
             }
            },
            "type": "scattergeo"
           }
          ],
          "scattergl": [
           {
            "marker": {
             "colorbar": {
              "outlinewidth": 0,
              "ticks": ""
             }
            },
            "type": "scattergl"
           }
          ],
          "scattermapbox": [
           {
            "marker": {
             "colorbar": {
              "outlinewidth": 0,
              "ticks": ""
             }
            },
            "type": "scattermapbox"
           }
          ],
          "scatterpolar": [
           {
            "marker": {
             "colorbar": {
              "outlinewidth": 0,
              "ticks": ""
             }
            },
            "type": "scatterpolar"
           }
          ],
          "scatterpolargl": [
           {
            "marker": {
             "colorbar": {
              "outlinewidth": 0,
              "ticks": ""
             }
            },
            "type": "scatterpolargl"
           }
          ],
          "scatterternary": [
           {
            "marker": {
             "colorbar": {
              "outlinewidth": 0,
              "ticks": ""
             }
            },
            "type": "scatterternary"
           }
          ],
          "surface": [
           {
            "colorbar": {
             "outlinewidth": 0,
             "ticks": ""
            },
            "colorscale": [
             [
              0,
              "#0d0887"
             ],
             [
              0.1111111111111111,
              "#46039f"
             ],
             [
              0.2222222222222222,
              "#7201a8"
             ],
             [
              0.3333333333333333,
              "#9c179e"
             ],
             [
              0.4444444444444444,
              "#bd3786"
             ],
             [
              0.5555555555555556,
              "#d8576b"
             ],
             [
              0.6666666666666666,
              "#ed7953"
             ],
             [
              0.7777777777777778,
              "#fb9f3a"
             ],
             [
              0.8888888888888888,
              "#fdca26"
             ],
             [
              1,
              "#f0f921"
             ]
            ],
            "type": "surface"
           }
          ],
          "table": [
           {
            "cells": {
             "fill": {
              "color": "#EBF0F8"
             },
             "line": {
              "color": "white"
             }
            },
            "header": {
             "fill": {
              "color": "#C8D4E3"
             },
             "line": {
              "color": "white"
             }
            },
            "type": "table"
           }
          ]
         },
         "layout": {
          "annotationdefaults": {
           "arrowcolor": "#2a3f5f",
           "arrowhead": 0,
           "arrowwidth": 1
          },
          "autotypenumbers": "strict",
          "coloraxis": {
           "colorbar": {
            "outlinewidth": 0,
            "ticks": ""
           }
          },
          "colorscale": {
           "diverging": [
            [
             0,
             "#8e0152"
            ],
            [
             0.1,
             "#c51b7d"
            ],
            [
             0.2,
             "#de77ae"
            ],
            [
             0.3,
             "#f1b6da"
            ],
            [
             0.4,
             "#fde0ef"
            ],
            [
             0.5,
             "#f7f7f7"
            ],
            [
             0.6,
             "#e6f5d0"
            ],
            [
             0.7,
             "#b8e186"
            ],
            [
             0.8,
             "#7fbc41"
            ],
            [
             0.9,
             "#4d9221"
            ],
            [
             1,
             "#276419"
            ]
           ],
           "sequential": [
            [
             0,
             "#0d0887"
            ],
            [
             0.1111111111111111,
             "#46039f"
            ],
            [
             0.2222222222222222,
             "#7201a8"
            ],
            [
             0.3333333333333333,
             "#9c179e"
            ],
            [
             0.4444444444444444,
             "#bd3786"
            ],
            [
             0.5555555555555556,
             "#d8576b"
            ],
            [
             0.6666666666666666,
             "#ed7953"
            ],
            [
             0.7777777777777778,
             "#fb9f3a"
            ],
            [
             0.8888888888888888,
             "#fdca26"
            ],
            [
             1,
             "#f0f921"
            ]
           ],
           "sequentialminus": [
            [
             0,
             "#0d0887"
            ],
            [
             0.1111111111111111,
             "#46039f"
            ],
            [
             0.2222222222222222,
             "#7201a8"
            ],
            [
             0.3333333333333333,
             "#9c179e"
            ],
            [
             0.4444444444444444,
             "#bd3786"
            ],
            [
             0.5555555555555556,
             "#d8576b"
            ],
            [
             0.6666666666666666,
             "#ed7953"
            ],
            [
             0.7777777777777778,
             "#fb9f3a"
            ],
            [
             0.8888888888888888,
             "#fdca26"
            ],
            [
             1,
             "#f0f921"
            ]
           ]
          },
          "colorway": [
           "#636efa",
           "#EF553B",
           "#00cc96",
           "#ab63fa",
           "#FFA15A",
           "#19d3f3",
           "#FF6692",
           "#B6E880",
           "#FF97FF",
           "#FECB52"
          ],
          "font": {
           "color": "#2a3f5f"
          },
          "geo": {
           "bgcolor": "white",
           "lakecolor": "white",
           "landcolor": "#E5ECF6",
           "showlakes": true,
           "showland": true,
           "subunitcolor": "white"
          },
          "hoverlabel": {
           "align": "left"
          },
          "hovermode": "closest",
          "mapbox": {
           "style": "light"
          },
          "paper_bgcolor": "white",
          "plot_bgcolor": "#E5ECF6",
          "polar": {
           "angularaxis": {
            "gridcolor": "white",
            "linecolor": "white",
            "ticks": ""
           },
           "bgcolor": "#E5ECF6",
           "radialaxis": {
            "gridcolor": "white",
            "linecolor": "white",
            "ticks": ""
           }
          },
          "scene": {
           "xaxis": {
            "backgroundcolor": "#E5ECF6",
            "gridcolor": "white",
            "gridwidth": 2,
            "linecolor": "white",
            "showbackground": true,
            "ticks": "",
            "zerolinecolor": "white"
           },
           "yaxis": {
            "backgroundcolor": "#E5ECF6",
            "gridcolor": "white",
            "gridwidth": 2,
            "linecolor": "white",
            "showbackground": true,
            "ticks": "",
            "zerolinecolor": "white"
           },
           "zaxis": {
            "backgroundcolor": "#E5ECF6",
            "gridcolor": "white",
            "gridwidth": 2,
            "linecolor": "white",
            "showbackground": true,
            "ticks": "",
            "zerolinecolor": "white"
           }
          },
          "shapedefaults": {
           "line": {
            "color": "#2a3f5f"
           }
          },
          "ternary": {
           "aaxis": {
            "gridcolor": "white",
            "linecolor": "white",
            "ticks": ""
           },
           "baxis": {
            "gridcolor": "white",
            "linecolor": "white",
            "ticks": ""
           },
           "bgcolor": "#E5ECF6",
           "caxis": {
            "gridcolor": "white",
            "linecolor": "white",
            "ticks": ""
           }
          },
          "title": {
           "x": 0.05
          },
          "xaxis": {
           "automargin": true,
           "gridcolor": "white",
           "linecolor": "white",
           "ticks": "",
           "title": {
            "standoff": 15
           },
           "zerolinecolor": "white",
           "zerolinewidth": 2
          },
          "yaxis": {
           "automargin": true,
           "gridcolor": "white",
           "linecolor": "white",
           "ticks": "",
           "title": {
            "standoff": 15
           },
           "zerolinecolor": "white",
           "zerolinewidth": 2
          }
         }
        },
        "title": {
         "font": {
          "color": "black",
          "family": "Times New Roman",
          "size": 30
         },
         "text": "UUT#2_Cycle01",
         "x": 0.5,
         "xanchor": "center",
         "y": 0.9,
         "yanchor": "top"
        },
        "width": 1200,
        "xaxis": {
         "autorange": "reversed",
         "gridcolor": "LightPink",
         "gridwidth": 1,
         "linecolor": "black",
         "linewidth": 2,
         "mirror": true,
         "showgrid": true,
         "showline": true,
         "tickfont": {
          "color": "black",
          "family": "Times New Roman",
          "size": 24
         },
         "ticks": "outside",
         "title": {
          "font": {
           "color": "black",
           "family": "Times New Roman",
           "size": 24
          },
          "standoff": 5,
          "text": "Battery Pack SOC (%)"
         }
        },
        "yaxis": {
         "gridcolor": "LightPink",
         "gridwidth": 1,
         "linecolor": "black",
         "linewidth": 2,
         "mirror": true,
         "showgrid": true,
         "showline": true,
         "tickfont": {
          "color": "black",
          "family": "Times New Roman",
          "size": 24
         },
         "ticks": "outside",
         "title": {
          "font": {
           "color": "black",
           "family": "Times New Roman",
           "size": 24
          },
          "standoff": 5,
          "text": "Battery Pack Voltages (V) "
         }
        }
       }
      }
     },
     "metadata": {},
     "output_type": "display_data"
    },
    {
     "data": {
      "application/vnd.plotly.v1+json": {
       "config": {
        "plotlyServerURL": "https://plot.ly"
       },
       "data": [
        {
         "line": {
          "color": "light blue",
          "width": 4
         },
         "marker": {
          "color": "black",
          "size": 10,
          "symbol": "circle"
         },
         "name": "Cell1",
         "type": "scatter",
         "x": [
          55,
          56,
          56,
          56,
          55,
          54,
          54,
          54,
          53,
          53,
          53,
          49,
          52,
          51,
          51,
          50,
          48,
          49,
          49,
          48,
          48,
          46,
          47
         ],
         "y": [
          3.879,
          3.89,
          3.888,
          3.888,
          3.884,
          3.878,
          3.87,
          3.862,
          3.874,
          3.871,
          3.869,
          3.846,
          3.866,
          3.864,
          3.862,
          3.858,
          3.849,
          3.858,
          3.855,
          3.854,
          3.852,
          3.838,
          3.85
         ]
        },
        {
         "line": {
          "color": "#768fb8",
          "width": 4
         },
         "marker": {
          "color": "black",
          "size": 10,
          "symbol": "circle"
         },
         "name": "Cell2",
         "type": "scatter",
         "x": [
          55,
          56,
          56,
          56,
          55,
          54,
          54,
          54,
          53,
          53,
          53,
          49,
          52,
          51,
          51,
          50,
          48,
          49,
          49,
          48,
          48,
          46,
          47
         ],
         "y": [
          3.882,
          3.89,
          3.89,
          3.889,
          3.887,
          3.884,
          3.881,
          3.879,
          3.877,
          3.876,
          3.875,
          3.872,
          3.87,
          3.868,
          3.867,
          3.865,
          3.862,
          3.861,
          3.859,
          3.857,
          3.855,
          3.855,
          3.852
         ]
        },
        {
         "line": {
          "color": "green",
          "width": 4
         },
         "marker": {
          "color": "black",
          "size": 10,
          "symbol": "circle"
         },
         "name": "Cell3",
         "type": "scatter",
         "x": [
          55,
          56,
          56,
          56,
          55,
          54,
          54,
          54,
          53,
          53,
          53,
          49,
          52,
          51,
          51,
          50,
          48,
          49,
          49,
          48,
          48,
          46,
          47
         ],
         "y": [
          3.87,
          3.875,
          3.874,
          3.873,
          3.872,
          3.87,
          3.868,
          3.866,
          3.864,
          3.863,
          3.863,
          3.86,
          3.858,
          3.856,
          3.855,
          3.853,
          3.851,
          3.849,
          3.848,
          3.846,
          3.845,
          3.843,
          3.841
         ]
        },
        {
         "line": {
          "color": "yellow",
          "width": 4
         },
         "marker": {
          "color": "black",
          "size": 10,
          "symbol": "circle"
         },
         "name": "Cell4",
         "type": "scatter",
         "x": [
          55,
          56,
          56,
          56,
          55,
          54,
          54,
          54,
          53,
          53,
          53,
          49,
          52,
          51,
          51,
          50,
          48,
          49,
          49,
          48,
          48,
          46,
          47
         ],
         "y": [
          3.88,
          3.886,
          3.885,
          3.885,
          3.883,
          3.881,
          3.88,
          3.878,
          3.876,
          3.875,
          3.874,
          3.872,
          3.871,
          3.87,
          3.868,
          3.867,
          3.865,
          3.861,
          3.86,
          3.858,
          3.857,
          3.855,
          3.854
         ]
        },
        {
         "line": {
          "color": "magenta",
          "width": 4
         },
         "marker": {
          "color": "black",
          "size": 10,
          "symbol": "circle"
         },
         "name": "Cell5",
         "type": "scatter",
         "x": [
          55,
          56,
          56,
          56,
          55,
          54,
          54,
          54,
          53,
          53,
          53,
          49,
          52,
          51,
          51,
          50,
          48,
          49,
          49,
          48,
          48,
          46,
          47
         ],
         "y": [
          3.879,
          3.886,
          3.885,
          3.884,
          3.883,
          3.88,
          3.879,
          3.877,
          3.874,
          3.873,
          3.872,
          3.864,
          3.867,
          3.866,
          3.864,
          3.863,
          3.86,
          3.858,
          3.856,
          3.854,
          3.853,
          3.852,
          3.85
         ]
        },
        {
         "line": {
          "color": "red",
          "width": 4
         },
         "marker": {
          "color": "black",
          "size": 10,
          "symbol": "circle"
         },
         "name": "Cell6",
         "type": "scatter",
         "x": [
          55,
          56,
          56,
          56,
          55,
          54,
          54,
          54,
          53,
          53,
          53,
          49,
          52,
          51,
          51,
          50,
          48,
          49,
          49,
          48,
          48,
          46,
          47
         ],
         "y": [
          3.884,
          3.892,
          3.892,
          3.891,
          3.889,
          3.885,
          3.876,
          3.88,
          3.873,
          3.878,
          3.875,
          3.875,
          3.866,
          3.866,
          3.866,
          3.864,
          3.858,
          3.856,
          3.855,
          3.853,
          3.851,
          3.849,
          3.848
         ]
        }
       ],
       "layout": {
        "height": 600,
        "legend": {
         "bordercolor": "black",
         "borderwidth": 2,
         "font": {
          "color": "black",
          "family": "Times New Roman",
          "size": 18
         },
         "x": 0.86,
         "y": 0.99
        },
        "plot_bgcolor": "white",
        "template": {
         "data": {
          "bar": [
           {
            "error_x": {
             "color": "#2a3f5f"
            },
            "error_y": {
             "color": "#2a3f5f"
            },
            "marker": {
             "line": {
              "color": "#E5ECF6",
              "width": 0.5
             },
             "pattern": {
              "fillmode": "overlay",
              "size": 10,
              "solidity": 0.2
             }
            },
            "type": "bar"
           }
          ],
          "barpolar": [
           {
            "marker": {
             "line": {
              "color": "#E5ECF6",
              "width": 0.5
             },
             "pattern": {
              "fillmode": "overlay",
              "size": 10,
              "solidity": 0.2
             }
            },
            "type": "barpolar"
           }
          ],
          "carpet": [
           {
            "aaxis": {
             "endlinecolor": "#2a3f5f",
             "gridcolor": "white",
             "linecolor": "white",
             "minorgridcolor": "white",
             "startlinecolor": "#2a3f5f"
            },
            "baxis": {
             "endlinecolor": "#2a3f5f",
             "gridcolor": "white",
             "linecolor": "white",
             "minorgridcolor": "white",
             "startlinecolor": "#2a3f5f"
            },
            "type": "carpet"
           }
          ],
          "choropleth": [
           {
            "colorbar": {
             "outlinewidth": 0,
             "ticks": ""
            },
            "type": "choropleth"
           }
          ],
          "contour": [
           {
            "colorbar": {
             "outlinewidth": 0,
             "ticks": ""
            },
            "colorscale": [
             [
              0,
              "#0d0887"
             ],
             [
              0.1111111111111111,
              "#46039f"
             ],
             [
              0.2222222222222222,
              "#7201a8"
             ],
             [
              0.3333333333333333,
              "#9c179e"
             ],
             [
              0.4444444444444444,
              "#bd3786"
             ],
             [
              0.5555555555555556,
              "#d8576b"
             ],
             [
              0.6666666666666666,
              "#ed7953"
             ],
             [
              0.7777777777777778,
              "#fb9f3a"
             ],
             [
              0.8888888888888888,
              "#fdca26"
             ],
             [
              1,
              "#f0f921"
             ]
            ],
            "type": "contour"
           }
          ],
          "contourcarpet": [
           {
            "colorbar": {
             "outlinewidth": 0,
             "ticks": ""
            },
            "type": "contourcarpet"
           }
          ],
          "heatmap": [
           {
            "colorbar": {
             "outlinewidth": 0,
             "ticks": ""
            },
            "colorscale": [
             [
              0,
              "#0d0887"
             ],
             [
              0.1111111111111111,
              "#46039f"
             ],
             [
              0.2222222222222222,
              "#7201a8"
             ],
             [
              0.3333333333333333,
              "#9c179e"
             ],
             [
              0.4444444444444444,
              "#bd3786"
             ],
             [
              0.5555555555555556,
              "#d8576b"
             ],
             [
              0.6666666666666666,
              "#ed7953"
             ],
             [
              0.7777777777777778,
              "#fb9f3a"
             ],
             [
              0.8888888888888888,
              "#fdca26"
             ],
             [
              1,
              "#f0f921"
             ]
            ],
            "type": "heatmap"
           }
          ],
          "heatmapgl": [
           {
            "colorbar": {
             "outlinewidth": 0,
             "ticks": ""
            },
            "colorscale": [
             [
              0,
              "#0d0887"
             ],
             [
              0.1111111111111111,
              "#46039f"
             ],
             [
              0.2222222222222222,
              "#7201a8"
             ],
             [
              0.3333333333333333,
              "#9c179e"
             ],
             [
              0.4444444444444444,
              "#bd3786"
             ],
             [
              0.5555555555555556,
              "#d8576b"
             ],
             [
              0.6666666666666666,
              "#ed7953"
             ],
             [
              0.7777777777777778,
              "#fb9f3a"
             ],
             [
              0.8888888888888888,
              "#fdca26"
             ],
             [
              1,
              "#f0f921"
             ]
            ],
            "type": "heatmapgl"
           }
          ],
          "histogram": [
           {
            "marker": {
             "pattern": {
              "fillmode": "overlay",
              "size": 10,
              "solidity": 0.2
             }
            },
            "type": "histogram"
           }
          ],
          "histogram2d": [
           {
            "colorbar": {
             "outlinewidth": 0,
             "ticks": ""
            },
            "colorscale": [
             [
              0,
              "#0d0887"
             ],
             [
              0.1111111111111111,
              "#46039f"
             ],
             [
              0.2222222222222222,
              "#7201a8"
             ],
             [
              0.3333333333333333,
              "#9c179e"
             ],
             [
              0.4444444444444444,
              "#bd3786"
             ],
             [
              0.5555555555555556,
              "#d8576b"
             ],
             [
              0.6666666666666666,
              "#ed7953"
             ],
             [
              0.7777777777777778,
              "#fb9f3a"
             ],
             [
              0.8888888888888888,
              "#fdca26"
             ],
             [
              1,
              "#f0f921"
             ]
            ],
            "type": "histogram2d"
           }
          ],
          "histogram2dcontour": [
           {
            "colorbar": {
             "outlinewidth": 0,
             "ticks": ""
            },
            "colorscale": [
             [
              0,
              "#0d0887"
             ],
             [
              0.1111111111111111,
              "#46039f"
             ],
             [
              0.2222222222222222,
              "#7201a8"
             ],
             [
              0.3333333333333333,
              "#9c179e"
             ],
             [
              0.4444444444444444,
              "#bd3786"
             ],
             [
              0.5555555555555556,
              "#d8576b"
             ],
             [
              0.6666666666666666,
              "#ed7953"
             ],
             [
              0.7777777777777778,
              "#fb9f3a"
             ],
             [
              0.8888888888888888,
              "#fdca26"
             ],
             [
              1,
              "#f0f921"
             ]
            ],
            "type": "histogram2dcontour"
           }
          ],
          "mesh3d": [
           {
            "colorbar": {
             "outlinewidth": 0,
             "ticks": ""
            },
            "type": "mesh3d"
           }
          ],
          "parcoords": [
           {
            "line": {
             "colorbar": {
              "outlinewidth": 0,
              "ticks": ""
             }
            },
            "type": "parcoords"
           }
          ],
          "pie": [
           {
            "automargin": true,
            "type": "pie"
           }
          ],
          "scatter": [
           {
            "fillpattern": {
             "fillmode": "overlay",
             "size": 10,
             "solidity": 0.2
            },
            "type": "scatter"
           }
          ],
          "scatter3d": [
           {
            "line": {
             "colorbar": {
              "outlinewidth": 0,
              "ticks": ""
             }
            },
            "marker": {
             "colorbar": {
              "outlinewidth": 0,
              "ticks": ""
             }
            },
            "type": "scatter3d"
           }
          ],
          "scattercarpet": [
           {
            "marker": {
             "colorbar": {
              "outlinewidth": 0,
              "ticks": ""
             }
            },
            "type": "scattercarpet"
           }
          ],
          "scattergeo": [
           {
            "marker": {
             "colorbar": {
              "outlinewidth": 0,
              "ticks": ""
             }
            },
            "type": "scattergeo"
           }
          ],
          "scattergl": [
           {
            "marker": {
             "colorbar": {
              "outlinewidth": 0,
              "ticks": ""
             }
            },
            "type": "scattergl"
           }
          ],
          "scattermapbox": [
           {
            "marker": {
             "colorbar": {
              "outlinewidth": 0,
              "ticks": ""
             }
            },
            "type": "scattermapbox"
           }
          ],
          "scatterpolar": [
           {
            "marker": {
             "colorbar": {
              "outlinewidth": 0,
              "ticks": ""
             }
            },
            "type": "scatterpolar"
           }
          ],
          "scatterpolargl": [
           {
            "marker": {
             "colorbar": {
              "outlinewidth": 0,
              "ticks": ""
             }
            },
            "type": "scatterpolargl"
           }
          ],
          "scatterternary": [
           {
            "marker": {
             "colorbar": {
              "outlinewidth": 0,
              "ticks": ""
             }
            },
            "type": "scatterternary"
           }
          ],
          "surface": [
           {
            "colorbar": {
             "outlinewidth": 0,
             "ticks": ""
            },
            "colorscale": [
             [
              0,
              "#0d0887"
             ],
             [
              0.1111111111111111,
              "#46039f"
             ],
             [
              0.2222222222222222,
              "#7201a8"
             ],
             [
              0.3333333333333333,
              "#9c179e"
             ],
             [
              0.4444444444444444,
              "#bd3786"
             ],
             [
              0.5555555555555556,
              "#d8576b"
             ],
             [
              0.6666666666666666,
              "#ed7953"
             ],
             [
              0.7777777777777778,
              "#fb9f3a"
             ],
             [
              0.8888888888888888,
              "#fdca26"
             ],
             [
              1,
              "#f0f921"
             ]
            ],
            "type": "surface"
           }
          ],
          "table": [
           {
            "cells": {
             "fill": {
              "color": "#EBF0F8"
             },
             "line": {
              "color": "white"
             }
            },
            "header": {
             "fill": {
              "color": "#C8D4E3"
             },
             "line": {
              "color": "white"
             }
            },
            "type": "table"
           }
          ]
         },
         "layout": {
          "annotationdefaults": {
           "arrowcolor": "#2a3f5f",
           "arrowhead": 0,
           "arrowwidth": 1
          },
          "autotypenumbers": "strict",
          "coloraxis": {
           "colorbar": {
            "outlinewidth": 0,
            "ticks": ""
           }
          },
          "colorscale": {
           "diverging": [
            [
             0,
             "#8e0152"
            ],
            [
             0.1,
             "#c51b7d"
            ],
            [
             0.2,
             "#de77ae"
            ],
            [
             0.3,
             "#f1b6da"
            ],
            [
             0.4,
             "#fde0ef"
            ],
            [
             0.5,
             "#f7f7f7"
            ],
            [
             0.6,
             "#e6f5d0"
            ],
            [
             0.7,
             "#b8e186"
            ],
            [
             0.8,
             "#7fbc41"
            ],
            [
             0.9,
             "#4d9221"
            ],
            [
             1,
             "#276419"
            ]
           ],
           "sequential": [
            [
             0,
             "#0d0887"
            ],
            [
             0.1111111111111111,
             "#46039f"
            ],
            [
             0.2222222222222222,
             "#7201a8"
            ],
            [
             0.3333333333333333,
             "#9c179e"
            ],
            [
             0.4444444444444444,
             "#bd3786"
            ],
            [
             0.5555555555555556,
             "#d8576b"
            ],
            [
             0.6666666666666666,
             "#ed7953"
            ],
            [
             0.7777777777777778,
             "#fb9f3a"
            ],
            [
             0.8888888888888888,
             "#fdca26"
            ],
            [
             1,
             "#f0f921"
            ]
           ],
           "sequentialminus": [
            [
             0,
             "#0d0887"
            ],
            [
             0.1111111111111111,
             "#46039f"
            ],
            [
             0.2222222222222222,
             "#7201a8"
            ],
            [
             0.3333333333333333,
             "#9c179e"
            ],
            [
             0.4444444444444444,
             "#bd3786"
            ],
            [
             0.5555555555555556,
             "#d8576b"
            ],
            [
             0.6666666666666666,
             "#ed7953"
            ],
            [
             0.7777777777777778,
             "#fb9f3a"
            ],
            [
             0.8888888888888888,
             "#fdca26"
            ],
            [
             1,
             "#f0f921"
            ]
           ]
          },
          "colorway": [
           "#636efa",
           "#EF553B",
           "#00cc96",
           "#ab63fa",
           "#FFA15A",
           "#19d3f3",
           "#FF6692",
           "#B6E880",
           "#FF97FF",
           "#FECB52"
          ],
          "font": {
           "color": "#2a3f5f"
          },
          "geo": {
           "bgcolor": "white",
           "lakecolor": "white",
           "landcolor": "#E5ECF6",
           "showlakes": true,
           "showland": true,
           "subunitcolor": "white"
          },
          "hoverlabel": {
           "align": "left"
          },
          "hovermode": "closest",
          "mapbox": {
           "style": "light"
          },
          "paper_bgcolor": "white",
          "plot_bgcolor": "#E5ECF6",
          "polar": {
           "angularaxis": {
            "gridcolor": "white",
            "linecolor": "white",
            "ticks": ""
           },
           "bgcolor": "#E5ECF6",
           "radialaxis": {
            "gridcolor": "white",
            "linecolor": "white",
            "ticks": ""
           }
          },
          "scene": {
           "xaxis": {
            "backgroundcolor": "#E5ECF6",
            "gridcolor": "white",
            "gridwidth": 2,
            "linecolor": "white",
            "showbackground": true,
            "ticks": "",
            "zerolinecolor": "white"
           },
           "yaxis": {
            "backgroundcolor": "#E5ECF6",
            "gridcolor": "white",
            "gridwidth": 2,
            "linecolor": "white",
            "showbackground": true,
            "ticks": "",
            "zerolinecolor": "white"
           },
           "zaxis": {
            "backgroundcolor": "#E5ECF6",
            "gridcolor": "white",
            "gridwidth": 2,
            "linecolor": "white",
            "showbackground": true,
            "ticks": "",
            "zerolinecolor": "white"
           }
          },
          "shapedefaults": {
           "line": {
            "color": "#2a3f5f"
           }
          },
          "ternary": {
           "aaxis": {
            "gridcolor": "white",
            "linecolor": "white",
            "ticks": ""
           },
           "baxis": {
            "gridcolor": "white",
            "linecolor": "white",
            "ticks": ""
           },
           "bgcolor": "#E5ECF6",
           "caxis": {
            "gridcolor": "white",
            "linecolor": "white",
            "ticks": ""
           }
          },
          "title": {
           "x": 0.05
          },
          "xaxis": {
           "automargin": true,
           "gridcolor": "white",
           "linecolor": "white",
           "ticks": "",
           "title": {
            "standoff": 15
           },
           "zerolinecolor": "white",
           "zerolinewidth": 2
          },
          "yaxis": {
           "automargin": true,
           "gridcolor": "white",
           "linecolor": "white",
           "ticks": "",
           "title": {
            "standoff": 15
           },
           "zerolinecolor": "white",
           "zerolinewidth": 2
          }
         }
        },
        "title": {
         "font": {
          "color": "black",
          "family": "Times New Roman",
          "size": 30
         },
         "text": "UUT#2_Cycle02",
         "x": 0.5,
         "xanchor": "center",
         "y": 0.9,
         "yanchor": "top"
        },
        "width": 1200,
        "xaxis": {
         "autorange": "reversed",
         "gridcolor": "LightPink",
         "gridwidth": 1,
         "linecolor": "black",
         "linewidth": 2,
         "mirror": true,
         "showgrid": true,
         "showline": true,
         "tickfont": {
          "color": "black",
          "family": "Times New Roman",
          "size": 24
         },
         "ticks": "outside",
         "title": {
          "font": {
           "color": "black",
           "family": "Times New Roman",
           "size": 24
          },
          "standoff": 5,
          "text": "Battery Pack SOC (%)"
         }
        },
        "yaxis": {
         "gridcolor": "LightPink",
         "gridwidth": 1,
         "linecolor": "black",
         "linewidth": 2,
         "mirror": true,
         "showgrid": true,
         "showline": true,
         "tickfont": {
          "color": "black",
          "family": "Times New Roman",
          "size": 24
         },
         "ticks": "outside",
         "title": {
          "font": {
           "color": "black",
           "family": "Times New Roman",
           "size": 24
          },
          "standoff": 5,
          "text": "Battery Cell Voltages (V) "
         }
        }
       }
      }
     },
     "metadata": {},
     "output_type": "display_data"
    }
   ],
   "source": [
    "# Plot the 'Battery OCV [V]' with 'Battery SOC [%]' using line plot in plotly\n",
    "fig = go.Figure()\n",
    "#fig.add_trace(go.Scatter(x=df2_1['Battery SOC [%]'], y=df2_1['Battery OCV [V]'], name='UUT#1_Cycle01', line=dict(color='blue', width=4, dash='dashdot'), marker=dict(size=10, color='black', symbol='circle')))\n",
    "fig.add_trace(go.Scatter(x=df2_1['Battery SOC [%]'], y=df2_1['Cell 1 '], name='Cell1', line=dict(color='light blue', width=4), marker=dict(size=10, color='black', symbol='circle')))\n",
    "fig.add_trace(go.Scatter(x=df2_1['Battery SOC [%]'], y=df2_1['Cell 2 '], name='Cell2', line=dict(color='#768fb8', width=4), marker=dict(size=10, color='black', symbol='circle')))\n",
    "fig.add_trace(go.Scatter(x=df2_1['Battery SOC [%]'], y=df2_1['Cell 3'], name='Cell3', line=dict(color='green', width=4), marker=dict(size=10, color='black', symbol='circle')))\n",
    "fig.add_trace(go.Scatter(x=df2_1['Battery SOC [%]'], y=df2_1['Cell 4 '], name='Cell4', line=dict(color='yellow', width=4), marker=dict(size=10, color='black', symbol='circle')))\n",
    "fig.add_trace(go.Scatter(x=df2_1['Battery SOC [%]'], y=df2_1['Cell  5 '], name='Cell5', line=dict(color='magenta', width=4), marker=dict(size=10, color='black', symbol='circle')))\n",
    "fig.add_trace(go.Scatter(x=df2_1['Battery SOC [%]'], y=df2_1['Cell  6 '], name='Cell6', line=dict(color='red', width=4), marker=dict(size=10, color='black', symbol='circle')))\n",
    "\n",
    "# flip the x and y axis\n",
    "fig.update_layout(xaxis=dict(autorange=\"reversed\"))\n",
    "fig.update_layout(title='UUT#2_Cycle01')\n",
    "# add description below the title as subtitle\n",
    "fig.update_layout(title={'y': 0.9, 'x': 0.8, 'xanchor': 'center', 'yanchor': 'top'})\n",
    "# add axis line and ticks\n",
    "fig.update_xaxes(showline=True, linewidth=2, linecolor='black', mirror=True, ticks=\"outside\")\n",
    "fig.update_yaxes(showline=True, linewidth=2, linecolor='black', mirror=True, ticks=\"outside\")\n",
    "# Make x labels larger, and Times New Roman\n",
    "fig.update_xaxes(title_text=\"Battery Pack SOC (%)\", title_font=dict(size=24, family='Times New Roman', color='black'), title_standoff=25)\n",
    "# Make y labels larger, and Times New Roman\n",
    "fig.update_yaxes(title_text=\"Battery Pack Voltages (V) \", title_font=dict(size=24, family='Times New Roman', color='black'), title_standoff=25)\n",
    "# change the legend font size and font family\n",
    "fig.update_layout(legend=dict(font=dict(size=18, family='Times New Roman', color='black')))\n",
    "# make background white\n",
    "fig.update_layout(plot_bgcolor='white')\n",
    "# Move x-label and y-label to the center\n",
    "fig.update_layout(xaxis=dict(title=dict(standoff=5)), yaxis=dict(title=dict(standoff=5)))\n",
    "# Icncrease x-axis and y-axis tick font size and font family\n",
    "fig.update_xaxes(tickfont=dict(size=24, family='Times New Roman', color='black'))\n",
    "fig.update_yaxes(tickfont=dict(size=24, family='Times New Roman', color='black'))\n",
    "# add grid\n",
    "fig.update_layout(xaxis=dict(showgrid=True, gridwidth=1, gridcolor='LightPink'), yaxis=dict(showgrid=True, gridwidth=1, gridcolor='LightPink'))\n",
    "# add figure size\n",
    "fig.update_layout(width=1200, height=600)\n",
    "# keep the legend inside the plot area\n",
    "fig.update_layout(legend=dict(x=0.86, y=0.99))\n",
    "# Make title larger, and Times New Roman and center\n",
    "fig.update_layout(title=dict(font=dict(size=30, family='Times New Roman', color='black'), x=0.5, xanchor='center'))\n",
    "# add box around the legend\n",
    "fig.update_layout(legend=dict(bordercolor='black', borderwidth=2))\n",
    "fig.show()\n",
    "\n",
    "# Plot the 'Battery OCV [V]' with 'Battery SOC [%]' using line plot in plotly\n",
    "fig = go.Figure()\n",
    "#fig.add_trace(go.Scatter(x=df2_2['Battery SOC [%]'], y=df2_2['Battery OCV [V]'], name='UUT#4_Cycle01', line=dict(color='blue', width=4, dash='dashdot'), marker=dict(size=10, color='black', symbol='circle')))\n",
    "fig.add_trace(go.Scatter(x=df2_2['Battery SOC [%]'], y=df2_2['Cell 1 '], name='Cell1', line=dict(color='light blue', width=4), marker=dict(size=10, color='black', symbol='circle')))\n",
    "fig.add_trace(go.Scatter(x=df2_2['Battery SOC [%]'], y=df2_2['Cell 2 '], name='Cell2', line=dict(color='#768fb8', width=4), marker=dict(size=10, color='black', symbol='circle')))\n",
    "fig.add_trace(go.Scatter(x=df2_2['Battery SOC [%]'], y=df2_2['Cell 3'], name='Cell3', line=dict(color='green', width=4), marker=dict(size=10, color='black', symbol='circle')))\n",
    "fig.add_trace(go.Scatter(x=df2_2['Battery SOC [%]'], y=df2_2['Cell 4 '], name='Cell4', line=dict(color='yellow', width=4), marker=dict(size=10, color='black', symbol='circle')))\n",
    "fig.add_trace(go.Scatter(x=df2_2['Battery SOC [%]'], y=df2_2['Cell  5 '], name='Cell5', line=dict(color='magenta', width=4), marker=dict(size=10, color='black', symbol='circle')))\n",
    "fig.add_trace(go.Scatter(x=df2_2['Battery SOC [%]'], y=df2_2['Cell  6 '], name='Cell6', line=dict(color='red', width=4), marker=dict(size=10, color='black', symbol='circle')))\n",
    "\n",
    "# flip the x and y axis\n",
    "fig.update_layout(xaxis=dict(autorange=\"reversed\"))\n",
    "fig.update_layout(title='UUT#2_Cycle02')\n",
    "# add description below the title as subtitle\n",
    "fig.update_layout(title={'y': 0.9, 'x': 0.8, 'xanchor': 'center', 'yanchor': 'top'})\n",
    "# add axis line and ticks\n",
    "fig.update_xaxes(showline=True, linewidth=2, linecolor='black', mirror=True, ticks=\"outside\")\n",
    "fig.update_yaxes(showline=True, linewidth=2, linecolor='black', mirror=True, ticks=\"outside\")\n",
    "# Make x labels larger, and Times New Roman\n",
    "fig.update_xaxes(title_text=\"Battery Pack SOC (%)\", title_font=dict(size=24, family='Times New Roman', color='black'), title_standoff=25)\n",
    "# Make y labels larger, and Times New Roman\n",
    "fig.update_yaxes(title_text=\"Battery Cell Voltages (V) \", title_font=dict(size=24, family='Times New Roman', color='black'), title_standoff=25)\n",
    "# change the legend font size and font family\n",
    "fig.update_layout(legend=dict(font=dict(size=18, family='Times New Roman', color='black')))\n",
    "# make background white\n",
    "fig.update_layout(plot_bgcolor='white')\n",
    "# Move x-label and y-label to the center\n",
    "fig.update_layout(xaxis=dict(title=dict(standoff=5)), yaxis=dict(title=dict(standoff=5)))\n",
    "# Icncrease x-axis and y-axis tick font size and font family\n",
    "fig.update_xaxes(tickfont=dict(size=24, family='Times New Roman', color='black'))\n",
    "fig.update_yaxes(tickfont=dict(size=24, family='Times New Roman', color='black'))\n",
    "# add grid\n",
    "fig.update_layout(xaxis=dict(showgrid=True, gridwidth=1, gridcolor='LightPink'), yaxis=dict(showgrid=True, gridwidth=1, gridcolor='LightPink'))\n",
    "# add figure size\n",
    "fig.update_layout(width=1200, height=600)\n",
    "# keep the legend inside the plot area\n",
    "fig.update_layout(legend=dict(x=0.86, y=0.99))\n",
    "# Make title larger, and Times New Roman and center\n",
    "fig.update_layout(title=dict(font=dict(size=30, family='Times New Roman', color='black'), x=0.5, xanchor='center'))\n",
    "# add box around the legend\n",
    "fig.update_layout(legend=dict(bordercolor='black', borderwidth=2))\n",
    "fig.show()"
   ]
  },
  {
   "attachments": {},
   "cell_type": "markdown",
   "metadata": {},
   "source": [
    "### **UUT#3**"
   ]
  },
  {
   "cell_type": "code",
   "execution_count": 168,
   "metadata": {},
   "outputs": [
    {
     "data": {
      "application/vnd.plotly.v1+json": {
       "config": {
        "plotlyServerURL": "https://plot.ly"
       },
       "data": [
        {
         "line": {
          "color": "#20f200",
          "width": 4
         },
         "marker": {
          "color": "black",
          "size": 10,
          "symbol": "hexagon"
         },
         "name": "UUT#3_Cycle01",
         "type": "scatter",
         "x": [
          98,
          96,
          96,
          95,
          95,
          95,
          95,
          94,
          93,
          91,
          91,
          90,
          89,
          87,
          87,
          86,
          86,
          85,
          85,
          84,
          83,
          82,
          81,
          81
         ],
         "y": [
          25.16,
          25.07,
          25.05,
          25.03,
          25.01,
          25,
          24.96,
          24.92,
          24.87,
          24.8,
          24.74,
          24.69,
          24.65,
          24.6,
          24.58,
          24.55,
          24.53,
          24.5,
          24.48,
          24.46,
          24.44,
          24.42,
          24.4,
          24.38
         ]
        }
       ],
       "layout": {
        "height": 600,
        "legend": {
         "bordercolor": "black",
         "borderwidth": 2,
         "font": {
          "color": "black",
          "family": "Times New Roman",
          "size": 18
         },
         "x": 0.76,
         "y": 0.99
        },
        "plot_bgcolor": "white",
        "template": {
         "data": {
          "bar": [
           {
            "error_x": {
             "color": "#2a3f5f"
            },
            "error_y": {
             "color": "#2a3f5f"
            },
            "marker": {
             "line": {
              "color": "#E5ECF6",
              "width": 0.5
             },
             "pattern": {
              "fillmode": "overlay",
              "size": 10,
              "solidity": 0.2
             }
            },
            "type": "bar"
           }
          ],
          "barpolar": [
           {
            "marker": {
             "line": {
              "color": "#E5ECF6",
              "width": 0.5
             },
             "pattern": {
              "fillmode": "overlay",
              "size": 10,
              "solidity": 0.2
             }
            },
            "type": "barpolar"
           }
          ],
          "carpet": [
           {
            "aaxis": {
             "endlinecolor": "#2a3f5f",
             "gridcolor": "white",
             "linecolor": "white",
             "minorgridcolor": "white",
             "startlinecolor": "#2a3f5f"
            },
            "baxis": {
             "endlinecolor": "#2a3f5f",
             "gridcolor": "white",
             "linecolor": "white",
             "minorgridcolor": "white",
             "startlinecolor": "#2a3f5f"
            },
            "type": "carpet"
           }
          ],
          "choropleth": [
           {
            "colorbar": {
             "outlinewidth": 0,
             "ticks": ""
            },
            "type": "choropleth"
           }
          ],
          "contour": [
           {
            "colorbar": {
             "outlinewidth": 0,
             "ticks": ""
            },
            "colorscale": [
             [
              0,
              "#0d0887"
             ],
             [
              0.1111111111111111,
              "#46039f"
             ],
             [
              0.2222222222222222,
              "#7201a8"
             ],
             [
              0.3333333333333333,
              "#9c179e"
             ],
             [
              0.4444444444444444,
              "#bd3786"
             ],
             [
              0.5555555555555556,
              "#d8576b"
             ],
             [
              0.6666666666666666,
              "#ed7953"
             ],
             [
              0.7777777777777778,
              "#fb9f3a"
             ],
             [
              0.8888888888888888,
              "#fdca26"
             ],
             [
              1,
              "#f0f921"
             ]
            ],
            "type": "contour"
           }
          ],
          "contourcarpet": [
           {
            "colorbar": {
             "outlinewidth": 0,
             "ticks": ""
            },
            "type": "contourcarpet"
           }
          ],
          "heatmap": [
           {
            "colorbar": {
             "outlinewidth": 0,
             "ticks": ""
            },
            "colorscale": [
             [
              0,
              "#0d0887"
             ],
             [
              0.1111111111111111,
              "#46039f"
             ],
             [
              0.2222222222222222,
              "#7201a8"
             ],
             [
              0.3333333333333333,
              "#9c179e"
             ],
             [
              0.4444444444444444,
              "#bd3786"
             ],
             [
              0.5555555555555556,
              "#d8576b"
             ],
             [
              0.6666666666666666,
              "#ed7953"
             ],
             [
              0.7777777777777778,
              "#fb9f3a"
             ],
             [
              0.8888888888888888,
              "#fdca26"
             ],
             [
              1,
              "#f0f921"
             ]
            ],
            "type": "heatmap"
           }
          ],
          "heatmapgl": [
           {
            "colorbar": {
             "outlinewidth": 0,
             "ticks": ""
            },
            "colorscale": [
             [
              0,
              "#0d0887"
             ],
             [
              0.1111111111111111,
              "#46039f"
             ],
             [
              0.2222222222222222,
              "#7201a8"
             ],
             [
              0.3333333333333333,
              "#9c179e"
             ],
             [
              0.4444444444444444,
              "#bd3786"
             ],
             [
              0.5555555555555556,
              "#d8576b"
             ],
             [
              0.6666666666666666,
              "#ed7953"
             ],
             [
              0.7777777777777778,
              "#fb9f3a"
             ],
             [
              0.8888888888888888,
              "#fdca26"
             ],
             [
              1,
              "#f0f921"
             ]
            ],
            "type": "heatmapgl"
           }
          ],
          "histogram": [
           {
            "marker": {
             "pattern": {
              "fillmode": "overlay",
              "size": 10,
              "solidity": 0.2
             }
            },
            "type": "histogram"
           }
          ],
          "histogram2d": [
           {
            "colorbar": {
             "outlinewidth": 0,
             "ticks": ""
            },
            "colorscale": [
             [
              0,
              "#0d0887"
             ],
             [
              0.1111111111111111,
              "#46039f"
             ],
             [
              0.2222222222222222,
              "#7201a8"
             ],
             [
              0.3333333333333333,
              "#9c179e"
             ],
             [
              0.4444444444444444,
              "#bd3786"
             ],
             [
              0.5555555555555556,
              "#d8576b"
             ],
             [
              0.6666666666666666,
              "#ed7953"
             ],
             [
              0.7777777777777778,
              "#fb9f3a"
             ],
             [
              0.8888888888888888,
              "#fdca26"
             ],
             [
              1,
              "#f0f921"
             ]
            ],
            "type": "histogram2d"
           }
          ],
          "histogram2dcontour": [
           {
            "colorbar": {
             "outlinewidth": 0,
             "ticks": ""
            },
            "colorscale": [
             [
              0,
              "#0d0887"
             ],
             [
              0.1111111111111111,
              "#46039f"
             ],
             [
              0.2222222222222222,
              "#7201a8"
             ],
             [
              0.3333333333333333,
              "#9c179e"
             ],
             [
              0.4444444444444444,
              "#bd3786"
             ],
             [
              0.5555555555555556,
              "#d8576b"
             ],
             [
              0.6666666666666666,
              "#ed7953"
             ],
             [
              0.7777777777777778,
              "#fb9f3a"
             ],
             [
              0.8888888888888888,
              "#fdca26"
             ],
             [
              1,
              "#f0f921"
             ]
            ],
            "type": "histogram2dcontour"
           }
          ],
          "mesh3d": [
           {
            "colorbar": {
             "outlinewidth": 0,
             "ticks": ""
            },
            "type": "mesh3d"
           }
          ],
          "parcoords": [
           {
            "line": {
             "colorbar": {
              "outlinewidth": 0,
              "ticks": ""
             }
            },
            "type": "parcoords"
           }
          ],
          "pie": [
           {
            "automargin": true,
            "type": "pie"
           }
          ],
          "scatter": [
           {
            "fillpattern": {
             "fillmode": "overlay",
             "size": 10,
             "solidity": 0.2
            },
            "type": "scatter"
           }
          ],
          "scatter3d": [
           {
            "line": {
             "colorbar": {
              "outlinewidth": 0,
              "ticks": ""
             }
            },
            "marker": {
             "colorbar": {
              "outlinewidth": 0,
              "ticks": ""
             }
            },
            "type": "scatter3d"
           }
          ],
          "scattercarpet": [
           {
            "marker": {
             "colorbar": {
              "outlinewidth": 0,
              "ticks": ""
             }
            },
            "type": "scattercarpet"
           }
          ],
          "scattergeo": [
           {
            "marker": {
             "colorbar": {
              "outlinewidth": 0,
              "ticks": ""
             }
            },
            "type": "scattergeo"
           }
          ],
          "scattergl": [
           {
            "marker": {
             "colorbar": {
              "outlinewidth": 0,
              "ticks": ""
             }
            },
            "type": "scattergl"
           }
          ],
          "scattermapbox": [
           {
            "marker": {
             "colorbar": {
              "outlinewidth": 0,
              "ticks": ""
             }
            },
            "type": "scattermapbox"
           }
          ],
          "scatterpolar": [
           {
            "marker": {
             "colorbar": {
              "outlinewidth": 0,
              "ticks": ""
             }
            },
            "type": "scatterpolar"
           }
          ],
          "scatterpolargl": [
           {
            "marker": {
             "colorbar": {
              "outlinewidth": 0,
              "ticks": ""
             }
            },
            "type": "scatterpolargl"
           }
          ],
          "scatterternary": [
           {
            "marker": {
             "colorbar": {
              "outlinewidth": 0,
              "ticks": ""
             }
            },
            "type": "scatterternary"
           }
          ],
          "surface": [
           {
            "colorbar": {
             "outlinewidth": 0,
             "ticks": ""
            },
            "colorscale": [
             [
              0,
              "#0d0887"
             ],
             [
              0.1111111111111111,
              "#46039f"
             ],
             [
              0.2222222222222222,
              "#7201a8"
             ],
             [
              0.3333333333333333,
              "#9c179e"
             ],
             [
              0.4444444444444444,
              "#bd3786"
             ],
             [
              0.5555555555555556,
              "#d8576b"
             ],
             [
              0.6666666666666666,
              "#ed7953"
             ],
             [
              0.7777777777777778,
              "#fb9f3a"
             ],
             [
              0.8888888888888888,
              "#fdca26"
             ],
             [
              1,
              "#f0f921"
             ]
            ],
            "type": "surface"
           }
          ],
          "table": [
           {
            "cells": {
             "fill": {
              "color": "#EBF0F8"
             },
             "line": {
              "color": "white"
             }
            },
            "header": {
             "fill": {
              "color": "#C8D4E3"
             },
             "line": {
              "color": "white"
             }
            },
            "type": "table"
           }
          ]
         },
         "layout": {
          "annotationdefaults": {
           "arrowcolor": "#2a3f5f",
           "arrowhead": 0,
           "arrowwidth": 1
          },
          "autotypenumbers": "strict",
          "coloraxis": {
           "colorbar": {
            "outlinewidth": 0,
            "ticks": ""
           }
          },
          "colorscale": {
           "diverging": [
            [
             0,
             "#8e0152"
            ],
            [
             0.1,
             "#c51b7d"
            ],
            [
             0.2,
             "#de77ae"
            ],
            [
             0.3,
             "#f1b6da"
            ],
            [
             0.4,
             "#fde0ef"
            ],
            [
             0.5,
             "#f7f7f7"
            ],
            [
             0.6,
             "#e6f5d0"
            ],
            [
             0.7,
             "#b8e186"
            ],
            [
             0.8,
             "#7fbc41"
            ],
            [
             0.9,
             "#4d9221"
            ],
            [
             1,
             "#276419"
            ]
           ],
           "sequential": [
            [
             0,
             "#0d0887"
            ],
            [
             0.1111111111111111,
             "#46039f"
            ],
            [
             0.2222222222222222,
             "#7201a8"
            ],
            [
             0.3333333333333333,
             "#9c179e"
            ],
            [
             0.4444444444444444,
             "#bd3786"
            ],
            [
             0.5555555555555556,
             "#d8576b"
            ],
            [
             0.6666666666666666,
             "#ed7953"
            ],
            [
             0.7777777777777778,
             "#fb9f3a"
            ],
            [
             0.8888888888888888,
             "#fdca26"
            ],
            [
             1,
             "#f0f921"
            ]
           ],
           "sequentialminus": [
            [
             0,
             "#0d0887"
            ],
            [
             0.1111111111111111,
             "#46039f"
            ],
            [
             0.2222222222222222,
             "#7201a8"
            ],
            [
             0.3333333333333333,
             "#9c179e"
            ],
            [
             0.4444444444444444,
             "#bd3786"
            ],
            [
             0.5555555555555556,
             "#d8576b"
            ],
            [
             0.6666666666666666,
             "#ed7953"
            ],
            [
             0.7777777777777778,
             "#fb9f3a"
            ],
            [
             0.8888888888888888,
             "#fdca26"
            ],
            [
             1,
             "#f0f921"
            ]
           ]
          },
          "colorway": [
           "#636efa",
           "#EF553B",
           "#00cc96",
           "#ab63fa",
           "#FFA15A",
           "#19d3f3",
           "#FF6692",
           "#B6E880",
           "#FF97FF",
           "#FECB52"
          ],
          "font": {
           "color": "#2a3f5f"
          },
          "geo": {
           "bgcolor": "white",
           "lakecolor": "white",
           "landcolor": "#E5ECF6",
           "showlakes": true,
           "showland": true,
           "subunitcolor": "white"
          },
          "hoverlabel": {
           "align": "left"
          },
          "hovermode": "closest",
          "mapbox": {
           "style": "light"
          },
          "paper_bgcolor": "white",
          "plot_bgcolor": "#E5ECF6",
          "polar": {
           "angularaxis": {
            "gridcolor": "white",
            "linecolor": "white",
            "ticks": ""
           },
           "bgcolor": "#E5ECF6",
           "radialaxis": {
            "gridcolor": "white",
            "linecolor": "white",
            "ticks": ""
           }
          },
          "scene": {
           "xaxis": {
            "backgroundcolor": "#E5ECF6",
            "gridcolor": "white",
            "gridwidth": 2,
            "linecolor": "white",
            "showbackground": true,
            "ticks": "",
            "zerolinecolor": "white"
           },
           "yaxis": {
            "backgroundcolor": "#E5ECF6",
            "gridcolor": "white",
            "gridwidth": 2,
            "linecolor": "white",
            "showbackground": true,
            "ticks": "",
            "zerolinecolor": "white"
           },
           "zaxis": {
            "backgroundcolor": "#E5ECF6",
            "gridcolor": "white",
            "gridwidth": 2,
            "linecolor": "white",
            "showbackground": true,
            "ticks": "",
            "zerolinecolor": "white"
           }
          },
          "shapedefaults": {
           "line": {
            "color": "#2a3f5f"
           }
          },
          "ternary": {
           "aaxis": {
            "gridcolor": "white",
            "linecolor": "white",
            "ticks": ""
           },
           "baxis": {
            "gridcolor": "white",
            "linecolor": "white",
            "ticks": ""
           },
           "bgcolor": "#E5ECF6",
           "caxis": {
            "gridcolor": "white",
            "linecolor": "white",
            "ticks": ""
           }
          },
          "title": {
           "x": 0.05
          },
          "xaxis": {
           "automargin": true,
           "gridcolor": "white",
           "linecolor": "white",
           "ticks": "",
           "title": {
            "standoff": 15
           },
           "zerolinecolor": "white",
           "zerolinewidth": 2
          },
          "yaxis": {
           "automargin": true,
           "gridcolor": "white",
           "linecolor": "white",
           "ticks": "",
           "title": {
            "standoff": 15
           },
           "zerolinecolor": "white",
           "zerolinewidth": 2
          }
         }
        },
        "title": {
         "font": {
          "color": "black",
          "family": "Times New Roman",
          "size": 30
         },
         "text": "UUT#3_Cycle01",
         "x": 0.5,
         "xanchor": "center",
         "y": 0.9,
         "yanchor": "top"
        },
        "width": 1200,
        "xaxis": {
         "autorange": "reversed",
         "gridcolor": "LightPink",
         "gridwidth": 1,
         "linecolor": "black",
         "linewidth": 2,
         "mirror": true,
         "showgrid": true,
         "showline": true,
         "tickfont": {
          "color": "black",
          "family": "Times New Roman",
          "size": 24
         },
         "ticks": "outside",
         "title": {
          "font": {
           "color": "black",
           "family": "Times New Roman",
           "size": 24
          },
          "standoff": 5,
          "text": "Battery Pack SOC (%)"
         }
        },
        "yaxis": {
         "gridcolor": "LightPink",
         "gridwidth": 1,
         "linecolor": "black",
         "linewidth": 2,
         "mirror": true,
         "showgrid": true,
         "showline": true,
         "tickfont": {
          "color": "black",
          "family": "Times New Roman",
          "size": 24
         },
         "ticks": "outside",
         "title": {
          "font": {
           "color": "black",
           "family": "Times New Roman",
           "size": 24
          },
          "standoff": 5,
          "text": "Battery Pack Voltages (V) "
         }
        }
       }
      }
     },
     "metadata": {},
     "output_type": "display_data"
    },
    {
     "data": {
      "application/vnd.plotly.v1+json": {
       "config": {
        "plotlyServerURL": "https://plot.ly"
       },
       "data": [
        {
         "line": {
          "color": "black",
          "width": 4
         },
         "marker": {
          "color": "black",
          "size": 10,
          "symbol": "hexagon"
         },
         "name": "UUT#3_Cycle02",
         "type": "scatter",
         "x": [
          44,
          45,
          45,
          45,
          42,
          44,
          43,
          42,
          42,
          41,
          42,
          39,
          39,
          40,
          40,
          35,
          38,
          38,
          37,
          37,
          35,
          36,
          35
         ],
         "y": [
          23.07,
          23.07,
          23.07,
          23.07,
          23.05,
          23.05,
          23.03,
          23.02,
          23.02,
          23,
          23.01,
          22.99,
          22.98,
          22.98,
          22.97,
          22.95,
          22.95,
          22.95,
          22.93,
          22.93,
          22.92,
          22.91,
          22.9
         ]
        }
       ],
       "layout": {
        "height": 600,
        "legend": {
         "bordercolor": "black",
         "borderwidth": 2,
         "font": {
          "color": "black",
          "family": "Times New Roman",
          "size": 18
         },
         "x": 0.76,
         "y": 0.99
        },
        "plot_bgcolor": "white",
        "template": {
         "data": {
          "bar": [
           {
            "error_x": {
             "color": "#2a3f5f"
            },
            "error_y": {
             "color": "#2a3f5f"
            },
            "marker": {
             "line": {
              "color": "#E5ECF6",
              "width": 0.5
             },
             "pattern": {
              "fillmode": "overlay",
              "size": 10,
              "solidity": 0.2
             }
            },
            "type": "bar"
           }
          ],
          "barpolar": [
           {
            "marker": {
             "line": {
              "color": "#E5ECF6",
              "width": 0.5
             },
             "pattern": {
              "fillmode": "overlay",
              "size": 10,
              "solidity": 0.2
             }
            },
            "type": "barpolar"
           }
          ],
          "carpet": [
           {
            "aaxis": {
             "endlinecolor": "#2a3f5f",
             "gridcolor": "white",
             "linecolor": "white",
             "minorgridcolor": "white",
             "startlinecolor": "#2a3f5f"
            },
            "baxis": {
             "endlinecolor": "#2a3f5f",
             "gridcolor": "white",
             "linecolor": "white",
             "minorgridcolor": "white",
             "startlinecolor": "#2a3f5f"
            },
            "type": "carpet"
           }
          ],
          "choropleth": [
           {
            "colorbar": {
             "outlinewidth": 0,
             "ticks": ""
            },
            "type": "choropleth"
           }
          ],
          "contour": [
           {
            "colorbar": {
             "outlinewidth": 0,
             "ticks": ""
            },
            "colorscale": [
             [
              0,
              "#0d0887"
             ],
             [
              0.1111111111111111,
              "#46039f"
             ],
             [
              0.2222222222222222,
              "#7201a8"
             ],
             [
              0.3333333333333333,
              "#9c179e"
             ],
             [
              0.4444444444444444,
              "#bd3786"
             ],
             [
              0.5555555555555556,
              "#d8576b"
             ],
             [
              0.6666666666666666,
              "#ed7953"
             ],
             [
              0.7777777777777778,
              "#fb9f3a"
             ],
             [
              0.8888888888888888,
              "#fdca26"
             ],
             [
              1,
              "#f0f921"
             ]
            ],
            "type": "contour"
           }
          ],
          "contourcarpet": [
           {
            "colorbar": {
             "outlinewidth": 0,
             "ticks": ""
            },
            "type": "contourcarpet"
           }
          ],
          "heatmap": [
           {
            "colorbar": {
             "outlinewidth": 0,
             "ticks": ""
            },
            "colorscale": [
             [
              0,
              "#0d0887"
             ],
             [
              0.1111111111111111,
              "#46039f"
             ],
             [
              0.2222222222222222,
              "#7201a8"
             ],
             [
              0.3333333333333333,
              "#9c179e"
             ],
             [
              0.4444444444444444,
              "#bd3786"
             ],
             [
              0.5555555555555556,
              "#d8576b"
             ],
             [
              0.6666666666666666,
              "#ed7953"
             ],
             [
              0.7777777777777778,
              "#fb9f3a"
             ],
             [
              0.8888888888888888,
              "#fdca26"
             ],
             [
              1,
              "#f0f921"
             ]
            ],
            "type": "heatmap"
           }
          ],
          "heatmapgl": [
           {
            "colorbar": {
             "outlinewidth": 0,
             "ticks": ""
            },
            "colorscale": [
             [
              0,
              "#0d0887"
             ],
             [
              0.1111111111111111,
              "#46039f"
             ],
             [
              0.2222222222222222,
              "#7201a8"
             ],
             [
              0.3333333333333333,
              "#9c179e"
             ],
             [
              0.4444444444444444,
              "#bd3786"
             ],
             [
              0.5555555555555556,
              "#d8576b"
             ],
             [
              0.6666666666666666,
              "#ed7953"
             ],
             [
              0.7777777777777778,
              "#fb9f3a"
             ],
             [
              0.8888888888888888,
              "#fdca26"
             ],
             [
              1,
              "#f0f921"
             ]
            ],
            "type": "heatmapgl"
           }
          ],
          "histogram": [
           {
            "marker": {
             "pattern": {
              "fillmode": "overlay",
              "size": 10,
              "solidity": 0.2
             }
            },
            "type": "histogram"
           }
          ],
          "histogram2d": [
           {
            "colorbar": {
             "outlinewidth": 0,
             "ticks": ""
            },
            "colorscale": [
             [
              0,
              "#0d0887"
             ],
             [
              0.1111111111111111,
              "#46039f"
             ],
             [
              0.2222222222222222,
              "#7201a8"
             ],
             [
              0.3333333333333333,
              "#9c179e"
             ],
             [
              0.4444444444444444,
              "#bd3786"
             ],
             [
              0.5555555555555556,
              "#d8576b"
             ],
             [
              0.6666666666666666,
              "#ed7953"
             ],
             [
              0.7777777777777778,
              "#fb9f3a"
             ],
             [
              0.8888888888888888,
              "#fdca26"
             ],
             [
              1,
              "#f0f921"
             ]
            ],
            "type": "histogram2d"
           }
          ],
          "histogram2dcontour": [
           {
            "colorbar": {
             "outlinewidth": 0,
             "ticks": ""
            },
            "colorscale": [
             [
              0,
              "#0d0887"
             ],
             [
              0.1111111111111111,
              "#46039f"
             ],
             [
              0.2222222222222222,
              "#7201a8"
             ],
             [
              0.3333333333333333,
              "#9c179e"
             ],
             [
              0.4444444444444444,
              "#bd3786"
             ],
             [
              0.5555555555555556,
              "#d8576b"
             ],
             [
              0.6666666666666666,
              "#ed7953"
             ],
             [
              0.7777777777777778,
              "#fb9f3a"
             ],
             [
              0.8888888888888888,
              "#fdca26"
             ],
             [
              1,
              "#f0f921"
             ]
            ],
            "type": "histogram2dcontour"
           }
          ],
          "mesh3d": [
           {
            "colorbar": {
             "outlinewidth": 0,
             "ticks": ""
            },
            "type": "mesh3d"
           }
          ],
          "parcoords": [
           {
            "line": {
             "colorbar": {
              "outlinewidth": 0,
              "ticks": ""
             }
            },
            "type": "parcoords"
           }
          ],
          "pie": [
           {
            "automargin": true,
            "type": "pie"
           }
          ],
          "scatter": [
           {
            "fillpattern": {
             "fillmode": "overlay",
             "size": 10,
             "solidity": 0.2
            },
            "type": "scatter"
           }
          ],
          "scatter3d": [
           {
            "line": {
             "colorbar": {
              "outlinewidth": 0,
              "ticks": ""
             }
            },
            "marker": {
             "colorbar": {
              "outlinewidth": 0,
              "ticks": ""
             }
            },
            "type": "scatter3d"
           }
          ],
          "scattercarpet": [
           {
            "marker": {
             "colorbar": {
              "outlinewidth": 0,
              "ticks": ""
             }
            },
            "type": "scattercarpet"
           }
          ],
          "scattergeo": [
           {
            "marker": {
             "colorbar": {
              "outlinewidth": 0,
              "ticks": ""
             }
            },
            "type": "scattergeo"
           }
          ],
          "scattergl": [
           {
            "marker": {
             "colorbar": {
              "outlinewidth": 0,
              "ticks": ""
             }
            },
            "type": "scattergl"
           }
          ],
          "scattermapbox": [
           {
            "marker": {
             "colorbar": {
              "outlinewidth": 0,
              "ticks": ""
             }
            },
            "type": "scattermapbox"
           }
          ],
          "scatterpolar": [
           {
            "marker": {
             "colorbar": {
              "outlinewidth": 0,
              "ticks": ""
             }
            },
            "type": "scatterpolar"
           }
          ],
          "scatterpolargl": [
           {
            "marker": {
             "colorbar": {
              "outlinewidth": 0,
              "ticks": ""
             }
            },
            "type": "scatterpolargl"
           }
          ],
          "scatterternary": [
           {
            "marker": {
             "colorbar": {
              "outlinewidth": 0,
              "ticks": ""
             }
            },
            "type": "scatterternary"
           }
          ],
          "surface": [
           {
            "colorbar": {
             "outlinewidth": 0,
             "ticks": ""
            },
            "colorscale": [
             [
              0,
              "#0d0887"
             ],
             [
              0.1111111111111111,
              "#46039f"
             ],
             [
              0.2222222222222222,
              "#7201a8"
             ],
             [
              0.3333333333333333,
              "#9c179e"
             ],
             [
              0.4444444444444444,
              "#bd3786"
             ],
             [
              0.5555555555555556,
              "#d8576b"
             ],
             [
              0.6666666666666666,
              "#ed7953"
             ],
             [
              0.7777777777777778,
              "#fb9f3a"
             ],
             [
              0.8888888888888888,
              "#fdca26"
             ],
             [
              1,
              "#f0f921"
             ]
            ],
            "type": "surface"
           }
          ],
          "table": [
           {
            "cells": {
             "fill": {
              "color": "#EBF0F8"
             },
             "line": {
              "color": "white"
             }
            },
            "header": {
             "fill": {
              "color": "#C8D4E3"
             },
             "line": {
              "color": "white"
             }
            },
            "type": "table"
           }
          ]
         },
         "layout": {
          "annotationdefaults": {
           "arrowcolor": "#2a3f5f",
           "arrowhead": 0,
           "arrowwidth": 1
          },
          "autotypenumbers": "strict",
          "coloraxis": {
           "colorbar": {
            "outlinewidth": 0,
            "ticks": ""
           }
          },
          "colorscale": {
           "diverging": [
            [
             0,
             "#8e0152"
            ],
            [
             0.1,
             "#c51b7d"
            ],
            [
             0.2,
             "#de77ae"
            ],
            [
             0.3,
             "#f1b6da"
            ],
            [
             0.4,
             "#fde0ef"
            ],
            [
             0.5,
             "#f7f7f7"
            ],
            [
             0.6,
             "#e6f5d0"
            ],
            [
             0.7,
             "#b8e186"
            ],
            [
             0.8,
             "#7fbc41"
            ],
            [
             0.9,
             "#4d9221"
            ],
            [
             1,
             "#276419"
            ]
           ],
           "sequential": [
            [
             0,
             "#0d0887"
            ],
            [
             0.1111111111111111,
             "#46039f"
            ],
            [
             0.2222222222222222,
             "#7201a8"
            ],
            [
             0.3333333333333333,
             "#9c179e"
            ],
            [
             0.4444444444444444,
             "#bd3786"
            ],
            [
             0.5555555555555556,
             "#d8576b"
            ],
            [
             0.6666666666666666,
             "#ed7953"
            ],
            [
             0.7777777777777778,
             "#fb9f3a"
            ],
            [
             0.8888888888888888,
             "#fdca26"
            ],
            [
             1,
             "#f0f921"
            ]
           ],
           "sequentialminus": [
            [
             0,
             "#0d0887"
            ],
            [
             0.1111111111111111,
             "#46039f"
            ],
            [
             0.2222222222222222,
             "#7201a8"
            ],
            [
             0.3333333333333333,
             "#9c179e"
            ],
            [
             0.4444444444444444,
             "#bd3786"
            ],
            [
             0.5555555555555556,
             "#d8576b"
            ],
            [
             0.6666666666666666,
             "#ed7953"
            ],
            [
             0.7777777777777778,
             "#fb9f3a"
            ],
            [
             0.8888888888888888,
             "#fdca26"
            ],
            [
             1,
             "#f0f921"
            ]
           ]
          },
          "colorway": [
           "#636efa",
           "#EF553B",
           "#00cc96",
           "#ab63fa",
           "#FFA15A",
           "#19d3f3",
           "#FF6692",
           "#B6E880",
           "#FF97FF",
           "#FECB52"
          ],
          "font": {
           "color": "#2a3f5f"
          },
          "geo": {
           "bgcolor": "white",
           "lakecolor": "white",
           "landcolor": "#E5ECF6",
           "showlakes": true,
           "showland": true,
           "subunitcolor": "white"
          },
          "hoverlabel": {
           "align": "left"
          },
          "hovermode": "closest",
          "mapbox": {
           "style": "light"
          },
          "paper_bgcolor": "white",
          "plot_bgcolor": "#E5ECF6",
          "polar": {
           "angularaxis": {
            "gridcolor": "white",
            "linecolor": "white",
            "ticks": ""
           },
           "bgcolor": "#E5ECF6",
           "radialaxis": {
            "gridcolor": "white",
            "linecolor": "white",
            "ticks": ""
           }
          },
          "scene": {
           "xaxis": {
            "backgroundcolor": "#E5ECF6",
            "gridcolor": "white",
            "gridwidth": 2,
            "linecolor": "white",
            "showbackground": true,
            "ticks": "",
            "zerolinecolor": "white"
           },
           "yaxis": {
            "backgroundcolor": "#E5ECF6",
            "gridcolor": "white",
            "gridwidth": 2,
            "linecolor": "white",
            "showbackground": true,
            "ticks": "",
            "zerolinecolor": "white"
           },
           "zaxis": {
            "backgroundcolor": "#E5ECF6",
            "gridcolor": "white",
            "gridwidth": 2,
            "linecolor": "white",
            "showbackground": true,
            "ticks": "",
            "zerolinecolor": "white"
           }
          },
          "shapedefaults": {
           "line": {
            "color": "#2a3f5f"
           }
          },
          "ternary": {
           "aaxis": {
            "gridcolor": "white",
            "linecolor": "white",
            "ticks": ""
           },
           "baxis": {
            "gridcolor": "white",
            "linecolor": "white",
            "ticks": ""
           },
           "bgcolor": "#E5ECF6",
           "caxis": {
            "gridcolor": "white",
            "linecolor": "white",
            "ticks": ""
           }
          },
          "title": {
           "x": 0.05
          },
          "xaxis": {
           "automargin": true,
           "gridcolor": "white",
           "linecolor": "white",
           "ticks": "",
           "title": {
            "standoff": 15
           },
           "zerolinecolor": "white",
           "zerolinewidth": 2
          },
          "yaxis": {
           "automargin": true,
           "gridcolor": "white",
           "linecolor": "white",
           "ticks": "",
           "title": {
            "standoff": 15
           },
           "zerolinecolor": "white",
           "zerolinewidth": 2
          }
         }
        },
        "title": {
         "font": {
          "color": "black",
          "family": "Times New Roman",
          "size": 30
         },
         "text": "UUT#3_Cycle02",
         "x": 0.5,
         "xanchor": "center",
         "y": 0.9,
         "yanchor": "top"
        },
        "width": 1200,
        "xaxis": {
         "autorange": "reversed",
         "gridcolor": "LightPink",
         "gridwidth": 1,
         "linecolor": "black",
         "linewidth": 2,
         "mirror": true,
         "showgrid": true,
         "showline": true,
         "tickfont": {
          "color": "black",
          "family": "Times New Roman",
          "size": 24
         },
         "ticks": "outside",
         "title": {
          "font": {
           "color": "black",
           "family": "Times New Roman",
           "size": 24
          },
          "standoff": 5,
          "text": "Battery Pack SOC (%)"
         }
        },
        "yaxis": {
         "gridcolor": "LightPink",
         "gridwidth": 1,
         "linecolor": "black",
         "linewidth": 2,
         "mirror": true,
         "showgrid": true,
         "showline": true,
         "tickfont": {
          "color": "black",
          "family": "Times New Roman",
          "size": 24
         },
         "ticks": "outside",
         "title": {
          "font": {
           "color": "black",
           "family": "Times New Roman",
           "size": 24
          },
          "standoff": 5,
          "text": "Battery Pack Voltages (V) "
         }
        }
       }
      }
     },
     "metadata": {},
     "output_type": "display_data"
    }
   ],
   "source": [
    "# battery 3\n",
    "fig = go.Figure()\n",
    "fig.add_trace(go.Scatter(x=df3_1['Battery SOC [%]'], y=df3_1['Battery OCV [V]'], name='UUT#3_Cycle01', line=dict(color='#20f200', width=4), marker=dict(size=10, color='black', symbol='hexagon')))\n",
    "#fig.add_trace(go.Scatter(x=df3_2['Battery SOC [%]'], y=df3_2['Battery OCV [V]'], name='UUT#3_Cycle02', line=dict(color='black', width=4), marker=dict(size=10, color='black', symbol='hexagon')))\n",
    "\n",
    "\n",
    "# flip the x and y axis\n",
    "fig.update_layout(xaxis=dict(autorange=\"reversed\"))\n",
    "fig.update_layout(title='UUT#3_Cycle01')\n",
    "# add description below the title as subtitle\n",
    "fig.update_layout(title={'y': 0.9, 'x': 0.5, 'xanchor': 'center', 'yanchor': 'top'})\n",
    "# add axis line and ticks\n",
    "fig.update_xaxes(showline=True, linewidth=2, linecolor='black', mirror=True, ticks=\"outside\")\n",
    "fig.update_yaxes(showline=True, linewidth=2, linecolor='black', mirror=True, ticks=\"outside\")\n",
    "# Make x labels larger, and Times New Roman\n",
    "fig.update_xaxes(title_text=\"Battery Pack SOC (%)\", title_font=dict(size=24, family='Times New Roman', color='black'), title_standoff=25)\n",
    "# Make y labels larger, and Times New Roman\n",
    "fig.update_yaxes(title_text=\"Battery Pack Voltages (V) \", title_font=dict(size=24, family='Times New Roman', color='black'), title_standoff=25)\n",
    "# change the legend font size and font family\n",
    "fig.update_layout(legend=dict(font=dict(size=18, family='Times New Roman', color='black')))\n",
    "# make background white\n",
    "fig.update_layout(plot_bgcolor='white')\n",
    "# Move x-label and y-label to the center\n",
    "fig.update_layout(xaxis=dict(title=dict(standoff=5)), yaxis=dict(title=dict(standoff=5)))\n",
    "# Icncrease x-axis and y-axis tick font size and font family\n",
    "fig.update_xaxes(tickfont=dict(size=24, family='Times New Roman', color='black'))\n",
    "fig.update_yaxes(tickfont=dict(size=24, family='Times New Roman', color='black'))\n",
    "# add grid\n",
    "fig.update_layout(xaxis=dict(showgrid=True, gridwidth=1, gridcolor='LightPink'), yaxis=dict(showgrid=True, gridwidth=1, gridcolor='LightPink'))\n",
    "# add figure size\n",
    "fig.update_layout(width=1200, height=600)\n",
    "# keep the legend inside the plot area\n",
    "fig.update_layout(legend=dict(x=0.76, y=0.99))\n",
    "# Make title larger, and Times New Roman and center\n",
    "fig.update_layout(title=dict(font=dict(size=30, family='Times New Roman', color='black'), x=0.5, xanchor='center'))\n",
    "# add box around the legend\n",
    "fig.update_layout(legend=dict(bordercolor='black', borderwidth=2))\n",
    "fig.show()\n",
    "\n",
    "fig = go.Figure()\n",
    "#fig.add_trace(go.Scatter(x=df3_1['Battery SOC [%]'], y=df3_1['Battery OCV [V]'], name='UUT#3_Cycle01', line=dict(color='#20f200', width=4), marker=dict(size=10, color='black', symbol='hexagon')))\n",
    "fig.add_trace(go.Scatter(x=df3_2['Battery SOC [%]'], y=df3_2['Battery OCV [V]'], name='UUT#3_Cycle02', line=dict(color='black', width=4), marker=dict(size=10, color='black', symbol='hexagon')))\n",
    "\n",
    "\n",
    "# flip the x and y axis\n",
    "fig.update_layout(xaxis=dict(autorange=\"reversed\"))\n",
    "fig.update_layout(title='UUT#3_Cycle02')\n",
    "# add description below the title as subtitle\n",
    "fig.update_layout(title={'y': 0.9, 'x': 0.5, 'xanchor': 'center', 'yanchor': 'top'})\n",
    "# add axis line and ticks\n",
    "fig.update_xaxes(showline=True, linewidth=2, linecolor='black', mirror=True, ticks=\"outside\")\n",
    "fig.update_yaxes(showline=True, linewidth=2, linecolor='black', mirror=True, ticks=\"outside\")\n",
    "# Make x labels larger, and Times New Roman\n",
    "fig.update_xaxes(title_text=\"Battery Pack SOC (%)\", title_font=dict(size=24, family='Times New Roman', color='black'), title_standoff=25)\n",
    "# Make y labels larger, and Times New Roman\n",
    "fig.update_yaxes(title_text=\"Battery Pack Voltages (V) \", title_font=dict(size=24, family='Times New Roman', color='black'), title_standoff=25)\n",
    "# change the legend font size and font family\n",
    "fig.update_layout(legend=dict(font=dict(size=18, family='Times New Roman', color='black')))\n",
    "# make background white\n",
    "fig.update_layout(plot_bgcolor='white')\n",
    "# Move x-label and y-label to the center\n",
    "fig.update_layout(xaxis=dict(title=dict(standoff=5)), yaxis=dict(title=dict(standoff=5)))\n",
    "# Icncrease x-axis and y-axis tick font size and font family\n",
    "fig.update_xaxes(tickfont=dict(size=24, family='Times New Roman', color='black'))\n",
    "fig.update_yaxes(tickfont=dict(size=24, family='Times New Roman', color='black'))\n",
    "# add grid\n",
    "fig.update_layout(xaxis=dict(showgrid=True, gridwidth=1, gridcolor='LightPink'), yaxis=dict(showgrid=True, gridwidth=1, gridcolor='LightPink'))\n",
    "# add figure size\n",
    "fig.update_layout(width=1200, height=600)\n",
    "# keep the legend inside the plot area\n",
    "fig.update_layout(legend=dict(x=0.76, y=0.99))\n",
    "# Make title larger, and Times New Roman and center\n",
    "fig.update_layout(title=dict(font=dict(size=30, family='Times New Roman', color='black'), x=0.5, xanchor='center'))\n",
    "# add box around the legend\n",
    "fig.update_layout(legend=dict(bordercolor='black', borderwidth=2))\n",
    "fig.show()"
   ]
  },
  {
   "cell_type": "code",
   "execution_count": 169,
   "metadata": {},
   "outputs": [
    {
     "data": {
      "application/vnd.plotly.v1+json": {
       "config": {
        "plotlyServerURL": "https://plot.ly"
       },
       "data": [
        {
         "line": {
          "color": "light blue",
          "width": 4
         },
         "marker": {
          "color": "black",
          "size": 10,
          "symbol": "circle"
         },
         "name": "Cell1",
         "type": "scatter",
         "x": [
          98,
          96,
          96,
          95,
          95,
          95,
          95,
          94,
          93,
          91,
          91,
          90,
          89,
          87,
          87,
          86,
          86,
          85,
          85,
          84,
          83,
          82,
          81,
          81
         ],
         "y": [
          4.174,
          4.159,
          4.157,
          4.153,
          4.15,
          4.15,
          4.145,
          4.138,
          4.131,
          4.121,
          4.115,
          4.107,
          4.098,
          4.079,
          4.086,
          4.082,
          4.078,
          4.075,
          4.073,
          4.067,
          4.066,
          4.065,
          4.062,
          4.059
         ]
        },
        {
         "line": {
          "color": "#768fb8",
          "width": 4
         },
         "marker": {
          "color": "black",
          "size": 10,
          "symbol": "circle"
         },
         "name": "Cell2",
         "type": "scatter",
         "x": [
          98,
          96,
          96,
          95,
          95,
          95,
          95,
          94,
          93,
          91,
          91,
          90,
          89,
          87,
          87,
          86,
          86,
          85,
          85,
          84,
          83,
          82,
          81,
          81
         ],
         "y": [
          4.201,
          4.185,
          4.182,
          4.176,
          4.173,
          4.172,
          4.167,
          4.159,
          4.151,
          4.142,
          4.129,
          4.119,
          4.114,
          4.108,
          4.103,
          4.098,
          4.094,
          4.09,
          4.087,
          4.084,
          4.082,
          4.08,
          4.078,
          4.076
         ]
        },
        {
         "line": {
          "color": "green",
          "width": 4
         },
         "marker": {
          "color": "black",
          "size": 10,
          "symbol": "circle"
         },
         "name": "Cell3",
         "type": "scatter",
         "x": [
          98,
          96,
          96,
          95,
          95,
          95,
          95,
          94,
          93,
          91,
          91,
          90,
          89,
          87,
          87,
          86,
          86,
          85,
          85,
          84,
          83,
          82,
          81,
          81
         ],
         "y": [
          4.197,
          4.182,
          4.178,
          4.174,
          4.17,
          4.169,
          4.164,
          4.156,
          4.147,
          4.138,
          4.125,
          4.115,
          4.109,
          4.104,
          4.098,
          4.092,
          4.089,
          4.084,
          4.082,
          4.078,
          4.076,
          4.073,
          4.071,
          4.069
         ]
        },
        {
         "line": {
          "color": "yellow",
          "width": 4
         },
         "marker": {
          "color": "black",
          "size": 10,
          "symbol": "circle"
         },
         "name": "Cell4",
         "type": "scatter",
         "x": [
          98,
          96,
          96,
          95,
          95,
          95,
          95,
          94,
          93,
          91,
          91,
          90,
          89,
          87,
          87,
          86,
          86,
          85,
          85,
          84,
          83,
          82,
          81,
          81
         ],
         "y": [
          4.198,
          4.182,
          4.179,
          4.175,
          4.173,
          4.171,
          4.166,
          4.16,
          4.153,
          4.143,
          4.131,
          4.124,
          4.118,
          4.113,
          4.109,
          4.104,
          4.1,
          4.096,
          4.092,
          4.089,
          4.086,
          4.084,
          4.082,
          4.08
         ]
        },
        {
         "line": {
          "color": "magenta",
          "width": 4
         },
         "marker": {
          "color": "black",
          "size": 10,
          "symbol": "circle"
         },
         "name": "Cell5",
         "type": "scatter",
         "x": [
          98,
          96,
          96,
          95,
          95,
          95,
          95,
          94,
          93,
          91,
          91,
          90,
          89,
          87,
          87,
          86,
          86,
          85,
          85,
          84,
          83,
          82,
          81,
          81
         ],
         "y": [
          4.195,
          4.181,
          4.177,
          4.174,
          4.171,
          4.169,
          4.164,
          4.156,
          4.145,
          4.136,
          4.128,
          4.12,
          4.115,
          4.109,
          4.104,
          4.099,
          4.096,
          4.092,
          4.088,
          4.084,
          4.081,
          4.077,
          4.073,
          4.07
         ]
        },
        {
         "line": {
          "color": "red",
          "width": 4
         },
         "marker": {
          "color": "black",
          "size": 10,
          "symbol": "circle"
         },
         "name": "Cell6",
         "type": "scatter",
         "x": [
          98,
          96,
          96,
          95,
          95,
          95,
          95,
          94,
          93,
          91,
          91,
          90,
          89,
          87,
          87,
          86,
          86,
          85,
          85,
          84,
          83,
          82,
          81,
          81
         ],
         "y": [
          4.199,
          4.183,
          4.179,
          4.174,
          4.169,
          4.166,
          4.159,
          4.149,
          4.138,
          4.128,
          4.114,
          4.104,
          4.094,
          4.086,
          4.081,
          4.075,
          4.07,
          4.066,
          4.061,
          4.053,
          4.045,
          4.038,
          4.033,
          4.029
         ]
        }
       ],
       "layout": {
        "height": 600,
        "legend": {
         "bordercolor": "black",
         "borderwidth": 2,
         "font": {
          "color": "black",
          "family": "Times New Roman",
          "size": 18
         },
         "x": 0.86,
         "y": 0.99
        },
        "plot_bgcolor": "white",
        "template": {
         "data": {
          "bar": [
           {
            "error_x": {
             "color": "#2a3f5f"
            },
            "error_y": {
             "color": "#2a3f5f"
            },
            "marker": {
             "line": {
              "color": "#E5ECF6",
              "width": 0.5
             },
             "pattern": {
              "fillmode": "overlay",
              "size": 10,
              "solidity": 0.2
             }
            },
            "type": "bar"
           }
          ],
          "barpolar": [
           {
            "marker": {
             "line": {
              "color": "#E5ECF6",
              "width": 0.5
             },
             "pattern": {
              "fillmode": "overlay",
              "size": 10,
              "solidity": 0.2
             }
            },
            "type": "barpolar"
           }
          ],
          "carpet": [
           {
            "aaxis": {
             "endlinecolor": "#2a3f5f",
             "gridcolor": "white",
             "linecolor": "white",
             "minorgridcolor": "white",
             "startlinecolor": "#2a3f5f"
            },
            "baxis": {
             "endlinecolor": "#2a3f5f",
             "gridcolor": "white",
             "linecolor": "white",
             "minorgridcolor": "white",
             "startlinecolor": "#2a3f5f"
            },
            "type": "carpet"
           }
          ],
          "choropleth": [
           {
            "colorbar": {
             "outlinewidth": 0,
             "ticks": ""
            },
            "type": "choropleth"
           }
          ],
          "contour": [
           {
            "colorbar": {
             "outlinewidth": 0,
             "ticks": ""
            },
            "colorscale": [
             [
              0,
              "#0d0887"
             ],
             [
              0.1111111111111111,
              "#46039f"
             ],
             [
              0.2222222222222222,
              "#7201a8"
             ],
             [
              0.3333333333333333,
              "#9c179e"
             ],
             [
              0.4444444444444444,
              "#bd3786"
             ],
             [
              0.5555555555555556,
              "#d8576b"
             ],
             [
              0.6666666666666666,
              "#ed7953"
             ],
             [
              0.7777777777777778,
              "#fb9f3a"
             ],
             [
              0.8888888888888888,
              "#fdca26"
             ],
             [
              1,
              "#f0f921"
             ]
            ],
            "type": "contour"
           }
          ],
          "contourcarpet": [
           {
            "colorbar": {
             "outlinewidth": 0,
             "ticks": ""
            },
            "type": "contourcarpet"
           }
          ],
          "heatmap": [
           {
            "colorbar": {
             "outlinewidth": 0,
             "ticks": ""
            },
            "colorscale": [
             [
              0,
              "#0d0887"
             ],
             [
              0.1111111111111111,
              "#46039f"
             ],
             [
              0.2222222222222222,
              "#7201a8"
             ],
             [
              0.3333333333333333,
              "#9c179e"
             ],
             [
              0.4444444444444444,
              "#bd3786"
             ],
             [
              0.5555555555555556,
              "#d8576b"
             ],
             [
              0.6666666666666666,
              "#ed7953"
             ],
             [
              0.7777777777777778,
              "#fb9f3a"
             ],
             [
              0.8888888888888888,
              "#fdca26"
             ],
             [
              1,
              "#f0f921"
             ]
            ],
            "type": "heatmap"
           }
          ],
          "heatmapgl": [
           {
            "colorbar": {
             "outlinewidth": 0,
             "ticks": ""
            },
            "colorscale": [
             [
              0,
              "#0d0887"
             ],
             [
              0.1111111111111111,
              "#46039f"
             ],
             [
              0.2222222222222222,
              "#7201a8"
             ],
             [
              0.3333333333333333,
              "#9c179e"
             ],
             [
              0.4444444444444444,
              "#bd3786"
             ],
             [
              0.5555555555555556,
              "#d8576b"
             ],
             [
              0.6666666666666666,
              "#ed7953"
             ],
             [
              0.7777777777777778,
              "#fb9f3a"
             ],
             [
              0.8888888888888888,
              "#fdca26"
             ],
             [
              1,
              "#f0f921"
             ]
            ],
            "type": "heatmapgl"
           }
          ],
          "histogram": [
           {
            "marker": {
             "pattern": {
              "fillmode": "overlay",
              "size": 10,
              "solidity": 0.2
             }
            },
            "type": "histogram"
           }
          ],
          "histogram2d": [
           {
            "colorbar": {
             "outlinewidth": 0,
             "ticks": ""
            },
            "colorscale": [
             [
              0,
              "#0d0887"
             ],
             [
              0.1111111111111111,
              "#46039f"
             ],
             [
              0.2222222222222222,
              "#7201a8"
             ],
             [
              0.3333333333333333,
              "#9c179e"
             ],
             [
              0.4444444444444444,
              "#bd3786"
             ],
             [
              0.5555555555555556,
              "#d8576b"
             ],
             [
              0.6666666666666666,
              "#ed7953"
             ],
             [
              0.7777777777777778,
              "#fb9f3a"
             ],
             [
              0.8888888888888888,
              "#fdca26"
             ],
             [
              1,
              "#f0f921"
             ]
            ],
            "type": "histogram2d"
           }
          ],
          "histogram2dcontour": [
           {
            "colorbar": {
             "outlinewidth": 0,
             "ticks": ""
            },
            "colorscale": [
             [
              0,
              "#0d0887"
             ],
             [
              0.1111111111111111,
              "#46039f"
             ],
             [
              0.2222222222222222,
              "#7201a8"
             ],
             [
              0.3333333333333333,
              "#9c179e"
             ],
             [
              0.4444444444444444,
              "#bd3786"
             ],
             [
              0.5555555555555556,
              "#d8576b"
             ],
             [
              0.6666666666666666,
              "#ed7953"
             ],
             [
              0.7777777777777778,
              "#fb9f3a"
             ],
             [
              0.8888888888888888,
              "#fdca26"
             ],
             [
              1,
              "#f0f921"
             ]
            ],
            "type": "histogram2dcontour"
           }
          ],
          "mesh3d": [
           {
            "colorbar": {
             "outlinewidth": 0,
             "ticks": ""
            },
            "type": "mesh3d"
           }
          ],
          "parcoords": [
           {
            "line": {
             "colorbar": {
              "outlinewidth": 0,
              "ticks": ""
             }
            },
            "type": "parcoords"
           }
          ],
          "pie": [
           {
            "automargin": true,
            "type": "pie"
           }
          ],
          "scatter": [
           {
            "fillpattern": {
             "fillmode": "overlay",
             "size": 10,
             "solidity": 0.2
            },
            "type": "scatter"
           }
          ],
          "scatter3d": [
           {
            "line": {
             "colorbar": {
              "outlinewidth": 0,
              "ticks": ""
             }
            },
            "marker": {
             "colorbar": {
              "outlinewidth": 0,
              "ticks": ""
             }
            },
            "type": "scatter3d"
           }
          ],
          "scattercarpet": [
           {
            "marker": {
             "colorbar": {
              "outlinewidth": 0,
              "ticks": ""
             }
            },
            "type": "scattercarpet"
           }
          ],
          "scattergeo": [
           {
            "marker": {
             "colorbar": {
              "outlinewidth": 0,
              "ticks": ""
             }
            },
            "type": "scattergeo"
           }
          ],
          "scattergl": [
           {
            "marker": {
             "colorbar": {
              "outlinewidth": 0,
              "ticks": ""
             }
            },
            "type": "scattergl"
           }
          ],
          "scattermapbox": [
           {
            "marker": {
             "colorbar": {
              "outlinewidth": 0,
              "ticks": ""
             }
            },
            "type": "scattermapbox"
           }
          ],
          "scatterpolar": [
           {
            "marker": {
             "colorbar": {
              "outlinewidth": 0,
              "ticks": ""
             }
            },
            "type": "scatterpolar"
           }
          ],
          "scatterpolargl": [
           {
            "marker": {
             "colorbar": {
              "outlinewidth": 0,
              "ticks": ""
             }
            },
            "type": "scatterpolargl"
           }
          ],
          "scatterternary": [
           {
            "marker": {
             "colorbar": {
              "outlinewidth": 0,
              "ticks": ""
             }
            },
            "type": "scatterternary"
           }
          ],
          "surface": [
           {
            "colorbar": {
             "outlinewidth": 0,
             "ticks": ""
            },
            "colorscale": [
             [
              0,
              "#0d0887"
             ],
             [
              0.1111111111111111,
              "#46039f"
             ],
             [
              0.2222222222222222,
              "#7201a8"
             ],
             [
              0.3333333333333333,
              "#9c179e"
             ],
             [
              0.4444444444444444,
              "#bd3786"
             ],
             [
              0.5555555555555556,
              "#d8576b"
             ],
             [
              0.6666666666666666,
              "#ed7953"
             ],
             [
              0.7777777777777778,
              "#fb9f3a"
             ],
             [
              0.8888888888888888,
              "#fdca26"
             ],
             [
              1,
              "#f0f921"
             ]
            ],
            "type": "surface"
           }
          ],
          "table": [
           {
            "cells": {
             "fill": {
              "color": "#EBF0F8"
             },
             "line": {
              "color": "white"
             }
            },
            "header": {
             "fill": {
              "color": "#C8D4E3"
             },
             "line": {
              "color": "white"
             }
            },
            "type": "table"
           }
          ]
         },
         "layout": {
          "annotationdefaults": {
           "arrowcolor": "#2a3f5f",
           "arrowhead": 0,
           "arrowwidth": 1
          },
          "autotypenumbers": "strict",
          "coloraxis": {
           "colorbar": {
            "outlinewidth": 0,
            "ticks": ""
           }
          },
          "colorscale": {
           "diverging": [
            [
             0,
             "#8e0152"
            ],
            [
             0.1,
             "#c51b7d"
            ],
            [
             0.2,
             "#de77ae"
            ],
            [
             0.3,
             "#f1b6da"
            ],
            [
             0.4,
             "#fde0ef"
            ],
            [
             0.5,
             "#f7f7f7"
            ],
            [
             0.6,
             "#e6f5d0"
            ],
            [
             0.7,
             "#b8e186"
            ],
            [
             0.8,
             "#7fbc41"
            ],
            [
             0.9,
             "#4d9221"
            ],
            [
             1,
             "#276419"
            ]
           ],
           "sequential": [
            [
             0,
             "#0d0887"
            ],
            [
             0.1111111111111111,
             "#46039f"
            ],
            [
             0.2222222222222222,
             "#7201a8"
            ],
            [
             0.3333333333333333,
             "#9c179e"
            ],
            [
             0.4444444444444444,
             "#bd3786"
            ],
            [
             0.5555555555555556,
             "#d8576b"
            ],
            [
             0.6666666666666666,
             "#ed7953"
            ],
            [
             0.7777777777777778,
             "#fb9f3a"
            ],
            [
             0.8888888888888888,
             "#fdca26"
            ],
            [
             1,
             "#f0f921"
            ]
           ],
           "sequentialminus": [
            [
             0,
             "#0d0887"
            ],
            [
             0.1111111111111111,
             "#46039f"
            ],
            [
             0.2222222222222222,
             "#7201a8"
            ],
            [
             0.3333333333333333,
             "#9c179e"
            ],
            [
             0.4444444444444444,
             "#bd3786"
            ],
            [
             0.5555555555555556,
             "#d8576b"
            ],
            [
             0.6666666666666666,
             "#ed7953"
            ],
            [
             0.7777777777777778,
             "#fb9f3a"
            ],
            [
             0.8888888888888888,
             "#fdca26"
            ],
            [
             1,
             "#f0f921"
            ]
           ]
          },
          "colorway": [
           "#636efa",
           "#EF553B",
           "#00cc96",
           "#ab63fa",
           "#FFA15A",
           "#19d3f3",
           "#FF6692",
           "#B6E880",
           "#FF97FF",
           "#FECB52"
          ],
          "font": {
           "color": "#2a3f5f"
          },
          "geo": {
           "bgcolor": "white",
           "lakecolor": "white",
           "landcolor": "#E5ECF6",
           "showlakes": true,
           "showland": true,
           "subunitcolor": "white"
          },
          "hoverlabel": {
           "align": "left"
          },
          "hovermode": "closest",
          "mapbox": {
           "style": "light"
          },
          "paper_bgcolor": "white",
          "plot_bgcolor": "#E5ECF6",
          "polar": {
           "angularaxis": {
            "gridcolor": "white",
            "linecolor": "white",
            "ticks": ""
           },
           "bgcolor": "#E5ECF6",
           "radialaxis": {
            "gridcolor": "white",
            "linecolor": "white",
            "ticks": ""
           }
          },
          "scene": {
           "xaxis": {
            "backgroundcolor": "#E5ECF6",
            "gridcolor": "white",
            "gridwidth": 2,
            "linecolor": "white",
            "showbackground": true,
            "ticks": "",
            "zerolinecolor": "white"
           },
           "yaxis": {
            "backgroundcolor": "#E5ECF6",
            "gridcolor": "white",
            "gridwidth": 2,
            "linecolor": "white",
            "showbackground": true,
            "ticks": "",
            "zerolinecolor": "white"
           },
           "zaxis": {
            "backgroundcolor": "#E5ECF6",
            "gridcolor": "white",
            "gridwidth": 2,
            "linecolor": "white",
            "showbackground": true,
            "ticks": "",
            "zerolinecolor": "white"
           }
          },
          "shapedefaults": {
           "line": {
            "color": "#2a3f5f"
           }
          },
          "ternary": {
           "aaxis": {
            "gridcolor": "white",
            "linecolor": "white",
            "ticks": ""
           },
           "baxis": {
            "gridcolor": "white",
            "linecolor": "white",
            "ticks": ""
           },
           "bgcolor": "#E5ECF6",
           "caxis": {
            "gridcolor": "white",
            "linecolor": "white",
            "ticks": ""
           }
          },
          "title": {
           "x": 0.05
          },
          "xaxis": {
           "automargin": true,
           "gridcolor": "white",
           "linecolor": "white",
           "ticks": "",
           "title": {
            "standoff": 15
           },
           "zerolinecolor": "white",
           "zerolinewidth": 2
          },
          "yaxis": {
           "automargin": true,
           "gridcolor": "white",
           "linecolor": "white",
           "ticks": "",
           "title": {
            "standoff": 15
           },
           "zerolinecolor": "white",
           "zerolinewidth": 2
          }
         }
        },
        "title": {
         "font": {
          "color": "black",
          "family": "Times New Roman",
          "size": 30
         },
         "text": "UUT#3_Cycle01",
         "x": 0.5,
         "xanchor": "center",
         "y": 0.9,
         "yanchor": "top"
        },
        "width": 1200,
        "xaxis": {
         "autorange": "reversed",
         "gridcolor": "LightPink",
         "gridwidth": 1,
         "linecolor": "black",
         "linewidth": 2,
         "mirror": true,
         "showgrid": true,
         "showline": true,
         "tickfont": {
          "color": "black",
          "family": "Times New Roman",
          "size": 24
         },
         "ticks": "outside",
         "title": {
          "font": {
           "color": "black",
           "family": "Times New Roman",
           "size": 24
          },
          "standoff": 5,
          "text": "Battery Pack SOC (%)"
         }
        },
        "yaxis": {
         "gridcolor": "LightPink",
         "gridwidth": 1,
         "linecolor": "black",
         "linewidth": 2,
         "mirror": true,
         "showgrid": true,
         "showline": true,
         "tickfont": {
          "color": "black",
          "family": "Times New Roman",
          "size": 24
         },
         "ticks": "outside",
         "title": {
          "font": {
           "color": "black",
           "family": "Times New Roman",
           "size": 24
          },
          "standoff": 5,
          "text": "Battery Cell Voltages (V) "
         }
        }
       }
      }
     },
     "metadata": {},
     "output_type": "display_data"
    },
    {
     "data": {
      "application/vnd.plotly.v1+json": {
       "config": {
        "plotlyServerURL": "https://plot.ly"
       },
       "data": [
        {
         "line": {
          "color": "light blue",
          "width": 4
         },
         "marker": {
          "color": "black",
          "size": 10,
          "symbol": "circle"
         },
         "name": "Cell1",
         "type": "scatter",
         "x": [
          44,
          45,
          45,
          45,
          42,
          44,
          43,
          42,
          42,
          41,
          42,
          39,
          39,
          40,
          40,
          35,
          38,
          38,
          37,
          37,
          35,
          36,
          35
         ],
         "y": [
          3.833,
          3.844,
          3.843,
          3.843,
          3.826,
          3.84,
          3.83,
          3.825,
          3.835,
          3.823,
          3.835,
          3.83,
          3.819,
          3.83,
          3.829,
          3.828,
          3.825,
          3.825,
          3.824,
          3.821,
          3.821,
          3.82,
          3.808
         ]
        },
        {
         "line": {
          "color": "#768fb8",
          "width": 4
         },
         "marker": {
          "color": "black",
          "size": 10,
          "symbol": "circle"
         },
         "name": "Cell2",
         "type": "scatter",
         "x": [
          44,
          45,
          45,
          45,
          42,
          44,
          43,
          42,
          42,
          41,
          42,
          39,
          39,
          40,
          40,
          35,
          38,
          38,
          37,
          37,
          35,
          36,
          35
         ],
         "y": [
          3.852,
          3.852,
          3.852,
          3.851,
          3.851,
          3.848,
          3.847,
          3.846,
          3.844,
          3.843,
          3.842,
          3.84,
          3.838,
          3.837,
          3.836,
          3.835,
          3.832,
          3.831,
          3.83,
          3.829,
          3.828,
          3.827,
          3.825
         ]
        },
        {
         "line": {
          "color": "green",
          "width": 4
         },
         "marker": {
          "color": "black",
          "size": 10,
          "symbol": "circle"
         },
         "name": "Cell3",
         "type": "scatter",
         "x": [
          44,
          45,
          45,
          45,
          42,
          44,
          43,
          42,
          42,
          41,
          42,
          39,
          39,
          40,
          40,
          35,
          38,
          38,
          37,
          37,
          35,
          36,
          35
         ],
         "y": [
          3.844,
          3.843,
          3.843,
          3.842,
          3.842,
          3.839,
          3.838,
          3.837,
          3.835,
          3.834,
          3.834,
          3.832,
          3.831,
          3.829,
          3.828,
          3.827,
          3.824,
          3.823,
          3.822,
          3.821,
          3.82,
          3.819,
          3.817
         ]
        },
        {
         "line": {
          "color": "yellow",
          "width": 4
         },
         "marker": {
          "color": "black",
          "size": 10,
          "symbol": "circle"
         },
         "name": "Cell4",
         "type": "scatter",
         "x": [
          44,
          45,
          45,
          45,
          42,
          44,
          43,
          42,
          42,
          41,
          42,
          39,
          39,
          40,
          40,
          35,
          38,
          38,
          37,
          37,
          35,
          36,
          35
         ],
         "y": [
          3.855,
          3.852,
          3.852,
          3.852,
          3.85,
          3.848,
          3.846,
          3.845,
          3.844,
          3.843,
          3.842,
          3.84,
          3.839,
          3.838,
          3.836,
          3.835,
          3.833,
          3.83,
          3.827,
          3.826,
          3.825,
          3.823,
          3.822
         ]
        },
        {
         "line": {
          "color": "magenta",
          "width": 4
         },
         "marker": {
          "color": "black",
          "size": 10,
          "symbol": "circle"
         },
         "name": "Cell5",
         "type": "scatter",
         "x": [
          44,
          45,
          45,
          45,
          42,
          44,
          43,
          42,
          42,
          41,
          42,
          39,
          39,
          40,
          40,
          35,
          38,
          38,
          37,
          37,
          35,
          36,
          35
         ],
         "y": [
          3.845,
          3.845,
          3.844,
          3.844,
          3.842,
          3.84,
          3.838,
          3.836,
          3.834,
          3.833,
          3.832,
          3.83,
          3.828,
          3.827,
          3.825,
          3.823,
          3.822,
          3.821,
          3.82,
          3.819,
          3.818,
          3.816,
          3.816
         ]
        },
        {
         "line": {
          "color": "red",
          "width": 4
         },
         "marker": {
          "color": "black",
          "size": 10,
          "symbol": "circle"
         },
         "name": "Cell6",
         "type": "scatter",
         "x": [
          44,
          45,
          45,
          45,
          42,
          44,
          43,
          42,
          42,
          41,
          42,
          39,
          39,
          40,
          40,
          35,
          38,
          38,
          37,
          37,
          35,
          36,
          35
         ],
         "y": [
          3.838,
          3.836,
          3.835,
          3.835,
          3.834,
          3.832,
          3.83,
          3.828,
          3.827,
          3.827,
          3.826,
          3.819,
          3.822,
          3.822,
          3.819,
          3.812,
          3.816,
          3.8145,
          3.812,
          3.811,
          3.807,
          3.808,
          3.807
         ]
        }
       ],
       "layout": {
        "height": 600,
        "legend": {
         "bordercolor": "black",
         "borderwidth": 2,
         "font": {
          "color": "black",
          "family": "Times New Roman",
          "size": 18
         },
         "x": 0.86,
         "y": 0.99
        },
        "plot_bgcolor": "white",
        "template": {
         "data": {
          "bar": [
           {
            "error_x": {
             "color": "#2a3f5f"
            },
            "error_y": {
             "color": "#2a3f5f"
            },
            "marker": {
             "line": {
              "color": "#E5ECF6",
              "width": 0.5
             },
             "pattern": {
              "fillmode": "overlay",
              "size": 10,
              "solidity": 0.2
             }
            },
            "type": "bar"
           }
          ],
          "barpolar": [
           {
            "marker": {
             "line": {
              "color": "#E5ECF6",
              "width": 0.5
             },
             "pattern": {
              "fillmode": "overlay",
              "size": 10,
              "solidity": 0.2
             }
            },
            "type": "barpolar"
           }
          ],
          "carpet": [
           {
            "aaxis": {
             "endlinecolor": "#2a3f5f",
             "gridcolor": "white",
             "linecolor": "white",
             "minorgridcolor": "white",
             "startlinecolor": "#2a3f5f"
            },
            "baxis": {
             "endlinecolor": "#2a3f5f",
             "gridcolor": "white",
             "linecolor": "white",
             "minorgridcolor": "white",
             "startlinecolor": "#2a3f5f"
            },
            "type": "carpet"
           }
          ],
          "choropleth": [
           {
            "colorbar": {
             "outlinewidth": 0,
             "ticks": ""
            },
            "type": "choropleth"
           }
          ],
          "contour": [
           {
            "colorbar": {
             "outlinewidth": 0,
             "ticks": ""
            },
            "colorscale": [
             [
              0,
              "#0d0887"
             ],
             [
              0.1111111111111111,
              "#46039f"
             ],
             [
              0.2222222222222222,
              "#7201a8"
             ],
             [
              0.3333333333333333,
              "#9c179e"
             ],
             [
              0.4444444444444444,
              "#bd3786"
             ],
             [
              0.5555555555555556,
              "#d8576b"
             ],
             [
              0.6666666666666666,
              "#ed7953"
             ],
             [
              0.7777777777777778,
              "#fb9f3a"
             ],
             [
              0.8888888888888888,
              "#fdca26"
             ],
             [
              1,
              "#f0f921"
             ]
            ],
            "type": "contour"
           }
          ],
          "contourcarpet": [
           {
            "colorbar": {
             "outlinewidth": 0,
             "ticks": ""
            },
            "type": "contourcarpet"
           }
          ],
          "heatmap": [
           {
            "colorbar": {
             "outlinewidth": 0,
             "ticks": ""
            },
            "colorscale": [
             [
              0,
              "#0d0887"
             ],
             [
              0.1111111111111111,
              "#46039f"
             ],
             [
              0.2222222222222222,
              "#7201a8"
             ],
             [
              0.3333333333333333,
              "#9c179e"
             ],
             [
              0.4444444444444444,
              "#bd3786"
             ],
             [
              0.5555555555555556,
              "#d8576b"
             ],
             [
              0.6666666666666666,
              "#ed7953"
             ],
             [
              0.7777777777777778,
              "#fb9f3a"
             ],
             [
              0.8888888888888888,
              "#fdca26"
             ],
             [
              1,
              "#f0f921"
             ]
            ],
            "type": "heatmap"
           }
          ],
          "heatmapgl": [
           {
            "colorbar": {
             "outlinewidth": 0,
             "ticks": ""
            },
            "colorscale": [
             [
              0,
              "#0d0887"
             ],
             [
              0.1111111111111111,
              "#46039f"
             ],
             [
              0.2222222222222222,
              "#7201a8"
             ],
             [
              0.3333333333333333,
              "#9c179e"
             ],
             [
              0.4444444444444444,
              "#bd3786"
             ],
             [
              0.5555555555555556,
              "#d8576b"
             ],
             [
              0.6666666666666666,
              "#ed7953"
             ],
             [
              0.7777777777777778,
              "#fb9f3a"
             ],
             [
              0.8888888888888888,
              "#fdca26"
             ],
             [
              1,
              "#f0f921"
             ]
            ],
            "type": "heatmapgl"
           }
          ],
          "histogram": [
           {
            "marker": {
             "pattern": {
              "fillmode": "overlay",
              "size": 10,
              "solidity": 0.2
             }
            },
            "type": "histogram"
           }
          ],
          "histogram2d": [
           {
            "colorbar": {
             "outlinewidth": 0,
             "ticks": ""
            },
            "colorscale": [
             [
              0,
              "#0d0887"
             ],
             [
              0.1111111111111111,
              "#46039f"
             ],
             [
              0.2222222222222222,
              "#7201a8"
             ],
             [
              0.3333333333333333,
              "#9c179e"
             ],
             [
              0.4444444444444444,
              "#bd3786"
             ],
             [
              0.5555555555555556,
              "#d8576b"
             ],
             [
              0.6666666666666666,
              "#ed7953"
             ],
             [
              0.7777777777777778,
              "#fb9f3a"
             ],
             [
              0.8888888888888888,
              "#fdca26"
             ],
             [
              1,
              "#f0f921"
             ]
            ],
            "type": "histogram2d"
           }
          ],
          "histogram2dcontour": [
           {
            "colorbar": {
             "outlinewidth": 0,
             "ticks": ""
            },
            "colorscale": [
             [
              0,
              "#0d0887"
             ],
             [
              0.1111111111111111,
              "#46039f"
             ],
             [
              0.2222222222222222,
              "#7201a8"
             ],
             [
              0.3333333333333333,
              "#9c179e"
             ],
             [
              0.4444444444444444,
              "#bd3786"
             ],
             [
              0.5555555555555556,
              "#d8576b"
             ],
             [
              0.6666666666666666,
              "#ed7953"
             ],
             [
              0.7777777777777778,
              "#fb9f3a"
             ],
             [
              0.8888888888888888,
              "#fdca26"
             ],
             [
              1,
              "#f0f921"
             ]
            ],
            "type": "histogram2dcontour"
           }
          ],
          "mesh3d": [
           {
            "colorbar": {
             "outlinewidth": 0,
             "ticks": ""
            },
            "type": "mesh3d"
           }
          ],
          "parcoords": [
           {
            "line": {
             "colorbar": {
              "outlinewidth": 0,
              "ticks": ""
             }
            },
            "type": "parcoords"
           }
          ],
          "pie": [
           {
            "automargin": true,
            "type": "pie"
           }
          ],
          "scatter": [
           {
            "fillpattern": {
             "fillmode": "overlay",
             "size": 10,
             "solidity": 0.2
            },
            "type": "scatter"
           }
          ],
          "scatter3d": [
           {
            "line": {
             "colorbar": {
              "outlinewidth": 0,
              "ticks": ""
             }
            },
            "marker": {
             "colorbar": {
              "outlinewidth": 0,
              "ticks": ""
             }
            },
            "type": "scatter3d"
           }
          ],
          "scattercarpet": [
           {
            "marker": {
             "colorbar": {
              "outlinewidth": 0,
              "ticks": ""
             }
            },
            "type": "scattercarpet"
           }
          ],
          "scattergeo": [
           {
            "marker": {
             "colorbar": {
              "outlinewidth": 0,
              "ticks": ""
             }
            },
            "type": "scattergeo"
           }
          ],
          "scattergl": [
           {
            "marker": {
             "colorbar": {
              "outlinewidth": 0,
              "ticks": ""
             }
            },
            "type": "scattergl"
           }
          ],
          "scattermapbox": [
           {
            "marker": {
             "colorbar": {
              "outlinewidth": 0,
              "ticks": ""
             }
            },
            "type": "scattermapbox"
           }
          ],
          "scatterpolar": [
           {
            "marker": {
             "colorbar": {
              "outlinewidth": 0,
              "ticks": ""
             }
            },
            "type": "scatterpolar"
           }
          ],
          "scatterpolargl": [
           {
            "marker": {
             "colorbar": {
              "outlinewidth": 0,
              "ticks": ""
             }
            },
            "type": "scatterpolargl"
           }
          ],
          "scatterternary": [
           {
            "marker": {
             "colorbar": {
              "outlinewidth": 0,
              "ticks": ""
             }
            },
            "type": "scatterternary"
           }
          ],
          "surface": [
           {
            "colorbar": {
             "outlinewidth": 0,
             "ticks": ""
            },
            "colorscale": [
             [
              0,
              "#0d0887"
             ],
             [
              0.1111111111111111,
              "#46039f"
             ],
             [
              0.2222222222222222,
              "#7201a8"
             ],
             [
              0.3333333333333333,
              "#9c179e"
             ],
             [
              0.4444444444444444,
              "#bd3786"
             ],
             [
              0.5555555555555556,
              "#d8576b"
             ],
             [
              0.6666666666666666,
              "#ed7953"
             ],
             [
              0.7777777777777778,
              "#fb9f3a"
             ],
             [
              0.8888888888888888,
              "#fdca26"
             ],
             [
              1,
              "#f0f921"
             ]
            ],
            "type": "surface"
           }
          ],
          "table": [
           {
            "cells": {
             "fill": {
              "color": "#EBF0F8"
             },
             "line": {
              "color": "white"
             }
            },
            "header": {
             "fill": {
              "color": "#C8D4E3"
             },
             "line": {
              "color": "white"
             }
            },
            "type": "table"
           }
          ]
         },
         "layout": {
          "annotationdefaults": {
           "arrowcolor": "#2a3f5f",
           "arrowhead": 0,
           "arrowwidth": 1
          },
          "autotypenumbers": "strict",
          "coloraxis": {
           "colorbar": {
            "outlinewidth": 0,
            "ticks": ""
           }
          },
          "colorscale": {
           "diverging": [
            [
             0,
             "#8e0152"
            ],
            [
             0.1,
             "#c51b7d"
            ],
            [
             0.2,
             "#de77ae"
            ],
            [
             0.3,
             "#f1b6da"
            ],
            [
             0.4,
             "#fde0ef"
            ],
            [
             0.5,
             "#f7f7f7"
            ],
            [
             0.6,
             "#e6f5d0"
            ],
            [
             0.7,
             "#b8e186"
            ],
            [
             0.8,
             "#7fbc41"
            ],
            [
             0.9,
             "#4d9221"
            ],
            [
             1,
             "#276419"
            ]
           ],
           "sequential": [
            [
             0,
             "#0d0887"
            ],
            [
             0.1111111111111111,
             "#46039f"
            ],
            [
             0.2222222222222222,
             "#7201a8"
            ],
            [
             0.3333333333333333,
             "#9c179e"
            ],
            [
             0.4444444444444444,
             "#bd3786"
            ],
            [
             0.5555555555555556,
             "#d8576b"
            ],
            [
             0.6666666666666666,
             "#ed7953"
            ],
            [
             0.7777777777777778,
             "#fb9f3a"
            ],
            [
             0.8888888888888888,
             "#fdca26"
            ],
            [
             1,
             "#f0f921"
            ]
           ],
           "sequentialminus": [
            [
             0,
             "#0d0887"
            ],
            [
             0.1111111111111111,
             "#46039f"
            ],
            [
             0.2222222222222222,
             "#7201a8"
            ],
            [
             0.3333333333333333,
             "#9c179e"
            ],
            [
             0.4444444444444444,
             "#bd3786"
            ],
            [
             0.5555555555555556,
             "#d8576b"
            ],
            [
             0.6666666666666666,
             "#ed7953"
            ],
            [
             0.7777777777777778,
             "#fb9f3a"
            ],
            [
             0.8888888888888888,
             "#fdca26"
            ],
            [
             1,
             "#f0f921"
            ]
           ]
          },
          "colorway": [
           "#636efa",
           "#EF553B",
           "#00cc96",
           "#ab63fa",
           "#FFA15A",
           "#19d3f3",
           "#FF6692",
           "#B6E880",
           "#FF97FF",
           "#FECB52"
          ],
          "font": {
           "color": "#2a3f5f"
          },
          "geo": {
           "bgcolor": "white",
           "lakecolor": "white",
           "landcolor": "#E5ECF6",
           "showlakes": true,
           "showland": true,
           "subunitcolor": "white"
          },
          "hoverlabel": {
           "align": "left"
          },
          "hovermode": "closest",
          "mapbox": {
           "style": "light"
          },
          "paper_bgcolor": "white",
          "plot_bgcolor": "#E5ECF6",
          "polar": {
           "angularaxis": {
            "gridcolor": "white",
            "linecolor": "white",
            "ticks": ""
           },
           "bgcolor": "#E5ECF6",
           "radialaxis": {
            "gridcolor": "white",
            "linecolor": "white",
            "ticks": ""
           }
          },
          "scene": {
           "xaxis": {
            "backgroundcolor": "#E5ECF6",
            "gridcolor": "white",
            "gridwidth": 2,
            "linecolor": "white",
            "showbackground": true,
            "ticks": "",
            "zerolinecolor": "white"
           },
           "yaxis": {
            "backgroundcolor": "#E5ECF6",
            "gridcolor": "white",
            "gridwidth": 2,
            "linecolor": "white",
            "showbackground": true,
            "ticks": "",
            "zerolinecolor": "white"
           },
           "zaxis": {
            "backgroundcolor": "#E5ECF6",
            "gridcolor": "white",
            "gridwidth": 2,
            "linecolor": "white",
            "showbackground": true,
            "ticks": "",
            "zerolinecolor": "white"
           }
          },
          "shapedefaults": {
           "line": {
            "color": "#2a3f5f"
           }
          },
          "ternary": {
           "aaxis": {
            "gridcolor": "white",
            "linecolor": "white",
            "ticks": ""
           },
           "baxis": {
            "gridcolor": "white",
            "linecolor": "white",
            "ticks": ""
           },
           "bgcolor": "#E5ECF6",
           "caxis": {
            "gridcolor": "white",
            "linecolor": "white",
            "ticks": ""
           }
          },
          "title": {
           "x": 0.05
          },
          "xaxis": {
           "automargin": true,
           "gridcolor": "white",
           "linecolor": "white",
           "ticks": "",
           "title": {
            "standoff": 15
           },
           "zerolinecolor": "white",
           "zerolinewidth": 2
          },
          "yaxis": {
           "automargin": true,
           "gridcolor": "white",
           "linecolor": "white",
           "ticks": "",
           "title": {
            "standoff": 15
           },
           "zerolinecolor": "white",
           "zerolinewidth": 2
          }
         }
        },
        "title": {
         "font": {
          "color": "black",
          "family": "Times New Roman",
          "size": 30
         },
         "text": "UUT#3_Cycle02",
         "x": 0.5,
         "xanchor": "center",
         "y": 0.9,
         "yanchor": "top"
        },
        "width": 1200,
        "xaxis": {
         "autorange": "reversed",
         "gridcolor": "LightPink",
         "gridwidth": 1,
         "linecolor": "black",
         "linewidth": 2,
         "mirror": true,
         "showgrid": true,
         "showline": true,
         "tickfont": {
          "color": "black",
          "family": "Times New Roman",
          "size": 24
         },
         "ticks": "outside",
         "title": {
          "font": {
           "color": "black",
           "family": "Times New Roman",
           "size": 24
          },
          "standoff": 5,
          "text": "Battery Pack SOC (%)"
         }
        },
        "yaxis": {
         "gridcolor": "LightPink",
         "gridwidth": 1,
         "linecolor": "black",
         "linewidth": 2,
         "mirror": true,
         "showgrid": true,
         "showline": true,
         "tickfont": {
          "color": "black",
          "family": "Times New Roman",
          "size": 24
         },
         "ticks": "outside",
         "title": {
          "font": {
           "color": "black",
           "family": "Times New Roman",
           "size": 24
          },
          "standoff": 5,
          "text": "Battery Cell Voltages (V) "
         }
        }
       }
      }
     },
     "metadata": {},
     "output_type": "display_data"
    }
   ],
   "source": [
    "# Plot the 'Battery OCV [V]' with 'Battery SOC [%]' using line plot in plotly\n",
    "fig = go.Figure()\n",
    "#fig.add_trace(go.Scatter(x=df3_1['Battery SOC [%]'], y=df3_1['Battery OCV [V]'], name='UUT#1_Cycle01', line=dict(color='blue', width=4, dash='dashdot'), marker=dict(size=10, color='black', symbol='circle')))\n",
    "fig.add_trace(go.Scatter(x=df3_1['Battery SOC [%]'], y=df3_1['Cell 1 '], name='Cell1', line=dict(color='light blue', width=4), marker=dict(size=10, color='black', symbol='circle')))\n",
    "fig.add_trace(go.Scatter(x=df3_1['Battery SOC [%]'], y=df3_1['Cell 2 '], name='Cell2', line=dict(color='#768fb8', width=4), marker=dict(size=10, color='black', symbol='circle')))\n",
    "fig.add_trace(go.Scatter(x=df3_1['Battery SOC [%]'], y=df3_1['Cell 3'], name='Cell3', line=dict(color='green', width=4), marker=dict(size=10, color='black', symbol='circle')))\n",
    "fig.add_trace(go.Scatter(x=df3_1['Battery SOC [%]'], y=df3_1['Cell 4 '], name='Cell4', line=dict(color='yellow', width=4), marker=dict(size=10, color='black', symbol='circle')))\n",
    "fig.add_trace(go.Scatter(x=df3_1['Battery SOC [%]'], y=df3_1['Cell  5 '], name='Cell5', line=dict(color='magenta', width=4), marker=dict(size=10, color='black', symbol='circle')))\n",
    "fig.add_trace(go.Scatter(x=df3_1['Battery SOC [%]'], y=df3_1['Cell  6 '], name='Cell6', line=dict(color='red', width=4), marker=dict(size=10, color='black', symbol='circle')))\n",
    "\n",
    "# flip the x and y axis\n",
    "fig.update_layout(xaxis=dict(autorange=\"reversed\"))\n",
    "fig.update_layout(title='UUT#3_Cycle01')\n",
    "# add description below the title as subtitle\n",
    "fig.update_layout(title={'y': 0.9, 'x': 0.8, 'xanchor': 'center', 'yanchor': 'top'})\n",
    "# add axis line and ticks\n",
    "fig.update_xaxes(showline=True, linewidth=2, linecolor='black', mirror=True, ticks=\"outside\")\n",
    "fig.update_yaxes(showline=True, linewidth=2, linecolor='black', mirror=True, ticks=\"outside\")\n",
    "# Make x labels larger, and Times New Roman\n",
    "fig.update_xaxes(title_text=\"Battery Pack SOC (%)\", title_font=dict(size=24, family='Times New Roman', color='black'), title_standoff=25)\n",
    "# Make y labels larger, and Times New Roman\n",
    "fig.update_yaxes(title_text=\"Battery Cell Voltages (V) \", title_font=dict(size=24, family='Times New Roman', color='black'), title_standoff=25)\n",
    "# change the legend font size and font family\n",
    "fig.update_layout(legend=dict(font=dict(size=18, family='Times New Roman', color='black')))\n",
    "# make background white\n",
    "fig.update_layout(plot_bgcolor='white')\n",
    "# Move x-label and y-label to the center\n",
    "fig.update_layout(xaxis=dict(title=dict(standoff=5)), yaxis=dict(title=dict(standoff=5)))\n",
    "# Icncrease x-axis and y-axis tick font size and font family\n",
    "fig.update_xaxes(tickfont=dict(size=24, family='Times New Roman', color='black'))\n",
    "fig.update_yaxes(tickfont=dict(size=24, family='Times New Roman', color='black'))\n",
    "# add grid\n",
    "fig.update_layout(xaxis=dict(showgrid=True, gridwidth=1, gridcolor='LightPink'), yaxis=dict(showgrid=True, gridwidth=1, gridcolor='LightPink'))\n",
    "# add figure size\n",
    "fig.update_layout(width=1200, height=600)\n",
    "# keep the legend inside the plot area\n",
    "fig.update_layout(legend=dict(x=0.86, y=0.99))\n",
    "# Make title larger, and Times New Roman and center\n",
    "fig.update_layout(title=dict(font=dict(size=30, family='Times New Roman', color='black'), x=0.5, xanchor='center'))\n",
    "# add box around the legend\n",
    "fig.update_layout(legend=dict(bordercolor='black', borderwidth=2))\n",
    "fig.show()\n",
    "\n",
    "# Plot the 'Battery OCV [V]' with 'Battery SOC [%]' using line plot in plotly\n",
    "fig = go.Figure()\n",
    "#fig.add_trace(go.Scatter(x=df3_2['Battery SOC [%]'], y=df3_2['Battery OCV [V]'], name='UUT#4_Cycle01', line=dict(color='blue', width=4, dash='dashdot'), marker=dict(size=10, color='black', symbol='circle')))\n",
    "fig.add_trace(go.Scatter(x=df3_2['Battery SOC [%]'], y=df3_2['Cell 1 '], name='Cell1', line=dict(color='light blue', width=4), marker=dict(size=10, color='black', symbol='circle')))\n",
    "fig.add_trace(go.Scatter(x=df3_2['Battery SOC [%]'], y=df3_2['Cell 2 '], name='Cell2', line=dict(color='#768fb8', width=4), marker=dict(size=10, color='black', symbol='circle')))\n",
    "fig.add_trace(go.Scatter(x=df3_2['Battery SOC [%]'], y=df3_2['Cell 3'], name='Cell3', line=dict(color='green', width=4), marker=dict(size=10, color='black', symbol='circle')))\n",
    "fig.add_trace(go.Scatter(x=df3_2['Battery SOC [%]'], y=df3_2['Cell 4 '], name='Cell4', line=dict(color='yellow', width=4), marker=dict(size=10, color='black', symbol='circle')))\n",
    "fig.add_trace(go.Scatter(x=df3_2['Battery SOC [%]'], y=df3_2['Cell  5 '], name='Cell5', line=dict(color='magenta', width=4), marker=dict(size=10, color='black', symbol='circle')))\n",
    "fig.add_trace(go.Scatter(x=df3_2['Battery SOC [%]'], y=df3_2['Cell  6 '], name='Cell6', line=dict(color='red', width=4), marker=dict(size=10, color='black', symbol='circle')))\n",
    "\n",
    "# flip the x and y axis\n",
    "fig.update_layout(xaxis=dict(autorange=\"reversed\"))\n",
    "fig.update_layout(title='UUT#3_Cycle02')\n",
    "# add description below the title as subtitle\n",
    "fig.update_layout(title={'y': 0.9, 'x': 0.8, 'xanchor': 'center', 'yanchor': 'top'})\n",
    "# add axis line and ticks\n",
    "fig.update_xaxes(showline=True, linewidth=2, linecolor='black', mirror=True, ticks=\"outside\")\n",
    "fig.update_yaxes(showline=True, linewidth=2, linecolor='black', mirror=True, ticks=\"outside\")\n",
    "# Make x labels larger, and Times New Roman\n",
    "fig.update_xaxes(title_text=\"Battery Pack SOC (%)\", title_font=dict(size=24, family='Times New Roman', color='black'), title_standoff=25)\n",
    "# Make y labels larger, and Times New Roman\n",
    "fig.update_yaxes(title_text=\"Battery Cell Voltages (V) \", title_font=dict(size=24, family='Times New Roman', color='black'), title_standoff=25)\n",
    "# change the legend font size and font family\n",
    "fig.update_layout(legend=dict(font=dict(size=18, family='Times New Roman', color='black')))\n",
    "# make background white\n",
    "fig.update_layout(plot_bgcolor='white')\n",
    "# Move x-label and y-label to the center\n",
    "fig.update_layout(xaxis=dict(title=dict(standoff=5)), yaxis=dict(title=dict(standoff=5)))\n",
    "# Icncrease x-axis and y-axis tick font size and font family\n",
    "fig.update_xaxes(tickfont=dict(size=24, family='Times New Roman', color='black'))\n",
    "fig.update_yaxes(tickfont=dict(size=24, family='Times New Roman', color='black'))\n",
    "# add grid\n",
    "fig.update_layout(xaxis=dict(showgrid=True, gridwidth=1, gridcolor='LightPink'), yaxis=dict(showgrid=True, gridwidth=1, gridcolor='LightPink'))\n",
    "# add figure size\n",
    "fig.update_layout(width=1200, height=600)\n",
    "# keep the legend inside the plot area\n",
    "fig.update_layout(legend=dict(x=0.86, y=0.99))\n",
    "# Make title larger, and Times New Roman and center\n",
    "fig.update_layout(title=dict(font=dict(size=30, family='Times New Roman', color='black'), x=0.5, xanchor='center'))\n",
    "# add box around the legend\n",
    "fig.update_layout(legend=dict(bordercolor='black', borderwidth=2))\n",
    "fig.show()"
   ]
  },
  {
   "attachments": {},
   "cell_type": "markdown",
   "metadata": {},
   "source": [
    "### **UUT#4**"
   ]
  },
  {
   "cell_type": "code",
   "execution_count": 171,
   "metadata": {},
   "outputs": [
    {
     "data": {
      "application/vnd.plotly.v1+json": {
       "config": {
        "plotlyServerURL": "https://plot.ly"
       },
       "data": [
        {
         "line": {
          "color": "#20f200",
          "width": 4
         },
         "marker": {
          "color": "black",
          "size": 10,
          "symbol": "hexagon"
         },
         "name": "UUT#4_Cycle01",
         "type": "scatter",
         "x": [
          95,
          94,
          93,
          92,
          92,
          92,
          91,
          90,
          88,
          86,
          84,
          80,
          78,
          76,
          74,
          72,
          71,
          69,
          67,
          65,
          62,
          57,
          54,
          52
         ],
         "y": [
          25.06,
          24.97,
          24.92,
          24.89,
          24.88,
          24.86,
          24.8,
          24.74,
          24.65,
          24.58,
          24.48,
          24.34,
          24.23,
          24.15,
          24.09,
          24.03,
          23.97,
          23.92,
          23.86,
          23.8,
          23.74,
          23.67,
          23.59,
          23.52
         ]
        }
       ],
       "layout": {
        "height": 600,
        "legend": {
         "bordercolor": "black",
         "borderwidth": 2,
         "font": {
          "color": "black",
          "family": "Times New Roman",
          "size": 18
         },
         "x": 0.76,
         "y": 0.99
        },
        "plot_bgcolor": "white",
        "template": {
         "data": {
          "bar": [
           {
            "error_x": {
             "color": "#2a3f5f"
            },
            "error_y": {
             "color": "#2a3f5f"
            },
            "marker": {
             "line": {
              "color": "#E5ECF6",
              "width": 0.5
             },
             "pattern": {
              "fillmode": "overlay",
              "size": 10,
              "solidity": 0.2
             }
            },
            "type": "bar"
           }
          ],
          "barpolar": [
           {
            "marker": {
             "line": {
              "color": "#E5ECF6",
              "width": 0.5
             },
             "pattern": {
              "fillmode": "overlay",
              "size": 10,
              "solidity": 0.2
             }
            },
            "type": "barpolar"
           }
          ],
          "carpet": [
           {
            "aaxis": {
             "endlinecolor": "#2a3f5f",
             "gridcolor": "white",
             "linecolor": "white",
             "minorgridcolor": "white",
             "startlinecolor": "#2a3f5f"
            },
            "baxis": {
             "endlinecolor": "#2a3f5f",
             "gridcolor": "white",
             "linecolor": "white",
             "minorgridcolor": "white",
             "startlinecolor": "#2a3f5f"
            },
            "type": "carpet"
           }
          ],
          "choropleth": [
           {
            "colorbar": {
             "outlinewidth": 0,
             "ticks": ""
            },
            "type": "choropleth"
           }
          ],
          "contour": [
           {
            "colorbar": {
             "outlinewidth": 0,
             "ticks": ""
            },
            "colorscale": [
             [
              0,
              "#0d0887"
             ],
             [
              0.1111111111111111,
              "#46039f"
             ],
             [
              0.2222222222222222,
              "#7201a8"
             ],
             [
              0.3333333333333333,
              "#9c179e"
             ],
             [
              0.4444444444444444,
              "#bd3786"
             ],
             [
              0.5555555555555556,
              "#d8576b"
             ],
             [
              0.6666666666666666,
              "#ed7953"
             ],
             [
              0.7777777777777778,
              "#fb9f3a"
             ],
             [
              0.8888888888888888,
              "#fdca26"
             ],
             [
              1,
              "#f0f921"
             ]
            ],
            "type": "contour"
           }
          ],
          "contourcarpet": [
           {
            "colorbar": {
             "outlinewidth": 0,
             "ticks": ""
            },
            "type": "contourcarpet"
           }
          ],
          "heatmap": [
           {
            "colorbar": {
             "outlinewidth": 0,
             "ticks": ""
            },
            "colorscale": [
             [
              0,
              "#0d0887"
             ],
             [
              0.1111111111111111,
              "#46039f"
             ],
             [
              0.2222222222222222,
              "#7201a8"
             ],
             [
              0.3333333333333333,
              "#9c179e"
             ],
             [
              0.4444444444444444,
              "#bd3786"
             ],
             [
              0.5555555555555556,
              "#d8576b"
             ],
             [
              0.6666666666666666,
              "#ed7953"
             ],
             [
              0.7777777777777778,
              "#fb9f3a"
             ],
             [
              0.8888888888888888,
              "#fdca26"
             ],
             [
              1,
              "#f0f921"
             ]
            ],
            "type": "heatmap"
           }
          ],
          "heatmapgl": [
           {
            "colorbar": {
             "outlinewidth": 0,
             "ticks": ""
            },
            "colorscale": [
             [
              0,
              "#0d0887"
             ],
             [
              0.1111111111111111,
              "#46039f"
             ],
             [
              0.2222222222222222,
              "#7201a8"
             ],
             [
              0.3333333333333333,
              "#9c179e"
             ],
             [
              0.4444444444444444,
              "#bd3786"
             ],
             [
              0.5555555555555556,
              "#d8576b"
             ],
             [
              0.6666666666666666,
              "#ed7953"
             ],
             [
              0.7777777777777778,
              "#fb9f3a"
             ],
             [
              0.8888888888888888,
              "#fdca26"
             ],
             [
              1,
              "#f0f921"
             ]
            ],
            "type": "heatmapgl"
           }
          ],
          "histogram": [
           {
            "marker": {
             "pattern": {
              "fillmode": "overlay",
              "size": 10,
              "solidity": 0.2
             }
            },
            "type": "histogram"
           }
          ],
          "histogram2d": [
           {
            "colorbar": {
             "outlinewidth": 0,
             "ticks": ""
            },
            "colorscale": [
             [
              0,
              "#0d0887"
             ],
             [
              0.1111111111111111,
              "#46039f"
             ],
             [
              0.2222222222222222,
              "#7201a8"
             ],
             [
              0.3333333333333333,
              "#9c179e"
             ],
             [
              0.4444444444444444,
              "#bd3786"
             ],
             [
              0.5555555555555556,
              "#d8576b"
             ],
             [
              0.6666666666666666,
              "#ed7953"
             ],
             [
              0.7777777777777778,
              "#fb9f3a"
             ],
             [
              0.8888888888888888,
              "#fdca26"
             ],
             [
              1,
              "#f0f921"
             ]
            ],
            "type": "histogram2d"
           }
          ],
          "histogram2dcontour": [
           {
            "colorbar": {
             "outlinewidth": 0,
             "ticks": ""
            },
            "colorscale": [
             [
              0,
              "#0d0887"
             ],
             [
              0.1111111111111111,
              "#46039f"
             ],
             [
              0.2222222222222222,
              "#7201a8"
             ],
             [
              0.3333333333333333,
              "#9c179e"
             ],
             [
              0.4444444444444444,
              "#bd3786"
             ],
             [
              0.5555555555555556,
              "#d8576b"
             ],
             [
              0.6666666666666666,
              "#ed7953"
             ],
             [
              0.7777777777777778,
              "#fb9f3a"
             ],
             [
              0.8888888888888888,
              "#fdca26"
             ],
             [
              1,
              "#f0f921"
             ]
            ],
            "type": "histogram2dcontour"
           }
          ],
          "mesh3d": [
           {
            "colorbar": {
             "outlinewidth": 0,
             "ticks": ""
            },
            "type": "mesh3d"
           }
          ],
          "parcoords": [
           {
            "line": {
             "colorbar": {
              "outlinewidth": 0,
              "ticks": ""
             }
            },
            "type": "parcoords"
           }
          ],
          "pie": [
           {
            "automargin": true,
            "type": "pie"
           }
          ],
          "scatter": [
           {
            "fillpattern": {
             "fillmode": "overlay",
             "size": 10,
             "solidity": 0.2
            },
            "type": "scatter"
           }
          ],
          "scatter3d": [
           {
            "line": {
             "colorbar": {
              "outlinewidth": 0,
              "ticks": ""
             }
            },
            "marker": {
             "colorbar": {
              "outlinewidth": 0,
              "ticks": ""
             }
            },
            "type": "scatter3d"
           }
          ],
          "scattercarpet": [
           {
            "marker": {
             "colorbar": {
              "outlinewidth": 0,
              "ticks": ""
             }
            },
            "type": "scattercarpet"
           }
          ],
          "scattergeo": [
           {
            "marker": {
             "colorbar": {
              "outlinewidth": 0,
              "ticks": ""
             }
            },
            "type": "scattergeo"
           }
          ],
          "scattergl": [
           {
            "marker": {
             "colorbar": {
              "outlinewidth": 0,
              "ticks": ""
             }
            },
            "type": "scattergl"
           }
          ],
          "scattermapbox": [
           {
            "marker": {
             "colorbar": {
              "outlinewidth": 0,
              "ticks": ""
             }
            },
            "type": "scattermapbox"
           }
          ],
          "scatterpolar": [
           {
            "marker": {
             "colorbar": {
              "outlinewidth": 0,
              "ticks": ""
             }
            },
            "type": "scatterpolar"
           }
          ],
          "scatterpolargl": [
           {
            "marker": {
             "colorbar": {
              "outlinewidth": 0,
              "ticks": ""
             }
            },
            "type": "scatterpolargl"
           }
          ],
          "scatterternary": [
           {
            "marker": {
             "colorbar": {
              "outlinewidth": 0,
              "ticks": ""
             }
            },
            "type": "scatterternary"
           }
          ],
          "surface": [
           {
            "colorbar": {
             "outlinewidth": 0,
             "ticks": ""
            },
            "colorscale": [
             [
              0,
              "#0d0887"
             ],
             [
              0.1111111111111111,
              "#46039f"
             ],
             [
              0.2222222222222222,
              "#7201a8"
             ],
             [
              0.3333333333333333,
              "#9c179e"
             ],
             [
              0.4444444444444444,
              "#bd3786"
             ],
             [
              0.5555555555555556,
              "#d8576b"
             ],
             [
              0.6666666666666666,
              "#ed7953"
             ],
             [
              0.7777777777777778,
              "#fb9f3a"
             ],
             [
              0.8888888888888888,
              "#fdca26"
             ],
             [
              1,
              "#f0f921"
             ]
            ],
            "type": "surface"
           }
          ],
          "table": [
           {
            "cells": {
             "fill": {
              "color": "#EBF0F8"
             },
             "line": {
              "color": "white"
             }
            },
            "header": {
             "fill": {
              "color": "#C8D4E3"
             },
             "line": {
              "color": "white"
             }
            },
            "type": "table"
           }
          ]
         },
         "layout": {
          "annotationdefaults": {
           "arrowcolor": "#2a3f5f",
           "arrowhead": 0,
           "arrowwidth": 1
          },
          "autotypenumbers": "strict",
          "coloraxis": {
           "colorbar": {
            "outlinewidth": 0,
            "ticks": ""
           }
          },
          "colorscale": {
           "diverging": [
            [
             0,
             "#8e0152"
            ],
            [
             0.1,
             "#c51b7d"
            ],
            [
             0.2,
             "#de77ae"
            ],
            [
             0.3,
             "#f1b6da"
            ],
            [
             0.4,
             "#fde0ef"
            ],
            [
             0.5,
             "#f7f7f7"
            ],
            [
             0.6,
             "#e6f5d0"
            ],
            [
             0.7,
             "#b8e186"
            ],
            [
             0.8,
             "#7fbc41"
            ],
            [
             0.9,
             "#4d9221"
            ],
            [
             1,
             "#276419"
            ]
           ],
           "sequential": [
            [
             0,
             "#0d0887"
            ],
            [
             0.1111111111111111,
             "#46039f"
            ],
            [
             0.2222222222222222,
             "#7201a8"
            ],
            [
             0.3333333333333333,
             "#9c179e"
            ],
            [
             0.4444444444444444,
             "#bd3786"
            ],
            [
             0.5555555555555556,
             "#d8576b"
            ],
            [
             0.6666666666666666,
             "#ed7953"
            ],
            [
             0.7777777777777778,
             "#fb9f3a"
            ],
            [
             0.8888888888888888,
             "#fdca26"
            ],
            [
             1,
             "#f0f921"
            ]
           ],
           "sequentialminus": [
            [
             0,
             "#0d0887"
            ],
            [
             0.1111111111111111,
             "#46039f"
            ],
            [
             0.2222222222222222,
             "#7201a8"
            ],
            [
             0.3333333333333333,
             "#9c179e"
            ],
            [
             0.4444444444444444,
             "#bd3786"
            ],
            [
             0.5555555555555556,
             "#d8576b"
            ],
            [
             0.6666666666666666,
             "#ed7953"
            ],
            [
             0.7777777777777778,
             "#fb9f3a"
            ],
            [
             0.8888888888888888,
             "#fdca26"
            ],
            [
             1,
             "#f0f921"
            ]
           ]
          },
          "colorway": [
           "#636efa",
           "#EF553B",
           "#00cc96",
           "#ab63fa",
           "#FFA15A",
           "#19d3f3",
           "#FF6692",
           "#B6E880",
           "#FF97FF",
           "#FECB52"
          ],
          "font": {
           "color": "#2a3f5f"
          },
          "geo": {
           "bgcolor": "white",
           "lakecolor": "white",
           "landcolor": "#E5ECF6",
           "showlakes": true,
           "showland": true,
           "subunitcolor": "white"
          },
          "hoverlabel": {
           "align": "left"
          },
          "hovermode": "closest",
          "mapbox": {
           "style": "light"
          },
          "paper_bgcolor": "white",
          "plot_bgcolor": "#E5ECF6",
          "polar": {
           "angularaxis": {
            "gridcolor": "white",
            "linecolor": "white",
            "ticks": ""
           },
           "bgcolor": "#E5ECF6",
           "radialaxis": {
            "gridcolor": "white",
            "linecolor": "white",
            "ticks": ""
           }
          },
          "scene": {
           "xaxis": {
            "backgroundcolor": "#E5ECF6",
            "gridcolor": "white",
            "gridwidth": 2,
            "linecolor": "white",
            "showbackground": true,
            "ticks": "",
            "zerolinecolor": "white"
           },
           "yaxis": {
            "backgroundcolor": "#E5ECF6",
            "gridcolor": "white",
            "gridwidth": 2,
            "linecolor": "white",
            "showbackground": true,
            "ticks": "",
            "zerolinecolor": "white"
           },
           "zaxis": {
            "backgroundcolor": "#E5ECF6",
            "gridcolor": "white",
            "gridwidth": 2,
            "linecolor": "white",
            "showbackground": true,
            "ticks": "",
            "zerolinecolor": "white"
           }
          },
          "shapedefaults": {
           "line": {
            "color": "#2a3f5f"
           }
          },
          "ternary": {
           "aaxis": {
            "gridcolor": "white",
            "linecolor": "white",
            "ticks": ""
           },
           "baxis": {
            "gridcolor": "white",
            "linecolor": "white",
            "ticks": ""
           },
           "bgcolor": "#E5ECF6",
           "caxis": {
            "gridcolor": "white",
            "linecolor": "white",
            "ticks": ""
           }
          },
          "title": {
           "x": 0.05
          },
          "xaxis": {
           "automargin": true,
           "gridcolor": "white",
           "linecolor": "white",
           "ticks": "",
           "title": {
            "standoff": 15
           },
           "zerolinecolor": "white",
           "zerolinewidth": 2
          },
          "yaxis": {
           "automargin": true,
           "gridcolor": "white",
           "linecolor": "white",
           "ticks": "",
           "title": {
            "standoff": 15
           },
           "zerolinecolor": "white",
           "zerolinewidth": 2
          }
         }
        },
        "title": {
         "font": {
          "color": "black",
          "family": "Times New Roman",
          "size": 30
         },
         "text": "UUT#4_Cycle01",
         "x": 0.5,
         "xanchor": "center",
         "y": 0.9,
         "yanchor": "top"
        },
        "width": 1200,
        "xaxis": {
         "autorange": "reversed",
         "gridcolor": "LightPink",
         "gridwidth": 1,
         "linecolor": "black",
         "linewidth": 2,
         "mirror": true,
         "showgrid": true,
         "showline": true,
         "tickfont": {
          "color": "black",
          "family": "Times New Roman",
          "size": 24
         },
         "ticks": "outside",
         "title": {
          "font": {
           "color": "black",
           "family": "Times New Roman",
           "size": 24
          },
          "standoff": 5,
          "text": "Battery Pack SOC (%)"
         }
        },
        "yaxis": {
         "gridcolor": "LightPink",
         "gridwidth": 1,
         "linecolor": "black",
         "linewidth": 2,
         "mirror": true,
         "showgrid": true,
         "showline": true,
         "tickfont": {
          "color": "black",
          "family": "Times New Roman",
          "size": 24
         },
         "ticks": "outside",
         "title": {
          "font": {
           "color": "black",
           "family": "Times New Roman",
           "size": 24
          },
          "standoff": 5,
          "text": "Battery Pack Voltages (V) "
         }
        }
       }
      }
     },
     "metadata": {},
     "output_type": "display_data"
    }
   ],
   "source": [
    "# battery 3\n",
    "fig = go.Figure()\n",
    "fig.add_trace(go.Scatter(x=df4_1['Battery SOC [%]'], y=df4_1['Battery OCV [V]'], name='UUT#4_Cycle01', line=dict(color='#20f200', width=4), marker=dict(size=10, color='black', symbol='hexagon')))\n",
    "\n",
    "\n",
    "# flip the x and y axis\n",
    "fig.update_layout(xaxis=dict(autorange=\"reversed\"))\n",
    "fig.update_layout(title='UUT#4_Cycle01')\n",
    "# add description below the title as subtitle\n",
    "fig.update_layout(title={'y': 0.9, 'x': 0.5, 'xanchor': 'center', 'yanchor': 'top'})\n",
    "# add axis line and ticks\n",
    "fig.update_xaxes(showline=True, linewidth=2, linecolor='black', mirror=True, ticks=\"outside\")\n",
    "fig.update_yaxes(showline=True, linewidth=2, linecolor='black', mirror=True, ticks=\"outside\")\n",
    "# Make x labels larger, and Times New Roman\n",
    "fig.update_xaxes(title_text=\"Battery Pack SOC (%)\", title_font=dict(size=24, family='Times New Roman', color='black'), title_standoff=25)\n",
    "# Make y labels larger, and Times New Roman\n",
    "fig.update_yaxes(title_text=\"Battery Pack Voltages (V) \", title_font=dict(size=24, family='Times New Roman', color='black'), title_standoff=25)\n",
    "# change the legend font size and font family\n",
    "fig.update_layout(legend=dict(font=dict(size=18, family='Times New Roman', color='black')))\n",
    "# make background white\n",
    "fig.update_layout(plot_bgcolor='white')\n",
    "# Move x-label and y-label to the center\n",
    "fig.update_layout(xaxis=dict(title=dict(standoff=5)), yaxis=dict(title=dict(standoff=5)))\n",
    "# Icncrease x-axis and y-axis tick font size and font family\n",
    "fig.update_xaxes(tickfont=dict(size=24, family='Times New Roman', color='black'))\n",
    "fig.update_yaxes(tickfont=dict(size=24, family='Times New Roman', color='black'))\n",
    "# add grid\n",
    "fig.update_layout(xaxis=dict(showgrid=True, gridwidth=1, gridcolor='LightPink'), yaxis=dict(showgrid=True, gridwidth=1, gridcolor='LightPink'))\n",
    "# add figure size\n",
    "fig.update_layout(width=1200, height=600)\n",
    "# keep the legend inside the plot area\n",
    "fig.update_layout(legend=dict(x=0.76, y=0.99))\n",
    "# Make title larger, and Times New Roman and center\n",
    "fig.update_layout(title=dict(font=dict(size=30, family='Times New Roman', color='black'), x=0.5, xanchor='center'))\n",
    "# add box around the legend\n",
    "fig.update_layout(legend=dict(bordercolor='black', borderwidth=2))\n",
    "fig.show()"
   ]
  },
  {
   "cell_type": "code",
   "execution_count": 172,
   "metadata": {},
   "outputs": [
    {
     "data": {
      "application/vnd.plotly.v1+json": {
       "config": {
        "plotlyServerURL": "https://plot.ly"
       },
       "data": [
        {
         "line": {
          "color": "light blue",
          "width": 4
         },
         "marker": {
          "color": "black",
          "size": 10,
          "symbol": "circle"
         },
         "name": "Cell1",
         "type": "scatter",
         "x": [
          95,
          94,
          93,
          92,
          92,
          92,
          91,
          90,
          88,
          86,
          84,
          80,
          78,
          76,
          74,
          72,
          71,
          69,
          67,
          65,
          62,
          57,
          54,
          52
         ],
         "y": [
          4.152,
          4.146,
          4.141,
          4.134,
          4.131,
          4.128,
          4.119,
          4.107,
          4.088,
          4.074,
          4.057,
          4.027,
          4.007,
          3.992,
          3.98,
          3.972,
          3.963,
          3.952,
          3.941,
          3.932,
          3.922,
          3.91,
          3.893,
          3.873
         ]
        },
        {
         "line": {
          "color": "#768fb8",
          "width": 4
         },
         "marker": {
          "color": "black",
          "size": 10,
          "symbol": "circle"
         },
         "name": "Cell2",
         "type": "scatter",
         "x": [
          95,
          94,
          93,
          92,
          92,
          92,
          91,
          90,
          88,
          86,
          84,
          80,
          78,
          76,
          74,
          72,
          71,
          69,
          67,
          65,
          62,
          57,
          54,
          52
         ],
         "y": [
          4.174,
          4.157,
          4.151,
          4.144,
          4.139,
          4.135,
          4.124,
          4.111,
          4.095,
          4.082,
          4.062,
          4.027,
          4.005,
          3.992,
          3.982,
          3.969,
          3.957,
          3.946,
          3.936,
          3.924,
          3.905,
          3.881,
          3.869,
          3.86
         ]
        },
        {
         "line": {
          "color": "green",
          "width": 4
         },
         "marker": {
          "color": "black",
          "size": 10,
          "symbol": "circle"
         },
         "name": "Cell3",
         "type": "scatter",
         "x": [
          95,
          94,
          93,
          92,
          92,
          92,
          91,
          90,
          88,
          86,
          84,
          80,
          78,
          76,
          74,
          72,
          71,
          69,
          67,
          65,
          62,
          57,
          54,
          52
         ],
         "y": [
          4.176,
          4.159,
          4.154,
          4.147,
          4.142,
          4.139,
          4.129,
          4.115,
          4.1,
          4.086,
          4.072,
          4.045,
          4.018,
          4.001,
          3.99,
          3.981,
          3.97,
          3.958,
          3.948,
          3.935,
          3.926,
          3.913,
          3.887,
          3.87
         ]
        },
        {
         "line": {
          "color": "yellow",
          "width": 4
         },
         "marker": {
          "color": "black",
          "size": 10,
          "symbol": "circle"
         },
         "name": "Cell4",
         "type": "scatter",
         "x": [
          95,
          94,
          93,
          92,
          92,
          92,
          91,
          90,
          88,
          86,
          84,
          80,
          78,
          76,
          74,
          72,
          71,
          69,
          67,
          65,
          62,
          57,
          54,
          52
         ],
         "y": [
          4.217,
          4.199,
          4.195,
          4.19,
          4.187,
          4.185,
          4.18,
          4.172,
          4.163,
          4.154,
          4.143,
          4.132,
          4.126,
          4.119,
          4.115,
          4.11,
          4.105,
          4.101,
          4.097,
          4.093,
          4.09,
          4.087,
          4.084,
          4.082
         ]
        },
        {
         "line": {
          "color": "magenta",
          "width": 4
         },
         "marker": {
          "color": "black",
          "size": 10,
          "symbol": "circle"
         },
         "name": "Cell5",
         "type": "scatter",
         "x": [
          95,
          94,
          93,
          92,
          92,
          92,
          91,
          90,
          88,
          86,
          84,
          80,
          78,
          76,
          74,
          72,
          71,
          69,
          67,
          65,
          62,
          57,
          54,
          52
         ],
         "y": [
          4.18,
          4.166,
          4.161,
          4.154,
          4.15,
          4.147,
          4.139,
          4.13,
          4.118,
          4.106,
          4.09,
          4.075,
          4.064,
          4.053,
          4.039,
          4.023,
          4.009,
          3.996,
          3.985,
          3.978,
          3.973,
          3.966,
          3.959,
          3.953
         ]
        },
        {
         "line": {
          "color": "red",
          "width": 4
         },
         "marker": {
          "color": "black",
          "size": 10,
          "symbol": "circle"
         },
         "name": "Cell6",
         "type": "scatter",
         "x": [
          95,
          94,
          93,
          92,
          92,
          92,
          91,
          90,
          88,
          86,
          84,
          80,
          78,
          76,
          74,
          72,
          71,
          69,
          67,
          65,
          62,
          57,
          54,
          52
         ],
         "y": [
          4.159,
          4.139,
          4.134,
          4.127,
          4.124,
          4.122,
          4.113,
          4.103,
          4.09,
          4.078,
          4.058,
          4.032,
          4.008,
          3.996,
          3.987,
          3.977,
          3.969,
          3.959,
          3.947,
          3.935,
          3.923,
          3.915,
          3.904,
          3.886
         ]
        }
       ],
       "layout": {
        "height": 600,
        "legend": {
         "bordercolor": "black",
         "borderwidth": 2,
         "font": {
          "color": "black",
          "family": "Times New Roman",
          "size": 18
         },
         "x": 0.86,
         "y": 0.99
        },
        "plot_bgcolor": "white",
        "template": {
         "data": {
          "bar": [
           {
            "error_x": {
             "color": "#2a3f5f"
            },
            "error_y": {
             "color": "#2a3f5f"
            },
            "marker": {
             "line": {
              "color": "#E5ECF6",
              "width": 0.5
             },
             "pattern": {
              "fillmode": "overlay",
              "size": 10,
              "solidity": 0.2
             }
            },
            "type": "bar"
           }
          ],
          "barpolar": [
           {
            "marker": {
             "line": {
              "color": "#E5ECF6",
              "width": 0.5
             },
             "pattern": {
              "fillmode": "overlay",
              "size": 10,
              "solidity": 0.2
             }
            },
            "type": "barpolar"
           }
          ],
          "carpet": [
           {
            "aaxis": {
             "endlinecolor": "#2a3f5f",
             "gridcolor": "white",
             "linecolor": "white",
             "minorgridcolor": "white",
             "startlinecolor": "#2a3f5f"
            },
            "baxis": {
             "endlinecolor": "#2a3f5f",
             "gridcolor": "white",
             "linecolor": "white",
             "minorgridcolor": "white",
             "startlinecolor": "#2a3f5f"
            },
            "type": "carpet"
           }
          ],
          "choropleth": [
           {
            "colorbar": {
             "outlinewidth": 0,
             "ticks": ""
            },
            "type": "choropleth"
           }
          ],
          "contour": [
           {
            "colorbar": {
             "outlinewidth": 0,
             "ticks": ""
            },
            "colorscale": [
             [
              0,
              "#0d0887"
             ],
             [
              0.1111111111111111,
              "#46039f"
             ],
             [
              0.2222222222222222,
              "#7201a8"
             ],
             [
              0.3333333333333333,
              "#9c179e"
             ],
             [
              0.4444444444444444,
              "#bd3786"
             ],
             [
              0.5555555555555556,
              "#d8576b"
             ],
             [
              0.6666666666666666,
              "#ed7953"
             ],
             [
              0.7777777777777778,
              "#fb9f3a"
             ],
             [
              0.8888888888888888,
              "#fdca26"
             ],
             [
              1,
              "#f0f921"
             ]
            ],
            "type": "contour"
           }
          ],
          "contourcarpet": [
           {
            "colorbar": {
             "outlinewidth": 0,
             "ticks": ""
            },
            "type": "contourcarpet"
           }
          ],
          "heatmap": [
           {
            "colorbar": {
             "outlinewidth": 0,
             "ticks": ""
            },
            "colorscale": [
             [
              0,
              "#0d0887"
             ],
             [
              0.1111111111111111,
              "#46039f"
             ],
             [
              0.2222222222222222,
              "#7201a8"
             ],
             [
              0.3333333333333333,
              "#9c179e"
             ],
             [
              0.4444444444444444,
              "#bd3786"
             ],
             [
              0.5555555555555556,
              "#d8576b"
             ],
             [
              0.6666666666666666,
              "#ed7953"
             ],
             [
              0.7777777777777778,
              "#fb9f3a"
             ],
             [
              0.8888888888888888,
              "#fdca26"
             ],
             [
              1,
              "#f0f921"
             ]
            ],
            "type": "heatmap"
           }
          ],
          "heatmapgl": [
           {
            "colorbar": {
             "outlinewidth": 0,
             "ticks": ""
            },
            "colorscale": [
             [
              0,
              "#0d0887"
             ],
             [
              0.1111111111111111,
              "#46039f"
             ],
             [
              0.2222222222222222,
              "#7201a8"
             ],
             [
              0.3333333333333333,
              "#9c179e"
             ],
             [
              0.4444444444444444,
              "#bd3786"
             ],
             [
              0.5555555555555556,
              "#d8576b"
             ],
             [
              0.6666666666666666,
              "#ed7953"
             ],
             [
              0.7777777777777778,
              "#fb9f3a"
             ],
             [
              0.8888888888888888,
              "#fdca26"
             ],
             [
              1,
              "#f0f921"
             ]
            ],
            "type": "heatmapgl"
           }
          ],
          "histogram": [
           {
            "marker": {
             "pattern": {
              "fillmode": "overlay",
              "size": 10,
              "solidity": 0.2
             }
            },
            "type": "histogram"
           }
          ],
          "histogram2d": [
           {
            "colorbar": {
             "outlinewidth": 0,
             "ticks": ""
            },
            "colorscale": [
             [
              0,
              "#0d0887"
             ],
             [
              0.1111111111111111,
              "#46039f"
             ],
             [
              0.2222222222222222,
              "#7201a8"
             ],
             [
              0.3333333333333333,
              "#9c179e"
             ],
             [
              0.4444444444444444,
              "#bd3786"
             ],
             [
              0.5555555555555556,
              "#d8576b"
             ],
             [
              0.6666666666666666,
              "#ed7953"
             ],
             [
              0.7777777777777778,
              "#fb9f3a"
             ],
             [
              0.8888888888888888,
              "#fdca26"
             ],
             [
              1,
              "#f0f921"
             ]
            ],
            "type": "histogram2d"
           }
          ],
          "histogram2dcontour": [
           {
            "colorbar": {
             "outlinewidth": 0,
             "ticks": ""
            },
            "colorscale": [
             [
              0,
              "#0d0887"
             ],
             [
              0.1111111111111111,
              "#46039f"
             ],
             [
              0.2222222222222222,
              "#7201a8"
             ],
             [
              0.3333333333333333,
              "#9c179e"
             ],
             [
              0.4444444444444444,
              "#bd3786"
             ],
             [
              0.5555555555555556,
              "#d8576b"
             ],
             [
              0.6666666666666666,
              "#ed7953"
             ],
             [
              0.7777777777777778,
              "#fb9f3a"
             ],
             [
              0.8888888888888888,
              "#fdca26"
             ],
             [
              1,
              "#f0f921"
             ]
            ],
            "type": "histogram2dcontour"
           }
          ],
          "mesh3d": [
           {
            "colorbar": {
             "outlinewidth": 0,
             "ticks": ""
            },
            "type": "mesh3d"
           }
          ],
          "parcoords": [
           {
            "line": {
             "colorbar": {
              "outlinewidth": 0,
              "ticks": ""
             }
            },
            "type": "parcoords"
           }
          ],
          "pie": [
           {
            "automargin": true,
            "type": "pie"
           }
          ],
          "scatter": [
           {
            "fillpattern": {
             "fillmode": "overlay",
             "size": 10,
             "solidity": 0.2
            },
            "type": "scatter"
           }
          ],
          "scatter3d": [
           {
            "line": {
             "colorbar": {
              "outlinewidth": 0,
              "ticks": ""
             }
            },
            "marker": {
             "colorbar": {
              "outlinewidth": 0,
              "ticks": ""
             }
            },
            "type": "scatter3d"
           }
          ],
          "scattercarpet": [
           {
            "marker": {
             "colorbar": {
              "outlinewidth": 0,
              "ticks": ""
             }
            },
            "type": "scattercarpet"
           }
          ],
          "scattergeo": [
           {
            "marker": {
             "colorbar": {
              "outlinewidth": 0,
              "ticks": ""
             }
            },
            "type": "scattergeo"
           }
          ],
          "scattergl": [
           {
            "marker": {
             "colorbar": {
              "outlinewidth": 0,
              "ticks": ""
             }
            },
            "type": "scattergl"
           }
          ],
          "scattermapbox": [
           {
            "marker": {
             "colorbar": {
              "outlinewidth": 0,
              "ticks": ""
             }
            },
            "type": "scattermapbox"
           }
          ],
          "scatterpolar": [
           {
            "marker": {
             "colorbar": {
              "outlinewidth": 0,
              "ticks": ""
             }
            },
            "type": "scatterpolar"
           }
          ],
          "scatterpolargl": [
           {
            "marker": {
             "colorbar": {
              "outlinewidth": 0,
              "ticks": ""
             }
            },
            "type": "scatterpolargl"
           }
          ],
          "scatterternary": [
           {
            "marker": {
             "colorbar": {
              "outlinewidth": 0,
              "ticks": ""
             }
            },
            "type": "scatterternary"
           }
          ],
          "surface": [
           {
            "colorbar": {
             "outlinewidth": 0,
             "ticks": ""
            },
            "colorscale": [
             [
              0,
              "#0d0887"
             ],
             [
              0.1111111111111111,
              "#46039f"
             ],
             [
              0.2222222222222222,
              "#7201a8"
             ],
             [
              0.3333333333333333,
              "#9c179e"
             ],
             [
              0.4444444444444444,
              "#bd3786"
             ],
             [
              0.5555555555555556,
              "#d8576b"
             ],
             [
              0.6666666666666666,
              "#ed7953"
             ],
             [
              0.7777777777777778,
              "#fb9f3a"
             ],
             [
              0.8888888888888888,
              "#fdca26"
             ],
             [
              1,
              "#f0f921"
             ]
            ],
            "type": "surface"
           }
          ],
          "table": [
           {
            "cells": {
             "fill": {
              "color": "#EBF0F8"
             },
             "line": {
              "color": "white"
             }
            },
            "header": {
             "fill": {
              "color": "#C8D4E3"
             },
             "line": {
              "color": "white"
             }
            },
            "type": "table"
           }
          ]
         },
         "layout": {
          "annotationdefaults": {
           "arrowcolor": "#2a3f5f",
           "arrowhead": 0,
           "arrowwidth": 1
          },
          "autotypenumbers": "strict",
          "coloraxis": {
           "colorbar": {
            "outlinewidth": 0,
            "ticks": ""
           }
          },
          "colorscale": {
           "diverging": [
            [
             0,
             "#8e0152"
            ],
            [
             0.1,
             "#c51b7d"
            ],
            [
             0.2,
             "#de77ae"
            ],
            [
             0.3,
             "#f1b6da"
            ],
            [
             0.4,
             "#fde0ef"
            ],
            [
             0.5,
             "#f7f7f7"
            ],
            [
             0.6,
             "#e6f5d0"
            ],
            [
             0.7,
             "#b8e186"
            ],
            [
             0.8,
             "#7fbc41"
            ],
            [
             0.9,
             "#4d9221"
            ],
            [
             1,
             "#276419"
            ]
           ],
           "sequential": [
            [
             0,
             "#0d0887"
            ],
            [
             0.1111111111111111,
             "#46039f"
            ],
            [
             0.2222222222222222,
             "#7201a8"
            ],
            [
             0.3333333333333333,
             "#9c179e"
            ],
            [
             0.4444444444444444,
             "#bd3786"
            ],
            [
             0.5555555555555556,
             "#d8576b"
            ],
            [
             0.6666666666666666,
             "#ed7953"
            ],
            [
             0.7777777777777778,
             "#fb9f3a"
            ],
            [
             0.8888888888888888,
             "#fdca26"
            ],
            [
             1,
             "#f0f921"
            ]
           ],
           "sequentialminus": [
            [
             0,
             "#0d0887"
            ],
            [
             0.1111111111111111,
             "#46039f"
            ],
            [
             0.2222222222222222,
             "#7201a8"
            ],
            [
             0.3333333333333333,
             "#9c179e"
            ],
            [
             0.4444444444444444,
             "#bd3786"
            ],
            [
             0.5555555555555556,
             "#d8576b"
            ],
            [
             0.6666666666666666,
             "#ed7953"
            ],
            [
             0.7777777777777778,
             "#fb9f3a"
            ],
            [
             0.8888888888888888,
             "#fdca26"
            ],
            [
             1,
             "#f0f921"
            ]
           ]
          },
          "colorway": [
           "#636efa",
           "#EF553B",
           "#00cc96",
           "#ab63fa",
           "#FFA15A",
           "#19d3f3",
           "#FF6692",
           "#B6E880",
           "#FF97FF",
           "#FECB52"
          ],
          "font": {
           "color": "#2a3f5f"
          },
          "geo": {
           "bgcolor": "white",
           "lakecolor": "white",
           "landcolor": "#E5ECF6",
           "showlakes": true,
           "showland": true,
           "subunitcolor": "white"
          },
          "hoverlabel": {
           "align": "left"
          },
          "hovermode": "closest",
          "mapbox": {
           "style": "light"
          },
          "paper_bgcolor": "white",
          "plot_bgcolor": "#E5ECF6",
          "polar": {
           "angularaxis": {
            "gridcolor": "white",
            "linecolor": "white",
            "ticks": ""
           },
           "bgcolor": "#E5ECF6",
           "radialaxis": {
            "gridcolor": "white",
            "linecolor": "white",
            "ticks": ""
           }
          },
          "scene": {
           "xaxis": {
            "backgroundcolor": "#E5ECF6",
            "gridcolor": "white",
            "gridwidth": 2,
            "linecolor": "white",
            "showbackground": true,
            "ticks": "",
            "zerolinecolor": "white"
           },
           "yaxis": {
            "backgroundcolor": "#E5ECF6",
            "gridcolor": "white",
            "gridwidth": 2,
            "linecolor": "white",
            "showbackground": true,
            "ticks": "",
            "zerolinecolor": "white"
           },
           "zaxis": {
            "backgroundcolor": "#E5ECF6",
            "gridcolor": "white",
            "gridwidth": 2,
            "linecolor": "white",
            "showbackground": true,
            "ticks": "",
            "zerolinecolor": "white"
           }
          },
          "shapedefaults": {
           "line": {
            "color": "#2a3f5f"
           }
          },
          "ternary": {
           "aaxis": {
            "gridcolor": "white",
            "linecolor": "white",
            "ticks": ""
           },
           "baxis": {
            "gridcolor": "white",
            "linecolor": "white",
            "ticks": ""
           },
           "bgcolor": "#E5ECF6",
           "caxis": {
            "gridcolor": "white",
            "linecolor": "white",
            "ticks": ""
           }
          },
          "title": {
           "x": 0.05
          },
          "xaxis": {
           "automargin": true,
           "gridcolor": "white",
           "linecolor": "white",
           "ticks": "",
           "title": {
            "standoff": 15
           },
           "zerolinecolor": "white",
           "zerolinewidth": 2
          },
          "yaxis": {
           "automargin": true,
           "gridcolor": "white",
           "linecolor": "white",
           "ticks": "",
           "title": {
            "standoff": 15
           },
           "zerolinecolor": "white",
           "zerolinewidth": 2
          }
         }
        },
        "title": {
         "font": {
          "color": "black",
          "family": "Times New Roman",
          "size": 30
         },
         "text": "UUT#4_Cycle01",
         "x": 0.5,
         "xanchor": "center",
         "y": 0.9,
         "yanchor": "top"
        },
        "width": 1200,
        "xaxis": {
         "autorange": "reversed",
         "gridcolor": "LightPink",
         "gridwidth": 1,
         "linecolor": "black",
         "linewidth": 2,
         "mirror": true,
         "showgrid": true,
         "showline": true,
         "tickfont": {
          "color": "black",
          "family": "Times New Roman",
          "size": 24
         },
         "ticks": "outside",
         "title": {
          "font": {
           "color": "black",
           "family": "Times New Roman",
           "size": 24
          },
          "standoff": 5,
          "text": "Battery Pack SOC (%)"
         }
        },
        "yaxis": {
         "gridcolor": "LightPink",
         "gridwidth": 1,
         "linecolor": "black",
         "linewidth": 2,
         "mirror": true,
         "showgrid": true,
         "showline": true,
         "tickfont": {
          "color": "black",
          "family": "Times New Roman",
          "size": 24
         },
         "ticks": "outside",
         "title": {
          "font": {
           "color": "black",
           "family": "Times New Roman",
           "size": 24
          },
          "standoff": 5,
          "text": "Battery Cell Voltages (V) "
         }
        }
       }
      }
     },
     "metadata": {},
     "output_type": "display_data"
    }
   ],
   "source": [
    "# Plot the 'Battery OCV [V]' with 'Battery SOC [%]' using line plot in plotly\n",
    "fig = go.Figure()\n",
    "#fig.add_trace(go.Scatter(x=df4_1['Battery SOC [%]'], y=df4_1['Battery OCV [V]'], name='UUT#4_Cycle01', line=dict(color='blue', width=4, dash='dashdot'), marker=dict(size=10, color='black', symbol='circle')))\n",
    "fig.add_trace(go.Scatter(x=df4_1['Battery SOC [%]'], y=df4_1['Cell 1 '], name='Cell1', line=dict(color='light blue', width=4), marker=dict(size=10, color='black', symbol='circle')))\n",
    "fig.add_trace(go.Scatter(x=df4_1['Battery SOC [%]'], y=df4_1['Cell 2 '], name='Cell2', line=dict(color='#768fb8', width=4), marker=dict(size=10, color='black', symbol='circle')))\n",
    "fig.add_trace(go.Scatter(x=df4_1['Battery SOC [%]'], y=df4_1['Cell 3'], name='Cell3', line=dict(color='green', width=4), marker=dict(size=10, color='black', symbol='circle')))\n",
    "fig.add_trace(go.Scatter(x=df4_1['Battery SOC [%]'], y=df4_1['Cell 4 '], name='Cell4', line=dict(color='yellow', width=4), marker=dict(size=10, color='black', symbol='circle')))\n",
    "fig.add_trace(go.Scatter(x=df4_1['Battery SOC [%]'], y=df4_1['Cell  5 '], name='Cell5', line=dict(color='magenta', width=4), marker=dict(size=10, color='black', symbol='circle')))\n",
    "fig.add_trace(go.Scatter(x=df4_1['Battery SOC [%]'], y=df4_1['Cell  6 '], name='Cell6', line=dict(color='red', width=4), marker=dict(size=10, color='black', symbol='circle')))\n",
    "\n",
    "# flip the x and y axis\n",
    "fig.update_layout(xaxis=dict(autorange=\"reversed\"))\n",
    "fig.update_layout(title='UUT#4_Cycle01')\n",
    "# add description below the title as subtitle\n",
    "fig.update_layout(title={'y': 0.9, 'x': 0.8, 'xanchor': 'center', 'yanchor': 'top'})\n",
    "# add axis line and ticks\n",
    "fig.update_xaxes(showline=True, linewidth=2, linecolor='black', mirror=True, ticks=\"outside\")\n",
    "fig.update_yaxes(showline=True, linewidth=2, linecolor='black', mirror=True, ticks=\"outside\")\n",
    "# Make x labels larger, and Times New Roman\n",
    "fig.update_xaxes(title_text=\"Battery Pack SOC (%)\", title_font=dict(size=24, family='Times New Roman', color='black'), title_standoff=25)\n",
    "# Make y labels larger, and Times New Roman\n",
    "fig.update_yaxes(title_text=\"Battery Cell Voltages (V) \", title_font=dict(size=24, family='Times New Roman', color='black'), title_standoff=25)\n",
    "# change the legend font size and font family\n",
    "fig.update_layout(legend=dict(font=dict(size=18, family='Times New Roman', color='black')))\n",
    "# make background white\n",
    "fig.update_layout(plot_bgcolor='white')\n",
    "# Move x-label and y-label to the center\n",
    "fig.update_layout(xaxis=dict(title=dict(standoff=5)), yaxis=dict(title=dict(standoff=5)))\n",
    "# Icncrease x-axis and y-axis tick font size and font family\n",
    "fig.update_xaxes(tickfont=dict(size=24, family='Times New Roman', color='black'))\n",
    "fig.update_yaxes(tickfont=dict(size=24, family='Times New Roman', color='black'))\n",
    "# add grid\n",
    "fig.update_layout(xaxis=dict(showgrid=True, gridwidth=1, gridcolor='LightPink'), yaxis=dict(showgrid=True, gridwidth=1, gridcolor='LightPink'))\n",
    "# add figure size\n",
    "fig.update_layout(width=1200, height=600)\n",
    "# keep the legend inside the plot area\n",
    "fig.update_layout(legend=dict(x=0.86, y=0.99))\n",
    "# Make title larger, and Times New Roman and center\n",
    "fig.update_layout(title=dict(font=dict(size=30, family='Times New Roman', color='black'), x=0.5, xanchor='center'))\n",
    "# add box around the legend\n",
    "fig.update_layout(legend=dict(bordercolor='black', borderwidth=2))\n",
    "fig.show()\n"
   ]
  },
  {
   "attachments": {},
   "cell_type": "markdown",
   "metadata": {},
   "source": [
    "### **UUT#5_Cycle01**"
   ]
  },
  {
   "cell_type": "code",
   "execution_count": 173,
   "metadata": {},
   "outputs": [
    {
     "data": {
      "application/vnd.plotly.v1+json": {
       "config": {
        "plotlyServerURL": "https://plot.ly"
       },
       "data": [
        {
         "line": {
          "color": "#20f200",
          "width": 4
         },
         "marker": {
          "color": "black",
          "size": 10,
          "symbol": "hexagon"
         },
         "name": "UUT#5_Cycle01",
         "type": "scatter",
         "x": [
          93,
          92,
          92,
          91,
          90,
          90,
          89,
          87,
          86,
          85,
          84,
          83,
          82,
          80,
          78,
          79,
          78,
          78,
          77,
          77,
          76,
          75,
          75,
          75
         ],
         "y": [
          25,
          24.95,
          24.92,
          24.89,
          24.87,
          24.86,
          24.81,
          24.76,
          24.7,
          24.64,
          24.58,
          24.52,
          24.47,
          24.42,
          24.37,
          24.35,
          24.32,
          24.28,
          24.25,
          24.21,
          24.17,
          24.13,
          24.09,
          24.07
         ]
        }
       ],
       "layout": {
        "height": 600,
        "legend": {
         "bordercolor": "black",
         "borderwidth": 2,
         "font": {
          "color": "black",
          "family": "Times New Roman",
          "size": 18
         },
         "x": 0.76,
         "y": 0.99
        },
        "plot_bgcolor": "white",
        "template": {
         "data": {
          "bar": [
           {
            "error_x": {
             "color": "#2a3f5f"
            },
            "error_y": {
             "color": "#2a3f5f"
            },
            "marker": {
             "line": {
              "color": "#E5ECF6",
              "width": 0.5
             },
             "pattern": {
              "fillmode": "overlay",
              "size": 10,
              "solidity": 0.2
             }
            },
            "type": "bar"
           }
          ],
          "barpolar": [
           {
            "marker": {
             "line": {
              "color": "#E5ECF6",
              "width": 0.5
             },
             "pattern": {
              "fillmode": "overlay",
              "size": 10,
              "solidity": 0.2
             }
            },
            "type": "barpolar"
           }
          ],
          "carpet": [
           {
            "aaxis": {
             "endlinecolor": "#2a3f5f",
             "gridcolor": "white",
             "linecolor": "white",
             "minorgridcolor": "white",
             "startlinecolor": "#2a3f5f"
            },
            "baxis": {
             "endlinecolor": "#2a3f5f",
             "gridcolor": "white",
             "linecolor": "white",
             "minorgridcolor": "white",
             "startlinecolor": "#2a3f5f"
            },
            "type": "carpet"
           }
          ],
          "choropleth": [
           {
            "colorbar": {
             "outlinewidth": 0,
             "ticks": ""
            },
            "type": "choropleth"
           }
          ],
          "contour": [
           {
            "colorbar": {
             "outlinewidth": 0,
             "ticks": ""
            },
            "colorscale": [
             [
              0,
              "#0d0887"
             ],
             [
              0.1111111111111111,
              "#46039f"
             ],
             [
              0.2222222222222222,
              "#7201a8"
             ],
             [
              0.3333333333333333,
              "#9c179e"
             ],
             [
              0.4444444444444444,
              "#bd3786"
             ],
             [
              0.5555555555555556,
              "#d8576b"
             ],
             [
              0.6666666666666666,
              "#ed7953"
             ],
             [
              0.7777777777777778,
              "#fb9f3a"
             ],
             [
              0.8888888888888888,
              "#fdca26"
             ],
             [
              1,
              "#f0f921"
             ]
            ],
            "type": "contour"
           }
          ],
          "contourcarpet": [
           {
            "colorbar": {
             "outlinewidth": 0,
             "ticks": ""
            },
            "type": "contourcarpet"
           }
          ],
          "heatmap": [
           {
            "colorbar": {
             "outlinewidth": 0,
             "ticks": ""
            },
            "colorscale": [
             [
              0,
              "#0d0887"
             ],
             [
              0.1111111111111111,
              "#46039f"
             ],
             [
              0.2222222222222222,
              "#7201a8"
             ],
             [
              0.3333333333333333,
              "#9c179e"
             ],
             [
              0.4444444444444444,
              "#bd3786"
             ],
             [
              0.5555555555555556,
              "#d8576b"
             ],
             [
              0.6666666666666666,
              "#ed7953"
             ],
             [
              0.7777777777777778,
              "#fb9f3a"
             ],
             [
              0.8888888888888888,
              "#fdca26"
             ],
             [
              1,
              "#f0f921"
             ]
            ],
            "type": "heatmap"
           }
          ],
          "heatmapgl": [
           {
            "colorbar": {
             "outlinewidth": 0,
             "ticks": ""
            },
            "colorscale": [
             [
              0,
              "#0d0887"
             ],
             [
              0.1111111111111111,
              "#46039f"
             ],
             [
              0.2222222222222222,
              "#7201a8"
             ],
             [
              0.3333333333333333,
              "#9c179e"
             ],
             [
              0.4444444444444444,
              "#bd3786"
             ],
             [
              0.5555555555555556,
              "#d8576b"
             ],
             [
              0.6666666666666666,
              "#ed7953"
             ],
             [
              0.7777777777777778,
              "#fb9f3a"
             ],
             [
              0.8888888888888888,
              "#fdca26"
             ],
             [
              1,
              "#f0f921"
             ]
            ],
            "type": "heatmapgl"
           }
          ],
          "histogram": [
           {
            "marker": {
             "pattern": {
              "fillmode": "overlay",
              "size": 10,
              "solidity": 0.2
             }
            },
            "type": "histogram"
           }
          ],
          "histogram2d": [
           {
            "colorbar": {
             "outlinewidth": 0,
             "ticks": ""
            },
            "colorscale": [
             [
              0,
              "#0d0887"
             ],
             [
              0.1111111111111111,
              "#46039f"
             ],
             [
              0.2222222222222222,
              "#7201a8"
             ],
             [
              0.3333333333333333,
              "#9c179e"
             ],
             [
              0.4444444444444444,
              "#bd3786"
             ],
             [
              0.5555555555555556,
              "#d8576b"
             ],
             [
              0.6666666666666666,
              "#ed7953"
             ],
             [
              0.7777777777777778,
              "#fb9f3a"
             ],
             [
              0.8888888888888888,
              "#fdca26"
             ],
             [
              1,
              "#f0f921"
             ]
            ],
            "type": "histogram2d"
           }
          ],
          "histogram2dcontour": [
           {
            "colorbar": {
             "outlinewidth": 0,
             "ticks": ""
            },
            "colorscale": [
             [
              0,
              "#0d0887"
             ],
             [
              0.1111111111111111,
              "#46039f"
             ],
             [
              0.2222222222222222,
              "#7201a8"
             ],
             [
              0.3333333333333333,
              "#9c179e"
             ],
             [
              0.4444444444444444,
              "#bd3786"
             ],
             [
              0.5555555555555556,
              "#d8576b"
             ],
             [
              0.6666666666666666,
              "#ed7953"
             ],
             [
              0.7777777777777778,
              "#fb9f3a"
             ],
             [
              0.8888888888888888,
              "#fdca26"
             ],
             [
              1,
              "#f0f921"
             ]
            ],
            "type": "histogram2dcontour"
           }
          ],
          "mesh3d": [
           {
            "colorbar": {
             "outlinewidth": 0,
             "ticks": ""
            },
            "type": "mesh3d"
           }
          ],
          "parcoords": [
           {
            "line": {
             "colorbar": {
              "outlinewidth": 0,
              "ticks": ""
             }
            },
            "type": "parcoords"
           }
          ],
          "pie": [
           {
            "automargin": true,
            "type": "pie"
           }
          ],
          "scatter": [
           {
            "fillpattern": {
             "fillmode": "overlay",
             "size": 10,
             "solidity": 0.2
            },
            "type": "scatter"
           }
          ],
          "scatter3d": [
           {
            "line": {
             "colorbar": {
              "outlinewidth": 0,
              "ticks": ""
             }
            },
            "marker": {
             "colorbar": {
              "outlinewidth": 0,
              "ticks": ""
             }
            },
            "type": "scatter3d"
           }
          ],
          "scattercarpet": [
           {
            "marker": {
             "colorbar": {
              "outlinewidth": 0,
              "ticks": ""
             }
            },
            "type": "scattercarpet"
           }
          ],
          "scattergeo": [
           {
            "marker": {
             "colorbar": {
              "outlinewidth": 0,
              "ticks": ""
             }
            },
            "type": "scattergeo"
           }
          ],
          "scattergl": [
           {
            "marker": {
             "colorbar": {
              "outlinewidth": 0,
              "ticks": ""
             }
            },
            "type": "scattergl"
           }
          ],
          "scattermapbox": [
           {
            "marker": {
             "colorbar": {
              "outlinewidth": 0,
              "ticks": ""
             }
            },
            "type": "scattermapbox"
           }
          ],
          "scatterpolar": [
           {
            "marker": {
             "colorbar": {
              "outlinewidth": 0,
              "ticks": ""
             }
            },
            "type": "scatterpolar"
           }
          ],
          "scatterpolargl": [
           {
            "marker": {
             "colorbar": {
              "outlinewidth": 0,
              "ticks": ""
             }
            },
            "type": "scatterpolargl"
           }
          ],
          "scatterternary": [
           {
            "marker": {
             "colorbar": {
              "outlinewidth": 0,
              "ticks": ""
             }
            },
            "type": "scatterternary"
           }
          ],
          "surface": [
           {
            "colorbar": {
             "outlinewidth": 0,
             "ticks": ""
            },
            "colorscale": [
             [
              0,
              "#0d0887"
             ],
             [
              0.1111111111111111,
              "#46039f"
             ],
             [
              0.2222222222222222,
              "#7201a8"
             ],
             [
              0.3333333333333333,
              "#9c179e"
             ],
             [
              0.4444444444444444,
              "#bd3786"
             ],
             [
              0.5555555555555556,
              "#d8576b"
             ],
             [
              0.6666666666666666,
              "#ed7953"
             ],
             [
              0.7777777777777778,
              "#fb9f3a"
             ],
             [
              0.8888888888888888,
              "#fdca26"
             ],
             [
              1,
              "#f0f921"
             ]
            ],
            "type": "surface"
           }
          ],
          "table": [
           {
            "cells": {
             "fill": {
              "color": "#EBF0F8"
             },
             "line": {
              "color": "white"
             }
            },
            "header": {
             "fill": {
              "color": "#C8D4E3"
             },
             "line": {
              "color": "white"
             }
            },
            "type": "table"
           }
          ]
         },
         "layout": {
          "annotationdefaults": {
           "arrowcolor": "#2a3f5f",
           "arrowhead": 0,
           "arrowwidth": 1
          },
          "autotypenumbers": "strict",
          "coloraxis": {
           "colorbar": {
            "outlinewidth": 0,
            "ticks": ""
           }
          },
          "colorscale": {
           "diverging": [
            [
             0,
             "#8e0152"
            ],
            [
             0.1,
             "#c51b7d"
            ],
            [
             0.2,
             "#de77ae"
            ],
            [
             0.3,
             "#f1b6da"
            ],
            [
             0.4,
             "#fde0ef"
            ],
            [
             0.5,
             "#f7f7f7"
            ],
            [
             0.6,
             "#e6f5d0"
            ],
            [
             0.7,
             "#b8e186"
            ],
            [
             0.8,
             "#7fbc41"
            ],
            [
             0.9,
             "#4d9221"
            ],
            [
             1,
             "#276419"
            ]
           ],
           "sequential": [
            [
             0,
             "#0d0887"
            ],
            [
             0.1111111111111111,
             "#46039f"
            ],
            [
             0.2222222222222222,
             "#7201a8"
            ],
            [
             0.3333333333333333,
             "#9c179e"
            ],
            [
             0.4444444444444444,
             "#bd3786"
            ],
            [
             0.5555555555555556,
             "#d8576b"
            ],
            [
             0.6666666666666666,
             "#ed7953"
            ],
            [
             0.7777777777777778,
             "#fb9f3a"
            ],
            [
             0.8888888888888888,
             "#fdca26"
            ],
            [
             1,
             "#f0f921"
            ]
           ],
           "sequentialminus": [
            [
             0,
             "#0d0887"
            ],
            [
             0.1111111111111111,
             "#46039f"
            ],
            [
             0.2222222222222222,
             "#7201a8"
            ],
            [
             0.3333333333333333,
             "#9c179e"
            ],
            [
             0.4444444444444444,
             "#bd3786"
            ],
            [
             0.5555555555555556,
             "#d8576b"
            ],
            [
             0.6666666666666666,
             "#ed7953"
            ],
            [
             0.7777777777777778,
             "#fb9f3a"
            ],
            [
             0.8888888888888888,
             "#fdca26"
            ],
            [
             1,
             "#f0f921"
            ]
           ]
          },
          "colorway": [
           "#636efa",
           "#EF553B",
           "#00cc96",
           "#ab63fa",
           "#FFA15A",
           "#19d3f3",
           "#FF6692",
           "#B6E880",
           "#FF97FF",
           "#FECB52"
          ],
          "font": {
           "color": "#2a3f5f"
          },
          "geo": {
           "bgcolor": "white",
           "lakecolor": "white",
           "landcolor": "#E5ECF6",
           "showlakes": true,
           "showland": true,
           "subunitcolor": "white"
          },
          "hoverlabel": {
           "align": "left"
          },
          "hovermode": "closest",
          "mapbox": {
           "style": "light"
          },
          "paper_bgcolor": "white",
          "plot_bgcolor": "#E5ECF6",
          "polar": {
           "angularaxis": {
            "gridcolor": "white",
            "linecolor": "white",
            "ticks": ""
           },
           "bgcolor": "#E5ECF6",
           "radialaxis": {
            "gridcolor": "white",
            "linecolor": "white",
            "ticks": ""
           }
          },
          "scene": {
           "xaxis": {
            "backgroundcolor": "#E5ECF6",
            "gridcolor": "white",
            "gridwidth": 2,
            "linecolor": "white",
            "showbackground": true,
            "ticks": "",
            "zerolinecolor": "white"
           },
           "yaxis": {
            "backgroundcolor": "#E5ECF6",
            "gridcolor": "white",
            "gridwidth": 2,
            "linecolor": "white",
            "showbackground": true,
            "ticks": "",
            "zerolinecolor": "white"
           },
           "zaxis": {
            "backgroundcolor": "#E5ECF6",
            "gridcolor": "white",
            "gridwidth": 2,
            "linecolor": "white",
            "showbackground": true,
            "ticks": "",
            "zerolinecolor": "white"
           }
          },
          "shapedefaults": {
           "line": {
            "color": "#2a3f5f"
           }
          },
          "ternary": {
           "aaxis": {
            "gridcolor": "white",
            "linecolor": "white",
            "ticks": ""
           },
           "baxis": {
            "gridcolor": "white",
            "linecolor": "white",
            "ticks": ""
           },
           "bgcolor": "#E5ECF6",
           "caxis": {
            "gridcolor": "white",
            "linecolor": "white",
            "ticks": ""
           }
          },
          "title": {
           "x": 0.05
          },
          "xaxis": {
           "automargin": true,
           "gridcolor": "white",
           "linecolor": "white",
           "ticks": "",
           "title": {
            "standoff": 15
           },
           "zerolinecolor": "white",
           "zerolinewidth": 2
          },
          "yaxis": {
           "automargin": true,
           "gridcolor": "white",
           "linecolor": "white",
           "ticks": "",
           "title": {
            "standoff": 15
           },
           "zerolinecolor": "white",
           "zerolinewidth": 2
          }
         }
        },
        "title": {
         "font": {
          "color": "black",
          "family": "Times New Roman",
          "size": 30
         },
         "text": "UUT#5_Cycle01",
         "x": 0.5,
         "xanchor": "center",
         "y": 0.9,
         "yanchor": "top"
        },
        "width": 1200,
        "xaxis": {
         "autorange": "reversed",
         "gridcolor": "LightPink",
         "gridwidth": 1,
         "linecolor": "black",
         "linewidth": 2,
         "mirror": true,
         "showgrid": true,
         "showline": true,
         "tickfont": {
          "color": "black",
          "family": "Times New Roman",
          "size": 24
         },
         "ticks": "outside",
         "title": {
          "font": {
           "color": "black",
           "family": "Times New Roman",
           "size": 24
          },
          "standoff": 5,
          "text": "Battery Pack SOC (%)"
         }
        },
        "yaxis": {
         "gridcolor": "LightPink",
         "gridwidth": 1,
         "linecolor": "black",
         "linewidth": 2,
         "mirror": true,
         "showgrid": true,
         "showline": true,
         "tickfont": {
          "color": "black",
          "family": "Times New Roman",
          "size": 24
         },
         "ticks": "outside",
         "title": {
          "font": {
           "color": "black",
           "family": "Times New Roman",
           "size": 24
          },
          "standoff": 5,
          "text": "Battery Pack Voltages (V) "
         }
        }
       }
      }
     },
     "metadata": {},
     "output_type": "display_data"
    },
    {
     "data": {
      "application/vnd.plotly.v1+json": {
       "config": {
        "plotlyServerURL": "https://plot.ly"
       },
       "data": [
        {
         "line": {
          "color": "black",
          "width": 4
         },
         "marker": {
          "color": "black",
          "size": 10,
          "symbol": "hexagon"
         },
         "name": "UUT#5_Cycle02",
         "type": "scatter",
         "x": [
          41,
          41,
          40,
          44,
          43,
          39,
          41,
          41,
          40,
          40,
          39,
          38,
          35,
          37,
          36,
          35,
          34,
          33,
          32,
          30,
          30,
          29,
          28
         ],
         "y": [
          23.03,
          23.03,
          23.03,
          23.03,
          23.02,
          22.99,
          22.99,
          22.98,
          22.97,
          22.96,
          22.96,
          22.94,
          22.91,
          22.92,
          22.9,
          22.89,
          22.88,
          22.86,
          22.84,
          22.81,
          22.82,
          22.8,
          22.78
         ]
        }
       ],
       "layout": {
        "height": 600,
        "legend": {
         "bordercolor": "black",
         "borderwidth": 2,
         "font": {
          "color": "black",
          "family": "Times New Roman",
          "size": 18
         },
         "x": 0.76,
         "y": 0.99
        },
        "plot_bgcolor": "white",
        "template": {
         "data": {
          "bar": [
           {
            "error_x": {
             "color": "#2a3f5f"
            },
            "error_y": {
             "color": "#2a3f5f"
            },
            "marker": {
             "line": {
              "color": "#E5ECF6",
              "width": 0.5
             },
             "pattern": {
              "fillmode": "overlay",
              "size": 10,
              "solidity": 0.2
             }
            },
            "type": "bar"
           }
          ],
          "barpolar": [
           {
            "marker": {
             "line": {
              "color": "#E5ECF6",
              "width": 0.5
             },
             "pattern": {
              "fillmode": "overlay",
              "size": 10,
              "solidity": 0.2
             }
            },
            "type": "barpolar"
           }
          ],
          "carpet": [
           {
            "aaxis": {
             "endlinecolor": "#2a3f5f",
             "gridcolor": "white",
             "linecolor": "white",
             "minorgridcolor": "white",
             "startlinecolor": "#2a3f5f"
            },
            "baxis": {
             "endlinecolor": "#2a3f5f",
             "gridcolor": "white",
             "linecolor": "white",
             "minorgridcolor": "white",
             "startlinecolor": "#2a3f5f"
            },
            "type": "carpet"
           }
          ],
          "choropleth": [
           {
            "colorbar": {
             "outlinewidth": 0,
             "ticks": ""
            },
            "type": "choropleth"
           }
          ],
          "contour": [
           {
            "colorbar": {
             "outlinewidth": 0,
             "ticks": ""
            },
            "colorscale": [
             [
              0,
              "#0d0887"
             ],
             [
              0.1111111111111111,
              "#46039f"
             ],
             [
              0.2222222222222222,
              "#7201a8"
             ],
             [
              0.3333333333333333,
              "#9c179e"
             ],
             [
              0.4444444444444444,
              "#bd3786"
             ],
             [
              0.5555555555555556,
              "#d8576b"
             ],
             [
              0.6666666666666666,
              "#ed7953"
             ],
             [
              0.7777777777777778,
              "#fb9f3a"
             ],
             [
              0.8888888888888888,
              "#fdca26"
             ],
             [
              1,
              "#f0f921"
             ]
            ],
            "type": "contour"
           }
          ],
          "contourcarpet": [
           {
            "colorbar": {
             "outlinewidth": 0,
             "ticks": ""
            },
            "type": "contourcarpet"
           }
          ],
          "heatmap": [
           {
            "colorbar": {
             "outlinewidth": 0,
             "ticks": ""
            },
            "colorscale": [
             [
              0,
              "#0d0887"
             ],
             [
              0.1111111111111111,
              "#46039f"
             ],
             [
              0.2222222222222222,
              "#7201a8"
             ],
             [
              0.3333333333333333,
              "#9c179e"
             ],
             [
              0.4444444444444444,
              "#bd3786"
             ],
             [
              0.5555555555555556,
              "#d8576b"
             ],
             [
              0.6666666666666666,
              "#ed7953"
             ],
             [
              0.7777777777777778,
              "#fb9f3a"
             ],
             [
              0.8888888888888888,
              "#fdca26"
             ],
             [
              1,
              "#f0f921"
             ]
            ],
            "type": "heatmap"
           }
          ],
          "heatmapgl": [
           {
            "colorbar": {
             "outlinewidth": 0,
             "ticks": ""
            },
            "colorscale": [
             [
              0,
              "#0d0887"
             ],
             [
              0.1111111111111111,
              "#46039f"
             ],
             [
              0.2222222222222222,
              "#7201a8"
             ],
             [
              0.3333333333333333,
              "#9c179e"
             ],
             [
              0.4444444444444444,
              "#bd3786"
             ],
             [
              0.5555555555555556,
              "#d8576b"
             ],
             [
              0.6666666666666666,
              "#ed7953"
             ],
             [
              0.7777777777777778,
              "#fb9f3a"
             ],
             [
              0.8888888888888888,
              "#fdca26"
             ],
             [
              1,
              "#f0f921"
             ]
            ],
            "type": "heatmapgl"
           }
          ],
          "histogram": [
           {
            "marker": {
             "pattern": {
              "fillmode": "overlay",
              "size": 10,
              "solidity": 0.2
             }
            },
            "type": "histogram"
           }
          ],
          "histogram2d": [
           {
            "colorbar": {
             "outlinewidth": 0,
             "ticks": ""
            },
            "colorscale": [
             [
              0,
              "#0d0887"
             ],
             [
              0.1111111111111111,
              "#46039f"
             ],
             [
              0.2222222222222222,
              "#7201a8"
             ],
             [
              0.3333333333333333,
              "#9c179e"
             ],
             [
              0.4444444444444444,
              "#bd3786"
             ],
             [
              0.5555555555555556,
              "#d8576b"
             ],
             [
              0.6666666666666666,
              "#ed7953"
             ],
             [
              0.7777777777777778,
              "#fb9f3a"
             ],
             [
              0.8888888888888888,
              "#fdca26"
             ],
             [
              1,
              "#f0f921"
             ]
            ],
            "type": "histogram2d"
           }
          ],
          "histogram2dcontour": [
           {
            "colorbar": {
             "outlinewidth": 0,
             "ticks": ""
            },
            "colorscale": [
             [
              0,
              "#0d0887"
             ],
             [
              0.1111111111111111,
              "#46039f"
             ],
             [
              0.2222222222222222,
              "#7201a8"
             ],
             [
              0.3333333333333333,
              "#9c179e"
             ],
             [
              0.4444444444444444,
              "#bd3786"
             ],
             [
              0.5555555555555556,
              "#d8576b"
             ],
             [
              0.6666666666666666,
              "#ed7953"
             ],
             [
              0.7777777777777778,
              "#fb9f3a"
             ],
             [
              0.8888888888888888,
              "#fdca26"
             ],
             [
              1,
              "#f0f921"
             ]
            ],
            "type": "histogram2dcontour"
           }
          ],
          "mesh3d": [
           {
            "colorbar": {
             "outlinewidth": 0,
             "ticks": ""
            },
            "type": "mesh3d"
           }
          ],
          "parcoords": [
           {
            "line": {
             "colorbar": {
              "outlinewidth": 0,
              "ticks": ""
             }
            },
            "type": "parcoords"
           }
          ],
          "pie": [
           {
            "automargin": true,
            "type": "pie"
           }
          ],
          "scatter": [
           {
            "fillpattern": {
             "fillmode": "overlay",
             "size": 10,
             "solidity": 0.2
            },
            "type": "scatter"
           }
          ],
          "scatter3d": [
           {
            "line": {
             "colorbar": {
              "outlinewidth": 0,
              "ticks": ""
             }
            },
            "marker": {
             "colorbar": {
              "outlinewidth": 0,
              "ticks": ""
             }
            },
            "type": "scatter3d"
           }
          ],
          "scattercarpet": [
           {
            "marker": {
             "colorbar": {
              "outlinewidth": 0,
              "ticks": ""
             }
            },
            "type": "scattercarpet"
           }
          ],
          "scattergeo": [
           {
            "marker": {
             "colorbar": {
              "outlinewidth": 0,
              "ticks": ""
             }
            },
            "type": "scattergeo"
           }
          ],
          "scattergl": [
           {
            "marker": {
             "colorbar": {
              "outlinewidth": 0,
              "ticks": ""
             }
            },
            "type": "scattergl"
           }
          ],
          "scattermapbox": [
           {
            "marker": {
             "colorbar": {
              "outlinewidth": 0,
              "ticks": ""
             }
            },
            "type": "scattermapbox"
           }
          ],
          "scatterpolar": [
           {
            "marker": {
             "colorbar": {
              "outlinewidth": 0,
              "ticks": ""
             }
            },
            "type": "scatterpolar"
           }
          ],
          "scatterpolargl": [
           {
            "marker": {
             "colorbar": {
              "outlinewidth": 0,
              "ticks": ""
             }
            },
            "type": "scatterpolargl"
           }
          ],
          "scatterternary": [
           {
            "marker": {
             "colorbar": {
              "outlinewidth": 0,
              "ticks": ""
             }
            },
            "type": "scatterternary"
           }
          ],
          "surface": [
           {
            "colorbar": {
             "outlinewidth": 0,
             "ticks": ""
            },
            "colorscale": [
             [
              0,
              "#0d0887"
             ],
             [
              0.1111111111111111,
              "#46039f"
             ],
             [
              0.2222222222222222,
              "#7201a8"
             ],
             [
              0.3333333333333333,
              "#9c179e"
             ],
             [
              0.4444444444444444,
              "#bd3786"
             ],
             [
              0.5555555555555556,
              "#d8576b"
             ],
             [
              0.6666666666666666,
              "#ed7953"
             ],
             [
              0.7777777777777778,
              "#fb9f3a"
             ],
             [
              0.8888888888888888,
              "#fdca26"
             ],
             [
              1,
              "#f0f921"
             ]
            ],
            "type": "surface"
           }
          ],
          "table": [
           {
            "cells": {
             "fill": {
              "color": "#EBF0F8"
             },
             "line": {
              "color": "white"
             }
            },
            "header": {
             "fill": {
              "color": "#C8D4E3"
             },
             "line": {
              "color": "white"
             }
            },
            "type": "table"
           }
          ]
         },
         "layout": {
          "annotationdefaults": {
           "arrowcolor": "#2a3f5f",
           "arrowhead": 0,
           "arrowwidth": 1
          },
          "autotypenumbers": "strict",
          "coloraxis": {
           "colorbar": {
            "outlinewidth": 0,
            "ticks": ""
           }
          },
          "colorscale": {
           "diverging": [
            [
             0,
             "#8e0152"
            ],
            [
             0.1,
             "#c51b7d"
            ],
            [
             0.2,
             "#de77ae"
            ],
            [
             0.3,
             "#f1b6da"
            ],
            [
             0.4,
             "#fde0ef"
            ],
            [
             0.5,
             "#f7f7f7"
            ],
            [
             0.6,
             "#e6f5d0"
            ],
            [
             0.7,
             "#b8e186"
            ],
            [
             0.8,
             "#7fbc41"
            ],
            [
             0.9,
             "#4d9221"
            ],
            [
             1,
             "#276419"
            ]
           ],
           "sequential": [
            [
             0,
             "#0d0887"
            ],
            [
             0.1111111111111111,
             "#46039f"
            ],
            [
             0.2222222222222222,
             "#7201a8"
            ],
            [
             0.3333333333333333,
             "#9c179e"
            ],
            [
             0.4444444444444444,
             "#bd3786"
            ],
            [
             0.5555555555555556,
             "#d8576b"
            ],
            [
             0.6666666666666666,
             "#ed7953"
            ],
            [
             0.7777777777777778,
             "#fb9f3a"
            ],
            [
             0.8888888888888888,
             "#fdca26"
            ],
            [
             1,
             "#f0f921"
            ]
           ],
           "sequentialminus": [
            [
             0,
             "#0d0887"
            ],
            [
             0.1111111111111111,
             "#46039f"
            ],
            [
             0.2222222222222222,
             "#7201a8"
            ],
            [
             0.3333333333333333,
             "#9c179e"
            ],
            [
             0.4444444444444444,
             "#bd3786"
            ],
            [
             0.5555555555555556,
             "#d8576b"
            ],
            [
             0.6666666666666666,
             "#ed7953"
            ],
            [
             0.7777777777777778,
             "#fb9f3a"
            ],
            [
             0.8888888888888888,
             "#fdca26"
            ],
            [
             1,
             "#f0f921"
            ]
           ]
          },
          "colorway": [
           "#636efa",
           "#EF553B",
           "#00cc96",
           "#ab63fa",
           "#FFA15A",
           "#19d3f3",
           "#FF6692",
           "#B6E880",
           "#FF97FF",
           "#FECB52"
          ],
          "font": {
           "color": "#2a3f5f"
          },
          "geo": {
           "bgcolor": "white",
           "lakecolor": "white",
           "landcolor": "#E5ECF6",
           "showlakes": true,
           "showland": true,
           "subunitcolor": "white"
          },
          "hoverlabel": {
           "align": "left"
          },
          "hovermode": "closest",
          "mapbox": {
           "style": "light"
          },
          "paper_bgcolor": "white",
          "plot_bgcolor": "#E5ECF6",
          "polar": {
           "angularaxis": {
            "gridcolor": "white",
            "linecolor": "white",
            "ticks": ""
           },
           "bgcolor": "#E5ECF6",
           "radialaxis": {
            "gridcolor": "white",
            "linecolor": "white",
            "ticks": ""
           }
          },
          "scene": {
           "xaxis": {
            "backgroundcolor": "#E5ECF6",
            "gridcolor": "white",
            "gridwidth": 2,
            "linecolor": "white",
            "showbackground": true,
            "ticks": "",
            "zerolinecolor": "white"
           },
           "yaxis": {
            "backgroundcolor": "#E5ECF6",
            "gridcolor": "white",
            "gridwidth": 2,
            "linecolor": "white",
            "showbackground": true,
            "ticks": "",
            "zerolinecolor": "white"
           },
           "zaxis": {
            "backgroundcolor": "#E5ECF6",
            "gridcolor": "white",
            "gridwidth": 2,
            "linecolor": "white",
            "showbackground": true,
            "ticks": "",
            "zerolinecolor": "white"
           }
          },
          "shapedefaults": {
           "line": {
            "color": "#2a3f5f"
           }
          },
          "ternary": {
           "aaxis": {
            "gridcolor": "white",
            "linecolor": "white",
            "ticks": ""
           },
           "baxis": {
            "gridcolor": "white",
            "linecolor": "white",
            "ticks": ""
           },
           "bgcolor": "#E5ECF6",
           "caxis": {
            "gridcolor": "white",
            "linecolor": "white",
            "ticks": ""
           }
          },
          "title": {
           "x": 0.05
          },
          "xaxis": {
           "automargin": true,
           "gridcolor": "white",
           "linecolor": "white",
           "ticks": "",
           "title": {
            "standoff": 15
           },
           "zerolinecolor": "white",
           "zerolinewidth": 2
          },
          "yaxis": {
           "automargin": true,
           "gridcolor": "white",
           "linecolor": "white",
           "ticks": "",
           "title": {
            "standoff": 15
           },
           "zerolinecolor": "white",
           "zerolinewidth": 2
          }
         }
        },
        "title": {
         "font": {
          "color": "black",
          "family": "Times New Roman",
          "size": 30
         },
         "text": "UUT#5_Cycle02",
         "x": 0.5,
         "xanchor": "center",
         "y": 0.9,
         "yanchor": "top"
        },
        "width": 1200,
        "xaxis": {
         "autorange": "reversed",
         "gridcolor": "LightPink",
         "gridwidth": 1,
         "linecolor": "black",
         "linewidth": 2,
         "mirror": true,
         "showgrid": true,
         "showline": true,
         "tickfont": {
          "color": "black",
          "family": "Times New Roman",
          "size": 24
         },
         "ticks": "outside",
         "title": {
          "font": {
           "color": "black",
           "family": "Times New Roman",
           "size": 24
          },
          "standoff": 5,
          "text": "Battery Pack SOC (%)"
         }
        },
        "yaxis": {
         "gridcolor": "LightPink",
         "gridwidth": 1,
         "linecolor": "black",
         "linewidth": 2,
         "mirror": true,
         "showgrid": true,
         "showline": true,
         "tickfont": {
          "color": "black",
          "family": "Times New Roman",
          "size": 24
         },
         "ticks": "outside",
         "title": {
          "font": {
           "color": "black",
           "family": "Times New Roman",
           "size": 24
          },
          "standoff": 5,
          "text": "Battery Pack Voltages (V) "
         }
        }
       }
      }
     },
     "metadata": {},
     "output_type": "display_data"
    }
   ],
   "source": [
    "# battery 3\n",
    "fig = go.Figure()\n",
    "fig.add_trace(go.Scatter(x=df5_1['Battery SOC [%]'], y=df5_1['Battery OCV [V]'], name='UUT#5_Cycle01', line=dict(color='#20f200', width=4), marker=dict(size=10, color='black', symbol='hexagon')))\n",
    "#fig.add_trace(go.Scatter(x=df3_2['Battery SOC [%]'], y=df3_2['Battery OCV [V]'], name='UUT#3_Cycle02', line=dict(color='black', width=4), marker=dict(size=10, color='black', symbol='hexagon')))\n",
    "\n",
    "\n",
    "# flip the x and y axis\n",
    "fig.update_layout(xaxis=dict(autorange=\"reversed\"))\n",
    "fig.update_layout(title='UUT#5_Cycle01')\n",
    "# add description below the title as subtitle\n",
    "fig.update_layout(title={'y': 0.9, 'x': 0.5, 'xanchor': 'center', 'yanchor': 'top'})\n",
    "# add axis line and ticks\n",
    "fig.update_xaxes(showline=True, linewidth=2, linecolor='black', mirror=True, ticks=\"outside\")\n",
    "fig.update_yaxes(showline=True, linewidth=2, linecolor='black', mirror=True, ticks=\"outside\")\n",
    "# Make x labels larger, and Times New Roman\n",
    "fig.update_xaxes(title_text=\"Battery Pack SOC (%)\", title_font=dict(size=24, family='Times New Roman', color='black'), title_standoff=25)\n",
    "# Make y labels larger, and Times New Roman\n",
    "fig.update_yaxes(title_text=\"Battery Pack Voltages (V) \", title_font=dict(size=24, family='Times New Roman', color='black'), title_standoff=25)\n",
    "# change the legend font size and font family\n",
    "fig.update_layout(legend=dict(font=dict(size=18, family='Times New Roman', color='black')))\n",
    "# make background white\n",
    "fig.update_layout(plot_bgcolor='white')\n",
    "# Move x-label and y-label to the center\n",
    "fig.update_layout(xaxis=dict(title=dict(standoff=5)), yaxis=dict(title=dict(standoff=5)))\n",
    "# Icncrease x-axis and y-axis tick font size and font family\n",
    "fig.update_xaxes(tickfont=dict(size=24, family='Times New Roman', color='black'))\n",
    "fig.update_yaxes(tickfont=dict(size=24, family='Times New Roman', color='black'))\n",
    "# add grid\n",
    "fig.update_layout(xaxis=dict(showgrid=True, gridwidth=1, gridcolor='LightPink'), yaxis=dict(showgrid=True, gridwidth=1, gridcolor='LightPink'))\n",
    "# add figure size\n",
    "fig.update_layout(width=1200, height=600)\n",
    "# keep the legend inside the plot area\n",
    "fig.update_layout(legend=dict(x=0.76, y=0.99))\n",
    "# Make title larger, and Times New Roman and center\n",
    "fig.update_layout(title=dict(font=dict(size=30, family='Times New Roman', color='black'), x=0.5, xanchor='center'))\n",
    "# add box around the legend\n",
    "fig.update_layout(legend=dict(bordercolor='black', borderwidth=2))\n",
    "fig.show()\n",
    "\n",
    "fig = go.Figure()\n",
    "#fig.add_trace(go.Scatter(x=df5_1['Battery SOC [%]'], y=df5_1['Battery OCV [V]'], name='UUT5_Cycle01', line=dict(color='#20f200', width=4), marker=dict(size=10, color='black', symbol='hexagon')))\n",
    "fig.add_trace(go.Scatter(x=df5_2['Battery SOC [%]'], y=df5_2['Battery OCV [V]'], name='UUT#5_Cycle02', line=dict(color='black', width=4), marker=dict(size=10, color='black', symbol='hexagon')))\n",
    "\n",
    "\n",
    "# flip the x and y axis\n",
    "fig.update_layout(xaxis=dict(autorange=\"reversed\"))\n",
    "fig.update_layout(title='UUT#5_Cycle02')\n",
    "# add description below the title as subtitle\n",
    "fig.update_layout(title={'y': 0.9, 'x': 0.5, 'xanchor': 'center', 'yanchor': 'top'})\n",
    "# add axis line and ticks\n",
    "fig.update_xaxes(showline=True, linewidth=2, linecolor='black', mirror=True, ticks=\"outside\")\n",
    "fig.update_yaxes(showline=True, linewidth=2, linecolor='black', mirror=True, ticks=\"outside\")\n",
    "# Make x labels larger, and Times New Roman\n",
    "fig.update_xaxes(title_text=\"Battery Pack SOC (%)\", title_font=dict(size=24, family='Times New Roman', color='black'), title_standoff=25)\n",
    "# Make y labels larger, and Times New Roman\n",
    "fig.update_yaxes(title_text=\"Battery Pack Voltages (V) \", title_font=dict(size=24, family='Times New Roman', color='black'), title_standoff=25)\n",
    "# change the legend font size and font family\n",
    "fig.update_layout(legend=dict(font=dict(size=18, family='Times New Roman', color='black')))\n",
    "# make background white\n",
    "fig.update_layout(plot_bgcolor='white')\n",
    "# Move x-label and y-label to the center\n",
    "fig.update_layout(xaxis=dict(title=dict(standoff=5)), yaxis=dict(title=dict(standoff=5)))\n",
    "# Icncrease x-axis and y-axis tick font size and font family\n",
    "fig.update_xaxes(tickfont=dict(size=24, family='Times New Roman', color='black'))\n",
    "fig.update_yaxes(tickfont=dict(size=24, family='Times New Roman', color='black'))\n",
    "# add grid\n",
    "fig.update_layout(xaxis=dict(showgrid=True, gridwidth=1, gridcolor='LightPink'), yaxis=dict(showgrid=True, gridwidth=1, gridcolor='LightPink'))\n",
    "# add figure size\n",
    "fig.update_layout(width=1200, height=600)\n",
    "# keep the legend inside the plot area\n",
    "fig.update_layout(legend=dict(x=0.76, y=0.99))\n",
    "# Make title larger, and Times New Roman and center\n",
    "fig.update_layout(title=dict(font=dict(size=30, family='Times New Roman', color='black'), x=0.5, xanchor='center'))\n",
    "# add box around the legend\n",
    "fig.update_layout(legend=dict(bordercolor='black', borderwidth=2))\n",
    "fig.show()"
   ]
  },
  {
   "cell_type": "code",
   "execution_count": 174,
   "metadata": {},
   "outputs": [
    {
     "data": {
      "application/vnd.plotly.v1+json": {
       "config": {
        "plotlyServerURL": "https://plot.ly"
       },
       "data": [
        {
         "line": {
          "color": "light blue",
          "width": 4
         },
         "marker": {
          "color": "black",
          "size": 10,
          "symbol": "circle"
         },
         "name": "Cell1",
         "type": "scatter",
         "x": [
          93,
          92,
          92,
          91,
          90,
          90,
          89,
          87,
          86,
          85,
          84,
          83,
          82,
          80,
          78,
          79,
          78,
          78,
          77,
          77,
          76,
          75,
          75,
          75
         ],
         "y": [
          4.132,
          4.123,
          4.118,
          4.111,
          4.106,
          4.103,
          4.091,
          4.081,
          4.074,
          4.067,
          4.057,
          4.047,
          4.038,
          4.028,
          4.011,
          4.016,
          4.012,
          4.007,
          4.003,
          3.999,
          3.995,
          3.99,
          3.987,
          3.985
         ]
        },
        {
         "line": {
          "color": "#768fb8",
          "width": 4
         },
         "marker": {
          "color": "black",
          "size": 10,
          "symbol": "circle"
         },
         "name": "Cell2",
         "type": "scatter",
         "x": [
          93,
          92,
          92,
          91,
          90,
          90,
          89,
          87,
          86,
          85,
          84,
          83,
          82,
          80,
          78,
          79,
          78,
          78,
          77,
          77,
          76,
          75,
          75,
          75
         ],
         "y": [
          4.181,
          4.173,
          4.171,
          4.166,
          4.163,
          4.162,
          4.156,
          4.148,
          4.138,
          4.126,
          4.115,
          4.106,
          4.098,
          4.092,
          4.085,
          4.081,
          4.077,
          4.071,
          4.067,
          4.058,
          4.049,
          4.04,
          4.033,
          4.027
         ]
        },
        {
         "line": {
          "color": "green",
          "width": 4
         },
         "marker": {
          "color": "black",
          "size": 10,
          "symbol": "circle"
         },
         "name": "Cell3",
         "type": "scatter",
         "x": [
          93,
          92,
          92,
          91,
          90,
          90,
          89,
          87,
          86,
          85,
          84,
          83,
          82,
          80,
          78,
          79,
          78,
          78,
          77,
          77,
          76,
          75,
          75,
          75
         ],
         "y": [
          4.174,
          4.165,
          4.162,
          4.158,
          4.156,
          4.154,
          4.149,
          4.143,
          4.134,
          4.123,
          4.114,
          4.106,
          4.099,
          4.093,
          4.088,
          4.083,
          4.08,
          4.076,
          4.073,
          4.068,
          4.065,
          4.06,
          4.054,
          4.047
         ]
        },
        {
         "line": {
          "color": "yellow",
          "width": 4
         },
         "marker": {
          "color": "black",
          "size": 10,
          "symbol": "circle"
         },
         "name": "Cell4",
         "type": "scatter",
         "x": [
          93,
          92,
          92,
          91,
          90,
          90,
          89,
          87,
          86,
          85,
          84,
          83,
          82,
          80,
          78,
          79,
          78,
          78,
          77,
          77,
          76,
          75,
          75,
          75
         ],
         "y": [
          4.161,
          4.151,
          4.145,
          4.136,
          4.13,
          4.128,
          4.119,
          4.107,
          4.095,
          4.085,
          4.077,
          4.068,
          4.057,
          4.046,
          4.037,
          4.028,
          4.021,
          4.015,
          4.01,
          4.006,
          4.002,
          3.997,
          3.994,
          3.992
         ]
        },
        {
         "line": {
          "color": "magenta",
          "width": 4
         },
         "marker": {
          "color": "black",
          "size": 10,
          "symbol": "circle"
         },
         "name": "Cell5",
         "type": "scatter",
         "x": [
          93,
          92,
          92,
          91,
          90,
          90,
          89,
          87,
          86,
          85,
          84,
          83,
          82,
          80,
          78,
          79,
          78,
          78,
          77,
          77,
          76,
          75,
          75,
          75
         ],
         "y": [
          4.18,
          4.172,
          4.168,
          4.164,
          4.161,
          4.158,
          4.149,
          4.14,
          4.13,
          4.12,
          4.109,
          4.098,
          4.089,
          4.08,
          4.072,
          4.065,
          4.06,
          4.053,
          4.045,
          4.035,
          4.026,
          4.017,
          4.01,
          4.004
         ]
        },
        {
         "line": {
          "color": "red",
          "width": 4
         },
         "marker": {
          "color": "black",
          "size": 10,
          "symbol": "circle"
         },
         "name": "Cell6",
         "type": "scatter",
         "x": [
          93,
          92,
          92,
          91,
          90,
          90,
          89,
          87,
          86,
          85,
          84,
          83,
          82,
          80,
          78,
          79,
          78,
          78,
          77,
          77,
          76,
          75,
          75,
          75
         ],
         "y": [
          4.173,
          4.163,
          4.158,
          4.155,
          4.151,
          4.149,
          4.143,
          4.137,
          4.128,
          4.119,
          4.107,
          4.098,
          4.088,
          4.081,
          4.076,
          4.071,
          4.065,
          4.056,
          4.05,
          4.04,
          4.033,
          4.025,
          4.017,
          4.013
         ]
        }
       ],
       "layout": {
        "height": 600,
        "legend": {
         "bordercolor": "black",
         "borderwidth": 2,
         "font": {
          "color": "black",
          "family": "Times New Roman",
          "size": 18
         },
         "x": 0.86,
         "y": 0.99
        },
        "plot_bgcolor": "white",
        "template": {
         "data": {
          "bar": [
           {
            "error_x": {
             "color": "#2a3f5f"
            },
            "error_y": {
             "color": "#2a3f5f"
            },
            "marker": {
             "line": {
              "color": "#E5ECF6",
              "width": 0.5
             },
             "pattern": {
              "fillmode": "overlay",
              "size": 10,
              "solidity": 0.2
             }
            },
            "type": "bar"
           }
          ],
          "barpolar": [
           {
            "marker": {
             "line": {
              "color": "#E5ECF6",
              "width": 0.5
             },
             "pattern": {
              "fillmode": "overlay",
              "size": 10,
              "solidity": 0.2
             }
            },
            "type": "barpolar"
           }
          ],
          "carpet": [
           {
            "aaxis": {
             "endlinecolor": "#2a3f5f",
             "gridcolor": "white",
             "linecolor": "white",
             "minorgridcolor": "white",
             "startlinecolor": "#2a3f5f"
            },
            "baxis": {
             "endlinecolor": "#2a3f5f",
             "gridcolor": "white",
             "linecolor": "white",
             "minorgridcolor": "white",
             "startlinecolor": "#2a3f5f"
            },
            "type": "carpet"
           }
          ],
          "choropleth": [
           {
            "colorbar": {
             "outlinewidth": 0,
             "ticks": ""
            },
            "type": "choropleth"
           }
          ],
          "contour": [
           {
            "colorbar": {
             "outlinewidth": 0,
             "ticks": ""
            },
            "colorscale": [
             [
              0,
              "#0d0887"
             ],
             [
              0.1111111111111111,
              "#46039f"
             ],
             [
              0.2222222222222222,
              "#7201a8"
             ],
             [
              0.3333333333333333,
              "#9c179e"
             ],
             [
              0.4444444444444444,
              "#bd3786"
             ],
             [
              0.5555555555555556,
              "#d8576b"
             ],
             [
              0.6666666666666666,
              "#ed7953"
             ],
             [
              0.7777777777777778,
              "#fb9f3a"
             ],
             [
              0.8888888888888888,
              "#fdca26"
             ],
             [
              1,
              "#f0f921"
             ]
            ],
            "type": "contour"
           }
          ],
          "contourcarpet": [
           {
            "colorbar": {
             "outlinewidth": 0,
             "ticks": ""
            },
            "type": "contourcarpet"
           }
          ],
          "heatmap": [
           {
            "colorbar": {
             "outlinewidth": 0,
             "ticks": ""
            },
            "colorscale": [
             [
              0,
              "#0d0887"
             ],
             [
              0.1111111111111111,
              "#46039f"
             ],
             [
              0.2222222222222222,
              "#7201a8"
             ],
             [
              0.3333333333333333,
              "#9c179e"
             ],
             [
              0.4444444444444444,
              "#bd3786"
             ],
             [
              0.5555555555555556,
              "#d8576b"
             ],
             [
              0.6666666666666666,
              "#ed7953"
             ],
             [
              0.7777777777777778,
              "#fb9f3a"
             ],
             [
              0.8888888888888888,
              "#fdca26"
             ],
             [
              1,
              "#f0f921"
             ]
            ],
            "type": "heatmap"
           }
          ],
          "heatmapgl": [
           {
            "colorbar": {
             "outlinewidth": 0,
             "ticks": ""
            },
            "colorscale": [
             [
              0,
              "#0d0887"
             ],
             [
              0.1111111111111111,
              "#46039f"
             ],
             [
              0.2222222222222222,
              "#7201a8"
             ],
             [
              0.3333333333333333,
              "#9c179e"
             ],
             [
              0.4444444444444444,
              "#bd3786"
             ],
             [
              0.5555555555555556,
              "#d8576b"
             ],
             [
              0.6666666666666666,
              "#ed7953"
             ],
             [
              0.7777777777777778,
              "#fb9f3a"
             ],
             [
              0.8888888888888888,
              "#fdca26"
             ],
             [
              1,
              "#f0f921"
             ]
            ],
            "type": "heatmapgl"
           }
          ],
          "histogram": [
           {
            "marker": {
             "pattern": {
              "fillmode": "overlay",
              "size": 10,
              "solidity": 0.2
             }
            },
            "type": "histogram"
           }
          ],
          "histogram2d": [
           {
            "colorbar": {
             "outlinewidth": 0,
             "ticks": ""
            },
            "colorscale": [
             [
              0,
              "#0d0887"
             ],
             [
              0.1111111111111111,
              "#46039f"
             ],
             [
              0.2222222222222222,
              "#7201a8"
             ],
             [
              0.3333333333333333,
              "#9c179e"
             ],
             [
              0.4444444444444444,
              "#bd3786"
             ],
             [
              0.5555555555555556,
              "#d8576b"
             ],
             [
              0.6666666666666666,
              "#ed7953"
             ],
             [
              0.7777777777777778,
              "#fb9f3a"
             ],
             [
              0.8888888888888888,
              "#fdca26"
             ],
             [
              1,
              "#f0f921"
             ]
            ],
            "type": "histogram2d"
           }
          ],
          "histogram2dcontour": [
           {
            "colorbar": {
             "outlinewidth": 0,
             "ticks": ""
            },
            "colorscale": [
             [
              0,
              "#0d0887"
             ],
             [
              0.1111111111111111,
              "#46039f"
             ],
             [
              0.2222222222222222,
              "#7201a8"
             ],
             [
              0.3333333333333333,
              "#9c179e"
             ],
             [
              0.4444444444444444,
              "#bd3786"
             ],
             [
              0.5555555555555556,
              "#d8576b"
             ],
             [
              0.6666666666666666,
              "#ed7953"
             ],
             [
              0.7777777777777778,
              "#fb9f3a"
             ],
             [
              0.8888888888888888,
              "#fdca26"
             ],
             [
              1,
              "#f0f921"
             ]
            ],
            "type": "histogram2dcontour"
           }
          ],
          "mesh3d": [
           {
            "colorbar": {
             "outlinewidth": 0,
             "ticks": ""
            },
            "type": "mesh3d"
           }
          ],
          "parcoords": [
           {
            "line": {
             "colorbar": {
              "outlinewidth": 0,
              "ticks": ""
             }
            },
            "type": "parcoords"
           }
          ],
          "pie": [
           {
            "automargin": true,
            "type": "pie"
           }
          ],
          "scatter": [
           {
            "fillpattern": {
             "fillmode": "overlay",
             "size": 10,
             "solidity": 0.2
            },
            "type": "scatter"
           }
          ],
          "scatter3d": [
           {
            "line": {
             "colorbar": {
              "outlinewidth": 0,
              "ticks": ""
             }
            },
            "marker": {
             "colorbar": {
              "outlinewidth": 0,
              "ticks": ""
             }
            },
            "type": "scatter3d"
           }
          ],
          "scattercarpet": [
           {
            "marker": {
             "colorbar": {
              "outlinewidth": 0,
              "ticks": ""
             }
            },
            "type": "scattercarpet"
           }
          ],
          "scattergeo": [
           {
            "marker": {
             "colorbar": {
              "outlinewidth": 0,
              "ticks": ""
             }
            },
            "type": "scattergeo"
           }
          ],
          "scattergl": [
           {
            "marker": {
             "colorbar": {
              "outlinewidth": 0,
              "ticks": ""
             }
            },
            "type": "scattergl"
           }
          ],
          "scattermapbox": [
           {
            "marker": {
             "colorbar": {
              "outlinewidth": 0,
              "ticks": ""
             }
            },
            "type": "scattermapbox"
           }
          ],
          "scatterpolar": [
           {
            "marker": {
             "colorbar": {
              "outlinewidth": 0,
              "ticks": ""
             }
            },
            "type": "scatterpolar"
           }
          ],
          "scatterpolargl": [
           {
            "marker": {
             "colorbar": {
              "outlinewidth": 0,
              "ticks": ""
             }
            },
            "type": "scatterpolargl"
           }
          ],
          "scatterternary": [
           {
            "marker": {
             "colorbar": {
              "outlinewidth": 0,
              "ticks": ""
             }
            },
            "type": "scatterternary"
           }
          ],
          "surface": [
           {
            "colorbar": {
             "outlinewidth": 0,
             "ticks": ""
            },
            "colorscale": [
             [
              0,
              "#0d0887"
             ],
             [
              0.1111111111111111,
              "#46039f"
             ],
             [
              0.2222222222222222,
              "#7201a8"
             ],
             [
              0.3333333333333333,
              "#9c179e"
             ],
             [
              0.4444444444444444,
              "#bd3786"
             ],
             [
              0.5555555555555556,
              "#d8576b"
             ],
             [
              0.6666666666666666,
              "#ed7953"
             ],
             [
              0.7777777777777778,
              "#fb9f3a"
             ],
             [
              0.8888888888888888,
              "#fdca26"
             ],
             [
              1,
              "#f0f921"
             ]
            ],
            "type": "surface"
           }
          ],
          "table": [
           {
            "cells": {
             "fill": {
              "color": "#EBF0F8"
             },
             "line": {
              "color": "white"
             }
            },
            "header": {
             "fill": {
              "color": "#C8D4E3"
             },
             "line": {
              "color": "white"
             }
            },
            "type": "table"
           }
          ]
         },
         "layout": {
          "annotationdefaults": {
           "arrowcolor": "#2a3f5f",
           "arrowhead": 0,
           "arrowwidth": 1
          },
          "autotypenumbers": "strict",
          "coloraxis": {
           "colorbar": {
            "outlinewidth": 0,
            "ticks": ""
           }
          },
          "colorscale": {
           "diverging": [
            [
             0,
             "#8e0152"
            ],
            [
             0.1,
             "#c51b7d"
            ],
            [
             0.2,
             "#de77ae"
            ],
            [
             0.3,
             "#f1b6da"
            ],
            [
             0.4,
             "#fde0ef"
            ],
            [
             0.5,
             "#f7f7f7"
            ],
            [
             0.6,
             "#e6f5d0"
            ],
            [
             0.7,
             "#b8e186"
            ],
            [
             0.8,
             "#7fbc41"
            ],
            [
             0.9,
             "#4d9221"
            ],
            [
             1,
             "#276419"
            ]
           ],
           "sequential": [
            [
             0,
             "#0d0887"
            ],
            [
             0.1111111111111111,
             "#46039f"
            ],
            [
             0.2222222222222222,
             "#7201a8"
            ],
            [
             0.3333333333333333,
             "#9c179e"
            ],
            [
             0.4444444444444444,
             "#bd3786"
            ],
            [
             0.5555555555555556,
             "#d8576b"
            ],
            [
             0.6666666666666666,
             "#ed7953"
            ],
            [
             0.7777777777777778,
             "#fb9f3a"
            ],
            [
             0.8888888888888888,
             "#fdca26"
            ],
            [
             1,
             "#f0f921"
            ]
           ],
           "sequentialminus": [
            [
             0,
             "#0d0887"
            ],
            [
             0.1111111111111111,
             "#46039f"
            ],
            [
             0.2222222222222222,
             "#7201a8"
            ],
            [
             0.3333333333333333,
             "#9c179e"
            ],
            [
             0.4444444444444444,
             "#bd3786"
            ],
            [
             0.5555555555555556,
             "#d8576b"
            ],
            [
             0.6666666666666666,
             "#ed7953"
            ],
            [
             0.7777777777777778,
             "#fb9f3a"
            ],
            [
             0.8888888888888888,
             "#fdca26"
            ],
            [
             1,
             "#f0f921"
            ]
           ]
          },
          "colorway": [
           "#636efa",
           "#EF553B",
           "#00cc96",
           "#ab63fa",
           "#FFA15A",
           "#19d3f3",
           "#FF6692",
           "#B6E880",
           "#FF97FF",
           "#FECB52"
          ],
          "font": {
           "color": "#2a3f5f"
          },
          "geo": {
           "bgcolor": "white",
           "lakecolor": "white",
           "landcolor": "#E5ECF6",
           "showlakes": true,
           "showland": true,
           "subunitcolor": "white"
          },
          "hoverlabel": {
           "align": "left"
          },
          "hovermode": "closest",
          "mapbox": {
           "style": "light"
          },
          "paper_bgcolor": "white",
          "plot_bgcolor": "#E5ECF6",
          "polar": {
           "angularaxis": {
            "gridcolor": "white",
            "linecolor": "white",
            "ticks": ""
           },
           "bgcolor": "#E5ECF6",
           "radialaxis": {
            "gridcolor": "white",
            "linecolor": "white",
            "ticks": ""
           }
          },
          "scene": {
           "xaxis": {
            "backgroundcolor": "#E5ECF6",
            "gridcolor": "white",
            "gridwidth": 2,
            "linecolor": "white",
            "showbackground": true,
            "ticks": "",
            "zerolinecolor": "white"
           },
           "yaxis": {
            "backgroundcolor": "#E5ECF6",
            "gridcolor": "white",
            "gridwidth": 2,
            "linecolor": "white",
            "showbackground": true,
            "ticks": "",
            "zerolinecolor": "white"
           },
           "zaxis": {
            "backgroundcolor": "#E5ECF6",
            "gridcolor": "white",
            "gridwidth": 2,
            "linecolor": "white",
            "showbackground": true,
            "ticks": "",
            "zerolinecolor": "white"
           }
          },
          "shapedefaults": {
           "line": {
            "color": "#2a3f5f"
           }
          },
          "ternary": {
           "aaxis": {
            "gridcolor": "white",
            "linecolor": "white",
            "ticks": ""
           },
           "baxis": {
            "gridcolor": "white",
            "linecolor": "white",
            "ticks": ""
           },
           "bgcolor": "#E5ECF6",
           "caxis": {
            "gridcolor": "white",
            "linecolor": "white",
            "ticks": ""
           }
          },
          "title": {
           "x": 0.05
          },
          "xaxis": {
           "automargin": true,
           "gridcolor": "white",
           "linecolor": "white",
           "ticks": "",
           "title": {
            "standoff": 15
           },
           "zerolinecolor": "white",
           "zerolinewidth": 2
          },
          "yaxis": {
           "automargin": true,
           "gridcolor": "white",
           "linecolor": "white",
           "ticks": "",
           "title": {
            "standoff": 15
           },
           "zerolinecolor": "white",
           "zerolinewidth": 2
          }
         }
        },
        "title": {
         "font": {
          "color": "black",
          "family": "Times New Roman",
          "size": 30
         },
         "text": "UUT#5_Cycle01",
         "x": 0.5,
         "xanchor": "center",
         "y": 0.9,
         "yanchor": "top"
        },
        "width": 1200,
        "xaxis": {
         "autorange": "reversed",
         "gridcolor": "LightPink",
         "gridwidth": 1,
         "linecolor": "black",
         "linewidth": 2,
         "mirror": true,
         "showgrid": true,
         "showline": true,
         "tickfont": {
          "color": "black",
          "family": "Times New Roman",
          "size": 24
         },
         "ticks": "outside",
         "title": {
          "font": {
           "color": "black",
           "family": "Times New Roman",
           "size": 24
          },
          "standoff": 5,
          "text": "Battery Pack SOC (%)"
         }
        },
        "yaxis": {
         "gridcolor": "LightPink",
         "gridwidth": 1,
         "linecolor": "black",
         "linewidth": 2,
         "mirror": true,
         "showgrid": true,
         "showline": true,
         "tickfont": {
          "color": "black",
          "family": "Times New Roman",
          "size": 24
         },
         "ticks": "outside",
         "title": {
          "font": {
           "color": "black",
           "family": "Times New Roman",
           "size": 24
          },
          "standoff": 5,
          "text": "Battery Cell Voltages (V) "
         }
        }
       }
      }
     },
     "metadata": {},
     "output_type": "display_data"
    },
    {
     "data": {
      "application/vnd.plotly.v1+json": {
       "config": {
        "plotlyServerURL": "https://plot.ly"
       },
       "data": [
        {
         "line": {
          "color": "light blue",
          "width": 4
         },
         "marker": {
          "color": "black",
          "size": 10,
          "symbol": "circle"
         },
         "name": "Cell1",
         "type": "scatter",
         "x": [
          41,
          41,
          40,
          44,
          43,
          39,
          41,
          41,
          40,
          40,
          39,
          38,
          35,
          37,
          36,
          35,
          34,
          33,
          32,
          30,
          30,
          29,
          28
         ],
         "y": [
          3.823,
          3.823,
          3.822,
          3.833,
          3.832,
          3.818,
          3.825,
          3.826,
          3.824,
          3.821,
          3.82,
          3.815,
          3.813,
          3.816,
          3.814,
          3.813,
          3.81,
          3.807,
          3.804,
          3.79,
          3.8,
          3.798,
          3.797
         ]
        },
        {
         "line": {
          "color": "#768fb8",
          "width": 4
         },
         "marker": {
          "color": "black",
          "size": 10,
          "symbol": "circle"
         },
         "name": "Cell2",
         "type": "scatter",
         "x": [
          41,
          41,
          40,
          44,
          43,
          39,
          41,
          41,
          40,
          40,
          39,
          38,
          35,
          37,
          36,
          35,
          34,
          33,
          32,
          30,
          30,
          29,
          28
         ],
         "y": [
          3.846,
          3.845,
          3.845,
          3.844,
          3.842,
          3.84,
          3.838,
          3.837,
          3.835,
          3.834,
          3.833,
          3.83,
          3.829,
          3.827,
          3.825,
          3.823,
          3.821,
          3.818,
          3.818,
          3.816,
          3.816,
          3.814,
          3.812
         ]
        },
        {
         "line": {
          "color": "green",
          "width": 4
         },
         "marker": {
          "color": "black",
          "size": 10,
          "symbol": "circle"
         },
         "name": "Cell3",
         "type": "scatter",
         "x": [
          41,
          41,
          40,
          44,
          43,
          39,
          41,
          41,
          40,
          40,
          39,
          38,
          35,
          37,
          36,
          35,
          34,
          33,
          32,
          30,
          30,
          29,
          28
         ],
         "y": [
          3.851,
          3.85,
          3.85,
          3.849,
          3.848,
          3.847,
          3.844,
          3.843,
          3.842,
          3.841,
          3.84,
          3.838,
          3.836,
          3.834,
          3.832,
          3.831,
          3.828,
          3.825,
          3.823,
          3.822,
          3.82,
          3.818,
          3.816
         ]
        },
        {
         "line": {
          "color": "yellow",
          "width": 4
         },
         "marker": {
          "color": "black",
          "size": 10,
          "symbol": "circle"
         },
         "name": "Cell4",
         "type": "scatter",
         "x": [
          41,
          41,
          40,
          44,
          43,
          39,
          41,
          41,
          40,
          40,
          39,
          38,
          35,
          37,
          36,
          35,
          34,
          33,
          32,
          30,
          30,
          29,
          28
         ],
         "y": [
          3.838,
          3.839,
          3.837,
          3.837,
          3.835,
          3.83,
          3.828,
          3.825,
          3.823,
          3.82,
          3.82,
          3.817,
          3.813,
          3.812,
          3.809,
          3.807,
          3.804,
          3.8,
          3.797,
          3.794,
          3.792,
          3.79,
          3.788
         ]
        },
        {
         "line": {
          "color": "magenta",
          "width": 4
         },
         "marker": {
          "color": "black",
          "size": 10,
          "symbol": "circle"
         },
         "name": "Cell5",
         "type": "scatter",
         "x": [
          41,
          41,
          40,
          44,
          43,
          39,
          41,
          41,
          40,
          40,
          39,
          38,
          35,
          37,
          36,
          35,
          34,
          33,
          32,
          30,
          30,
          29,
          28
         ],
         "y": [
          3.834,
          3.834,
          3.834,
          3.832,
          3.83,
          3.827,
          3.825,
          3.823,
          3.821,
          3.82,
          3.818,
          3.816,
          3.813,
          3.811,
          3.809,
          3.807,
          3.804,
          3.801,
          3.799,
          3.796,
          3.794,
          3.791,
          3.789
         ]
        },
        {
         "line": {
          "color": "red",
          "width": 4
         },
         "marker": {
          "color": "black",
          "size": 10,
          "symbol": "circle"
         },
         "name": "Cell6",
         "type": "scatter",
         "x": [
          41,
          41,
          40,
          44,
          43,
          39,
          41,
          41,
          40,
          40,
          39,
          38,
          35,
          37,
          36,
          35,
          34,
          33,
          32,
          30,
          30,
          29,
          28
         ],
         "y": [
          3.839,
          3.839,
          3.839,
          3.837,
          3.836,
          3.832,
          3.831,
          3.829,
          3.828,
          3.824,
          3.824,
          3.82,
          3.807,
          3.817,
          3.814,
          3.809,
          3.808,
          3.804,
          3.8,
          3.797,
          3.794,
          3.79,
          3.781
         ]
        }
       ],
       "layout": {
        "height": 600,
        "legend": {
         "bordercolor": "black",
         "borderwidth": 2,
         "font": {
          "color": "black",
          "family": "Times New Roman",
          "size": 18
         },
         "x": 0.86,
         "y": 0.99
        },
        "plot_bgcolor": "white",
        "template": {
         "data": {
          "bar": [
           {
            "error_x": {
             "color": "#2a3f5f"
            },
            "error_y": {
             "color": "#2a3f5f"
            },
            "marker": {
             "line": {
              "color": "#E5ECF6",
              "width": 0.5
             },
             "pattern": {
              "fillmode": "overlay",
              "size": 10,
              "solidity": 0.2
             }
            },
            "type": "bar"
           }
          ],
          "barpolar": [
           {
            "marker": {
             "line": {
              "color": "#E5ECF6",
              "width": 0.5
             },
             "pattern": {
              "fillmode": "overlay",
              "size": 10,
              "solidity": 0.2
             }
            },
            "type": "barpolar"
           }
          ],
          "carpet": [
           {
            "aaxis": {
             "endlinecolor": "#2a3f5f",
             "gridcolor": "white",
             "linecolor": "white",
             "minorgridcolor": "white",
             "startlinecolor": "#2a3f5f"
            },
            "baxis": {
             "endlinecolor": "#2a3f5f",
             "gridcolor": "white",
             "linecolor": "white",
             "minorgridcolor": "white",
             "startlinecolor": "#2a3f5f"
            },
            "type": "carpet"
           }
          ],
          "choropleth": [
           {
            "colorbar": {
             "outlinewidth": 0,
             "ticks": ""
            },
            "type": "choropleth"
           }
          ],
          "contour": [
           {
            "colorbar": {
             "outlinewidth": 0,
             "ticks": ""
            },
            "colorscale": [
             [
              0,
              "#0d0887"
             ],
             [
              0.1111111111111111,
              "#46039f"
             ],
             [
              0.2222222222222222,
              "#7201a8"
             ],
             [
              0.3333333333333333,
              "#9c179e"
             ],
             [
              0.4444444444444444,
              "#bd3786"
             ],
             [
              0.5555555555555556,
              "#d8576b"
             ],
             [
              0.6666666666666666,
              "#ed7953"
             ],
             [
              0.7777777777777778,
              "#fb9f3a"
             ],
             [
              0.8888888888888888,
              "#fdca26"
             ],
             [
              1,
              "#f0f921"
             ]
            ],
            "type": "contour"
           }
          ],
          "contourcarpet": [
           {
            "colorbar": {
             "outlinewidth": 0,
             "ticks": ""
            },
            "type": "contourcarpet"
           }
          ],
          "heatmap": [
           {
            "colorbar": {
             "outlinewidth": 0,
             "ticks": ""
            },
            "colorscale": [
             [
              0,
              "#0d0887"
             ],
             [
              0.1111111111111111,
              "#46039f"
             ],
             [
              0.2222222222222222,
              "#7201a8"
             ],
             [
              0.3333333333333333,
              "#9c179e"
             ],
             [
              0.4444444444444444,
              "#bd3786"
             ],
             [
              0.5555555555555556,
              "#d8576b"
             ],
             [
              0.6666666666666666,
              "#ed7953"
             ],
             [
              0.7777777777777778,
              "#fb9f3a"
             ],
             [
              0.8888888888888888,
              "#fdca26"
             ],
             [
              1,
              "#f0f921"
             ]
            ],
            "type": "heatmap"
           }
          ],
          "heatmapgl": [
           {
            "colorbar": {
             "outlinewidth": 0,
             "ticks": ""
            },
            "colorscale": [
             [
              0,
              "#0d0887"
             ],
             [
              0.1111111111111111,
              "#46039f"
             ],
             [
              0.2222222222222222,
              "#7201a8"
             ],
             [
              0.3333333333333333,
              "#9c179e"
             ],
             [
              0.4444444444444444,
              "#bd3786"
             ],
             [
              0.5555555555555556,
              "#d8576b"
             ],
             [
              0.6666666666666666,
              "#ed7953"
             ],
             [
              0.7777777777777778,
              "#fb9f3a"
             ],
             [
              0.8888888888888888,
              "#fdca26"
             ],
             [
              1,
              "#f0f921"
             ]
            ],
            "type": "heatmapgl"
           }
          ],
          "histogram": [
           {
            "marker": {
             "pattern": {
              "fillmode": "overlay",
              "size": 10,
              "solidity": 0.2
             }
            },
            "type": "histogram"
           }
          ],
          "histogram2d": [
           {
            "colorbar": {
             "outlinewidth": 0,
             "ticks": ""
            },
            "colorscale": [
             [
              0,
              "#0d0887"
             ],
             [
              0.1111111111111111,
              "#46039f"
             ],
             [
              0.2222222222222222,
              "#7201a8"
             ],
             [
              0.3333333333333333,
              "#9c179e"
             ],
             [
              0.4444444444444444,
              "#bd3786"
             ],
             [
              0.5555555555555556,
              "#d8576b"
             ],
             [
              0.6666666666666666,
              "#ed7953"
             ],
             [
              0.7777777777777778,
              "#fb9f3a"
             ],
             [
              0.8888888888888888,
              "#fdca26"
             ],
             [
              1,
              "#f0f921"
             ]
            ],
            "type": "histogram2d"
           }
          ],
          "histogram2dcontour": [
           {
            "colorbar": {
             "outlinewidth": 0,
             "ticks": ""
            },
            "colorscale": [
             [
              0,
              "#0d0887"
             ],
             [
              0.1111111111111111,
              "#46039f"
             ],
             [
              0.2222222222222222,
              "#7201a8"
             ],
             [
              0.3333333333333333,
              "#9c179e"
             ],
             [
              0.4444444444444444,
              "#bd3786"
             ],
             [
              0.5555555555555556,
              "#d8576b"
             ],
             [
              0.6666666666666666,
              "#ed7953"
             ],
             [
              0.7777777777777778,
              "#fb9f3a"
             ],
             [
              0.8888888888888888,
              "#fdca26"
             ],
             [
              1,
              "#f0f921"
             ]
            ],
            "type": "histogram2dcontour"
           }
          ],
          "mesh3d": [
           {
            "colorbar": {
             "outlinewidth": 0,
             "ticks": ""
            },
            "type": "mesh3d"
           }
          ],
          "parcoords": [
           {
            "line": {
             "colorbar": {
              "outlinewidth": 0,
              "ticks": ""
             }
            },
            "type": "parcoords"
           }
          ],
          "pie": [
           {
            "automargin": true,
            "type": "pie"
           }
          ],
          "scatter": [
           {
            "fillpattern": {
             "fillmode": "overlay",
             "size": 10,
             "solidity": 0.2
            },
            "type": "scatter"
           }
          ],
          "scatter3d": [
           {
            "line": {
             "colorbar": {
              "outlinewidth": 0,
              "ticks": ""
             }
            },
            "marker": {
             "colorbar": {
              "outlinewidth": 0,
              "ticks": ""
             }
            },
            "type": "scatter3d"
           }
          ],
          "scattercarpet": [
           {
            "marker": {
             "colorbar": {
              "outlinewidth": 0,
              "ticks": ""
             }
            },
            "type": "scattercarpet"
           }
          ],
          "scattergeo": [
           {
            "marker": {
             "colorbar": {
              "outlinewidth": 0,
              "ticks": ""
             }
            },
            "type": "scattergeo"
           }
          ],
          "scattergl": [
           {
            "marker": {
             "colorbar": {
              "outlinewidth": 0,
              "ticks": ""
             }
            },
            "type": "scattergl"
           }
          ],
          "scattermapbox": [
           {
            "marker": {
             "colorbar": {
              "outlinewidth": 0,
              "ticks": ""
             }
            },
            "type": "scattermapbox"
           }
          ],
          "scatterpolar": [
           {
            "marker": {
             "colorbar": {
              "outlinewidth": 0,
              "ticks": ""
             }
            },
            "type": "scatterpolar"
           }
          ],
          "scatterpolargl": [
           {
            "marker": {
             "colorbar": {
              "outlinewidth": 0,
              "ticks": ""
             }
            },
            "type": "scatterpolargl"
           }
          ],
          "scatterternary": [
           {
            "marker": {
             "colorbar": {
              "outlinewidth": 0,
              "ticks": ""
             }
            },
            "type": "scatterternary"
           }
          ],
          "surface": [
           {
            "colorbar": {
             "outlinewidth": 0,
             "ticks": ""
            },
            "colorscale": [
             [
              0,
              "#0d0887"
             ],
             [
              0.1111111111111111,
              "#46039f"
             ],
             [
              0.2222222222222222,
              "#7201a8"
             ],
             [
              0.3333333333333333,
              "#9c179e"
             ],
             [
              0.4444444444444444,
              "#bd3786"
             ],
             [
              0.5555555555555556,
              "#d8576b"
             ],
             [
              0.6666666666666666,
              "#ed7953"
             ],
             [
              0.7777777777777778,
              "#fb9f3a"
             ],
             [
              0.8888888888888888,
              "#fdca26"
             ],
             [
              1,
              "#f0f921"
             ]
            ],
            "type": "surface"
           }
          ],
          "table": [
           {
            "cells": {
             "fill": {
              "color": "#EBF0F8"
             },
             "line": {
              "color": "white"
             }
            },
            "header": {
             "fill": {
              "color": "#C8D4E3"
             },
             "line": {
              "color": "white"
             }
            },
            "type": "table"
           }
          ]
         },
         "layout": {
          "annotationdefaults": {
           "arrowcolor": "#2a3f5f",
           "arrowhead": 0,
           "arrowwidth": 1
          },
          "autotypenumbers": "strict",
          "coloraxis": {
           "colorbar": {
            "outlinewidth": 0,
            "ticks": ""
           }
          },
          "colorscale": {
           "diverging": [
            [
             0,
             "#8e0152"
            ],
            [
             0.1,
             "#c51b7d"
            ],
            [
             0.2,
             "#de77ae"
            ],
            [
             0.3,
             "#f1b6da"
            ],
            [
             0.4,
             "#fde0ef"
            ],
            [
             0.5,
             "#f7f7f7"
            ],
            [
             0.6,
             "#e6f5d0"
            ],
            [
             0.7,
             "#b8e186"
            ],
            [
             0.8,
             "#7fbc41"
            ],
            [
             0.9,
             "#4d9221"
            ],
            [
             1,
             "#276419"
            ]
           ],
           "sequential": [
            [
             0,
             "#0d0887"
            ],
            [
             0.1111111111111111,
             "#46039f"
            ],
            [
             0.2222222222222222,
             "#7201a8"
            ],
            [
             0.3333333333333333,
             "#9c179e"
            ],
            [
             0.4444444444444444,
             "#bd3786"
            ],
            [
             0.5555555555555556,
             "#d8576b"
            ],
            [
             0.6666666666666666,
             "#ed7953"
            ],
            [
             0.7777777777777778,
             "#fb9f3a"
            ],
            [
             0.8888888888888888,
             "#fdca26"
            ],
            [
             1,
             "#f0f921"
            ]
           ],
           "sequentialminus": [
            [
             0,
             "#0d0887"
            ],
            [
             0.1111111111111111,
             "#46039f"
            ],
            [
             0.2222222222222222,
             "#7201a8"
            ],
            [
             0.3333333333333333,
             "#9c179e"
            ],
            [
             0.4444444444444444,
             "#bd3786"
            ],
            [
             0.5555555555555556,
             "#d8576b"
            ],
            [
             0.6666666666666666,
             "#ed7953"
            ],
            [
             0.7777777777777778,
             "#fb9f3a"
            ],
            [
             0.8888888888888888,
             "#fdca26"
            ],
            [
             1,
             "#f0f921"
            ]
           ]
          },
          "colorway": [
           "#636efa",
           "#EF553B",
           "#00cc96",
           "#ab63fa",
           "#FFA15A",
           "#19d3f3",
           "#FF6692",
           "#B6E880",
           "#FF97FF",
           "#FECB52"
          ],
          "font": {
           "color": "#2a3f5f"
          },
          "geo": {
           "bgcolor": "white",
           "lakecolor": "white",
           "landcolor": "#E5ECF6",
           "showlakes": true,
           "showland": true,
           "subunitcolor": "white"
          },
          "hoverlabel": {
           "align": "left"
          },
          "hovermode": "closest",
          "mapbox": {
           "style": "light"
          },
          "paper_bgcolor": "white",
          "plot_bgcolor": "#E5ECF6",
          "polar": {
           "angularaxis": {
            "gridcolor": "white",
            "linecolor": "white",
            "ticks": ""
           },
           "bgcolor": "#E5ECF6",
           "radialaxis": {
            "gridcolor": "white",
            "linecolor": "white",
            "ticks": ""
           }
          },
          "scene": {
           "xaxis": {
            "backgroundcolor": "#E5ECF6",
            "gridcolor": "white",
            "gridwidth": 2,
            "linecolor": "white",
            "showbackground": true,
            "ticks": "",
            "zerolinecolor": "white"
           },
           "yaxis": {
            "backgroundcolor": "#E5ECF6",
            "gridcolor": "white",
            "gridwidth": 2,
            "linecolor": "white",
            "showbackground": true,
            "ticks": "",
            "zerolinecolor": "white"
           },
           "zaxis": {
            "backgroundcolor": "#E5ECF6",
            "gridcolor": "white",
            "gridwidth": 2,
            "linecolor": "white",
            "showbackground": true,
            "ticks": "",
            "zerolinecolor": "white"
           }
          },
          "shapedefaults": {
           "line": {
            "color": "#2a3f5f"
           }
          },
          "ternary": {
           "aaxis": {
            "gridcolor": "white",
            "linecolor": "white",
            "ticks": ""
           },
           "baxis": {
            "gridcolor": "white",
            "linecolor": "white",
            "ticks": ""
           },
           "bgcolor": "#E5ECF6",
           "caxis": {
            "gridcolor": "white",
            "linecolor": "white",
            "ticks": ""
           }
          },
          "title": {
           "x": 0.05
          },
          "xaxis": {
           "automargin": true,
           "gridcolor": "white",
           "linecolor": "white",
           "ticks": "",
           "title": {
            "standoff": 15
           },
           "zerolinecolor": "white",
           "zerolinewidth": 2
          },
          "yaxis": {
           "automargin": true,
           "gridcolor": "white",
           "linecolor": "white",
           "ticks": "",
           "title": {
            "standoff": 15
           },
           "zerolinecolor": "white",
           "zerolinewidth": 2
          }
         }
        },
        "title": {
         "font": {
          "color": "black",
          "family": "Times New Roman",
          "size": 30
         },
         "text": "UUT#5_Cycle02",
         "x": 0.5,
         "xanchor": "center",
         "y": 0.9,
         "yanchor": "top"
        },
        "width": 1200,
        "xaxis": {
         "autorange": "reversed",
         "gridcolor": "LightPink",
         "gridwidth": 1,
         "linecolor": "black",
         "linewidth": 2,
         "mirror": true,
         "showgrid": true,
         "showline": true,
         "tickfont": {
          "color": "black",
          "family": "Times New Roman",
          "size": 24
         },
         "ticks": "outside",
         "title": {
          "font": {
           "color": "black",
           "family": "Times New Roman",
           "size": 24
          },
          "standoff": 5,
          "text": "Battery Pack SOC (%)"
         }
        },
        "yaxis": {
         "gridcolor": "LightPink",
         "gridwidth": 1,
         "linecolor": "black",
         "linewidth": 2,
         "mirror": true,
         "showgrid": true,
         "showline": true,
         "tickfont": {
          "color": "black",
          "family": "Times New Roman",
          "size": 24
         },
         "ticks": "outside",
         "title": {
          "font": {
           "color": "black",
           "family": "Times New Roman",
           "size": 24
          },
          "standoff": 5,
          "text": "Battery Cell Voltages (V) "
         }
        }
       }
      }
     },
     "metadata": {},
     "output_type": "display_data"
    }
   ],
   "source": [
    "# Plot the 'Battery OCV [V]' with 'Battery SOC [%]' using line plot in plotly\n",
    "fig = go.Figure()\n",
    "#fig.add_trace(go.Scatter(x=df5_1['Battery SOC [%]'], y=df5_1['Battery OCV [V]'], name='UUT#4_Cycle01', line=dict(color='blue', width=4, dash='dashdot'), marker=dict(size=10, color='black', symbol='circle')))\n",
    "fig.add_trace(go.Scatter(x=df5_1['Battery SOC [%]'], y=df5_1['Cell 1 '], name='Cell1', line=dict(color='light blue', width=4), marker=dict(size=10, color='black', symbol='circle')))\n",
    "fig.add_trace(go.Scatter(x=df5_1['Battery SOC [%]'], y=df5_1['Cell 2 '], name='Cell2', line=dict(color='#768fb8', width=4), marker=dict(size=10, color='black', symbol='circle')))\n",
    "fig.add_trace(go.Scatter(x=df5_1['Battery SOC [%]'], y=df5_1['Cell 3'], name='Cell3', line=dict(color='green', width=4), marker=dict(size=10, color='black', symbol='circle')))\n",
    "fig.add_trace(go.Scatter(x=df5_1['Battery SOC [%]'], y=df5_1['Cell 4 '], name='Cell4', line=dict(color='yellow', width=4), marker=dict(size=10, color='black', symbol='circle')))\n",
    "fig.add_trace(go.Scatter(x=df5_1['Battery SOC [%]'], y=df5_1['Cell  5 '], name='Cell5', line=dict(color='magenta', width=4), marker=dict(size=10, color='black', symbol='circle')))\n",
    "fig.add_trace(go.Scatter(x=df5_1['Battery SOC [%]'], y=df5_1['Cell  6 '], name='Cell6', line=dict(color='red', width=4), marker=dict(size=10, color='black', symbol='circle')))\n",
    "\n",
    "# flip the x and y axis\n",
    "fig.update_layout(xaxis=dict(autorange=\"reversed\"))\n",
    "fig.update_layout(title='UUT#5_Cycle01')\n",
    "# add description below the title as subtitle\n",
    "fig.update_layout(title={'y': 0.9, 'x': 0.8, 'xanchor': 'center', 'yanchor': 'top'})\n",
    "# add axis line and ticks\n",
    "fig.update_xaxes(showline=True, linewidth=2, linecolor='black', mirror=True, ticks=\"outside\")\n",
    "fig.update_yaxes(showline=True, linewidth=2, linecolor='black', mirror=True, ticks=\"outside\")\n",
    "# Make x labels larger, and Times New Roman\n",
    "fig.update_xaxes(title_text=\"Battery Pack SOC (%)\", title_font=dict(size=24, family='Times New Roman', color='black'), title_standoff=25)\n",
    "# Make y labels larger, and Times New Roman\n",
    "fig.update_yaxes(title_text=\"Battery Cell Voltages (V) \", title_font=dict(size=24, family='Times New Roman', color='black'), title_standoff=25)\n",
    "# change the legend font size and font family\n",
    "fig.update_layout(legend=dict(font=dict(size=18, family='Times New Roman', color='black')))\n",
    "# make background white\n",
    "fig.update_layout(plot_bgcolor='white')\n",
    "# Move x-label and y-label to the center\n",
    "fig.update_layout(xaxis=dict(title=dict(standoff=5)), yaxis=dict(title=dict(standoff=5)))\n",
    "# Icncrease x-axis and y-axis tick font size and font family\n",
    "fig.update_xaxes(tickfont=dict(size=24, family='Times New Roman', color='black'))\n",
    "fig.update_yaxes(tickfont=dict(size=24, family='Times New Roman', color='black'))\n",
    "# add grid\n",
    "fig.update_layout(xaxis=dict(showgrid=True, gridwidth=1, gridcolor='LightPink'), yaxis=dict(showgrid=True, gridwidth=1, gridcolor='LightPink'))\n",
    "# add figure size\n",
    "fig.update_layout(width=1200, height=600)\n",
    "# keep the legend inside the plot area\n",
    "fig.update_layout(legend=dict(x=0.86, y=0.99))\n",
    "# Make title larger, and Times New Roman and center\n",
    "fig.update_layout(title=dict(font=dict(size=30, family='Times New Roman', color='black'), x=0.5, xanchor='center'))\n",
    "# add box around the legend\n",
    "fig.update_layout(legend=dict(bordercolor='black', borderwidth=2))\n",
    "fig.show()\n",
    "\n",
    "# Plot the 'Battery OCV [V]' with 'Battery SOC [%]' using line plot in plotly\n",
    "fig = go.Figure()\n",
    "#fig.add_trace(go.Scatter(x=df5_1['Battery SOC [%]'], y=df5_1['Battery OCV [V]'], name='UUT#4_Cycle01', line=dict(color='blue', width=4, dash='dashdot'), marker=dict(size=10, color='black', symbol='circle')))\n",
    "fig.add_trace(go.Scatter(x=df5_2['Battery SOC [%]'], y=df5_2['Cell 1 '], name='Cell1', line=dict(color='light blue', width=4), marker=dict(size=10, color='black', symbol='circle')))\n",
    "fig.add_trace(go.Scatter(x=df5_2['Battery SOC [%]'], y=df5_2['Cell 2 '], name='Cell2', line=dict(color='#768fb8', width=4), marker=dict(size=10, color='black', symbol='circle')))\n",
    "fig.add_trace(go.Scatter(x=df5_2['Battery SOC [%]'], y=df5_2['Cell 3'], name='Cell3', line=dict(color='green', width=4), marker=dict(size=10, color='black', symbol='circle')))\n",
    "fig.add_trace(go.Scatter(x=df5_2['Battery SOC [%]'], y=df5_2['Cell 4 '], name='Cell4', line=dict(color='yellow', width=4), marker=dict(size=10, color='black', symbol='circle')))\n",
    "fig.add_trace(go.Scatter(x=df5_2['Battery SOC [%]'], y=df5_2['Cell  5 '], name='Cell5', line=dict(color='magenta', width=4), marker=dict(size=10, color='black', symbol='circle')))\n",
    "fig.add_trace(go.Scatter(x=df5_2['Battery SOC [%]'], y=df5_2['Cell  6 '], name='Cell6', line=dict(color='red', width=4), marker=dict(size=10, color='black', symbol='circle')))\n",
    "\n",
    "# flip the x and y axis\n",
    "fig.update_layout(xaxis=dict(autorange=\"reversed\"))\n",
    "fig.update_layout(title='UUT#5_Cycle02')\n",
    "# add description below the title as subtitle\n",
    "fig.update_layout(title={'y': 0.9, 'x': 0.8, 'xanchor': 'center', 'yanchor': 'top'})\n",
    "# add axis line and ticks\n",
    "fig.update_xaxes(showline=True, linewidth=2, linecolor='black', mirror=True, ticks=\"outside\")\n",
    "fig.update_yaxes(showline=True, linewidth=2, linecolor='black', mirror=True, ticks=\"outside\")\n",
    "# Make x labels larger, and Times New Roman\n",
    "fig.update_xaxes(title_text=\"Battery Pack SOC (%)\", title_font=dict(size=24, family='Times New Roman', color='black'), title_standoff=25)\n",
    "# Make y labels larger, and Times New Roman\n",
    "fig.update_yaxes(title_text=\"Battery Cell Voltages (V) \", title_font=dict(size=24, family='Times New Roman', color='black'), title_standoff=25)\n",
    "# change the legend font size and font family\n",
    "fig.update_layout(legend=dict(font=dict(size=18, family='Times New Roman', color='black')))\n",
    "# make background white\n",
    "fig.update_layout(plot_bgcolor='white')\n",
    "# Move x-label and y-label to the center\n",
    "fig.update_layout(xaxis=dict(title=dict(standoff=5)), yaxis=dict(title=dict(standoff=5)))\n",
    "# Icncrease x-axis and y-axis tick font size and font family\n",
    "fig.update_xaxes(tickfont=dict(size=24, family='Times New Roman', color='black'))\n",
    "fig.update_yaxes(tickfont=dict(size=24, family='Times New Roman', color='black'))\n",
    "# add grid\n",
    "fig.update_layout(xaxis=dict(showgrid=True, gridwidth=1, gridcolor='LightPink'), yaxis=dict(showgrid=True, gridwidth=1, gridcolor='LightPink'))\n",
    "# add figure size\n",
    "fig.update_layout(width=1200, height=600)\n",
    "# keep the legend inside the plot area\n",
    "fig.update_layout(legend=dict(x=0.86, y=0.99))\n",
    "# Make title larger, and Times New Roman and center\n",
    "fig.update_layout(title=dict(font=dict(size=30, family='Times New Roman', color='black'), x=0.5, xanchor='center'))\n",
    "# add box around the legend\n",
    "fig.update_layout(legend=dict(bordercolor='black', borderwidth=2))\n",
    "fig.show()"
   ]
  },
  {
   "attachments": {},
   "cell_type": "markdown",
   "metadata": {},
   "source": [
    "### **UUT#6_Cycle01**"
   ]
  },
  {
   "cell_type": "code",
   "execution_count": 175,
   "metadata": {},
   "outputs": [
    {
     "data": {
      "application/vnd.plotly.v1+json": {
       "config": {
        "plotlyServerURL": "https://plot.ly"
       },
       "data": [
        {
         "line": {
          "color": "#20f200",
          "width": 4
         },
         "marker": {
          "color": "black",
          "size": 10,
          "symbol": "hexagon"
         },
         "name": "UUT#6_Cycle01",
         "type": "scatter",
         "x": [
          99,
          97,
          97,
          96,
          95,
          95,
          94,
          93,
          91,
          90,
          89,
          88,
          87,
          87
         ],
         "y": [
          25.16,
          25.08,
          25.05,
          25.01,
          24.99,
          24.99,
          24.96,
          24.92,
          24.86,
          24.81,
          24.75,
          24.7,
          24.67,
          24.65
         ]
        }
       ],
       "layout": {
        "height": 600,
        "legend": {
         "bordercolor": "black",
         "borderwidth": 2,
         "font": {
          "color": "black",
          "family": "Times New Roman",
          "size": 18
         },
         "x": 0.76,
         "y": 0.99
        },
        "plot_bgcolor": "white",
        "template": {
         "data": {
          "bar": [
           {
            "error_x": {
             "color": "#2a3f5f"
            },
            "error_y": {
             "color": "#2a3f5f"
            },
            "marker": {
             "line": {
              "color": "#E5ECF6",
              "width": 0.5
             },
             "pattern": {
              "fillmode": "overlay",
              "size": 10,
              "solidity": 0.2
             }
            },
            "type": "bar"
           }
          ],
          "barpolar": [
           {
            "marker": {
             "line": {
              "color": "#E5ECF6",
              "width": 0.5
             },
             "pattern": {
              "fillmode": "overlay",
              "size": 10,
              "solidity": 0.2
             }
            },
            "type": "barpolar"
           }
          ],
          "carpet": [
           {
            "aaxis": {
             "endlinecolor": "#2a3f5f",
             "gridcolor": "white",
             "linecolor": "white",
             "minorgridcolor": "white",
             "startlinecolor": "#2a3f5f"
            },
            "baxis": {
             "endlinecolor": "#2a3f5f",
             "gridcolor": "white",
             "linecolor": "white",
             "minorgridcolor": "white",
             "startlinecolor": "#2a3f5f"
            },
            "type": "carpet"
           }
          ],
          "choropleth": [
           {
            "colorbar": {
             "outlinewidth": 0,
             "ticks": ""
            },
            "type": "choropleth"
           }
          ],
          "contour": [
           {
            "colorbar": {
             "outlinewidth": 0,
             "ticks": ""
            },
            "colorscale": [
             [
              0,
              "#0d0887"
             ],
             [
              0.1111111111111111,
              "#46039f"
             ],
             [
              0.2222222222222222,
              "#7201a8"
             ],
             [
              0.3333333333333333,
              "#9c179e"
             ],
             [
              0.4444444444444444,
              "#bd3786"
             ],
             [
              0.5555555555555556,
              "#d8576b"
             ],
             [
              0.6666666666666666,
              "#ed7953"
             ],
             [
              0.7777777777777778,
              "#fb9f3a"
             ],
             [
              0.8888888888888888,
              "#fdca26"
             ],
             [
              1,
              "#f0f921"
             ]
            ],
            "type": "contour"
           }
          ],
          "contourcarpet": [
           {
            "colorbar": {
             "outlinewidth": 0,
             "ticks": ""
            },
            "type": "contourcarpet"
           }
          ],
          "heatmap": [
           {
            "colorbar": {
             "outlinewidth": 0,
             "ticks": ""
            },
            "colorscale": [
             [
              0,
              "#0d0887"
             ],
             [
              0.1111111111111111,
              "#46039f"
             ],
             [
              0.2222222222222222,
              "#7201a8"
             ],
             [
              0.3333333333333333,
              "#9c179e"
             ],
             [
              0.4444444444444444,
              "#bd3786"
             ],
             [
              0.5555555555555556,
              "#d8576b"
             ],
             [
              0.6666666666666666,
              "#ed7953"
             ],
             [
              0.7777777777777778,
              "#fb9f3a"
             ],
             [
              0.8888888888888888,
              "#fdca26"
             ],
             [
              1,
              "#f0f921"
             ]
            ],
            "type": "heatmap"
           }
          ],
          "heatmapgl": [
           {
            "colorbar": {
             "outlinewidth": 0,
             "ticks": ""
            },
            "colorscale": [
             [
              0,
              "#0d0887"
             ],
             [
              0.1111111111111111,
              "#46039f"
             ],
             [
              0.2222222222222222,
              "#7201a8"
             ],
             [
              0.3333333333333333,
              "#9c179e"
             ],
             [
              0.4444444444444444,
              "#bd3786"
             ],
             [
              0.5555555555555556,
              "#d8576b"
             ],
             [
              0.6666666666666666,
              "#ed7953"
             ],
             [
              0.7777777777777778,
              "#fb9f3a"
             ],
             [
              0.8888888888888888,
              "#fdca26"
             ],
             [
              1,
              "#f0f921"
             ]
            ],
            "type": "heatmapgl"
           }
          ],
          "histogram": [
           {
            "marker": {
             "pattern": {
              "fillmode": "overlay",
              "size": 10,
              "solidity": 0.2
             }
            },
            "type": "histogram"
           }
          ],
          "histogram2d": [
           {
            "colorbar": {
             "outlinewidth": 0,
             "ticks": ""
            },
            "colorscale": [
             [
              0,
              "#0d0887"
             ],
             [
              0.1111111111111111,
              "#46039f"
             ],
             [
              0.2222222222222222,
              "#7201a8"
             ],
             [
              0.3333333333333333,
              "#9c179e"
             ],
             [
              0.4444444444444444,
              "#bd3786"
             ],
             [
              0.5555555555555556,
              "#d8576b"
             ],
             [
              0.6666666666666666,
              "#ed7953"
             ],
             [
              0.7777777777777778,
              "#fb9f3a"
             ],
             [
              0.8888888888888888,
              "#fdca26"
             ],
             [
              1,
              "#f0f921"
             ]
            ],
            "type": "histogram2d"
           }
          ],
          "histogram2dcontour": [
           {
            "colorbar": {
             "outlinewidth": 0,
             "ticks": ""
            },
            "colorscale": [
             [
              0,
              "#0d0887"
             ],
             [
              0.1111111111111111,
              "#46039f"
             ],
             [
              0.2222222222222222,
              "#7201a8"
             ],
             [
              0.3333333333333333,
              "#9c179e"
             ],
             [
              0.4444444444444444,
              "#bd3786"
             ],
             [
              0.5555555555555556,
              "#d8576b"
             ],
             [
              0.6666666666666666,
              "#ed7953"
             ],
             [
              0.7777777777777778,
              "#fb9f3a"
             ],
             [
              0.8888888888888888,
              "#fdca26"
             ],
             [
              1,
              "#f0f921"
             ]
            ],
            "type": "histogram2dcontour"
           }
          ],
          "mesh3d": [
           {
            "colorbar": {
             "outlinewidth": 0,
             "ticks": ""
            },
            "type": "mesh3d"
           }
          ],
          "parcoords": [
           {
            "line": {
             "colorbar": {
              "outlinewidth": 0,
              "ticks": ""
             }
            },
            "type": "parcoords"
           }
          ],
          "pie": [
           {
            "automargin": true,
            "type": "pie"
           }
          ],
          "scatter": [
           {
            "fillpattern": {
             "fillmode": "overlay",
             "size": 10,
             "solidity": 0.2
            },
            "type": "scatter"
           }
          ],
          "scatter3d": [
           {
            "line": {
             "colorbar": {
              "outlinewidth": 0,
              "ticks": ""
             }
            },
            "marker": {
             "colorbar": {
              "outlinewidth": 0,
              "ticks": ""
             }
            },
            "type": "scatter3d"
           }
          ],
          "scattercarpet": [
           {
            "marker": {
             "colorbar": {
              "outlinewidth": 0,
              "ticks": ""
             }
            },
            "type": "scattercarpet"
           }
          ],
          "scattergeo": [
           {
            "marker": {
             "colorbar": {
              "outlinewidth": 0,
              "ticks": ""
             }
            },
            "type": "scattergeo"
           }
          ],
          "scattergl": [
           {
            "marker": {
             "colorbar": {
              "outlinewidth": 0,
              "ticks": ""
             }
            },
            "type": "scattergl"
           }
          ],
          "scattermapbox": [
           {
            "marker": {
             "colorbar": {
              "outlinewidth": 0,
              "ticks": ""
             }
            },
            "type": "scattermapbox"
           }
          ],
          "scatterpolar": [
           {
            "marker": {
             "colorbar": {
              "outlinewidth": 0,
              "ticks": ""
             }
            },
            "type": "scatterpolar"
           }
          ],
          "scatterpolargl": [
           {
            "marker": {
             "colorbar": {
              "outlinewidth": 0,
              "ticks": ""
             }
            },
            "type": "scatterpolargl"
           }
          ],
          "scatterternary": [
           {
            "marker": {
             "colorbar": {
              "outlinewidth": 0,
              "ticks": ""
             }
            },
            "type": "scatterternary"
           }
          ],
          "surface": [
           {
            "colorbar": {
             "outlinewidth": 0,
             "ticks": ""
            },
            "colorscale": [
             [
              0,
              "#0d0887"
             ],
             [
              0.1111111111111111,
              "#46039f"
             ],
             [
              0.2222222222222222,
              "#7201a8"
             ],
             [
              0.3333333333333333,
              "#9c179e"
             ],
             [
              0.4444444444444444,
              "#bd3786"
             ],
             [
              0.5555555555555556,
              "#d8576b"
             ],
             [
              0.6666666666666666,
              "#ed7953"
             ],
             [
              0.7777777777777778,
              "#fb9f3a"
             ],
             [
              0.8888888888888888,
              "#fdca26"
             ],
             [
              1,
              "#f0f921"
             ]
            ],
            "type": "surface"
           }
          ],
          "table": [
           {
            "cells": {
             "fill": {
              "color": "#EBF0F8"
             },
             "line": {
              "color": "white"
             }
            },
            "header": {
             "fill": {
              "color": "#C8D4E3"
             },
             "line": {
              "color": "white"
             }
            },
            "type": "table"
           }
          ]
         },
         "layout": {
          "annotationdefaults": {
           "arrowcolor": "#2a3f5f",
           "arrowhead": 0,
           "arrowwidth": 1
          },
          "autotypenumbers": "strict",
          "coloraxis": {
           "colorbar": {
            "outlinewidth": 0,
            "ticks": ""
           }
          },
          "colorscale": {
           "diverging": [
            [
             0,
             "#8e0152"
            ],
            [
             0.1,
             "#c51b7d"
            ],
            [
             0.2,
             "#de77ae"
            ],
            [
             0.3,
             "#f1b6da"
            ],
            [
             0.4,
             "#fde0ef"
            ],
            [
             0.5,
             "#f7f7f7"
            ],
            [
             0.6,
             "#e6f5d0"
            ],
            [
             0.7,
             "#b8e186"
            ],
            [
             0.8,
             "#7fbc41"
            ],
            [
             0.9,
             "#4d9221"
            ],
            [
             1,
             "#276419"
            ]
           ],
           "sequential": [
            [
             0,
             "#0d0887"
            ],
            [
             0.1111111111111111,
             "#46039f"
            ],
            [
             0.2222222222222222,
             "#7201a8"
            ],
            [
             0.3333333333333333,
             "#9c179e"
            ],
            [
             0.4444444444444444,
             "#bd3786"
            ],
            [
             0.5555555555555556,
             "#d8576b"
            ],
            [
             0.6666666666666666,
             "#ed7953"
            ],
            [
             0.7777777777777778,
             "#fb9f3a"
            ],
            [
             0.8888888888888888,
             "#fdca26"
            ],
            [
             1,
             "#f0f921"
            ]
           ],
           "sequentialminus": [
            [
             0,
             "#0d0887"
            ],
            [
             0.1111111111111111,
             "#46039f"
            ],
            [
             0.2222222222222222,
             "#7201a8"
            ],
            [
             0.3333333333333333,
             "#9c179e"
            ],
            [
             0.4444444444444444,
             "#bd3786"
            ],
            [
             0.5555555555555556,
             "#d8576b"
            ],
            [
             0.6666666666666666,
             "#ed7953"
            ],
            [
             0.7777777777777778,
             "#fb9f3a"
            ],
            [
             0.8888888888888888,
             "#fdca26"
            ],
            [
             1,
             "#f0f921"
            ]
           ]
          },
          "colorway": [
           "#636efa",
           "#EF553B",
           "#00cc96",
           "#ab63fa",
           "#FFA15A",
           "#19d3f3",
           "#FF6692",
           "#B6E880",
           "#FF97FF",
           "#FECB52"
          ],
          "font": {
           "color": "#2a3f5f"
          },
          "geo": {
           "bgcolor": "white",
           "lakecolor": "white",
           "landcolor": "#E5ECF6",
           "showlakes": true,
           "showland": true,
           "subunitcolor": "white"
          },
          "hoverlabel": {
           "align": "left"
          },
          "hovermode": "closest",
          "mapbox": {
           "style": "light"
          },
          "paper_bgcolor": "white",
          "plot_bgcolor": "#E5ECF6",
          "polar": {
           "angularaxis": {
            "gridcolor": "white",
            "linecolor": "white",
            "ticks": ""
           },
           "bgcolor": "#E5ECF6",
           "radialaxis": {
            "gridcolor": "white",
            "linecolor": "white",
            "ticks": ""
           }
          },
          "scene": {
           "xaxis": {
            "backgroundcolor": "#E5ECF6",
            "gridcolor": "white",
            "gridwidth": 2,
            "linecolor": "white",
            "showbackground": true,
            "ticks": "",
            "zerolinecolor": "white"
           },
           "yaxis": {
            "backgroundcolor": "#E5ECF6",
            "gridcolor": "white",
            "gridwidth": 2,
            "linecolor": "white",
            "showbackground": true,
            "ticks": "",
            "zerolinecolor": "white"
           },
           "zaxis": {
            "backgroundcolor": "#E5ECF6",
            "gridcolor": "white",
            "gridwidth": 2,
            "linecolor": "white",
            "showbackground": true,
            "ticks": "",
            "zerolinecolor": "white"
           }
          },
          "shapedefaults": {
           "line": {
            "color": "#2a3f5f"
           }
          },
          "ternary": {
           "aaxis": {
            "gridcolor": "white",
            "linecolor": "white",
            "ticks": ""
           },
           "baxis": {
            "gridcolor": "white",
            "linecolor": "white",
            "ticks": ""
           },
           "bgcolor": "#E5ECF6",
           "caxis": {
            "gridcolor": "white",
            "linecolor": "white",
            "ticks": ""
           }
          },
          "title": {
           "x": 0.05
          },
          "xaxis": {
           "automargin": true,
           "gridcolor": "white",
           "linecolor": "white",
           "ticks": "",
           "title": {
            "standoff": 15
           },
           "zerolinecolor": "white",
           "zerolinewidth": 2
          },
          "yaxis": {
           "automargin": true,
           "gridcolor": "white",
           "linecolor": "white",
           "ticks": "",
           "title": {
            "standoff": 15
           },
           "zerolinecolor": "white",
           "zerolinewidth": 2
          }
         }
        },
        "title": {
         "font": {
          "color": "black",
          "family": "Times New Roman",
          "size": 30
         },
         "text": "UUT#6_Cycle01",
         "x": 0.5,
         "xanchor": "center",
         "y": 0.9,
         "yanchor": "top"
        },
        "width": 1200,
        "xaxis": {
         "autorange": "reversed",
         "gridcolor": "LightPink",
         "gridwidth": 1,
         "linecolor": "black",
         "linewidth": 2,
         "mirror": true,
         "showgrid": true,
         "showline": true,
         "tickfont": {
          "color": "black",
          "family": "Times New Roman",
          "size": 24
         },
         "ticks": "outside",
         "title": {
          "font": {
           "color": "black",
           "family": "Times New Roman",
           "size": 24
          },
          "standoff": 5,
          "text": "Battery Pack SOC (%)"
         }
        },
        "yaxis": {
         "gridcolor": "LightPink",
         "gridwidth": 1,
         "linecolor": "black",
         "linewidth": 2,
         "mirror": true,
         "showgrid": true,
         "showline": true,
         "tickfont": {
          "color": "black",
          "family": "Times New Roman",
          "size": 24
         },
         "ticks": "outside",
         "title": {
          "font": {
           "color": "black",
           "family": "Times New Roman",
           "size": 24
          },
          "standoff": 5,
          "text": "Battery Pack Voltages (V) "
         }
        }
       }
      }
     },
     "metadata": {},
     "output_type": "display_data"
    },
    {
     "data": {
      "application/vnd.plotly.v1+json": {
       "config": {
        "plotlyServerURL": "https://plot.ly"
       },
       "data": [
        {
         "line": {
          "color": "black",
          "width": 4
         },
         "marker": {
          "color": "black",
          "size": 10,
          "symbol": "hexagon"
         },
         "name": "UUT#6_Cycle02",
         "type": "scatter",
         "x": [
          47,
          47,
          46,
          47,
          46,
          45,
          45,
          44,
          44,
          43,
          43,
          43,
          42,
          41,
          41,
          41,
          40,
          40,
          39,
          39,
          38,
          38,
          37
         ],
         "y": [
          23.08,
          23.08,
          23.07,
          23.07,
          23.06,
          23.05,
          23.05,
          23.04,
          23.03,
          23.02,
          23.02,
          23.01,
          23,
          22.99,
          22.99,
          22.98,
          22.97,
          22.96,
          22.95,
          22.94,
          22.94,
          22.93,
          22.91
         ]
        }
       ],
       "layout": {
        "height": 600,
        "legend": {
         "bordercolor": "black",
         "borderwidth": 2,
         "font": {
          "color": "black",
          "family": "Times New Roman",
          "size": 18
         },
         "x": 0.76,
         "y": 0.99
        },
        "plot_bgcolor": "white",
        "template": {
         "data": {
          "bar": [
           {
            "error_x": {
             "color": "#2a3f5f"
            },
            "error_y": {
             "color": "#2a3f5f"
            },
            "marker": {
             "line": {
              "color": "#E5ECF6",
              "width": 0.5
             },
             "pattern": {
              "fillmode": "overlay",
              "size": 10,
              "solidity": 0.2
             }
            },
            "type": "bar"
           }
          ],
          "barpolar": [
           {
            "marker": {
             "line": {
              "color": "#E5ECF6",
              "width": 0.5
             },
             "pattern": {
              "fillmode": "overlay",
              "size": 10,
              "solidity": 0.2
             }
            },
            "type": "barpolar"
           }
          ],
          "carpet": [
           {
            "aaxis": {
             "endlinecolor": "#2a3f5f",
             "gridcolor": "white",
             "linecolor": "white",
             "minorgridcolor": "white",
             "startlinecolor": "#2a3f5f"
            },
            "baxis": {
             "endlinecolor": "#2a3f5f",
             "gridcolor": "white",
             "linecolor": "white",
             "minorgridcolor": "white",
             "startlinecolor": "#2a3f5f"
            },
            "type": "carpet"
           }
          ],
          "choropleth": [
           {
            "colorbar": {
             "outlinewidth": 0,
             "ticks": ""
            },
            "type": "choropleth"
           }
          ],
          "contour": [
           {
            "colorbar": {
             "outlinewidth": 0,
             "ticks": ""
            },
            "colorscale": [
             [
              0,
              "#0d0887"
             ],
             [
              0.1111111111111111,
              "#46039f"
             ],
             [
              0.2222222222222222,
              "#7201a8"
             ],
             [
              0.3333333333333333,
              "#9c179e"
             ],
             [
              0.4444444444444444,
              "#bd3786"
             ],
             [
              0.5555555555555556,
              "#d8576b"
             ],
             [
              0.6666666666666666,
              "#ed7953"
             ],
             [
              0.7777777777777778,
              "#fb9f3a"
             ],
             [
              0.8888888888888888,
              "#fdca26"
             ],
             [
              1,
              "#f0f921"
             ]
            ],
            "type": "contour"
           }
          ],
          "contourcarpet": [
           {
            "colorbar": {
             "outlinewidth": 0,
             "ticks": ""
            },
            "type": "contourcarpet"
           }
          ],
          "heatmap": [
           {
            "colorbar": {
             "outlinewidth": 0,
             "ticks": ""
            },
            "colorscale": [
             [
              0,
              "#0d0887"
             ],
             [
              0.1111111111111111,
              "#46039f"
             ],
             [
              0.2222222222222222,
              "#7201a8"
             ],
             [
              0.3333333333333333,
              "#9c179e"
             ],
             [
              0.4444444444444444,
              "#bd3786"
             ],
             [
              0.5555555555555556,
              "#d8576b"
             ],
             [
              0.6666666666666666,
              "#ed7953"
             ],
             [
              0.7777777777777778,
              "#fb9f3a"
             ],
             [
              0.8888888888888888,
              "#fdca26"
             ],
             [
              1,
              "#f0f921"
             ]
            ],
            "type": "heatmap"
           }
          ],
          "heatmapgl": [
           {
            "colorbar": {
             "outlinewidth": 0,
             "ticks": ""
            },
            "colorscale": [
             [
              0,
              "#0d0887"
             ],
             [
              0.1111111111111111,
              "#46039f"
             ],
             [
              0.2222222222222222,
              "#7201a8"
             ],
             [
              0.3333333333333333,
              "#9c179e"
             ],
             [
              0.4444444444444444,
              "#bd3786"
             ],
             [
              0.5555555555555556,
              "#d8576b"
             ],
             [
              0.6666666666666666,
              "#ed7953"
             ],
             [
              0.7777777777777778,
              "#fb9f3a"
             ],
             [
              0.8888888888888888,
              "#fdca26"
             ],
             [
              1,
              "#f0f921"
             ]
            ],
            "type": "heatmapgl"
           }
          ],
          "histogram": [
           {
            "marker": {
             "pattern": {
              "fillmode": "overlay",
              "size": 10,
              "solidity": 0.2
             }
            },
            "type": "histogram"
           }
          ],
          "histogram2d": [
           {
            "colorbar": {
             "outlinewidth": 0,
             "ticks": ""
            },
            "colorscale": [
             [
              0,
              "#0d0887"
             ],
             [
              0.1111111111111111,
              "#46039f"
             ],
             [
              0.2222222222222222,
              "#7201a8"
             ],
             [
              0.3333333333333333,
              "#9c179e"
             ],
             [
              0.4444444444444444,
              "#bd3786"
             ],
             [
              0.5555555555555556,
              "#d8576b"
             ],
             [
              0.6666666666666666,
              "#ed7953"
             ],
             [
              0.7777777777777778,
              "#fb9f3a"
             ],
             [
              0.8888888888888888,
              "#fdca26"
             ],
             [
              1,
              "#f0f921"
             ]
            ],
            "type": "histogram2d"
           }
          ],
          "histogram2dcontour": [
           {
            "colorbar": {
             "outlinewidth": 0,
             "ticks": ""
            },
            "colorscale": [
             [
              0,
              "#0d0887"
             ],
             [
              0.1111111111111111,
              "#46039f"
             ],
             [
              0.2222222222222222,
              "#7201a8"
             ],
             [
              0.3333333333333333,
              "#9c179e"
             ],
             [
              0.4444444444444444,
              "#bd3786"
             ],
             [
              0.5555555555555556,
              "#d8576b"
             ],
             [
              0.6666666666666666,
              "#ed7953"
             ],
             [
              0.7777777777777778,
              "#fb9f3a"
             ],
             [
              0.8888888888888888,
              "#fdca26"
             ],
             [
              1,
              "#f0f921"
             ]
            ],
            "type": "histogram2dcontour"
           }
          ],
          "mesh3d": [
           {
            "colorbar": {
             "outlinewidth": 0,
             "ticks": ""
            },
            "type": "mesh3d"
           }
          ],
          "parcoords": [
           {
            "line": {
             "colorbar": {
              "outlinewidth": 0,
              "ticks": ""
             }
            },
            "type": "parcoords"
           }
          ],
          "pie": [
           {
            "automargin": true,
            "type": "pie"
           }
          ],
          "scatter": [
           {
            "fillpattern": {
             "fillmode": "overlay",
             "size": 10,
             "solidity": 0.2
            },
            "type": "scatter"
           }
          ],
          "scatter3d": [
           {
            "line": {
             "colorbar": {
              "outlinewidth": 0,
              "ticks": ""
             }
            },
            "marker": {
             "colorbar": {
              "outlinewidth": 0,
              "ticks": ""
             }
            },
            "type": "scatter3d"
           }
          ],
          "scattercarpet": [
           {
            "marker": {
             "colorbar": {
              "outlinewidth": 0,
              "ticks": ""
             }
            },
            "type": "scattercarpet"
           }
          ],
          "scattergeo": [
           {
            "marker": {
             "colorbar": {
              "outlinewidth": 0,
              "ticks": ""
             }
            },
            "type": "scattergeo"
           }
          ],
          "scattergl": [
           {
            "marker": {
             "colorbar": {
              "outlinewidth": 0,
              "ticks": ""
             }
            },
            "type": "scattergl"
           }
          ],
          "scattermapbox": [
           {
            "marker": {
             "colorbar": {
              "outlinewidth": 0,
              "ticks": ""
             }
            },
            "type": "scattermapbox"
           }
          ],
          "scatterpolar": [
           {
            "marker": {
             "colorbar": {
              "outlinewidth": 0,
              "ticks": ""
             }
            },
            "type": "scatterpolar"
           }
          ],
          "scatterpolargl": [
           {
            "marker": {
             "colorbar": {
              "outlinewidth": 0,
              "ticks": ""
             }
            },
            "type": "scatterpolargl"
           }
          ],
          "scatterternary": [
           {
            "marker": {
             "colorbar": {
              "outlinewidth": 0,
              "ticks": ""
             }
            },
            "type": "scatterternary"
           }
          ],
          "surface": [
           {
            "colorbar": {
             "outlinewidth": 0,
             "ticks": ""
            },
            "colorscale": [
             [
              0,
              "#0d0887"
             ],
             [
              0.1111111111111111,
              "#46039f"
             ],
             [
              0.2222222222222222,
              "#7201a8"
             ],
             [
              0.3333333333333333,
              "#9c179e"
             ],
             [
              0.4444444444444444,
              "#bd3786"
             ],
             [
              0.5555555555555556,
              "#d8576b"
             ],
             [
              0.6666666666666666,
              "#ed7953"
             ],
             [
              0.7777777777777778,
              "#fb9f3a"
             ],
             [
              0.8888888888888888,
              "#fdca26"
             ],
             [
              1,
              "#f0f921"
             ]
            ],
            "type": "surface"
           }
          ],
          "table": [
           {
            "cells": {
             "fill": {
              "color": "#EBF0F8"
             },
             "line": {
              "color": "white"
             }
            },
            "header": {
             "fill": {
              "color": "#C8D4E3"
             },
             "line": {
              "color": "white"
             }
            },
            "type": "table"
           }
          ]
         },
         "layout": {
          "annotationdefaults": {
           "arrowcolor": "#2a3f5f",
           "arrowhead": 0,
           "arrowwidth": 1
          },
          "autotypenumbers": "strict",
          "coloraxis": {
           "colorbar": {
            "outlinewidth": 0,
            "ticks": ""
           }
          },
          "colorscale": {
           "diverging": [
            [
             0,
             "#8e0152"
            ],
            [
             0.1,
             "#c51b7d"
            ],
            [
             0.2,
             "#de77ae"
            ],
            [
             0.3,
             "#f1b6da"
            ],
            [
             0.4,
             "#fde0ef"
            ],
            [
             0.5,
             "#f7f7f7"
            ],
            [
             0.6,
             "#e6f5d0"
            ],
            [
             0.7,
             "#b8e186"
            ],
            [
             0.8,
             "#7fbc41"
            ],
            [
             0.9,
             "#4d9221"
            ],
            [
             1,
             "#276419"
            ]
           ],
           "sequential": [
            [
             0,
             "#0d0887"
            ],
            [
             0.1111111111111111,
             "#46039f"
            ],
            [
             0.2222222222222222,
             "#7201a8"
            ],
            [
             0.3333333333333333,
             "#9c179e"
            ],
            [
             0.4444444444444444,
             "#bd3786"
            ],
            [
             0.5555555555555556,
             "#d8576b"
            ],
            [
             0.6666666666666666,
             "#ed7953"
            ],
            [
             0.7777777777777778,
             "#fb9f3a"
            ],
            [
             0.8888888888888888,
             "#fdca26"
            ],
            [
             1,
             "#f0f921"
            ]
           ],
           "sequentialminus": [
            [
             0,
             "#0d0887"
            ],
            [
             0.1111111111111111,
             "#46039f"
            ],
            [
             0.2222222222222222,
             "#7201a8"
            ],
            [
             0.3333333333333333,
             "#9c179e"
            ],
            [
             0.4444444444444444,
             "#bd3786"
            ],
            [
             0.5555555555555556,
             "#d8576b"
            ],
            [
             0.6666666666666666,
             "#ed7953"
            ],
            [
             0.7777777777777778,
             "#fb9f3a"
            ],
            [
             0.8888888888888888,
             "#fdca26"
            ],
            [
             1,
             "#f0f921"
            ]
           ]
          },
          "colorway": [
           "#636efa",
           "#EF553B",
           "#00cc96",
           "#ab63fa",
           "#FFA15A",
           "#19d3f3",
           "#FF6692",
           "#B6E880",
           "#FF97FF",
           "#FECB52"
          ],
          "font": {
           "color": "#2a3f5f"
          },
          "geo": {
           "bgcolor": "white",
           "lakecolor": "white",
           "landcolor": "#E5ECF6",
           "showlakes": true,
           "showland": true,
           "subunitcolor": "white"
          },
          "hoverlabel": {
           "align": "left"
          },
          "hovermode": "closest",
          "mapbox": {
           "style": "light"
          },
          "paper_bgcolor": "white",
          "plot_bgcolor": "#E5ECF6",
          "polar": {
           "angularaxis": {
            "gridcolor": "white",
            "linecolor": "white",
            "ticks": ""
           },
           "bgcolor": "#E5ECF6",
           "radialaxis": {
            "gridcolor": "white",
            "linecolor": "white",
            "ticks": ""
           }
          },
          "scene": {
           "xaxis": {
            "backgroundcolor": "#E5ECF6",
            "gridcolor": "white",
            "gridwidth": 2,
            "linecolor": "white",
            "showbackground": true,
            "ticks": "",
            "zerolinecolor": "white"
           },
           "yaxis": {
            "backgroundcolor": "#E5ECF6",
            "gridcolor": "white",
            "gridwidth": 2,
            "linecolor": "white",
            "showbackground": true,
            "ticks": "",
            "zerolinecolor": "white"
           },
           "zaxis": {
            "backgroundcolor": "#E5ECF6",
            "gridcolor": "white",
            "gridwidth": 2,
            "linecolor": "white",
            "showbackground": true,
            "ticks": "",
            "zerolinecolor": "white"
           }
          },
          "shapedefaults": {
           "line": {
            "color": "#2a3f5f"
           }
          },
          "ternary": {
           "aaxis": {
            "gridcolor": "white",
            "linecolor": "white",
            "ticks": ""
           },
           "baxis": {
            "gridcolor": "white",
            "linecolor": "white",
            "ticks": ""
           },
           "bgcolor": "#E5ECF6",
           "caxis": {
            "gridcolor": "white",
            "linecolor": "white",
            "ticks": ""
           }
          },
          "title": {
           "x": 0.05
          },
          "xaxis": {
           "automargin": true,
           "gridcolor": "white",
           "linecolor": "white",
           "ticks": "",
           "title": {
            "standoff": 15
           },
           "zerolinecolor": "white",
           "zerolinewidth": 2
          },
          "yaxis": {
           "automargin": true,
           "gridcolor": "white",
           "linecolor": "white",
           "ticks": "",
           "title": {
            "standoff": 15
           },
           "zerolinecolor": "white",
           "zerolinewidth": 2
          }
         }
        },
        "title": {
         "font": {
          "color": "black",
          "family": "Times New Roman",
          "size": 30
         },
         "text": "UUT#6_Cycle02",
         "x": 0.5,
         "xanchor": "center",
         "y": 0.9,
         "yanchor": "top"
        },
        "width": 1200,
        "xaxis": {
         "autorange": "reversed",
         "gridcolor": "LightPink",
         "gridwidth": 1,
         "linecolor": "black",
         "linewidth": 2,
         "mirror": true,
         "showgrid": true,
         "showline": true,
         "tickfont": {
          "color": "black",
          "family": "Times New Roman",
          "size": 24
         },
         "ticks": "outside",
         "title": {
          "font": {
           "color": "black",
           "family": "Times New Roman",
           "size": 24
          },
          "standoff": 5,
          "text": "Battery Pack SOC (%)"
         }
        },
        "yaxis": {
         "gridcolor": "LightPink",
         "gridwidth": 1,
         "linecolor": "black",
         "linewidth": 2,
         "mirror": true,
         "showgrid": true,
         "showline": true,
         "tickfont": {
          "color": "black",
          "family": "Times New Roman",
          "size": 24
         },
         "ticks": "outside",
         "title": {
          "font": {
           "color": "black",
           "family": "Times New Roman",
           "size": 24
          },
          "standoff": 5,
          "text": "Battery Pack Voltages (V) "
         }
        }
       }
      }
     },
     "metadata": {},
     "output_type": "display_data"
    }
   ],
   "source": [
    "# battery 3\n",
    "fig = go.Figure()\n",
    "fig.add_trace(go.Scatter(x=df6_1['Battery SOC [%]'], y=df6_1['Battery OCV [V]'], name='UUT#6_Cycle01', line=dict(color='#20f200', width=4), marker=dict(size=10, color='black', symbol='hexagon')))\n",
    "#fig.add_trace(go.Scatter(x=df6_2['Battery SOC [%]'], y=df6_2['Battery OCV [V]'], name='UUT#6_Cycle02', line=dict(color='black', width=4), marker=dict(size=10, color='black', symbol='hexagon')))\n",
    "\n",
    "\n",
    "# flip the x and y axis\n",
    "fig.update_layout(xaxis=dict(autorange=\"reversed\"))\n",
    "fig.update_layout(title='UUT#6_Cycle01')\n",
    "# add description below the title as subtitle\n",
    "fig.update_layout(title={'y': 0.9, 'x': 0.5, 'xanchor': 'center', 'yanchor': 'top'})\n",
    "# add axis line and ticks\n",
    "fig.update_xaxes(showline=True, linewidth=2, linecolor='black', mirror=True, ticks=\"outside\")\n",
    "fig.update_yaxes(showline=True, linewidth=2, linecolor='black', mirror=True, ticks=\"outside\")\n",
    "# Make x labels larger, and Times New Roman\n",
    "fig.update_xaxes(title_text=\"Battery Pack SOC (%)\", title_font=dict(size=24, family='Times New Roman', color='black'), title_standoff=25)\n",
    "# Make y labels larger, and Times New Roman\n",
    "fig.update_yaxes(title_text=\"Battery Pack Voltages (V) \", title_font=dict(size=24, family='Times New Roman', color='black'), title_standoff=25)\n",
    "# change the legend font size and font family\n",
    "fig.update_layout(legend=dict(font=dict(size=18, family='Times New Roman', color='black')))\n",
    "# make background white\n",
    "fig.update_layout(plot_bgcolor='white')\n",
    "# Move x-label and y-label to the center\n",
    "fig.update_layout(xaxis=dict(title=dict(standoff=5)), yaxis=dict(title=dict(standoff=5)))\n",
    "# Icncrease x-axis and y-axis tick font size and font family\n",
    "fig.update_xaxes(tickfont=dict(size=24, family='Times New Roman', color='black'))\n",
    "fig.update_yaxes(tickfont=dict(size=24, family='Times New Roman', color='black'))\n",
    "# add grid\n",
    "fig.update_layout(xaxis=dict(showgrid=True, gridwidth=1, gridcolor='LightPink'), yaxis=dict(showgrid=True, gridwidth=1, gridcolor='LightPink'))\n",
    "# add figure size\n",
    "fig.update_layout(width=1200, height=600)\n",
    "# keep the legend inside the plot area\n",
    "fig.update_layout(legend=dict(x=0.76, y=0.99))\n",
    "# Make title larger, and Times New Roman and center\n",
    "fig.update_layout(title=dict(font=dict(size=30, family='Times New Roman', color='black'), x=0.5, xanchor='center'))\n",
    "# add box around the legend\n",
    "fig.update_layout(legend=dict(bordercolor='black', borderwidth=2))\n",
    "fig.show()\n",
    "\n",
    "fig = go.Figure()\n",
    "#fig.add_trace(go.Scatter(x=df6_1['Battery SOC [%]'], y=df6_1['Battery OCV [V]'], name='UUT#6_Cycle01', line=dict(color='#20f200', width=4), marker=dict(size=10, color='black', symbol='hexagon')))\n",
    "fig.add_trace(go.Scatter(x=df6_2['Battery SOC [%]'], y=df6_2['Battery OCV [V]'], name='UUT#6_Cycle02', line=dict(color='black', width=4), marker=dict(size=10, color='black', symbol='hexagon')))\n",
    "\n",
    "\n",
    "# flip the x and y axis\n",
    "fig.update_layout(xaxis=dict(autorange=\"reversed\"))\n",
    "fig.update_layout(title='UUT#6_Cycle02')\n",
    "# add description below the title as subtitle\n",
    "fig.update_layout(title={'y': 0.9, 'x': 0.5, 'xanchor': 'center', 'yanchor': 'top'})\n",
    "# add axis line and ticks\n",
    "fig.update_xaxes(showline=True, linewidth=2, linecolor='black', mirror=True, ticks=\"outside\")\n",
    "fig.update_yaxes(showline=True, linewidth=2, linecolor='black', mirror=True, ticks=\"outside\")\n",
    "# Make x labels larger, and Times New Roman\n",
    "fig.update_xaxes(title_text=\"Battery Pack SOC (%)\", title_font=dict(size=24, family='Times New Roman', color='black'), title_standoff=25)\n",
    "# Make y labels larger, and Times New Roman\n",
    "fig.update_yaxes(title_text=\"Battery Pack Voltages (V) \", title_font=dict(size=24, family='Times New Roman', color='black'), title_standoff=25)\n",
    "# change the legend font size and font family\n",
    "fig.update_layout(legend=dict(font=dict(size=18, family='Times New Roman', color='black')))\n",
    "# make background white\n",
    "fig.update_layout(plot_bgcolor='white')\n",
    "# Move x-label and y-label to the center\n",
    "fig.update_layout(xaxis=dict(title=dict(standoff=5)), yaxis=dict(title=dict(standoff=5)))\n",
    "# Icncrease x-axis and y-axis tick font size and font family\n",
    "fig.update_xaxes(tickfont=dict(size=24, family='Times New Roman', color='black'))\n",
    "fig.update_yaxes(tickfont=dict(size=24, family='Times New Roman', color='black'))\n",
    "# add grid\n",
    "fig.update_layout(xaxis=dict(showgrid=True, gridwidth=1, gridcolor='LightPink'), yaxis=dict(showgrid=True, gridwidth=1, gridcolor='LightPink'))\n",
    "# add figure size\n",
    "fig.update_layout(width=1200, height=600)\n",
    "# keep the legend inside the plot area\n",
    "fig.update_layout(legend=dict(x=0.76, y=0.99))\n",
    "# Make title larger, and Times New Roman and center\n",
    "fig.update_layout(title=dict(font=dict(size=30, family='Times New Roman', color='black'), x=0.5, xanchor='center'))\n",
    "# add box around the legend\n",
    "fig.update_layout(legend=dict(bordercolor='black', borderwidth=2))\n",
    "fig.show()"
   ]
  },
  {
   "cell_type": "code",
   "execution_count": 176,
   "metadata": {},
   "outputs": [
    {
     "data": {
      "application/vnd.plotly.v1+json": {
       "config": {
        "plotlyServerURL": "https://plot.ly"
       },
       "data": [
        {
         "line": {
          "color": "light blue",
          "width": 4
         },
         "marker": {
          "color": "black",
          "size": 10,
          "symbol": "circle"
         },
         "name": "Cell1",
         "type": "scatter",
         "x": [
          99,
          97,
          97,
          96,
          95,
          95,
          94,
          93,
          91,
          90,
          89,
          88,
          87,
          87
         ],
         "y": [
          4.183,
          4.171,
          4.168,
          4.154,
          4.152,
          4.163,
          4.159,
          4.155,
          4.151,
          4.146,
          4.139,
          4.134,
          4.129,
          4.126
         ]
        },
        {
         "line": {
          "color": "#768fb8",
          "width": 4
         },
         "marker": {
          "color": "black",
          "size": 10,
          "symbol": "circle"
         },
         "name": "Cell2",
         "type": "scatter",
         "x": [
          99,
          97,
          97,
          96,
          95,
          95,
          94,
          93,
          91,
          90,
          89,
          88,
          87,
          87
         ],
         "y": [
          4.201,
          4.186,
          4.182,
          4.178,
          4.175,
          4.174,
          4.169,
          4.162,
          4.153,
          4.145,
          4.135,
          4.124,
          4.119,
          4.115
         ]
        },
        {
         "line": {
          "color": "green",
          "width": 4
         },
         "marker": {
          "color": "black",
          "size": 10,
          "symbol": "circle"
         },
         "name": "Cell3",
         "type": "scatter",
         "x": [
          99,
          97,
          97,
          96,
          95,
          95,
          94,
          93,
          91,
          90,
          89,
          88,
          87,
          87
         ],
         "y": [
          4.197,
          4.181,
          4.178,
          4.173,
          4.17,
          4.168,
          4.164,
          4.157,
          4.148,
          4.141,
          4.13,
          4.119,
          4.113,
          4.11
         ]
        },
        {
         "line": {
          "color": "yellow",
          "width": 4
         },
         "marker": {
          "color": "black",
          "size": 10,
          "symbol": "circle"
         },
         "name": "Cell4",
         "type": "scatter",
         "x": [
          99,
          97,
          97,
          96,
          95,
          95,
          94,
          93,
          91,
          90,
          89,
          88,
          87,
          87
         ],
         "y": [
          4.2,
          4.185,
          4.182,
          4.177,
          4.174,
          4.174,
          4.168,
          4.161,
          4.152,
          4.142,
          4.131,
          4.123,
          4.117,
          4.112
         ]
        },
        {
         "line": {
          "color": "magenta",
          "width": 4
         },
         "marker": {
          "color": "black",
          "size": 10,
          "symbol": "circle"
         },
         "name": "Cell5",
         "type": "scatter",
         "x": [
          99,
          97,
          97,
          96,
          95,
          95,
          94,
          93,
          91,
          90,
          89,
          88,
          87,
          87
         ],
         "y": [
          4.197,
          4.179,
          4.175,
          4.17,
          4.167,
          4.165,
          4.159,
          4.15,
          4.139,
          4.132,
          4.122,
          4.115,
          4.109,
          4.105
         ]
        },
        {
         "line": {
          "color": "red",
          "width": 4
         },
         "marker": {
          "color": "black",
          "size": 10,
          "symbol": "circle"
         },
         "name": "Cell6",
         "type": "scatter",
         "x": [
          99,
          97,
          97,
          96,
          95,
          95,
          94,
          93,
          91,
          90,
          89,
          88,
          87,
          87
         ],
         "y": [
          4.187,
          4.17,
          4.164,
          4.156,
          4.151,
          4.15,
          4.14,
          4.13,
          4.117,
          4.105,
          4.095,
          4.086,
          4.081,
          4.077
         ]
        }
       ],
       "layout": {
        "height": 600,
        "legend": {
         "bordercolor": "black",
         "borderwidth": 2,
         "font": {
          "color": "black",
          "family": "Times New Roman",
          "size": 18
         },
         "x": 0.86,
         "y": 0.99
        },
        "plot_bgcolor": "white",
        "template": {
         "data": {
          "bar": [
           {
            "error_x": {
             "color": "#2a3f5f"
            },
            "error_y": {
             "color": "#2a3f5f"
            },
            "marker": {
             "line": {
              "color": "#E5ECF6",
              "width": 0.5
             },
             "pattern": {
              "fillmode": "overlay",
              "size": 10,
              "solidity": 0.2
             }
            },
            "type": "bar"
           }
          ],
          "barpolar": [
           {
            "marker": {
             "line": {
              "color": "#E5ECF6",
              "width": 0.5
             },
             "pattern": {
              "fillmode": "overlay",
              "size": 10,
              "solidity": 0.2
             }
            },
            "type": "barpolar"
           }
          ],
          "carpet": [
           {
            "aaxis": {
             "endlinecolor": "#2a3f5f",
             "gridcolor": "white",
             "linecolor": "white",
             "minorgridcolor": "white",
             "startlinecolor": "#2a3f5f"
            },
            "baxis": {
             "endlinecolor": "#2a3f5f",
             "gridcolor": "white",
             "linecolor": "white",
             "minorgridcolor": "white",
             "startlinecolor": "#2a3f5f"
            },
            "type": "carpet"
           }
          ],
          "choropleth": [
           {
            "colorbar": {
             "outlinewidth": 0,
             "ticks": ""
            },
            "type": "choropleth"
           }
          ],
          "contour": [
           {
            "colorbar": {
             "outlinewidth": 0,
             "ticks": ""
            },
            "colorscale": [
             [
              0,
              "#0d0887"
             ],
             [
              0.1111111111111111,
              "#46039f"
             ],
             [
              0.2222222222222222,
              "#7201a8"
             ],
             [
              0.3333333333333333,
              "#9c179e"
             ],
             [
              0.4444444444444444,
              "#bd3786"
             ],
             [
              0.5555555555555556,
              "#d8576b"
             ],
             [
              0.6666666666666666,
              "#ed7953"
             ],
             [
              0.7777777777777778,
              "#fb9f3a"
             ],
             [
              0.8888888888888888,
              "#fdca26"
             ],
             [
              1,
              "#f0f921"
             ]
            ],
            "type": "contour"
           }
          ],
          "contourcarpet": [
           {
            "colorbar": {
             "outlinewidth": 0,
             "ticks": ""
            },
            "type": "contourcarpet"
           }
          ],
          "heatmap": [
           {
            "colorbar": {
             "outlinewidth": 0,
             "ticks": ""
            },
            "colorscale": [
             [
              0,
              "#0d0887"
             ],
             [
              0.1111111111111111,
              "#46039f"
             ],
             [
              0.2222222222222222,
              "#7201a8"
             ],
             [
              0.3333333333333333,
              "#9c179e"
             ],
             [
              0.4444444444444444,
              "#bd3786"
             ],
             [
              0.5555555555555556,
              "#d8576b"
             ],
             [
              0.6666666666666666,
              "#ed7953"
             ],
             [
              0.7777777777777778,
              "#fb9f3a"
             ],
             [
              0.8888888888888888,
              "#fdca26"
             ],
             [
              1,
              "#f0f921"
             ]
            ],
            "type": "heatmap"
           }
          ],
          "heatmapgl": [
           {
            "colorbar": {
             "outlinewidth": 0,
             "ticks": ""
            },
            "colorscale": [
             [
              0,
              "#0d0887"
             ],
             [
              0.1111111111111111,
              "#46039f"
             ],
             [
              0.2222222222222222,
              "#7201a8"
             ],
             [
              0.3333333333333333,
              "#9c179e"
             ],
             [
              0.4444444444444444,
              "#bd3786"
             ],
             [
              0.5555555555555556,
              "#d8576b"
             ],
             [
              0.6666666666666666,
              "#ed7953"
             ],
             [
              0.7777777777777778,
              "#fb9f3a"
             ],
             [
              0.8888888888888888,
              "#fdca26"
             ],
             [
              1,
              "#f0f921"
             ]
            ],
            "type": "heatmapgl"
           }
          ],
          "histogram": [
           {
            "marker": {
             "pattern": {
              "fillmode": "overlay",
              "size": 10,
              "solidity": 0.2
             }
            },
            "type": "histogram"
           }
          ],
          "histogram2d": [
           {
            "colorbar": {
             "outlinewidth": 0,
             "ticks": ""
            },
            "colorscale": [
             [
              0,
              "#0d0887"
             ],
             [
              0.1111111111111111,
              "#46039f"
             ],
             [
              0.2222222222222222,
              "#7201a8"
             ],
             [
              0.3333333333333333,
              "#9c179e"
             ],
             [
              0.4444444444444444,
              "#bd3786"
             ],
             [
              0.5555555555555556,
              "#d8576b"
             ],
             [
              0.6666666666666666,
              "#ed7953"
             ],
             [
              0.7777777777777778,
              "#fb9f3a"
             ],
             [
              0.8888888888888888,
              "#fdca26"
             ],
             [
              1,
              "#f0f921"
             ]
            ],
            "type": "histogram2d"
           }
          ],
          "histogram2dcontour": [
           {
            "colorbar": {
             "outlinewidth": 0,
             "ticks": ""
            },
            "colorscale": [
             [
              0,
              "#0d0887"
             ],
             [
              0.1111111111111111,
              "#46039f"
             ],
             [
              0.2222222222222222,
              "#7201a8"
             ],
             [
              0.3333333333333333,
              "#9c179e"
             ],
             [
              0.4444444444444444,
              "#bd3786"
             ],
             [
              0.5555555555555556,
              "#d8576b"
             ],
             [
              0.6666666666666666,
              "#ed7953"
             ],
             [
              0.7777777777777778,
              "#fb9f3a"
             ],
             [
              0.8888888888888888,
              "#fdca26"
             ],
             [
              1,
              "#f0f921"
             ]
            ],
            "type": "histogram2dcontour"
           }
          ],
          "mesh3d": [
           {
            "colorbar": {
             "outlinewidth": 0,
             "ticks": ""
            },
            "type": "mesh3d"
           }
          ],
          "parcoords": [
           {
            "line": {
             "colorbar": {
              "outlinewidth": 0,
              "ticks": ""
             }
            },
            "type": "parcoords"
           }
          ],
          "pie": [
           {
            "automargin": true,
            "type": "pie"
           }
          ],
          "scatter": [
           {
            "fillpattern": {
             "fillmode": "overlay",
             "size": 10,
             "solidity": 0.2
            },
            "type": "scatter"
           }
          ],
          "scatter3d": [
           {
            "line": {
             "colorbar": {
              "outlinewidth": 0,
              "ticks": ""
             }
            },
            "marker": {
             "colorbar": {
              "outlinewidth": 0,
              "ticks": ""
             }
            },
            "type": "scatter3d"
           }
          ],
          "scattercarpet": [
           {
            "marker": {
             "colorbar": {
              "outlinewidth": 0,
              "ticks": ""
             }
            },
            "type": "scattercarpet"
           }
          ],
          "scattergeo": [
           {
            "marker": {
             "colorbar": {
              "outlinewidth": 0,
              "ticks": ""
             }
            },
            "type": "scattergeo"
           }
          ],
          "scattergl": [
           {
            "marker": {
             "colorbar": {
              "outlinewidth": 0,
              "ticks": ""
             }
            },
            "type": "scattergl"
           }
          ],
          "scattermapbox": [
           {
            "marker": {
             "colorbar": {
              "outlinewidth": 0,
              "ticks": ""
             }
            },
            "type": "scattermapbox"
           }
          ],
          "scatterpolar": [
           {
            "marker": {
             "colorbar": {
              "outlinewidth": 0,
              "ticks": ""
             }
            },
            "type": "scatterpolar"
           }
          ],
          "scatterpolargl": [
           {
            "marker": {
             "colorbar": {
              "outlinewidth": 0,
              "ticks": ""
             }
            },
            "type": "scatterpolargl"
           }
          ],
          "scatterternary": [
           {
            "marker": {
             "colorbar": {
              "outlinewidth": 0,
              "ticks": ""
             }
            },
            "type": "scatterternary"
           }
          ],
          "surface": [
           {
            "colorbar": {
             "outlinewidth": 0,
             "ticks": ""
            },
            "colorscale": [
             [
              0,
              "#0d0887"
             ],
             [
              0.1111111111111111,
              "#46039f"
             ],
             [
              0.2222222222222222,
              "#7201a8"
             ],
             [
              0.3333333333333333,
              "#9c179e"
             ],
             [
              0.4444444444444444,
              "#bd3786"
             ],
             [
              0.5555555555555556,
              "#d8576b"
             ],
             [
              0.6666666666666666,
              "#ed7953"
             ],
             [
              0.7777777777777778,
              "#fb9f3a"
             ],
             [
              0.8888888888888888,
              "#fdca26"
             ],
             [
              1,
              "#f0f921"
             ]
            ],
            "type": "surface"
           }
          ],
          "table": [
           {
            "cells": {
             "fill": {
              "color": "#EBF0F8"
             },
             "line": {
              "color": "white"
             }
            },
            "header": {
             "fill": {
              "color": "#C8D4E3"
             },
             "line": {
              "color": "white"
             }
            },
            "type": "table"
           }
          ]
         },
         "layout": {
          "annotationdefaults": {
           "arrowcolor": "#2a3f5f",
           "arrowhead": 0,
           "arrowwidth": 1
          },
          "autotypenumbers": "strict",
          "coloraxis": {
           "colorbar": {
            "outlinewidth": 0,
            "ticks": ""
           }
          },
          "colorscale": {
           "diverging": [
            [
             0,
             "#8e0152"
            ],
            [
             0.1,
             "#c51b7d"
            ],
            [
             0.2,
             "#de77ae"
            ],
            [
             0.3,
             "#f1b6da"
            ],
            [
             0.4,
             "#fde0ef"
            ],
            [
             0.5,
             "#f7f7f7"
            ],
            [
             0.6,
             "#e6f5d0"
            ],
            [
             0.7,
             "#b8e186"
            ],
            [
             0.8,
             "#7fbc41"
            ],
            [
             0.9,
             "#4d9221"
            ],
            [
             1,
             "#276419"
            ]
           ],
           "sequential": [
            [
             0,
             "#0d0887"
            ],
            [
             0.1111111111111111,
             "#46039f"
            ],
            [
             0.2222222222222222,
             "#7201a8"
            ],
            [
             0.3333333333333333,
             "#9c179e"
            ],
            [
             0.4444444444444444,
             "#bd3786"
            ],
            [
             0.5555555555555556,
             "#d8576b"
            ],
            [
             0.6666666666666666,
             "#ed7953"
            ],
            [
             0.7777777777777778,
             "#fb9f3a"
            ],
            [
             0.8888888888888888,
             "#fdca26"
            ],
            [
             1,
             "#f0f921"
            ]
           ],
           "sequentialminus": [
            [
             0,
             "#0d0887"
            ],
            [
             0.1111111111111111,
             "#46039f"
            ],
            [
             0.2222222222222222,
             "#7201a8"
            ],
            [
             0.3333333333333333,
             "#9c179e"
            ],
            [
             0.4444444444444444,
             "#bd3786"
            ],
            [
             0.5555555555555556,
             "#d8576b"
            ],
            [
             0.6666666666666666,
             "#ed7953"
            ],
            [
             0.7777777777777778,
             "#fb9f3a"
            ],
            [
             0.8888888888888888,
             "#fdca26"
            ],
            [
             1,
             "#f0f921"
            ]
           ]
          },
          "colorway": [
           "#636efa",
           "#EF553B",
           "#00cc96",
           "#ab63fa",
           "#FFA15A",
           "#19d3f3",
           "#FF6692",
           "#B6E880",
           "#FF97FF",
           "#FECB52"
          ],
          "font": {
           "color": "#2a3f5f"
          },
          "geo": {
           "bgcolor": "white",
           "lakecolor": "white",
           "landcolor": "#E5ECF6",
           "showlakes": true,
           "showland": true,
           "subunitcolor": "white"
          },
          "hoverlabel": {
           "align": "left"
          },
          "hovermode": "closest",
          "mapbox": {
           "style": "light"
          },
          "paper_bgcolor": "white",
          "plot_bgcolor": "#E5ECF6",
          "polar": {
           "angularaxis": {
            "gridcolor": "white",
            "linecolor": "white",
            "ticks": ""
           },
           "bgcolor": "#E5ECF6",
           "radialaxis": {
            "gridcolor": "white",
            "linecolor": "white",
            "ticks": ""
           }
          },
          "scene": {
           "xaxis": {
            "backgroundcolor": "#E5ECF6",
            "gridcolor": "white",
            "gridwidth": 2,
            "linecolor": "white",
            "showbackground": true,
            "ticks": "",
            "zerolinecolor": "white"
           },
           "yaxis": {
            "backgroundcolor": "#E5ECF6",
            "gridcolor": "white",
            "gridwidth": 2,
            "linecolor": "white",
            "showbackground": true,
            "ticks": "",
            "zerolinecolor": "white"
           },
           "zaxis": {
            "backgroundcolor": "#E5ECF6",
            "gridcolor": "white",
            "gridwidth": 2,
            "linecolor": "white",
            "showbackground": true,
            "ticks": "",
            "zerolinecolor": "white"
           }
          },
          "shapedefaults": {
           "line": {
            "color": "#2a3f5f"
           }
          },
          "ternary": {
           "aaxis": {
            "gridcolor": "white",
            "linecolor": "white",
            "ticks": ""
           },
           "baxis": {
            "gridcolor": "white",
            "linecolor": "white",
            "ticks": ""
           },
           "bgcolor": "#E5ECF6",
           "caxis": {
            "gridcolor": "white",
            "linecolor": "white",
            "ticks": ""
           }
          },
          "title": {
           "x": 0.05
          },
          "xaxis": {
           "automargin": true,
           "gridcolor": "white",
           "linecolor": "white",
           "ticks": "",
           "title": {
            "standoff": 15
           },
           "zerolinecolor": "white",
           "zerolinewidth": 2
          },
          "yaxis": {
           "automargin": true,
           "gridcolor": "white",
           "linecolor": "white",
           "ticks": "",
           "title": {
            "standoff": 15
           },
           "zerolinecolor": "white",
           "zerolinewidth": 2
          }
         }
        },
        "title": {
         "font": {
          "color": "black",
          "family": "Times New Roman",
          "size": 30
         },
         "text": "UUT#6_Cycle01",
         "x": 0.5,
         "xanchor": "center",
         "y": 0.9,
         "yanchor": "top"
        },
        "width": 1200,
        "xaxis": {
         "autorange": "reversed",
         "gridcolor": "LightPink",
         "gridwidth": 1,
         "linecolor": "black",
         "linewidth": 2,
         "mirror": true,
         "showgrid": true,
         "showline": true,
         "tickfont": {
          "color": "black",
          "family": "Times New Roman",
          "size": 24
         },
         "ticks": "outside",
         "title": {
          "font": {
           "color": "black",
           "family": "Times New Roman",
           "size": 24
          },
          "standoff": 5,
          "text": "Battery Pack SOC (%)"
         }
        },
        "yaxis": {
         "gridcolor": "LightPink",
         "gridwidth": 1,
         "linecolor": "black",
         "linewidth": 2,
         "mirror": true,
         "showgrid": true,
         "showline": true,
         "tickfont": {
          "color": "black",
          "family": "Times New Roman",
          "size": 24
         },
         "ticks": "outside",
         "title": {
          "font": {
           "color": "black",
           "family": "Times New Roman",
           "size": 24
          },
          "standoff": 5,
          "text": "Battery Cell Voltages (V) "
         }
        }
       }
      }
     },
     "metadata": {},
     "output_type": "display_data"
    },
    {
     "data": {
      "application/vnd.plotly.v1+json": {
       "config": {
        "plotlyServerURL": "https://plot.ly"
       },
       "data": [
        {
         "line": {
          "color": "light blue",
          "width": 4
         },
         "marker": {
          "color": "black",
          "size": 10,
          "symbol": "circle"
         },
         "name": "Cell1",
         "type": "scatter",
         "x": [
          47,
          47,
          46,
          47,
          46,
          45,
          45,
          44,
          44,
          43,
          43,
          43,
          42,
          41,
          41,
          41,
          40,
          40,
          39,
          39,
          38,
          38,
          37
         ],
         "y": [
          3.846,
          3.845,
          3.845,
          3.845,
          3.844,
          3.838,
          3.842,
          3.841,
          3.841,
          3.838,
          3.84,
          3.838,
          3.835,
          3.824,
          3.835,
          3.83,
          3.834,
          3.833,
          3.832,
          3.819,
          3.83,
          3.828,
          3.817
         ]
        },
        {
         "line": {
          "color": "#768fb8",
          "width": 4
         },
         "marker": {
          "color": "black",
          "size": 10,
          "symbol": "circle"
         },
         "name": "Cell2",
         "type": "scatter",
         "x": [
          47,
          47,
          46,
          47,
          46,
          45,
          45,
          44,
          44,
          43,
          43,
          43,
          42,
          41,
          41,
          41,
          40,
          40,
          39,
          39,
          38,
          38,
          37
         ],
         "y": [
          3.851,
          3.851,
          3.851,
          3.85,
          3.849,
          3.848,
          3.846,
          3.845,
          3.844,
          3.843,
          3.842,
          3.841,
          3.839,
          3.838,
          3.837,
          3.836,
          3.834,
          3.833,
          3.832,
          3.831,
          3.829,
          3.828,
          3.827
         ]
        },
        {
         "line": {
          "color": "green",
          "width": 4
         },
         "marker": {
          "color": "black",
          "size": 10,
          "symbol": "circle"
         },
         "name": "Cell3",
         "type": "scatter",
         "x": [
          47,
          47,
          46,
          47,
          46,
          45,
          45,
          44,
          44,
          43,
          43,
          43,
          42,
          41,
          41,
          41,
          40,
          40,
          39,
          39,
          38,
          38,
          37
         ],
         "y": [
          3.848,
          3.848,
          3.847,
          3.847,
          3.846,
          3.844,
          3.843,
          3.842,
          3.84,
          3.84,
          3.84,
          3.837,
          3.836,
          3.835,
          3.834,
          3.833,
          3.831,
          3.83,
          3.829,
          3.828,
          3.827,
          3.825,
          3.824
         ]
        },
        {
         "line": {
          "color": "yellow",
          "width": 4
         },
         "marker": {
          "color": "black",
          "size": 10,
          "symbol": "circle"
         },
         "name": "Cell4",
         "type": "scatter",
         "x": [
          47,
          47,
          46,
          47,
          46,
          45,
          45,
          44,
          44,
          43,
          43,
          43,
          42,
          41,
          41,
          41,
          40,
          40,
          39,
          39,
          38,
          38,
          37
         ],
         "y": [
          3.847,
          3.847,
          3.846,
          3.846,
          3.845,
          3.843,
          3.843,
          3.841,
          3.84,
          3.839,
          3.838,
          3.837,
          3.835,
          3.835,
          3.833,
          3.831,
          3.831,
          3.827,
          3.825,
          3.823,
          3.822,
          3.82,
          3.82
         ]
        },
        {
         "line": {
          "color": "magenta",
          "width": 4
         },
         "marker": {
          "color": "black",
          "size": 10,
          "symbol": "circle"
         },
         "name": "Cell5",
         "type": "scatter",
         "x": [
          47,
          47,
          46,
          47,
          46,
          45,
          45,
          44,
          44,
          43,
          43,
          43,
          42,
          41,
          41,
          41,
          40,
          40,
          39,
          39,
          38,
          38,
          37
         ],
         "y": [
          3.843,
          3.843,
          3.842,
          3.841,
          3.839,
          3.836,
          3.835,
          3.834,
          3.832,
          3.831,
          3.83,
          3.837,
          3.827,
          3.826,
          3.824,
          3.824,
          3.822,
          3.821,
          3.82,
          3.819,
          3.818,
          3.816,
          3.815
         ]
        },
        {
         "line": {
          "color": "red",
          "width": 4
         },
         "marker": {
          "color": "black",
          "size": 10,
          "symbol": "circle"
         },
         "name": "Cell6",
         "type": "scatter",
         "x": [
          47,
          47,
          46,
          47,
          46,
          45,
          45,
          44,
          44,
          43,
          43,
          43,
          42,
          41,
          41,
          41,
          40,
          40,
          39,
          39,
          38,
          38,
          37
         ],
         "y": [
          3.843,
          3.843,
          3.839,
          3.842,
          3.84,
          3.837,
          3.837,
          3.836,
          3.835,
          3.832,
          3.833,
          3.83,
          3.828,
          3.827,
          3.827,
          3.824,
          3.823,
          3.82,
          3.818,
          3.816,
          3.816,
          3.814,
          3.812
         ]
        }
       ],
       "layout": {
        "height": 600,
        "legend": {
         "bordercolor": "black",
         "borderwidth": 2,
         "font": {
          "color": "black",
          "family": "Times New Roman",
          "size": 18
         },
         "x": 0.86,
         "y": 0.99
        },
        "plot_bgcolor": "white",
        "template": {
         "data": {
          "bar": [
           {
            "error_x": {
             "color": "#2a3f5f"
            },
            "error_y": {
             "color": "#2a3f5f"
            },
            "marker": {
             "line": {
              "color": "#E5ECF6",
              "width": 0.5
             },
             "pattern": {
              "fillmode": "overlay",
              "size": 10,
              "solidity": 0.2
             }
            },
            "type": "bar"
           }
          ],
          "barpolar": [
           {
            "marker": {
             "line": {
              "color": "#E5ECF6",
              "width": 0.5
             },
             "pattern": {
              "fillmode": "overlay",
              "size": 10,
              "solidity": 0.2
             }
            },
            "type": "barpolar"
           }
          ],
          "carpet": [
           {
            "aaxis": {
             "endlinecolor": "#2a3f5f",
             "gridcolor": "white",
             "linecolor": "white",
             "minorgridcolor": "white",
             "startlinecolor": "#2a3f5f"
            },
            "baxis": {
             "endlinecolor": "#2a3f5f",
             "gridcolor": "white",
             "linecolor": "white",
             "minorgridcolor": "white",
             "startlinecolor": "#2a3f5f"
            },
            "type": "carpet"
           }
          ],
          "choropleth": [
           {
            "colorbar": {
             "outlinewidth": 0,
             "ticks": ""
            },
            "type": "choropleth"
           }
          ],
          "contour": [
           {
            "colorbar": {
             "outlinewidth": 0,
             "ticks": ""
            },
            "colorscale": [
             [
              0,
              "#0d0887"
             ],
             [
              0.1111111111111111,
              "#46039f"
             ],
             [
              0.2222222222222222,
              "#7201a8"
             ],
             [
              0.3333333333333333,
              "#9c179e"
             ],
             [
              0.4444444444444444,
              "#bd3786"
             ],
             [
              0.5555555555555556,
              "#d8576b"
             ],
             [
              0.6666666666666666,
              "#ed7953"
             ],
             [
              0.7777777777777778,
              "#fb9f3a"
             ],
             [
              0.8888888888888888,
              "#fdca26"
             ],
             [
              1,
              "#f0f921"
             ]
            ],
            "type": "contour"
           }
          ],
          "contourcarpet": [
           {
            "colorbar": {
             "outlinewidth": 0,
             "ticks": ""
            },
            "type": "contourcarpet"
           }
          ],
          "heatmap": [
           {
            "colorbar": {
             "outlinewidth": 0,
             "ticks": ""
            },
            "colorscale": [
             [
              0,
              "#0d0887"
             ],
             [
              0.1111111111111111,
              "#46039f"
             ],
             [
              0.2222222222222222,
              "#7201a8"
             ],
             [
              0.3333333333333333,
              "#9c179e"
             ],
             [
              0.4444444444444444,
              "#bd3786"
             ],
             [
              0.5555555555555556,
              "#d8576b"
             ],
             [
              0.6666666666666666,
              "#ed7953"
             ],
             [
              0.7777777777777778,
              "#fb9f3a"
             ],
             [
              0.8888888888888888,
              "#fdca26"
             ],
             [
              1,
              "#f0f921"
             ]
            ],
            "type": "heatmap"
           }
          ],
          "heatmapgl": [
           {
            "colorbar": {
             "outlinewidth": 0,
             "ticks": ""
            },
            "colorscale": [
             [
              0,
              "#0d0887"
             ],
             [
              0.1111111111111111,
              "#46039f"
             ],
             [
              0.2222222222222222,
              "#7201a8"
             ],
             [
              0.3333333333333333,
              "#9c179e"
             ],
             [
              0.4444444444444444,
              "#bd3786"
             ],
             [
              0.5555555555555556,
              "#d8576b"
             ],
             [
              0.6666666666666666,
              "#ed7953"
             ],
             [
              0.7777777777777778,
              "#fb9f3a"
             ],
             [
              0.8888888888888888,
              "#fdca26"
             ],
             [
              1,
              "#f0f921"
             ]
            ],
            "type": "heatmapgl"
           }
          ],
          "histogram": [
           {
            "marker": {
             "pattern": {
              "fillmode": "overlay",
              "size": 10,
              "solidity": 0.2
             }
            },
            "type": "histogram"
           }
          ],
          "histogram2d": [
           {
            "colorbar": {
             "outlinewidth": 0,
             "ticks": ""
            },
            "colorscale": [
             [
              0,
              "#0d0887"
             ],
             [
              0.1111111111111111,
              "#46039f"
             ],
             [
              0.2222222222222222,
              "#7201a8"
             ],
             [
              0.3333333333333333,
              "#9c179e"
             ],
             [
              0.4444444444444444,
              "#bd3786"
             ],
             [
              0.5555555555555556,
              "#d8576b"
             ],
             [
              0.6666666666666666,
              "#ed7953"
             ],
             [
              0.7777777777777778,
              "#fb9f3a"
             ],
             [
              0.8888888888888888,
              "#fdca26"
             ],
             [
              1,
              "#f0f921"
             ]
            ],
            "type": "histogram2d"
           }
          ],
          "histogram2dcontour": [
           {
            "colorbar": {
             "outlinewidth": 0,
             "ticks": ""
            },
            "colorscale": [
             [
              0,
              "#0d0887"
             ],
             [
              0.1111111111111111,
              "#46039f"
             ],
             [
              0.2222222222222222,
              "#7201a8"
             ],
             [
              0.3333333333333333,
              "#9c179e"
             ],
             [
              0.4444444444444444,
              "#bd3786"
             ],
             [
              0.5555555555555556,
              "#d8576b"
             ],
             [
              0.6666666666666666,
              "#ed7953"
             ],
             [
              0.7777777777777778,
              "#fb9f3a"
             ],
             [
              0.8888888888888888,
              "#fdca26"
             ],
             [
              1,
              "#f0f921"
             ]
            ],
            "type": "histogram2dcontour"
           }
          ],
          "mesh3d": [
           {
            "colorbar": {
             "outlinewidth": 0,
             "ticks": ""
            },
            "type": "mesh3d"
           }
          ],
          "parcoords": [
           {
            "line": {
             "colorbar": {
              "outlinewidth": 0,
              "ticks": ""
             }
            },
            "type": "parcoords"
           }
          ],
          "pie": [
           {
            "automargin": true,
            "type": "pie"
           }
          ],
          "scatter": [
           {
            "fillpattern": {
             "fillmode": "overlay",
             "size": 10,
             "solidity": 0.2
            },
            "type": "scatter"
           }
          ],
          "scatter3d": [
           {
            "line": {
             "colorbar": {
              "outlinewidth": 0,
              "ticks": ""
             }
            },
            "marker": {
             "colorbar": {
              "outlinewidth": 0,
              "ticks": ""
             }
            },
            "type": "scatter3d"
           }
          ],
          "scattercarpet": [
           {
            "marker": {
             "colorbar": {
              "outlinewidth": 0,
              "ticks": ""
             }
            },
            "type": "scattercarpet"
           }
          ],
          "scattergeo": [
           {
            "marker": {
             "colorbar": {
              "outlinewidth": 0,
              "ticks": ""
             }
            },
            "type": "scattergeo"
           }
          ],
          "scattergl": [
           {
            "marker": {
             "colorbar": {
              "outlinewidth": 0,
              "ticks": ""
             }
            },
            "type": "scattergl"
           }
          ],
          "scattermapbox": [
           {
            "marker": {
             "colorbar": {
              "outlinewidth": 0,
              "ticks": ""
             }
            },
            "type": "scattermapbox"
           }
          ],
          "scatterpolar": [
           {
            "marker": {
             "colorbar": {
              "outlinewidth": 0,
              "ticks": ""
             }
            },
            "type": "scatterpolar"
           }
          ],
          "scatterpolargl": [
           {
            "marker": {
             "colorbar": {
              "outlinewidth": 0,
              "ticks": ""
             }
            },
            "type": "scatterpolargl"
           }
          ],
          "scatterternary": [
           {
            "marker": {
             "colorbar": {
              "outlinewidth": 0,
              "ticks": ""
             }
            },
            "type": "scatterternary"
           }
          ],
          "surface": [
           {
            "colorbar": {
             "outlinewidth": 0,
             "ticks": ""
            },
            "colorscale": [
             [
              0,
              "#0d0887"
             ],
             [
              0.1111111111111111,
              "#46039f"
             ],
             [
              0.2222222222222222,
              "#7201a8"
             ],
             [
              0.3333333333333333,
              "#9c179e"
             ],
             [
              0.4444444444444444,
              "#bd3786"
             ],
             [
              0.5555555555555556,
              "#d8576b"
             ],
             [
              0.6666666666666666,
              "#ed7953"
             ],
             [
              0.7777777777777778,
              "#fb9f3a"
             ],
             [
              0.8888888888888888,
              "#fdca26"
             ],
             [
              1,
              "#f0f921"
             ]
            ],
            "type": "surface"
           }
          ],
          "table": [
           {
            "cells": {
             "fill": {
              "color": "#EBF0F8"
             },
             "line": {
              "color": "white"
             }
            },
            "header": {
             "fill": {
              "color": "#C8D4E3"
             },
             "line": {
              "color": "white"
             }
            },
            "type": "table"
           }
          ]
         },
         "layout": {
          "annotationdefaults": {
           "arrowcolor": "#2a3f5f",
           "arrowhead": 0,
           "arrowwidth": 1
          },
          "autotypenumbers": "strict",
          "coloraxis": {
           "colorbar": {
            "outlinewidth": 0,
            "ticks": ""
           }
          },
          "colorscale": {
           "diverging": [
            [
             0,
             "#8e0152"
            ],
            [
             0.1,
             "#c51b7d"
            ],
            [
             0.2,
             "#de77ae"
            ],
            [
             0.3,
             "#f1b6da"
            ],
            [
             0.4,
             "#fde0ef"
            ],
            [
             0.5,
             "#f7f7f7"
            ],
            [
             0.6,
             "#e6f5d0"
            ],
            [
             0.7,
             "#b8e186"
            ],
            [
             0.8,
             "#7fbc41"
            ],
            [
             0.9,
             "#4d9221"
            ],
            [
             1,
             "#276419"
            ]
           ],
           "sequential": [
            [
             0,
             "#0d0887"
            ],
            [
             0.1111111111111111,
             "#46039f"
            ],
            [
             0.2222222222222222,
             "#7201a8"
            ],
            [
             0.3333333333333333,
             "#9c179e"
            ],
            [
             0.4444444444444444,
             "#bd3786"
            ],
            [
             0.5555555555555556,
             "#d8576b"
            ],
            [
             0.6666666666666666,
             "#ed7953"
            ],
            [
             0.7777777777777778,
             "#fb9f3a"
            ],
            [
             0.8888888888888888,
             "#fdca26"
            ],
            [
             1,
             "#f0f921"
            ]
           ],
           "sequentialminus": [
            [
             0,
             "#0d0887"
            ],
            [
             0.1111111111111111,
             "#46039f"
            ],
            [
             0.2222222222222222,
             "#7201a8"
            ],
            [
             0.3333333333333333,
             "#9c179e"
            ],
            [
             0.4444444444444444,
             "#bd3786"
            ],
            [
             0.5555555555555556,
             "#d8576b"
            ],
            [
             0.6666666666666666,
             "#ed7953"
            ],
            [
             0.7777777777777778,
             "#fb9f3a"
            ],
            [
             0.8888888888888888,
             "#fdca26"
            ],
            [
             1,
             "#f0f921"
            ]
           ]
          },
          "colorway": [
           "#636efa",
           "#EF553B",
           "#00cc96",
           "#ab63fa",
           "#FFA15A",
           "#19d3f3",
           "#FF6692",
           "#B6E880",
           "#FF97FF",
           "#FECB52"
          ],
          "font": {
           "color": "#2a3f5f"
          },
          "geo": {
           "bgcolor": "white",
           "lakecolor": "white",
           "landcolor": "#E5ECF6",
           "showlakes": true,
           "showland": true,
           "subunitcolor": "white"
          },
          "hoverlabel": {
           "align": "left"
          },
          "hovermode": "closest",
          "mapbox": {
           "style": "light"
          },
          "paper_bgcolor": "white",
          "plot_bgcolor": "#E5ECF6",
          "polar": {
           "angularaxis": {
            "gridcolor": "white",
            "linecolor": "white",
            "ticks": ""
           },
           "bgcolor": "#E5ECF6",
           "radialaxis": {
            "gridcolor": "white",
            "linecolor": "white",
            "ticks": ""
           }
          },
          "scene": {
           "xaxis": {
            "backgroundcolor": "#E5ECF6",
            "gridcolor": "white",
            "gridwidth": 2,
            "linecolor": "white",
            "showbackground": true,
            "ticks": "",
            "zerolinecolor": "white"
           },
           "yaxis": {
            "backgroundcolor": "#E5ECF6",
            "gridcolor": "white",
            "gridwidth": 2,
            "linecolor": "white",
            "showbackground": true,
            "ticks": "",
            "zerolinecolor": "white"
           },
           "zaxis": {
            "backgroundcolor": "#E5ECF6",
            "gridcolor": "white",
            "gridwidth": 2,
            "linecolor": "white",
            "showbackground": true,
            "ticks": "",
            "zerolinecolor": "white"
           }
          },
          "shapedefaults": {
           "line": {
            "color": "#2a3f5f"
           }
          },
          "ternary": {
           "aaxis": {
            "gridcolor": "white",
            "linecolor": "white",
            "ticks": ""
           },
           "baxis": {
            "gridcolor": "white",
            "linecolor": "white",
            "ticks": ""
           },
           "bgcolor": "#E5ECF6",
           "caxis": {
            "gridcolor": "white",
            "linecolor": "white",
            "ticks": ""
           }
          },
          "title": {
           "x": 0.05
          },
          "xaxis": {
           "automargin": true,
           "gridcolor": "white",
           "linecolor": "white",
           "ticks": "",
           "title": {
            "standoff": 15
           },
           "zerolinecolor": "white",
           "zerolinewidth": 2
          },
          "yaxis": {
           "automargin": true,
           "gridcolor": "white",
           "linecolor": "white",
           "ticks": "",
           "title": {
            "standoff": 15
           },
           "zerolinecolor": "white",
           "zerolinewidth": 2
          }
         }
        },
        "title": {
         "font": {
          "color": "black",
          "family": "Times New Roman",
          "size": 30
         },
         "text": "UUT#6_Cycle02",
         "x": 0.5,
         "xanchor": "center",
         "y": 0.9,
         "yanchor": "top"
        },
        "width": 1200,
        "xaxis": {
         "autorange": "reversed",
         "gridcolor": "LightPink",
         "gridwidth": 1,
         "linecolor": "black",
         "linewidth": 2,
         "mirror": true,
         "showgrid": true,
         "showline": true,
         "tickfont": {
          "color": "black",
          "family": "Times New Roman",
          "size": 24
         },
         "ticks": "outside",
         "title": {
          "font": {
           "color": "black",
           "family": "Times New Roman",
           "size": 24
          },
          "standoff": 5,
          "text": "Battery Pack SOC (%)"
         }
        },
        "yaxis": {
         "gridcolor": "LightPink",
         "gridwidth": 1,
         "linecolor": "black",
         "linewidth": 2,
         "mirror": true,
         "showgrid": true,
         "showline": true,
         "tickfont": {
          "color": "black",
          "family": "Times New Roman",
          "size": 24
         },
         "ticks": "outside",
         "title": {
          "font": {
           "color": "black",
           "family": "Times New Roman",
           "size": 24
          },
          "standoff": 5,
          "text": "Battery Cell Voltages (V) "
         }
        }
       }
      }
     },
     "metadata": {},
     "output_type": "display_data"
    }
   ],
   "source": [
    "# Plot the 'Battery OCV [V]' with 'Battery SOC [%]' using line plot in plotly\n",
    "fig = go.Figure()\n",
    "#fig.add_trace(go.Scatter(x=df6_1['Battery SOC [%]'], y=df6_1['Battery OCV [V]'], name='UUT#6_Cycle01', line=dict(color='blue', width=4, dash='dashdot'), marker=dict(size=10, color='black', symbol='circle')))\n",
    "fig.add_trace(go.Scatter(x=df6_1['Battery SOC [%]'], y=df6_1['Cell 1 '], name='Cell1', line=dict(color='light blue', width=4), marker=dict(size=10, color='black', symbol='circle')))\n",
    "fig.add_trace(go.Scatter(x=df6_1['Battery SOC [%]'], y=df6_1['Cell 2 '], name='Cell2', line=dict(color='#768fb8', width=4), marker=dict(size=10, color='black', symbol='circle')))\n",
    "fig.add_trace(go.Scatter(x=df6_1['Battery SOC [%]'], y=df6_1['Cell 3'], name='Cell3', line=dict(color='green', width=4), marker=dict(size=10, color='black', symbol='circle')))\n",
    "fig.add_trace(go.Scatter(x=df6_1['Battery SOC [%]'], y=df6_1['Cell 4 '], name='Cell4', line=dict(color='yellow', width=4), marker=dict(size=10, color='black', symbol='circle')))\n",
    "fig.add_trace(go.Scatter(x=df6_1['Battery SOC [%]'], y=df6_1['Cell  5 '], name='Cell5', line=dict(color='magenta', width=4), marker=dict(size=10, color='black', symbol='circle')))\n",
    "fig.add_trace(go.Scatter(x=df6_1['Battery SOC [%]'], y=df6_1['Cell  6 '], name='Cell6', line=dict(color='red', width=4), marker=dict(size=10, color='black', symbol='circle')))\n",
    "\n",
    "# flip the x and y axis\n",
    "fig.update_layout(xaxis=dict(autorange=\"reversed\"))\n",
    "fig.update_layout(title='UUT#6_Cycle01')\n",
    "# add description below the title as subtitle\n",
    "fig.update_layout(title={'y': 0.9, 'x': 0.8, 'xanchor': 'center', 'yanchor': 'top'})\n",
    "# add axis line and ticks\n",
    "fig.update_xaxes(showline=True, linewidth=2, linecolor='black', mirror=True, ticks=\"outside\")\n",
    "fig.update_yaxes(showline=True, linewidth=2, linecolor='black', mirror=True, ticks=\"outside\")\n",
    "# Make x labels larger, and Times New Roman\n",
    "fig.update_xaxes(title_text=\"Battery Pack SOC (%)\", title_font=dict(size=24, family='Times New Roman', color='black'), title_standoff=25)\n",
    "# Make y labels larger, and Times New Roman\n",
    "fig.update_yaxes(title_text=\"Battery Cell Voltages (V) \", title_font=dict(size=24, family='Times New Roman', color='black'), title_standoff=25)\n",
    "# change the legend font size and font family\n",
    "fig.update_layout(legend=dict(font=dict(size=18, family='Times New Roman', color='black')))\n",
    "# make background white\n",
    "fig.update_layout(plot_bgcolor='white')\n",
    "# Move x-label and y-label to the center\n",
    "fig.update_layout(xaxis=dict(title=dict(standoff=5)), yaxis=dict(title=dict(standoff=5)))\n",
    "# Icncrease x-axis and y-axis tick font size and font family\n",
    "fig.update_xaxes(tickfont=dict(size=24, family='Times New Roman', color='black'))\n",
    "fig.update_yaxes(tickfont=dict(size=24, family='Times New Roman', color='black'))\n",
    "# add grid\n",
    "fig.update_layout(xaxis=dict(showgrid=True, gridwidth=1, gridcolor='LightPink'), yaxis=dict(showgrid=True, gridwidth=1, gridcolor='LightPink'))\n",
    "# add figure size\n",
    "fig.update_layout(width=1200, height=600)\n",
    "# keep the legend inside the plot area\n",
    "fig.update_layout(legend=dict(x=0.86, y=0.99))\n",
    "# Make title larger, and Times New Roman and center\n",
    "fig.update_layout(title=dict(font=dict(size=30, family='Times New Roman', color='black'), x=0.5, xanchor='center'))\n",
    "# add box around the legend\n",
    "fig.update_layout(legend=dict(bordercolor='black', borderwidth=2))\n",
    "fig.show()\n",
    "\n",
    "# Plot the 'Battery OCV [V]' with 'Battery SOC [%]' using line plot in plotly\n",
    "fig = go.Figure()\n",
    "#fig.add_trace(go.Scatter(x=df6_2['Battery SOC [%]'], y=df6_2['Battery OCV [V]'], name='UUT#4_Cycle01', line=dict(color='blue', width=4, dash='dashdot'), marker=dict(size=10, color='black', symbol='circle')))\n",
    "fig.add_trace(go.Scatter(x=df6_2['Battery SOC [%]'], y=df6_2['Cell 1 '], name='Cell1', line=dict(color='light blue', width=4), marker=dict(size=10, color='black', symbol='circle')))\n",
    "fig.add_trace(go.Scatter(x=df6_2['Battery SOC [%]'], y=df6_2['Cell 2 '], name='Cell2', line=dict(color='#768fb8', width=4), marker=dict(size=10, color='black', symbol='circle')))\n",
    "fig.add_trace(go.Scatter(x=df6_2['Battery SOC [%]'], y=df6_2['Cell 3'], name='Cell3', line=dict(color='green', width=4), marker=dict(size=10, color='black', symbol='circle')))\n",
    "fig.add_trace(go.Scatter(x=df6_2['Battery SOC [%]'], y=df6_2['Cell 4 '], name='Cell4', line=dict(color='yellow', width=4), marker=dict(size=10, color='black', symbol='circle')))\n",
    "fig.add_trace(go.Scatter(x=df6_2['Battery SOC [%]'], y=df6_2['Cell  5 '], name='Cell5', line=dict(color='magenta', width=4), marker=dict(size=10, color='black', symbol='circle')))\n",
    "fig.add_trace(go.Scatter(x=df6_2['Battery SOC [%]'], y=df6_2['Cell  6 '], name='Cell6', line=dict(color='red', width=4), marker=dict(size=10, color='black', symbol='circle')))\n",
    "\n",
    "# flip the x and y axis\n",
    "fig.update_layout(xaxis=dict(autorange=\"reversed\"))\n",
    "fig.update_layout(title='UUT#6_Cycle02')\n",
    "# add description below the title as subtitle\n",
    "fig.update_layout(title={'y': 0.9, 'x': 0.8, 'xanchor': 'center', 'yanchor': 'top'})\n",
    "# add axis line and ticks\n",
    "fig.update_xaxes(showline=True, linewidth=2, linecolor='black', mirror=True, ticks=\"outside\")\n",
    "fig.update_yaxes(showline=True, linewidth=2, linecolor='black', mirror=True, ticks=\"outside\")\n",
    "# Make x labels larger, and Times New Roman\n",
    "fig.update_xaxes(title_text=\"Battery Pack SOC (%)\", title_font=dict(size=24, family='Times New Roman', color='black'), title_standoff=25)\n",
    "# Make y labels larger, and Times New Roman\n",
    "fig.update_yaxes(title_text=\"Battery Cell Voltages (V) \", title_font=dict(size=24, family='Times New Roman', color='black'), title_standoff=25)\n",
    "# change the legend font size and font family\n",
    "fig.update_layout(legend=dict(font=dict(size=18, family='Times New Roman', color='black')))\n",
    "# make background white\n",
    "fig.update_layout(plot_bgcolor='white')\n",
    "# Move x-label and y-label to the center\n",
    "fig.update_layout(xaxis=dict(title=dict(standoff=5)), yaxis=dict(title=dict(standoff=5)))\n",
    "# Icncrease x-axis and y-axis tick font size and font family\n",
    "fig.update_xaxes(tickfont=dict(size=24, family='Times New Roman', color='black'))\n",
    "fig.update_yaxes(tickfont=dict(size=24, family='Times New Roman', color='black'))\n",
    "# add grid\n",
    "fig.update_layout(xaxis=dict(showgrid=True, gridwidth=1, gridcolor='LightPink'), yaxis=dict(showgrid=True, gridwidth=1, gridcolor='LightPink'))\n",
    "# add figure size\n",
    "fig.update_layout(width=1200, height=600)\n",
    "# keep the legend inside the plot area\n",
    "fig.update_layout(legend=dict(x=0.86, y=0.99))\n",
    "# Make title larger, and Times New Roman and center\n",
    "fig.update_layout(title=dict(font=dict(size=30, family='Times New Roman', color='black'), x=0.5, xanchor='center'))\n",
    "# add box around the legend\n",
    "fig.update_layout(legend=dict(bordercolor='black', borderwidth=2))\n",
    "fig.show()"
   ]
  }
 ],
 "metadata": {
  "kernelspec": {
   "display_name": "Python 3",
   "language": "python",
   "name": "python3"
  },
  "language_info": {
   "codemirror_mode": {
    "name": "ipython",
    "version": 3
   },
   "file_extension": ".py",
   "mimetype": "text/x-python",
   "name": "python",
   "nbconvert_exporter": "python",
   "pygments_lexer": "ipython3",
   "version": "3.10.4"
  },
  "orig_nbformat": 4
 },
 "nbformat": 4,
 "nbformat_minor": 2
}
